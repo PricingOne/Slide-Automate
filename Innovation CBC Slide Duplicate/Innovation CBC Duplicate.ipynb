{
 "cells": [
  {
   "cell_type": "code",
   "execution_count": 165,
   "metadata": {},
   "outputs": [],
   "source": [
    "%run \"..\\general_functions\\generalFunctions.ipynb\"\n",
    "%run \"..\\Innovation CBC Slide Duplicate\\Innovation CBC Replacement Function.ipynb\""
   ]
  },
  {
   "cell_type": "markdown",
   "metadata": {},
   "source": [
    "### Parameters"
   ]
  },
  {
   "cell_type": "code",
   "execution_count": 166,
   "metadata": {},
   "outputs": [],
   "source": [
    "filePath = r\"Innovation CBC Datasets/Edgewell Mexico Inno Extract.xlsx\"\n",
    "data_source = \"DATA SOURCE: Consumer Test | June 2025\"\n",
    "market='Walmart'\n",
    "sheet_name1='Performance'\n",
    "sheet_name2='Ranking'\n",
    "wdtext=\"WD assumption = 50 WD\"\n",
    "unitorvolshare= 'New Unit Share' #New Volume Share\n",
    "client= 'Edgewell'"
   ]
  },
  {
   "cell_type": "markdown",
   "metadata": {},
   "source": [
    "### Reading Data in Excel"
   ]
  },
  {
   "cell_type": "code",
   "execution_count": 167,
   "metadata": {},
   "outputs": [],
   "source": [
    "\n",
    "\n",
    "performance = pd.read_excel(filePath,'Performance').rename(columns={'Unnamed: 2': 'Product', 'Unnamed: 3': 'ProductSize'})\n",
    "rank = pd.read_excel(filePath,'Ranking')\n",
    "sourcing = pd.read_excel(filePath,\"Sourcing\")\n",
    "fair = pd.read_excel(filePath,\"Fair\")\n",
    "merged = pd.merge(sourcing, fair, left_on=\"Rescaled share diff\", right_on=\"Fair Share\", how=\"inner\", suffixes=('', '_f'))\n"
   ]
  },
  {
   "cell_type": "markdown",
   "metadata": {},
   "source": [
    "### Data Cleaning"
   ]
  },
  {
   "cell_type": "code",
   "execution_count": 168,
   "metadata": {},
   "outputs": [],
   "source": [
    "numberOfSlides=performance.Grouping.value_counts().reset_index()\n",
    "numberOfSlides['Count']=numberOfSlides['count'].apply(lambda x : 1 if x<=5 else ((x//5) +( 0 if x%5 ==0 else 1)) )"
   ]
  },
  {
   "cell_type": "code",
   "execution_count": 169,
   "metadata": {},
   "outputs": [],
   "source": [
    "# Grouping the 'performance' DataFrame by the 'Grouping' column and getting unique 'Sheets names' for each group\n",
    "columnName = performance.groupby('Grouping')['Sheets names'].unique().reset_index()\n",
    "\n",
    "# Creating a dictionary where each key is a unique 'Grouping' value and each value is a DataFrame containing \n",
    "# 'New volume share' column and the columns listed in 'Sheets names' for that group\n",
    "dfDic = {columnName['Grouping'].iloc[i]: rank[[unitorvolshare] + list(columnName['Sheets names'].iloc[i])] for i in range(columnName.shape[0])}\n",
    "\n",
    "# Initializing an empty dictionary to store split DataFrames\n",
    "dfDicSplit = {}\n",
    "\n",
    "# Column name to be prioritized in the final DataFrames\n",
    "col = unitorvolshare\n",
    "\n",
    "# Iterating over each key-value pair in dfDic\n",
    "for key, value in dfDic.items():\n",
    "    # Checking if the number of columns (excluding 'New volume share') is greater than 5\n",
    "    if value.shape[1] - 1 > 5:\n",
    "        numOfColumns = 0\n",
    "        # Splitting the DataFrame into chunks of 5 columns if there are more than 5 columns\n",
    "        while numOfColumns < value.shape[1] - 1:\n",
    "            print('split number = ', numOfColumns)\n",
    "            # Creating a new DataFrame with the next set of 5 columns\n",
    "            dfDicSplit[key + '_Num ' + str(numOfColumns)] = value.iloc[:, numOfColumns + 1:numOfColumns + 6]\n",
    "            # Adding the 'New volume share' column to the new DataFrame\n",
    "            dfDicSplit[key + '_Num ' + str(numOfColumns)][col] = value[col]\n",
    "            # Reordering columns to place 'New volume share' at the front\n",
    "            columns_order = [col] + [cl for cl in dfDicSplit[key + '_Num ' + str(numOfColumns)].columns if cl != col]\n",
    "            dfDicSplit[key + '_Num ' + str(numOfColumns)] = dfDicSplit[key + '_Num ' + str(numOfColumns)].reindex(columns=columns_order)\n",
    "            numOfColumns += 5\n",
    "    else:\n",
    "        # If the number of columns (excluding 'New volume share') is 5 or fewer, add the DataFrame as is to dfDicSplit\n",
    "        dfDicSplit[key] = value\n",
    "        dfDicSplit[key][\"To color\"] = rank[\"To color\"]\n"
   ]
  },
  {
   "cell_type": "code",
   "execution_count": 170,
   "metadata": {},
   "outputs": [
    {
     "data": {
      "text/plain": [
       "{'Advanced Protection': 1,\n",
       " 'Baby': 1,\n",
       " 'Beautycare': 4,\n",
       " 'Kids': 1,\n",
       " 'Ozono': 3,\n",
       " 'Silk Hydration': 3,\n",
       " 'Sport': 4}"
      ]
     },
     "execution_count": 170,
     "metadata": {},
     "output_type": "execute_result"
    }
   ],
   "source": [
    "# Creating a dictionary to store the count of columns (excluding 'New volume share' and the 'Grouping' column)\n",
    "# for each DataFrame in dfDicSplit\n",
    "duplicationList={key:value.shape[1]-2 for key,value in dfDicSplit.items()}\n",
    "duplicationList"
   ]
  },
  {
   "cell_type": "code",
   "execution_count": 171,
   "metadata": {},
   "outputs": [],
   "source": [
    "# Grouping the 'performance' DataFrame by the 'Grouping' column and aggregating 'Sheets names' and 'Product' into lists\n",
    "grouped = performance.groupby('Grouping')[['Sheets names', 'Product']].agg(list)\n",
    "\n",
    "# Creating a dictionary where each key is a 'Grouping' value and each value is a dictionary \n",
    "# with 'Sheets names' as keys and 'Product' as values\n",
    "result = grouped.apply(lambda x: dict(zip(x['Sheets names'], x['Product'])), axis=1).to_dict()\n",
    "\n",
    "# Initializing an empty list to store the number of products minus one for each grouping\n",
    "sum_list = []\n",
    "\n",
    "# Iterating over each inner dictionary in the result dictionary\n",
    "for inner_dict in result.values():\n",
    "    # Calculating the number of products for the current grouping\n",
    "    inner_sum = len(inner_dict.values())\n",
    "    # Appending the number of products minus one to sum_list\n",
    "    sum_list.append(inner_sum - 1)\n"
   ]
  },
  {
   "cell_type": "markdown",
   "metadata": {},
   "source": [
    "### Duplication Stage"
   ]
  },
  {
   "cell_type": "code",
   "execution_count": 172,
   "metadata": {},
   "outputs": [],
   "source": [
    "startIndex=8\n",
    "index = [list(duplicationList.values()),7,[i+startIndex for i in sum_list]]\n",
    "duplication = [1,performance.Grouping.nunique(),1]\n",
    "section_names = [\"Innovation ranking\",\"Innovation potential\",\"Innovation sourcing\"]\n",
    "\n",
    "path = os.getcwd() + '//Inno CBC base Oct 2024.pptx'\n",
    "new_pre = os.getcwd() + '//slide duplicated.pptx'"
   ]
  },
  {
   "cell_type": "code",
   "execution_count": 173,
   "metadata": {},
   "outputs": [
    {
     "name": "stdout",
     "output_type": "stream",
     "text": [
      "3\n",
      "3\n",
      "3\n",
      "[[1, 1, 4, 1, 3, 3, 4], 7, [8, 8, 11, 8, 10, 10, 11]]\n",
      "[1, 7, 1]\n",
      "['Innovation ranking', 'Innovation potential', 'Innovation sourcing']\n"
     ]
    }
   ],
   "source": [
    "print(len(index))\n",
    "print(len(duplication))\n",
    "print(len(section_names))\n",
    "print(index)\n",
    "print(duplication)\n",
    "print(section_names)\n"
   ]
  },
  {
   "cell_type": "code",
   "execution_count": 174,
   "metadata": {},
   "outputs": [],
   "source": [
    "## Shouldn't be hased in the first run\n",
    "slideDuplication(index,duplication,section_names,path,new_pre)"
   ]
  },
  {
   "cell_type": "code",
   "execution_count": 175,
   "metadata": {},
   "outputs": [],
   "source": [
    "prs = Presentation(new_pre)"
   ]
  },
  {
   "cell_type": "markdown",
   "metadata": {},
   "source": [
    "### Slide 1"
   ]
  },
  {
   "cell_type": "code",
   "execution_count": 176,
   "metadata": {},
   "outputs": [
    {
     "name": "stdout",
     "output_type": "stream",
     "text": [
      "Advanced Protection\n",
      "Baby\n",
      "Beautycare\n",
      "Kids\n",
      "Ozono\n",
      "Silk Hydration\n",
      "Sport\n"
     ]
    }
   ],
   "source": [
    "numOfDuplicatesFirstSlide = len(list(duplicationList.values())) * duplication[0]\n",
    "innovationRanking(prs,dfDicSplit,performance,unitorvolshare,client,numOfDuplicates=numOfDuplicatesFirstSlide,position=0)"
   ]
  },
  {
   "cell_type": "markdown",
   "metadata": {},
   "source": [
    "### Slide 2"
   ]
  },
  {
   "cell_type": "code",
   "execution_count": 177,
   "metadata": {},
   "outputs": [
    {
     "name": "stdout",
     "output_type": "stream",
     "text": [
      "5\n",
      "5\n",
      "5\n",
      "5\n",
      "5\n",
      "5\n",
      "5\n"
     ]
    }
   ],
   "source": [
    "positionOfSecondSlide = numOfDuplicatesFirstSlide \n",
    "innovationPotential(prs,performance, wdtext,numOfDuplicates = duplication[1],position=positionOfSecondSlide)"
   ]
  },
  {
   "cell_type": "markdown",
   "metadata": {},
   "source": [
    "### Side 3"
   ]
  },
  {
   "cell_type": "code",
   "execution_count": 178,
   "metadata": {},
   "outputs": [
    {
     "name": "stdout",
     "output_type": "stream",
     "text": [
      "                                  Rescaled share diff  1_AP360_370  \\\n",
      "8     Hawaiian Tropic Island Sport Lotion FPS50 240ml    -0.085390   \n",
      "11    Hawaiian Tropic Sheer Touch Lotion FPS50+ 240ml    -0.079383   \n",
      "64  Nivea Sun Protection & Hydration Cream FPS50+ ...    -0.075745   \n",
      "3           Hawaiian Tropic Ozono Lotion FPS50+ 240ml    -0.062523   \n",
      "34  Banana Boat Advanced Protection Lotion FPS50+ ...    -0.052141   \n",
      "55  Nivea Sun Protect & Refresh Sport Lotion FPS50...    -0.051530   \n",
      "53  Nivea Sun Protection Sensitive Skin Gel FPS50+...    -0.050487   \n",
      "29        Banana Boat Aqua Protect Cream FPS50+ 236ml    -0.046932   \n",
      "25  Banana Boat Aqua Protect Sport Lotion FPS50+ 2...    -0.036718   \n",
      "54  Nivea Sun Protect & Refresh Sport Spray FPS50 ...    -0.028104   \n",
      "65  Nivea Sun Protection & Hydration Lotion FPS50+...    -0.026681   \n",
      "\n",
      "    1_AP360_370_f       sum  \n",
      "8        2.394444 -0.085390  \n",
      "11       1.822830 -0.079383  \n",
      "64       0.800369 -0.075745  \n",
      "3        1.433749 -0.062523  \n",
      "34       1.863911 -0.052141  \n",
      "55       0.891351 -0.051530  \n",
      "53       0.988140 -0.050487  \n",
      "29       1.722945 -0.046932  \n",
      "25       1.176697 -0.036718  \n",
      "54       1.239128 -0.028104  \n",
      "65       0.588127 -0.026681  \n",
      "                                  Rescaled share diff  1_Baby_300  \\\n",
      "64  Nivea Sun Protection & Hydration Cream FPS50+ ...   -0.066576   \n",
      "55  Nivea Sun Protect & Refresh Sport Lotion FPS50...   -0.064358   \n",
      "25  Banana Boat Aqua Protect Sport Lotion FPS50+ 2...   -0.054865   \n",
      "3           Hawaiian Tropic Ozono Lotion FPS50+ 240ml   -0.042734   \n",
      "65  Nivea Sun Protection & Hydration Lotion FPS50+...   -0.035256   \n",
      "53  Nivea Sun Protection Sensitive Skin Gel FPS50+...   -0.034836   \n",
      "29        Banana Boat Aqua Protect Cream FPS50+ 236ml   -0.032362   \n",
      "8     Hawaiian Tropic Island Sport Lotion FPS50 240ml   -0.031485   \n",
      "11    Hawaiian Tropic Sheer Touch Lotion FPS50+ 240ml   -0.028145   \n",
      "30   Banana Boat Aqua Protect Kids Cream FPS50+ 236ml   -0.026551   \n",
      "34  Banana Boat Advanced Protection Lotion FPS50+ ...   -0.025930   \n",
      "\n",
      "    1_Baby_300_f       sum  \n",
      "64      0.703485 -0.066576  \n",
      "55      1.113258 -0.064358  \n",
      "25      1.758247 -0.054865  \n",
      "3       0.979958 -0.042734  \n",
      "65      0.777135 -0.035256  \n",
      "53      0.681813 -0.034836  \n",
      "29      1.188051 -0.032362  \n",
      "8       0.882886 -0.031485  \n",
      "11      0.646282 -0.028145  \n",
      "30      1.365515 -0.026551  \n",
      "34      0.926914 -0.025930  \n",
      "                                  Rescaled share diff  1_BCStick_345  \\\n",
      "64  Nivea Sun Protection & Hydration Cream FPS50+ ...      -0.050201   \n",
      "55  Nivea Sun Protect & Refresh Sport Lotion FPS50...      -0.049476   \n",
      "3           Hawaiian Tropic Ozono Lotion FPS50+ 240ml      -0.039655   \n",
      "65  Nivea Sun Protection & Hydration Lotion FPS50+...      -0.027611   \n",
      "53  Nivea Sun Protection Sensitive Skin Gel FPS50+...      -0.029305   \n",
      "54  Nivea Sun Protect & Refresh Sport Spray FPS50 ...      -0.027942   \n",
      "11    Hawaiian Tropic Sheer Touch Lotion FPS50+ 240ml      -0.025516   \n",
      "67             Neutrogena Sun Fresh Cream FPS50 200ml      -0.026235   \n",
      "58        Nivea Sun Kids Swim & Play Gel FPS50+ 150ml      -0.025162   \n",
      "8     Hawaiian Tropic Island Sport Lotion FPS50 240ml      -0.022652   \n",
      "60           Nivea Sun Face Shine Control FPS50+ 50ml      -0.020286   \n",
      "\n",
      "    1_BCSerum_350  1_BCPro_305  1_BCOil_205  1_BCStick_345_f  1_BCSerum_350_f  \\\n",
      "64      -0.059634    -0.052971    -0.055779         0.530452         0.630130   \n",
      "55      -0.059228    -0.046030    -0.047753         0.855824         1.024515   \n",
      "3       -0.036450    -0.037522    -0.034410         0.909341         0.835865   \n",
      "65      -0.036137    -0.037332    -0.039682         0.608616         0.796548   \n",
      "53      -0.044444    -0.032896    -0.028754         0.573558         0.869866   \n",
      "54      -0.027680    -0.021900    -0.024432         1.231982         1.220456   \n",
      "11      -0.027591    -0.025329    -0.023498         0.585899         0.633551   \n",
      "67      -0.024734    -0.024935    -0.019718         1.786960         1.684707   \n",
      "58      -0.022788    -0.024902    -0.022324         1.692923         1.533215   \n",
      "8       -0.024743    -0.020902    -0.024213         0.635193         0.693837   \n",
      "60      -0.026390    -0.024121    -0.021711         1.323192         1.721328   \n",
      "\n",
      "    1_BCPro_305_f  1_BCOil_205_f       sum  \n",
      "64       0.559730       0.589398 -0.218585  \n",
      "55       0.796224       0.826023 -0.202487  \n",
      "3        0.860446       0.789072 -0.148037  \n",
      "65       0.822896       0.874692 -0.140762  \n",
      "53       0.643837       0.562782 -0.135399  \n",
      "54       0.965583       1.077236 -0.101953  \n",
      "11       0.581617       0.539575 -0.101933  \n",
      "67       1.698440       1.343036 -0.095622  \n",
      "58       1.675448       1.501975 -0.095175  \n",
      "8        0.586133       0.678976 -0.092511  \n",
      "60       1.573321       1.416168 -0.092507  \n",
      "                                  Rescaled share diff  1_Kids240_360  \\\n",
      "55  Nivea Sun Protect & Refresh Sport Lotion FPS50...      -0.072441   \n",
      "25  Banana Boat Aqua Protect Sport Lotion FPS50+ 2...      -0.062789   \n",
      "37    Banana Boat Dry Balance Sport Spray FPS50 170ml      -0.056644   \n",
      "64  Nivea Sun Protection & Hydration Cream FPS50+ ...      -0.053927   \n",
      "3           Hawaiian Tropic Ozono Lotion FPS50+ 240ml      -0.043383   \n",
      "11    Hawaiian Tropic Sheer Touch Lotion FPS50+ 240ml      -0.037606   \n",
      "8     Hawaiian Tropic Island Sport Lotion FPS50 240ml      -0.032606   \n",
      "29        Banana Boat Aqua Protect Cream FPS50+ 236ml      -0.030284   \n",
      "30   Banana Boat Aqua Protect Kids Cream FPS50+ 236ml      -0.030052   \n",
      "53  Nivea Sun Protection Sensitive Skin Gel FPS50+...      -0.028071   \n",
      "54  Nivea Sun Protect & Refresh Sport Spray FPS50 ...      -0.026847   \n",
      "\n",
      "    1_Kids240_360_f       sum  \n",
      "55         1.253082 -0.072441  \n",
      "25         2.012181 -0.062789  \n",
      "37         4.629754 -0.056644  \n",
      "64         0.569830 -0.053927  \n",
      "3          0.994830 -0.043383  \n",
      "11         0.863522 -0.037606  \n",
      "8          0.914302 -0.032606  \n",
      "29         1.111783 -0.030284  \n",
      "30         1.545541 -0.030052  \n",
      "53         0.549406 -0.028071  \n",
      "54         1.183737 -0.026847  \n",
      "                                  Rescaled share diff  1_HTOz300_395  \\\n",
      "64  Nivea Sun Protection & Hydration Cream FPS50+ ...      -0.073933   \n",
      "3           Hawaiian Tropic Ozono Lotion FPS50+ 240ml      -0.082620   \n",
      "11    Hawaiian Tropic Sheer Touch Lotion FPS50+ 240ml      -0.087899   \n",
      "8     Hawaiian Tropic Island Sport Lotion FPS50 240ml      -0.077163   \n",
      "55  Nivea Sun Protect & Refresh Sport Lotion FPS50...      -0.046866   \n",
      "53  Nivea Sun Protection Sensitive Skin Gel FPS50+...      -0.049028   \n",
      "65  Nivea Sun Protection & Hydration Lotion FPS50+...      -0.026532   \n",
      "34  Banana Boat Advanced Protection Lotion FPS50+ ...      -0.031797   \n",
      "25  Banana Boat Aqua Protect Sport Lotion FPS50+ 2...      -0.024709   \n",
      "57        Nivea Sun Babies & Kids Lotion FPS50+ 200ml      -0.021537   \n",
      "67             Neutrogena Sun Fresh Cream FPS50 200ml      -0.019795   \n",
      "\n",
      "    1_HTOz42_240  1_HTOz140_275  1_HTOz300_395_f  1_HTOz42_240_f  \\\n",
      "64     -0.046468      -0.076195         0.781222        0.491008   \n",
      "3      -0.058157      -0.051065         1.894607        1.333636   \n",
      "11     -0.034351      -0.048940         2.018369        0.788779   \n",
      "8      -0.028656      -0.037259         2.163762        0.803558   \n",
      "55     -0.033846      -0.060368         0.810683        0.585459   \n",
      "53     -0.024363      -0.041093         0.959588        0.476843   \n",
      "65     -0.030935      -0.045357         0.584831        0.681878   \n",
      "34     -0.012171      -0.024217         1.136661        0.435096   \n",
      "25     -0.016536      -0.025532         0.791840        0.529911   \n",
      "57     -0.018981      -0.025076         0.947482        0.835044   \n",
      "67     -0.030333      -0.015298         1.348321        2.066109   \n",
      "\n",
      "    1_HTOz140_275_f       sum  \n",
      "64         0.805125 -0.196596  \n",
      "3          1.170993 -0.191842  \n",
      "11         1.123790 -0.171190  \n",
      "8          1.044782 -0.143078  \n",
      "55         1.044244 -0.141080  \n",
      "53         0.804287 -0.114485  \n",
      "65         0.999777 -0.102823  \n",
      "34         0.865687 -0.068185  \n",
      "25         0.818217 -0.066777  \n",
      "57         1.103154 -0.065594  \n",
      "67         1.042001 -0.065427  \n",
      "                                  Rescaled share diff  1_SilkSer_225  \\\n",
      "64  Nivea Sun Protection & Hydration Cream FPS50+ ...      -0.060873   \n",
      "3           Hawaiian Tropic Ozono Lotion FPS50+ 240ml      -0.051770   \n",
      "55  Nivea Sun Protect & Refresh Sport Lotion FPS50...      -0.051287   \n",
      "65  Nivea Sun Protection & Hydration Lotion FPS50+...      -0.041831   \n",
      "11    Hawaiian Tropic Sheer Touch Lotion FPS50+ 240ml      -0.035847   \n",
      "53  Nivea Sun Protection Sensitive Skin Gel FPS50+...      -0.033760   \n",
      "8     Hawaiian Tropic Island Sport Lotion FPS50 240ml      -0.028544   \n",
      "49                    Equate Sport Lotion FPS30 237ml      -0.022245   \n",
      "25  Banana Boat Aqua Protect Sport Lotion FPS50+ 2...      -0.025312   \n",
      "9      Hawaiian Tropic Sheer Touch Lotion FPS50 120ml      -0.026506   \n",
      "57        Nivea Sun Babies & Kids Lotion FPS50+ 200ml      -0.020167   \n",
      "\n",
      "    1_SilkLip_140  1_SilkMist_240  1_SilkSer_225_f  1_SilkLip_140_f  \\\n",
      "64      -0.049386       -0.049060         0.643219         0.521841   \n",
      "3       -0.040937       -0.051176         1.187159         0.938749   \n",
      "55      -0.044983       -0.043342         0.887159         0.778116   \n",
      "65      -0.039701       -0.033609         0.922055         0.875109   \n",
      "11      -0.028702       -0.037398         0.823125         0.659057   \n",
      "53      -0.029392       -0.027758         0.660746         0.575265   \n",
      "8       -0.027832       -0.031173         0.800400         0.780436   \n",
      "49      -0.024565       -0.022499         1.091820         1.205668   \n",
      "25      -0.018195       -0.025024         0.811172         0.583072   \n",
      "9       -0.018832       -0.022369         1.880013         1.335764   \n",
      "57      -0.023897       -0.019612         0.887222         1.051313   \n",
      "\n",
      "    1_SilkMist_240_f       sum  \n",
      "64          0.518396 -0.159318  \n",
      "3           1.173556 -0.143883  \n",
      "55          0.749730 -0.139613  \n",
      "65          0.740817 -0.115140  \n",
      "11          0.858739 -0.101946  \n",
      "53          0.543289 -0.090910  \n",
      "8           0.874131 -0.087548  \n",
      "49          1.104287 -0.069310  \n",
      "25          0.801943 -0.068531  \n",
      "9           1.586594 -0.067707  \n",
      "57          0.862778 -0.063676  \n",
      "                                  Rescaled share diff  1_Aqua240_360  \\\n",
      "55  Nivea Sun Protect & Refresh Sport Lotion FPS50...      -0.068591   \n",
      "64  Nivea Sun Protection & Hydration Cream FPS50+ ...      -0.070948   \n",
      "3           Hawaiian Tropic Ozono Lotion FPS50+ 240ml      -0.044673   \n",
      "25  Banana Boat Aqua Protect Sport Lotion FPS50+ 2...      -0.049772   \n",
      "11    Hawaiian Tropic Sheer Touch Lotion FPS50+ 240ml      -0.039535   \n",
      "8     Hawaiian Tropic Island Sport Lotion FPS50 240ml      -0.039254   \n",
      "53  Nivea Sun Protection Sensitive Skin Gel FPS50+...      -0.036161   \n",
      "29        Banana Boat Aqua Protect Cream FPS50+ 236ml      -0.040711   \n",
      "37    Banana Boat Dry Balance Sport Spray FPS50 170ml      -0.034487   \n",
      "54  Nivea Sun Protect & Refresh Sport Spray FPS50 ...      -0.030631   \n",
      "65  Nivea Sun Protection & Hydration Lotion FPS50+...      -0.026181   \n",
      "\n",
      "    1_DB40_290  1_DB200_365  1_Sport_370  1_Aqua240_360_f  1_DB40_290_f  \\\n",
      "55   -0.073908    -0.072252    -0.055169         1.186482      1.278442   \n",
      "64   -0.049685    -0.069584    -0.078532         0.749685      0.525003   \n",
      "3    -0.033078    -0.050680    -0.065215         1.024430      0.758531   \n",
      "25   -0.035878    -0.055543    -0.045282         1.595010      1.149764   \n",
      "11   -0.024593    -0.041484    -0.077871         0.907831      0.564709   \n",
      "8    -0.026837    -0.035252    -0.074027         1.100741      0.752543   \n",
      "53   -0.023443    -0.033363    -0.043680         0.707745      0.458831   \n",
      "29   -0.018139    -0.026358    -0.047429         1.494582      0.665932   \n",
      "37   -0.038062    -0.039860    -0.012328         2.818757      3.110969   \n",
      "54   -0.035468    -0.027745    -0.025981         1.350552      1.563833   \n",
      "65   -0.029486    -0.025847    -0.031237         0.577101      0.649943   \n",
      "\n",
      "    1_DB200_365_f  1_Sport_370_f       sum  \n",
      "55       1.249809       0.954310 -0.269920  \n",
      "64       0.735272       0.829818 -0.268749  \n",
      "3        1.162179       1.495476 -0.193646  \n",
      "25       1.779958       1.451122 -0.186474  \n",
      "11       0.952578       1.788109 -0.183483  \n",
      "8        0.988510       2.075808 -0.175370  \n",
      "53       0.652989       0.854915 -0.136647  \n",
      "29       0.967650       1.741217 -0.132638  \n",
      "37       3.257959       1.007653 -0.124737  \n",
      "54       1.223309       1.145538 -0.119824  \n",
      "65       0.569725       0.688553 -0.112751  \n"
     ]
    }
   ],
   "source": [
    "# numOfDuplicatesThirdSlide = numOfDuplicatesFirstSlide + duplication[1]\n",
    "numOfDuplicatesThirdSlide = len(list(sum_list)) * duplication[2]\n",
    "positionOfThirdSlide = positionOfSecondSlide + duplication[1]\n",
    "innovationSourcing(prs,performance, merged,result, sum_list, numOfDuplicates = numOfDuplicatesThirdSlide, position=positionOfThirdSlide)"
   ]
  },
  {
   "cell_type": "code",
   "execution_count": 194,
   "metadata": {},
   "outputs": [],
   "source": [
    "from datetime import date\n",
    "today = str(date.today())\n",
    "outputPath=os.getcwd() + \"\\\\Innovation CBC \"+market+\" output \"+today+\".pptx\"\n",
    "prs.save(outputPath)\n",
    "app = win32.Dispatch(\"PowerPoint.Application\")\n",
    "presentation = app.Presentations.Open(outputPath)"
   ]
  },
  {
   "cell_type": "code",
   "execution_count": 195,
   "metadata": {},
   "outputs": [
    {
     "name": "stdout",
     "output_type": "stream",
     "text": [
      "Slide counts - Ranking: 7, Potential: 7, Sourcing: 7\n",
      "New slide order (1-based): [1, 8, 15, 2, 9, 16, 3, 10, 17, 4, 11, 18, 5, 12, 19, 6, 13, 20, 7, 14, 21]\n",
      "Reordered 21 slides successfully\n",
      "Removing 3 sections...\n",
      "All sections removed.\n",
      "Reordered presentation saved as: c:\\Users\\SophieZIMMERMANN\\Documents\\Slide-Automate\\Innovation CBC Slide Duplicate\\Innovation CBC Walmart reordered output 2025-07-24.pptx\n",
      "Slide reordering complete! All formatting preserved.\n"
     ]
    }
   ],
   "source": [
    "ranking_slide_count = max(duplication)\n",
    "potential_slide_count = max(duplication) \n",
    "sourcing_slide_count = max(duplication)\n",
    "\n",
    "print(f\"Slide counts - Ranking: {ranking_slide_count}, Potential: {potential_slide_count}, Sourcing: {sourcing_slide_count}\")\n",
    "\n",
    "\n",
    "app = win32.Dispatch(\"PowerPoint.Application\")\n",
    "presentation = app.Presentations.Open(outputPath)\n",
    "\n",
    "new_order = []\n",
    "max_slides_per_section = max(ranking_slide_count, potential_slide_count, sourcing_slide_count)\n",
    "\n",
    "for round_num in range(max_slides_per_section):\n",
    "    if round_num < ranking_slide_count:\n",
    "        ranking_slide_index = round_num + 1  \n",
    "        new_order.append(ranking_slide_index)\n",
    "        \n",
    "    if round_num < potential_slide_count:\n",
    "        potential_slide_index = ranking_slide_count + round_num + 1\n",
    "        new_order.append(potential_slide_index)\n",
    "        \n",
    "    if round_num < sourcing_slide_count:\n",
    "        sourcing_slide_index = ranking_slide_count + potential_slide_count + round_num + 1\n",
    "        new_order.append(sourcing_slide_index)\n",
    "\n",
    "print(f\"New slide order (1-based): {new_order}\")\n",
    "\n",
    "def reorder_slides_in_place(presentation, new_order):\n",
    "    total_slides = presentation.Slides.Count\n",
    "    \n",
    "    slides_temp = []\n",
    "    \n",
    "    for slide_index in new_order:\n",
    "        if slide_index <= total_slides:\n",
    "            original_slide = presentation.Slides(slide_index)\n",
    "            original_slide.Copy()\n",
    "            time.sleep(0.5) \n",
    "            new_slide = presentation.Slides.Paste(presentation.Slides.Count + 1)\n",
    "            slides_temp.append(new_slide)\n",
    "    \n",
    "    for i in range(total_slides, 0, -1):\n",
    "        presentation.Slides(i).Delete()\n",
    "    \n",
    "    print(f\"Reordered {len(slides_temp)} slides successfully\")\n",
    "    return presentation\n",
    "\n",
    "# Reorder the slides\n",
    "presentation = reorder_slides_in_place(presentation, new_order)\n",
    "\n",
    "reordered_outputPath = os.getcwd() + \"\\\\Innovation CBC \"+market+\" reordered output \"+today+\".pptx\"\n",
    "def remove_all_sections(presentation):\n",
    "    try:\n",
    "        section_count = presentation.SectionProperties.Count\n",
    "        print(f\"Removing {section_count} sections...\")\n",
    "        for i in range(section_count, 0, -1):\n",
    "            presentation.SectionProperties.Delete(i, False)  # False = keep slides\n",
    "        print(\"All sections removed.\")\n",
    "        return presentation\n",
    "    except Exception as e:\n",
    "        print(f\"Error removing sections: {e}\")\n",
    "\n",
    "presentation = remove_all_sections(presentation)\n",
    "presentation.SaveAs(reordered_outputPath)\n",
    "\n",
    "print(f\"Reordered presentation saved as: {reordered_outputPath}\")\n",
    "print(\"Slide reordering complete! All formatting preserved.\")"
   ]
  },
  {
   "cell_type": "markdown",
   "metadata": {},
   "source": []
  },
  {
   "cell_type": "code",
   "execution_count": null,
   "metadata": {},
   "outputs": [],
   "source": []
  }
 ],
 "metadata": {
  "kernelspec": {
   "display_name": "base",
   "language": "python",
   "name": "python3"
  },
  "language_info": {
   "codemirror_mode": {
    "name": "ipython",
    "version": 3
   },
   "file_extension": ".py",
   "mimetype": "text/x-python",
   "name": "python",
   "nbconvert_exporter": "python",
   "pygments_lexer": "ipython3",
   "version": "3.12.3"
  }
 },
 "nbformat": 4,
 "nbformat_minor": 2
}
