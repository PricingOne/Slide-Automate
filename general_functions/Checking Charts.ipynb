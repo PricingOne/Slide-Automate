{
 "cells": [
  {
   "cell_type": "code",
   "execution_count": 1,
   "id": "08439b31",
   "metadata": {},
   "outputs": [],
   "source": [
    "%run \"..\\general_functions\\generalFunctions.ipynb\"\n",
    "%run \"..\\Landscape slide duplicate\\Landscape Replacement Function.ipynb\""
   ]
  },
  {
   "cell_type": "code",
   "execution_count": 3,
   "id": "652b70a1",
   "metadata": {},
   "outputs": [],
   "source": [
    "new_pre = r\"C:\\\\Users\\\\rapha\\\\OneDrive\\\\Desktop\\\\Box&Whisker.pptx\""
   ]
  },
  {
   "cell_type": "markdown",
   "id": "ecad1816",
   "metadata": {},
   "source": [
    "#### Using PPTX"
   ]
  },
  {
   "cell_type": "code",
   "execution_count": null,
   "id": "dbfe42bc",
   "metadata": {},
   "outputs": [
    {
     "name": "stdout",
     "output_type": "stream",
     "text": [
      "think-cell data - do not delete\n",
      "Date Placeholder 3\n",
      "Footer Placeholder 11\n",
      "Slide Number Placeholder 10\n",
      "Text Placeholder 4\n",
      "Text Placeholder 5\n",
      "Title 1\n",
      "TextBox 9\n",
      "Group 7\n",
      "Group 23\n"
     ]
    }
   ],
   "source": [
    "prs = Presentation(new_pre)\n",
    "\n",
    "shapes = prs.slides[0].shapes\n",
    "# charts = []\n",
    "# tables = []\n",
    "\n",
    "for shape in shapes:\n",
    "    print(shape.name)\n",
    "#     if shape.has_chart:\n",
    "#         charts.append(shape)\n",
    "#     if shape.has_table:\n",
    "#         tables.append(shape)\n"
   ]
  },
  {
   "cell_type": "markdown",
   "id": "512f0ba1",
   "metadata": {},
   "source": [
    "#### Using Win32Com"
   ]
  },
  {
   "cell_type": "code",
   "execution_count": 9,
   "id": "dc925539",
   "metadata": {},
   "outputs": [],
   "source": [
    "import os\n",
    "import pickle\n",
    "import gc\n",
    "from win32com.client import Dispatch, constants\n",
    "from win32com.client import gencache\n"
   ]
  },
  {
   "cell_type": "code",
   "execution_count": null,
   "id": "af402018",
   "metadata": {},
   "outputs": [
    {
     "name": "stdout",
     "output_type": "stream",
     "text": [
      "think-cell data - do not delete\n",
      "Date Placeholder 3\n",
      "Footer Placeholder 11\n",
      "Slide Number Placeholder 10\n",
      "Text Placeholder 4\n",
      "Text Placeholder 5\n",
      "Title 1\n",
      "TextBox 9\n",
      "Chart 2\n",
      "Group 7\n",
      "Group 23\n"
     ]
    }
   ],
   "source": [
    "\n",
    "ppt_app = win32com.client.Dispatch(\"PowerPoint.Application\")\n",
    "\n",
    "prs = ppt_app.Presentations.open(new_pre)\n",
    "\n",
    "\n",
    "shapes = prs.Slides[0].shapes\n",
    "# shapes = slide.shapes\n",
    "\n",
    "for shape in shapes:\n",
    "    print(shape.name)\n",
    "    # if shape.HasChart:"
   ]
  },
  {
   "cell_type": "code",
   "execution_count": null,
   "id": "6133739d",
   "metadata": {},
   "outputs": [],
   "source": []
  }
 ],
 "metadata": {
  "kernelspec": {
   "display_name": "Python 3",
   "language": "python",
   "name": "python3"
  },
  "language_info": {
   "codemirror_mode": {
    "name": "ipython",
    "version": 3
   },
   "file_extension": ".py",
   "mimetype": "text/x-python",
   "name": "python",
   "nbconvert_exporter": "python",
   "pygments_lexer": "ipython3",
   "version": "3.12.4"
  }
 },
 "nbformat": 4,
 "nbformat_minor": 5
}
