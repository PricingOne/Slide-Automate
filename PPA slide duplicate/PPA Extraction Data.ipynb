{
 "cells": [
  {
   "cell_type": "code",
   "execution_count": 4,
   "id": "e870f0ff",
   "metadata": {},
   "outputs": [],
   "source": [
    "%run \"..\\general_functions\\Extracting Data Functions.ipynb\"\n",
    "%run \"..\\general_functions\\generalFunctions.ipynb\""
   ]
  },
  {
   "cell_type": "markdown",
   "id": "627ab8db",
   "metadata": {},
   "source": [
    "## Data Parameters"
   ]
  },
  {
   "cell_type": "code",
   "execution_count": 5,
   "id": "77834348",
   "metadata": {},
   "outputs": [],
   "source": [
    "f_name = os.path.join(os.path.dirname(os.getcwd()),\"Edgewell US Dataset.xlsx\")\n",
    "\n",
    "client_manuf = [\"Edgewell\"]\n",
    "client_brands = [\"Billie\",\"Hydro Silk\",\"Intuition\",\"Skintimate\"]\n",
    "\n",
    "ManufOrTopC= \"Top Companies\" #Manufacturer or Top Companies\n",
    "BrandOrTopB= \"Top Brands\" #Brand or Top Brands\n",
    "\n",
    "decimals = 2\n",
    "sign = \"Before\"\n",
    "currency = '$'\n",
    "currency = ' '+ currency if sign.lower() == 'after' else  currency + ' '\n",
    "\n",
    "period = 'P3M'\n",
    "percent = 100000\n",
    "percentstr=\"'00 000\"\n",
    "ValueCutOff = 1000\n",
    "\n",
    "categories = [\"Manual Shave Women\"]\n",
    "sectors = [\"Disposable\",\"System\"]\n",
    "segments = [\"Disposable\",\"Hybrid\",\"Razors\",\"Refills\"]\n",
    "subsegments= [\"1 Blade\", \"2 Blade\", \"3 Blade\", \"4 Blade\", \"5 Blade\", \"6 Blade\",\"Rem Blades\"]\n",
    "subcategories= [\"Dry Skin\",\"Normal Skin\",\"Rem Types\",\"Sensitive Skin\"]\n",
    "\n",
    "\n",
    "sectorInScope = sectors\n",
    "segmentInScope = segments\n",
    "subsegmentsInScope=subsegments\n",
    "subcategoriesInScope=subcategories\n",
    "\n",
    "national = True\n",
    "customareas= \"\"\n",
    "areas = ['NATIONAL', \"RETAILER\"]#,\"CHANNEL\",customareas]\n",
    " \n",
    "regions_RET  = [\"Amazon\", \"CVS Corp\", \"Walmart\"]\n",
    "channels_RET = [\"Amazon 1P\", \"CVS\", \"Walmart Div1 Corp\", \"Walmart Nm Corp\", \"Walmart Sc Corp\"]\n",
    "market_RET = []\n",
    " \n",
    "regions_CHAN = []\n",
    "channels_CHAN = []\n",
    "market_CHAN = []\n",
    " \n",
    "regions_CUST = []\n",
    "channels_CUST = []\n",
    "market_CUST = []\n",
    "\n",
    "data_source = \"DATA SOURCE: Trade Panel/Retailer Data | Ending August 2024\"\n",
    "years = ['2021', '2022','2023']\n",
    "\n",
    "brackets = ['[Base Price Bracket].[Base Price\\xa0Bracket]','[Products].[Size Bracket]']\n",
    "\n",
    "ISDcolumn='Total Size'# default should be 'Total Size'\n",
    "direct_parent = {\"Sector\":\"Category\",\n",
    "                \"Segment\":\"Sector\",\n",
    "                \"SubSegment\":\"Segment\", \n",
    "                \"SubCategory\":\"Segment\"}\n",
    "\n",
    "stringtodic = {\"Category\":categories,\n",
    "                \"Sector\":sectors,\n",
    "                \"Segment\":segments, \n",
    "                \"SubSegment\":subsegments}\n",
    "\n",
    "\n"
   ]
  },
  {
   "cell_type": "code",
   "execution_count": 6,
   "id": "680c7173-021e-4ed8-980a-23b1bb90e20a",
   "metadata": {},
   "outputs": [],
   "source": [
    "f_path = Path.cwd()\n",
    "excel = client.gencache.EnsureDispatch('Excel.Application')\n",
    "excel.Visible = True  # False\n",
    "wb = excel.Workbooks.Open(f_name)\n",
    "ws=wb.Sheets([s.Name for s in wb.Sheets][0])\n",
    "s_name = [s.Name for s in wb.Sheets][0]\n",
    "pvtTable = ws.PivotTables(1)\n",
    "\n",
    "#change report layout\n",
    "pvtTable.RowAxisLayout(1)   #RowAxisLayout(1) for tabular form\n",
    "#change pivot table style\n",
    "#Select from Design tab, try out Medium9 or Medium3\n",
    "pvtTable.TableStyle2 = \"pivotStyleMedium21\"\n",
    "pvtTable.ClearTable()\n",
    "\n",
    "pvtTable.TableRange2.Cut(ws.Range(\"A16\"))\n",
    "fieldsNamePosition={}\n",
    "for i in range(1,pvtTable.CubeFields.Count+1):\n",
    "    fieldsNamePosition[str(pvtTable.CubeFields(i))]=i"
   ]
  },
  {
   "cell_type": "code",
   "execution_count": 7,
   "id": "853dd50a-59b0-4be7-9886-4cc0c8bd65f3",
   "metadata": {},
   "outputs": [],
   "source": [
    "start_time = time.time()"
   ]
  },
  {
   "cell_type": "markdown",
   "id": "e087d788",
   "metadata": {},
   "source": [
    "##### TopLine By Brand"
   ]
  },
  {
   "cell_type": "code",
   "execution_count": 10,
   "id": "87abb263-8e9a-47e5-8572-7a17a726a198",
   "metadata": {},
   "outputs": [],
   "source": [
    "row_list = []\n",
    "column_list=[]\n",
    "filter_list=['[Products].[Category]','[Time Logic].[Time Period]','[Scope].[Scope]','[Market].[Area]','[Market].[Region]','[Market].[Channel]','[Market].[Market]','[Products].[Sector]','[Products].[Segment]','[Products].[SubCategory]','[Products].[SubSegment]']\n",
    "value_list=['[Measures].[Value Share]','[Measures].[Brand WoB %]','[Measures].[WoB %]','[Measures].[Value Sales IYA]', '[Measures].[Relative Price]']\n",
    "\n",
    "pvtTable.ClearTable()\n",
    "pvtTable = set_excel_fields(row_list,column_list,filter_list,value_list,pvtTable)\n",
    "\n",
    "#Select the filter values for each filter\n",
    "# pvtTable.PivotFields(\"[Products].[Category].[Category]\").ClearAllFilters()\n",
    "pvtTable.PivotFields('[Products].[Category].[Category]').CurrentPageName = f'[Products].[Category].&[{categories[0]}]'\n",
    "\n",
    "# pvtTable.PivotFields(\"[Time Logic].[Time Period].[Time Period]\").ClearAllFilters()\n",
    "pvtTable.PivotFields('[Time Logic].[Time Period].[Time Period]').CurrentPageName = '[Time Logic].[Time Period].&[P12M]'\n"
   ]
  },
  {
   "cell_type": "code",
   "execution_count": 11,
   "id": "93eff970-e9d9-4f61-b8eb-16db09042479",
   "metadata": {
    "scrolled": true
   },
   "outputs": [
    {
     "name": "stdout",
     "output_type": "stream",
     "text": [
      "[Base Price Bracket].[Base Price Bracket]\n",
      "[Products].[Size Bracket]\n"
     ]
    }
   ],
   "source": [
    "outputs = {}\n",
    "for i in brackets:\n",
    "    print(i)\n",
    "    row_list=[f'{i}', '[Products].[' +BrandOrTopB+ ']']\n",
    "    pvtTable = set_excel_fields(row_list,column_list,filter_list,value_list,pvtTable)\n",
    "    dic_name = f\"share_topline_{i.split('.[')[1]}\".replace(\"]\", \"\").replace(\" \",\"_\").replace(\"\\xa0\",\"_\").lower()\n",
    "    outputs[dic_name]= {}\n",
    "\n",
    "    # Slides by Category for Areas = NATIONAL, RETAILER, CHANNEL\n",
    "    if len(categories) !=0:\n",
    "        pvtTable.PivotFields(\"[Scope].[Scope].[Scope]\").ClearAllFilters()\n",
    "        pvtTable.PivotFields('[Scope].[Scope].[Scope]').CurrentPageName = '[Scope].[Scope].&[Category]'\n",
    "        calculate_category_data(outputs[dic_name])\n",
    "    calculate_sector_segment_data(outputs[dic_name])\n",
    "        \n",
    "    pvtTable.CubeFields(list(filter_dictionary_keys(fieldsNamePosition, '[Products].[' +BrandOrTopB+ ']').values())[0]).Orientation = 0\n",
    "    pvtTable.CubeFields(list(filter_dictionary_keys(fieldsNamePosition, f'{i}').values())[0]).Orientation = 0\n",
    "\n",
    "\n",
    "    with open(f\"PPA Datasets/{dic_name}.pickle\", 'wb') as handle:\n",
    "        pickle.dump(outputs[dic_name], handle, protocol=pickle.HIGHEST_PROTOCOL)\n",
    "    \n"
   ]
  },
  {
   "cell_type": "markdown",
   "id": "fd4c6c2e",
   "metadata": {},
   "source": [
    "##### CatScope By Brand"
   ]
  },
  {
   "cell_type": "code",
   "execution_count": 12,
   "id": "763f691f",
   "metadata": {},
   "outputs": [],
   "source": [
    "\n",
    "row_list = []\n",
    "column_list=[]\n",
    "filter_list=['[Products].[Category]','[Time Logic].[Time Period]','[Scope].[Scope]','[Market].[Area]','[Market].[Region]','[Market].[Channel]','[Market].[Market]']\n",
    "value_list=['[Measures].[Value Share]','[Measures].[Brand WoB %]','[Measures].[WoB %]']\n",
    "\n",
    "pvtTable.ClearTable()\n",
    "pvtTable = set_excel_fields(row_list,column_list,filter_list,value_list,pvtTable)\n",
    "\n",
    "#Select the filter values for each filter\n",
    "# pvtTable.PivotFields(\"[Products].[Category].[Category]\").ClearAllFilters()\n",
    "pvtTable.PivotFields('[Products].[Category].[Category]').CurrentPageName = f'[Products].[Category].&[{categories[0]}]'\n",
    "\n",
    "# pvtTable.PivotFields(\"[Time Logic].[Time Period].[Time Period]\").ClearAllFilters()\n",
    "pvtTable.PivotFields('[Time Logic].[Time Period].[Time Period]').CurrentPageName = '[Time Logic].[Time Period].&[P12M]'\n",
    "\n",
    "pvtTable.PivotFields(\"[Scope].[Scope].[Scope]\").ClearAllFilters()\n",
    "pvtTable.PivotFields('[Scope].[Scope].[Scope]').CurrentPageName = '[Scope].[Scope].&[Category]'"
   ]
  },
  {
   "cell_type": "code",
   "execution_count": 13,
   "id": "94152b46",
   "metadata": {},
   "outputs": [
    {
     "name": "stdout",
     "output_type": "stream",
     "text": [
      "[Base Price Bracket].[Base Price Bracket]\n",
      "[Products].[Size Bracket]\n"
     ]
    }
   ],
   "source": [
    "outputs_cat = {}\n",
    "for i in brackets:\n",
    "    print(i)\n",
    "    dic_name_ori = f\"share_topline_{i.split('.[')[1]}_catscope\".replace(\"]\", \"\").replace(\" \",\"_\").replace(\"\\xa0\",\"_\").lower()\n",
    "    name_new = ''     \n",
    "    if len(sectors) != 0:\n",
    "        dic_name= dic_name_ori +\"_sectors\"\n",
    "        outputs_cat[dic_name]= {}\n",
    "        data_frame=outputs_cat[dic_name]\n",
    "        row_list=[f'{i}','[Products].[Sector]', '[Products].[' +BrandOrTopB+ ']']\n",
    "        pvtTable = set_excel_fields(row_list,column_list,filter_list,value_list,pvtTable)\n",
    "        calculate_data(data_frame,'')\n",
    "        pvtTable.CubeFields(list(filter_dictionary_keys(fieldsNamePosition, '[Products].[Sector]').values())[0]).Orientation = 0  \n",
    "        pvtTable.CubeFields(list(filter_dictionary_keys(fieldsNamePosition, '[Products].[' +BrandOrTopB+ ']').values())[0]).Orientation = 0\n",
    "        pvtTable.CubeFields(list(filter_dictionary_keys(fieldsNamePosition, f'{i}').values())[0]).Orientation = 0\n",
    "        with open(f\"PPA Datasets/{dic_name}.pickle\", 'wb') as handle:\n",
    "            pickle.dump(outputs_cat[dic_name], handle, protocol=pickle.HIGHEST_PROTOCOL)\n",
    "\n",
    "    if len(segments) != 0:\n",
    "        dic_name= dic_name_ori +\"_segments\"\n",
    "        outputs_cat[dic_name]= {}\n",
    "        data_frame=outputs_cat[dic_name]\n",
    "        row_list=[f'{i}','[Products].[Segment]', '[Products].[' +BrandOrTopB+ ']']\n",
    "        pvtTable = set_excel_fields(row_list,column_list,filter_list,value_list,pvtTable)\n",
    "        calculate_data(data_frame,'')\n",
    "        pvtTable.CubeFields(list(filter_dictionary_keys(fieldsNamePosition, '[Products].[Segment]').values())[0]).Orientation = 0  \n",
    "        pvtTable.CubeFields(list(filter_dictionary_keys(fieldsNamePosition, '[Products].[' +BrandOrTopB+ ']').values())[0]).Orientation = 0\n",
    "        pvtTable.CubeFields(list(filter_dictionary_keys(fieldsNamePosition, f'{i}').values())[0]).Orientation = 0\n",
    "        with open(f\"PPA Datasets/{dic_name}.pickle\", 'wb') as handle:\n",
    "            pickle.dump(outputs_cat[dic_name], handle, protocol=pickle.HIGHEST_PROTOCOL)\n",
    "    if len(subsegments) != 0:\n",
    "        dic_name= dic_name_ori +\"_subsegments\"\n",
    "        outputs_cat[dic_name]= {}\n",
    "        data_frame=outputs_cat[dic_name]\n",
    "        row_list=[f'{i}','[Products].[SubSegment]', '[Products].[' +BrandOrTopB+ ']']\n",
    "        pvtTable = set_excel_fields(row_list,column_list,filter_list,value_list,pvtTable)\n",
    "        calculate_data(data_frame,'')\n",
    "        pvtTable.CubeFields(list(filter_dictionary_keys(fieldsNamePosition, '[Products].[SubSegment]').values())[0]).Orientation = 0 \n",
    "        pvtTable.CubeFields(list(filter_dictionary_keys(fieldsNamePosition, '[Products].[' +BrandOrTopB+ ']').values())[0]).Orientation = 0\n",
    "        pvtTable.CubeFields(list(filter_dictionary_keys(fieldsNamePosition, f'{i}').values())[0]).Orientation = 0\n",
    "        with open(f\"PPA Datasets/{dic_name}.pickle\", 'wb') as handle:\n",
    "            pickle.dump(outputs_cat[dic_name], handle, protocol=pickle.HIGHEST_PROTOCOL)\n",
    "    if len(subcategories) != 0:\n",
    "        dic_name= dic_name_ori +\"_subcategories\"\n",
    "        outputs_cat[dic_name]= {}\n",
    "        data_frame=outputs_cat[dic_name]\n",
    "        row_list=[f'{i}','[Products].[SubCategory]', '[Products].[' +BrandOrTopB+ ']']\n",
    "        pvtTable = set_excel_fields(row_list,column_list,filter_list,value_list,pvtTable)\n",
    "        calculate_data(data_frame,'')\n",
    "        pvtTable.CubeFields(list(filter_dictionary_keys(fieldsNamePosition, '[Products].[SubCategory]').values())[0]).Orientation = 0  \n",
    "        pvtTable.CubeFields(list(filter_dictionary_keys(fieldsNamePosition, '[Products].[' +BrandOrTopB+ ']').values())[0]).Orientation = 0\n",
    "        pvtTable.CubeFields(list(filter_dictionary_keys(fieldsNamePosition, f'{i}').values())[0]).Orientation = 0\n",
    "        with open(f\"PPA Datasets/{dic_name}.pickle\", 'wb') as handle:\n",
    "            pickle.dump(outputs_cat[dic_name], handle, protocol=pickle.HIGHEST_PROTOCOL)\n",
    "                      \n"
   ]
  },
  {
   "cell_type": "markdown",
   "id": "6353dfc3",
   "metadata": {},
   "source": [
    "##### CatScope By Manuf"
   ]
  },
  {
   "cell_type": "code",
   "execution_count": 14,
   "id": "4b829aa0",
   "metadata": {},
   "outputs": [],
   "source": [
    "\n",
    "row_list = []\n",
    "column_list=[]\n",
    "filter_list=['[Products].[Category]','[Time Logic].[Time Period]','[Scope].[Scope]','[Market].[Area]','[Market].[Region]','[Market].[Channel]','[Market].[Market]']\n",
    "value_list=['[Measures].[Value Share]','[Measures].[Company WoB %]','[Measures].[WoB %]']\n",
    "\n",
    "pvtTable.ClearTable()\n",
    "pvtTable = set_excel_fields(row_list,column_list,filter_list,value_list,pvtTable)\n",
    "\n",
    "#Select the filter values for each filter\n",
    "# pvtTable.PivotFields(\"[Products].[Category].[Category]\").ClearAllFilters()\n",
    "pvtTable.PivotFields('[Products].[Category].[Category]').CurrentPageName = f'[Products].[Category].&[{categories[0]}]'\n",
    "\n",
    "# pvtTable.PivotFields(\"[Time Logic].[Time Period].[Time Period]\").ClearAllFilters()\n",
    "pvtTable.PivotFields('[Time Logic].[Time Period].[Time Period]').CurrentPageName = '[Time Logic].[Time Period].&[P12M]'\n",
    "\n",
    "pvtTable.PivotFields(\"[Scope].[Scope].[Scope]\").ClearAllFilters()\n",
    "pvtTable.PivotFields('[Scope].[Scope].[Scope]').CurrentPageName = '[Scope].[Scope].&[Category]'"
   ]
  },
  {
   "cell_type": "code",
   "execution_count": 15,
   "id": "629da56a",
   "metadata": {},
   "outputs": [
    {
     "name": "stdout",
     "output_type": "stream",
     "text": [
      "[Base Price Bracket].[Base Price Bracket]\n",
      "[Products].[Size Bracket]\n"
     ]
    }
   ],
   "source": [
    "outputs_cat_manuf = {}\n",
    "for i in brackets:\n",
    "    print(i)\n",
    "    dic_name_ori = f\"share_topline_{i.split('.[')[1]}_catscope_manuf\".replace(\"]\", \"\").replace(\" \",\"_\").replace(\"\\xa0\",\"_\").lower()\n",
    "    name_new = ''     \n",
    "    if len(sectors) != 0:\n",
    "        dic_name= dic_name_ori +\"_sectors\"\n",
    "        outputs_cat_manuf[dic_name]= {}\n",
    "        data_frame=outputs_cat_manuf[dic_name]\n",
    "        row_list=[f'{i}','[Products].[Sector]', '[Products].[' +ManufOrTopC+ ']']\n",
    "        pvtTable = set_excel_fields(row_list,column_list,filter_list,value_list,pvtTable)\n",
    "        calculate_data(data_frame,'')\n",
    "        pvtTable.CubeFields(list(filter_dictionary_keys(fieldsNamePosition, '[Products].[Sector]').values())[0]).Orientation = 0  \n",
    "        pvtTable.CubeFields(list(filter_dictionary_keys(fieldsNamePosition, '[Products].[' +ManufOrTopC+ ']').values())[0]).Orientation = 0\n",
    "        pvtTable.CubeFields(list(filter_dictionary_keys(fieldsNamePosition, f'{i}').values())[0]).Orientation = 0\n",
    "        with open(f\"PPA Datasets/{dic_name}.pickle\", 'wb') as handle:\n",
    "            pickle.dump(outputs_cat_manuf[dic_name], handle, protocol=pickle.HIGHEST_PROTOCOL)\n",
    "\n",
    "    if len(segments) != 0:\n",
    "        dic_name= dic_name_ori +\"_segments\"\n",
    "        outputs_cat_manuf[dic_name]= {}\n",
    "        data_frame=outputs_cat_manuf[dic_name]\n",
    "        row_list=[f'{i}','[Products].[Segment]', '[Products].[' +ManufOrTopC+ ']']\n",
    "        pvtTable = set_excel_fields(row_list,column_list,filter_list,value_list,pvtTable)\n",
    "        calculate_data(data_frame,'')\n",
    "        pvtTable.CubeFields(list(filter_dictionary_keys(fieldsNamePosition, '[Products].[Segment]').values())[0]).Orientation = 0  \n",
    "        pvtTable.CubeFields(list(filter_dictionary_keys(fieldsNamePosition, '[Products].[' +ManufOrTopC+ ']').values())[0]).Orientation = 0\n",
    "        pvtTable.CubeFields(list(filter_dictionary_keys(fieldsNamePosition, f'{i}').values())[0]).Orientation = 0\n",
    "        with open(f\"PPA Datasets/{dic_name}.pickle\", 'wb') as handle:\n",
    "            pickle.dump(outputs_cat_manuf[dic_name], handle, protocol=pickle.HIGHEST_PROTOCOL)\n",
    "    if len(subsegments) != 0:\n",
    "        dic_name= dic_name_ori +\"_subsegments\"\n",
    "        outputs_cat_manuf[dic_name]= {}\n",
    "        data_frame=outputs_cat_manuf[dic_name]\n",
    "        row_list=[f'{i}','[Products].[SubSegment]', '[Products].[' +ManufOrTopC+ ']']\n",
    "        pvtTable = set_excel_fields(row_list,column_list,filter_list,value_list,pvtTable)\n",
    "        calculate_data(data_frame,'')\n",
    "        pvtTable.CubeFields(list(filter_dictionary_keys(fieldsNamePosition, '[Products].[SubSegment]').values())[0]).Orientation = 0 \n",
    "        pvtTable.CubeFields(list(filter_dictionary_keys(fieldsNamePosition, '[Products].[' +ManufOrTopC+ ']').values())[0]).Orientation = 0\n",
    "        pvtTable.CubeFields(list(filter_dictionary_keys(fieldsNamePosition, f'{i}').values())[0]).Orientation = 0\n",
    "        with open(f\"PPA Datasets/{dic_name}.pickle\", 'wb') as handle:\n",
    "            pickle.dump(outputs_cat_manuf[dic_name], handle, protocol=pickle.HIGHEST_PROTOCOL)\n",
    "    if len(subcategories) != 0:\n",
    "        dic_name= dic_name_ori +\"_subcategories\"\n",
    "        outputs_cat_manuf[dic_name]= {}\n",
    "        data_frame=outputs_cat_manuf[dic_name]\n",
    "        row_list=[f'{i}','[Products].[SubCategory]', '[Products].[' +ManufOrTopC+ ']']\n",
    "        pvtTable = set_excel_fields(row_list,column_list,filter_list,value_list,pvtTable)\n",
    "        calculate_data(data_frame,'')\n",
    "        pvtTable.CubeFields(list(filter_dictionary_keys(fieldsNamePosition, '[Products].[SubCategory]').values())[0]).Orientation = 0  \n",
    "        pvtTable.CubeFields(list(filter_dictionary_keys(fieldsNamePosition, '[Products].[' +ManufOrTopC+ ']').values())[0]).Orientation = 0\n",
    "        pvtTable.CubeFields(list(filter_dictionary_keys(fieldsNamePosition, f'{i}').values())[0]).Orientation = 0\n",
    "        with open(f\"PPA Datasets/{dic_name}.pickle\", 'wb') as handle:\n",
    "            pickle.dump(outputs_cat_manuf[dic_name], handle, protocol=pickle.HIGHEST_PROTOCOL)\n",
    "                      "
   ]
  },
  {
   "cell_type": "markdown",
   "id": "79b043b0",
   "metadata": {},
   "source": [
    "##### Parent Scope By Brand"
   ]
  },
  {
   "cell_type": "code",
   "execution_count": 16,
   "id": "a0218a7f",
   "metadata": {},
   "outputs": [],
   "source": [
    "row_list = []\n",
    "column_list=[]\n",
    "filter_list=['[Products].[Category]','[Time Logic].[Time Period]','[Scope].[Scope]','[Market].[Area]','[Market].[Region]','[Market].[Channel]','[Market].[Market]']\n",
    "value_list=['[Measures].[Value Share]','[Measures].[Brand WoB %]','[Measures].[WoB %]','[Measures].[Value Sales]']\n",
    "\n",
    "pvtTable.ClearTable()\n",
    "pvtTable = set_excel_fields(row_list,column_list,filter_list,value_list,pvtTable)\n",
    "\n",
    "#Select the filter values for each filter\n",
    "# pvtTable.PivotFields(\"[Products].[Category].[Category]\").ClearAllFilters()\n",
    "pvtTable.PivotFields('[Products].[Category].[Category]').CurrentPageName = f'[Products].[Category].&[{categories[0]}]'\n",
    "\n",
    "# pvtTable.PivotFields(\"[Time Logic].[Time Period].[Time Period]\").ClearAllFilters()\n",
    "pvtTable.PivotFields('[Time Logic].[Time Period].[Time Period]').CurrentPageName = '[Time Logic].[Time Period].&[P12M]'\n",
    "\n",
    "pvtTable.PivotFields(\"[Scope].[Scope].[Scope]\").ClearAllFilters()\n",
    "pvtTable.PivotFields('[Scope].[Scope].[Scope]').CurrentPageName = '[Scope].[Scope].&[Category]'"
   ]
  },
  {
   "cell_type": "code",
   "execution_count": 17,
   "id": "e74ce313",
   "metadata": {},
   "outputs": [
    {
     "name": "stdout",
     "output_type": "stream",
     "text": [
      "[Base Price Bracket].[Base Price Bracket]\n",
      "[Products].[Size Bracket]\n"
     ]
    }
   ],
   "source": [
    "outputs_parent = {}\n",
    "for i in brackets:\n",
    "    print(i)\n",
    "    dic_name_ori = f\"share_topline_{i.split('.[')[1]}_parentscope\".replace(\"]\", \"\").replace(\" \",\"_\").replace(\"\\xa0\",\"_\").lower()\n",
    "    name_new = ''     \n",
    "    if len(segments) != 0:\n",
    "        dic_name= dic_name_ori +\"_segments\"\n",
    "        outputs_parent[dic_name]= {}\n",
    "        data_frame=outputs_parent[dic_name]\n",
    "        row_list=[f'{i}','[Products].['+direct_parent[\"Segment\"]+']','[Products].[Segment]', '[Products].[' +BrandOrTopB+ ']']\n",
    "        pvtTable = set_excel_fields(row_list,column_list,filter_list,value_list,pvtTable)\n",
    "        pvtTable.PivotFields('[Scope].[Scope].[Scope]').CurrentPageName = '[Scope].[Scope].&['+direct_parent[\"Segment\"]+']'\n",
    "        calculate_data(data_frame,'')\n",
    "        pvtTable.CubeFields(list(filter_dictionary_keys(fieldsNamePosition, '[Products].['+direct_parent[\"Segment\"]+']').values())[0]).Orientation = 0  \n",
    "        pvtTable.CubeFields(list(filter_dictionary_keys(fieldsNamePosition, '[Products].[Segment]').values())[0]).Orientation = 0  \n",
    "        pvtTable.CubeFields(list(filter_dictionary_keys(fieldsNamePosition, '[Products].[' +BrandOrTopB+ ']').values())[0]).Orientation = 0\n",
    "        pvtTable.CubeFields(list(filter_dictionary_keys(fieldsNamePosition, f'{i}').values())[0]).Orientation = 0\n",
    "        with open(f\"PPA Datasets/{dic_name}.pickle\", 'wb') as handle:\n",
    "            pickle.dump(outputs_parent[dic_name], handle, protocol=pickle.HIGHEST_PROTOCOL)\n",
    "    if len(subsegments) != 0:\n",
    "        dic_name= dic_name_ori +\"_subsegments\"\n",
    "        outputs_parent[dic_name]= {}\n",
    "        data_frame=outputs_parent[dic_name]\n",
    "        row_list=[f'{i}','[Products].['+direct_parent[\"SubSegment\"]+']','[Products].[SubSegment]', '[Products].[' +BrandOrTopB+ ']']\n",
    "        pvtTable = set_excel_fields(row_list,column_list,filter_list,value_list,pvtTable)\n",
    "        pvtTable.PivotFields('[Scope].[Scope].[Scope]').CurrentPageName = '[Scope].[Scope].&['+direct_parent[\"SubSegment\"]+']'\n",
    "        calculate_data(data_frame,'')\n",
    "        pvtTable.CubeFields(list(filter_dictionary_keys(fieldsNamePosition, '[Products].['+direct_parent[\"SubSegment\"]+']').values())[0]).Orientation = 0 \n",
    "        pvtTable.CubeFields(list(filter_dictionary_keys(fieldsNamePosition, '[Products].[SubSegment]').values())[0]).Orientation = 0 \n",
    "        pvtTable.CubeFields(list(filter_dictionary_keys(fieldsNamePosition, '[Products].[' +BrandOrTopB+ ']').values())[0]).Orientation = 0\n",
    "        pvtTable.CubeFields(list(filter_dictionary_keys(fieldsNamePosition, f'{i}').values())[0]).Orientation = 0\n",
    "        with open(f\"PPA Datasets/{dic_name}.pickle\", 'wb') as handle:\n",
    "            pickle.dump(outputs_parent[dic_name], handle, protocol=pickle.HIGHEST_PROTOCOL)\n",
    "    if len(subcategories) != 0:\n",
    "        dic_name= dic_name_ori +\"_subcategories\"\n",
    "        outputs_parent[dic_name]= {}\n",
    "        data_frame=outputs_parent[dic_name]\n",
    "        row_list=[f'{i}','[Products].['+direct_parent[\"SubCategory\"]+']','[Products].[SubCategory]', '[Products].[' +BrandOrTopB+ ']']\n",
    "        pvtTable.PivotFields('[Scope].[Scope].[Scope]').CurrentPageName = '[Scope].[Scope].&['+direct_parent[\"SubCategory\"]+']'\n",
    "        pvtTable = set_excel_fields(row_list,column_list,filter_list,value_list,pvtTable)\n",
    "        calculate_data(data_frame,'')\n",
    "        pvtTable.CubeFields(list(filter_dictionary_keys(fieldsNamePosition, '[Products].['+direct_parent[\"SubCategory\"]+']').values())[0]).Orientation = 0  \n",
    "        pvtTable.CubeFields(list(filter_dictionary_keys(fieldsNamePosition, '[Products].[SubCategory]').values())[0]).Orientation = 0  \n",
    "        pvtTable.CubeFields(list(filter_dictionary_keys(fieldsNamePosition, '[Products].[' +BrandOrTopB+ ']').values())[0]).Orientation = 0\n",
    "        pvtTable.CubeFields(list(filter_dictionary_keys(fieldsNamePosition, f'{i}').values())[0]).Orientation = 0\n",
    "        with open(f\"PPA Datasets/{dic_name}.pickle\", 'wb') as handle:\n",
    "            pickle.dump(outputs_parent[dic_name], handle, protocol=pickle.HIGHEST_PROTOCOL)"
   ]
  },
  {
   "cell_type": "markdown",
   "id": "aba0caa7",
   "metadata": {},
   "source": [
    "##### Parent Scope By Manuf"
   ]
  },
  {
   "cell_type": "code",
   "execution_count": 18,
   "id": "a61bc28e",
   "metadata": {},
   "outputs": [],
   "source": [
    "row_list = []\n",
    "column_list=[]\n",
    "filter_list=['[Products].[Category]','[Time Logic].[Time Period]','[Scope].[Scope]','[Market].[Area]','[Market].[Region]','[Market].[Channel]','[Market].[Market]']\n",
    "value_list=['[Measures].[Value Share]','[Measures].[Company WoB %]','[Measures].[WoB %]','[Measures].[Value Sales]']\n",
    "\n",
    "pvtTable.ClearTable()\n",
    "pvtTable = set_excel_fields(row_list,column_list,filter_list,value_list,pvtTable)\n",
    "\n",
    "#Select the filter values for each filter\n",
    "# pvtTable.PivotFields(\"[Products].[Category].[Category]\").ClearAllFilters()\n",
    "pvtTable.PivotFields('[Products].[Category].[Category]').CurrentPageName = f'[Products].[Category].&[{categories[0]}]'\n",
    "\n",
    "# pvtTable.PivotFields(\"[Time Logic].[Time Period].[Time Period]\").ClearAllFilters()\n",
    "pvtTable.PivotFields('[Time Logic].[Time Period].[Time Period]').CurrentPageName = '[Time Logic].[Time Period].&[P12M]'\n",
    "\n",
    "pvtTable.PivotFields(\"[Scope].[Scope].[Scope]\").ClearAllFilters()\n",
    "pvtTable.PivotFields('[Scope].[Scope].[Scope]').CurrentPageName = '[Scope].[Scope].&[Category]'"
   ]
  },
  {
   "cell_type": "code",
   "execution_count": 19,
   "id": "874667e5",
   "metadata": {},
   "outputs": [
    {
     "name": "stdout",
     "output_type": "stream",
     "text": [
      "[Base Price Bracket].[Base Price Bracket]\n",
      "[Products].[Size Bracket]\n"
     ]
    }
   ],
   "source": [
    "outputs_parent_manuf = {}\n",
    "for i in brackets:\n",
    "    print(i)\n",
    "    dic_name_ori = f\"share_topline_{i.split('.[')[1]}_parentscope_manuf\".replace(\"]\", \"\").replace(\" \",\"_\").replace(\"\\xa0\",\"_\").lower()\n",
    "    name_new = ''     \n",
    "    if len(segments) != 0:\n",
    "        dic_name= dic_name_ori +\"_segments\"\n",
    "        outputs_parent_manuf[dic_name]= {}\n",
    "        data_frame=outputs_parent_manuf[dic_name]\n",
    "        row_list=[f'{i}','[Products].['+direct_parent[\"Segment\"]+']','[Products].[Segment]', '[Products].[' +ManufOrTopC+ ']']\n",
    "        pvtTable = set_excel_fields(row_list,column_list,filter_list,value_list,pvtTable)\n",
    "        pvtTable.PivotFields('[Scope].[Scope].[Scope]').CurrentPageName = '[Scope].[Scope].&['+direct_parent[\"Segment\"]+']'\n",
    "        calculate_data(data_frame,'')\n",
    "        pvtTable.CubeFields(list(filter_dictionary_keys(fieldsNamePosition, '[Products].['+direct_parent[\"Segment\"]+']').values())[0]).Orientation = 0  \n",
    "        pvtTable.CubeFields(list(filter_dictionary_keys(fieldsNamePosition, '[Products].[Segment]').values())[0]).Orientation = 0  \n",
    "        pvtTable.CubeFields(list(filter_dictionary_keys(fieldsNamePosition, '[Products].[' +ManufOrTopC+ ']').values())[0]).Orientation = 0\n",
    "        pvtTable.CubeFields(list(filter_dictionary_keys(fieldsNamePosition, f'{i}').values())[0]).Orientation = 0\n",
    "        with open(f\"PPA Datasets/{dic_name}.pickle\", 'wb') as handle:\n",
    "            pickle.dump(outputs_parent_manuf[dic_name], handle, protocol=pickle.HIGHEST_PROTOCOL)\n",
    "    if len(subsegments) != 0:\n",
    "        dic_name= dic_name_ori +\"_subsegments\"\n",
    "        outputs_parent_manuf[dic_name]= {}\n",
    "        data_frame=outputs_parent_manuf[dic_name]\n",
    "        row_list=[f'{i}','[Products].['+direct_parent[\"SubSegment\"]+']','[Products].[SubSegment]', '[Products].[' +ManufOrTopC+ ']']\n",
    "        pvtTable = set_excel_fields(row_list,column_list,filter_list,value_list,pvtTable)\n",
    "        pvtTable.PivotFields('[Scope].[Scope].[Scope]').CurrentPageName = '[Scope].[Scope].&['+direct_parent[\"SubSegment\"]+']'\n",
    "        calculate_data(data_frame,'')\n",
    "        pvtTable.CubeFields(list(filter_dictionary_keys(fieldsNamePosition, '[Products].['+direct_parent[\"SubSegment\"]+']').values())[0]).Orientation = 0 \n",
    "        pvtTable.CubeFields(list(filter_dictionary_keys(fieldsNamePosition, '[Products].[SubSegment]').values())[0]).Orientation = 0 \n",
    "        pvtTable.CubeFields(list(filter_dictionary_keys(fieldsNamePosition, '[Products].[' +ManufOrTopC+ ']').values())[0]).Orientation = 0\n",
    "        pvtTable.CubeFields(list(filter_dictionary_keys(fieldsNamePosition, f'{i}').values())[0]).Orientation = 0\n",
    "        with open(f\"PPA Datasets/{dic_name}.pickle\", 'wb') as handle:\n",
    "            pickle.dump(outputs_parent_manuf[dic_name], handle, protocol=pickle.HIGHEST_PROTOCOL)\n",
    "    if len(subcategories) != 0:\n",
    "        dic_name= dic_name_ori +\"_subcategories\"\n",
    "        outputs_parent_manuf[dic_name]= {}\n",
    "        data_frame=outputs_parent_manuf[dic_name]\n",
    "        row_list=[f'{i}','[Products].['+direct_parent[\"SubCategory\"]+']','[Products].[SubCategory]', '[Products].[' +ManufOrTopC+ ']']\n",
    "        pvtTable.PivotFields('[Scope].[Scope].[Scope]').CurrentPageName = '[Scope].[Scope].&['+direct_parent[\"SubCategory\"]+']'\n",
    "        pvtTable = set_excel_fields(row_list,column_list,filter_list,value_list,pvtTable)\n",
    "        calculate_data(data_frame,'')\n",
    "        pvtTable.CubeFields(list(filter_dictionary_keys(fieldsNamePosition, '[Products].['+direct_parent[\"SubCategory\"]+']').values())[0]).Orientation = 0  \n",
    "        pvtTable.CubeFields(list(filter_dictionary_keys(fieldsNamePosition, '[Products].[SubCategory]').values())[0]).Orientation = 0  \n",
    "        pvtTable.CubeFields(list(filter_dictionary_keys(fieldsNamePosition, '[Products].[' +ManufOrTopC+ ']').values())[0]).Orientation = 0\n",
    "        pvtTable.CubeFields(list(filter_dictionary_keys(fieldsNamePosition, f'{i}').values())[0]).Orientation = 0\n",
    "        with open(f\"PPA Datasets/{dic_name}.pickle\", 'wb') as handle:\n",
    "            pickle.dump(outputs_parent_manuf[dic_name], handle, protocol=pickle.HIGHEST_PROTOCOL)\n",
    "                      \n"
   ]
  },
  {
   "cell_type": "markdown",
   "id": "81ed1cf6-e914-4144-a10a-ad9961b029d3",
   "metadata": {},
   "source": [
    "## Inter-size Discount"
   ]
  },
  {
   "cell_type": "code",
   "execution_count": 20,
   "id": "611f9325-04de-4279-bc03-1e7c9b3ca999",
   "metadata": {},
   "outputs": [],
   "source": [
    "if ISDcolumn != 'Total Size':\n",
    "    row_list=['[Products].[Variant]','[Products].[Total Size]','[Products].['+ISDcolumn+']']\n",
    "else:\n",
    "    row_list=['[Products].[Variant]','[Products].[Total Size]']\n",
    "column_list=[]\n",
    "filter_list=['[Products].[Category]','[Time Logic].[Time Period]','[Scope].[Scope]','[Products].[Top Brands]','[Market].[Area]','[Market].[Region]','[Market].[Channel]',\"[Market].[Market]\"]\n",
    "\n",
    "value_list=['[Measures].[Base Price/Unit]', '[Measures].[Value Sales]','[Measures].[Unit Sales]','[Measures].[Value Sales IYA]', '[Measures].[VSOD]']\n",
    "\n",
    "pvtTable.ClearTable()\n",
    "pvtTable = set_excel_fields(row_list,column_list,filter_list,value_list,pvtTable)\n",
    "\n",
    "# Select the filter values for each filter\n",
    "# pvtTable.PivotFields(\"[Products].[Category].[Category]\").ClearAllFilters()\n",
    "pvtTable.PivotFields('[Products].[Category].[Category]').CurrentPageName = f'[Products].[Category].&[{categories[0]}]'\n",
    "\n",
    "# pvtTable.PivotFields(\"[Time Logic].[Time Period].[Time Period]\").ClearAllFilters()\n",
    "pvtTable.PivotFields('[Time Logic].[Time Period].[Time Period]').CurrentPageName = '[Time Logic].[Time Period].&[P3M]'"
   ]
  },
  {
   "cell_type": "code",
   "execution_count": 21,
   "id": "fb9cf4e3",
   "metadata": {},
   "outputs": [],
   "source": [
    "inter_size = {}\n",
    "if len(categories)!=0:\n",
    "    # pvtTable.PivotFields(\"[Scope].[Scope].[Scope]\").ClearAllFilters()\n",
    "    pvtTable.PivotFields('[Scope].[Scope].[Scope]').CurrentPageName = '[Scope].[Scope].&[Category]'\n",
    "\n",
    "    for brand in client_brands:\n",
    "        pvtTable.PivotFields('[Products].[Top Brands].[Top Brands]').ClearAllFilters()\n",
    "        pvtTable.PivotFields('[Products].[Top Brands].[Top Brands]').CurrentPageName = f'[Products].[Top Brands].&[{brand}]'\n",
    "        calculate_category_data(inter_size,' | '+f'{brand}')\n",
    "with open('PPA Datasets/inter_size.pickle', 'wb') as handle:\n",
    "    pickle.dump(inter_size, handle, protocol=pickle.HIGHEST_PROTOCOL)"
   ]
  },
  {
   "cell_type": "markdown",
   "id": "38b8c5bd",
   "metadata": {},
   "source": [
    "##### TopLine By Manufacture"
   ]
  },
  {
   "cell_type": "code",
   "execution_count": 22,
   "id": "d68ba3f8",
   "metadata": {},
   "outputs": [],
   "source": [
    "row_list = []\n",
    "column_list=[]\n",
    "filter_list=['[Products].[Category]','[Time Logic].[Time Period]','[Scope].[Scope]','[Market].[Area]','[Market].[Region]','[Market].[Channel]','[Market].[Market]','[Products].[Sector]','[Products].[Segment]','[Products].[SubCategory]','[Products].[SubSegment]']\n",
    "value_list=['[Measures].[Value Share]','[Measures].[Company WoB %]','[Measures].[Value Sales IYA]', '[Measures].[Relative Price]']\n",
    "\n",
    "pvtTable.ClearTable()\n",
    "pvtTable = set_excel_fields(row_list,column_list,filter_list,value_list,pvtTable)\n",
    "\n",
    "#Select the filter values for each filter\n",
    "# pvtTable.PivotFields(\"[Products].[Category].[Category]\").ClearAllFilters()\n",
    "pvtTable.PivotFields('[Products].[Category].[Category]').CurrentPageName = f'[Products].[Category].&[{categories[0]}]'\n",
    "# pvtTable.PivotFields(\"[Time Logic].[Time Period].[Time Period]\").ClearAllFilters()\n",
    "pvtTable.PivotFields('[Time Logic].[Time Period].[Time Period]').CurrentPageName = '[Time Logic].[Time Period].&[P12M]'\n"
   ]
  },
  {
   "cell_type": "code",
   "execution_count": 23,
   "id": "af839a65",
   "metadata": {},
   "outputs": [
    {
     "name": "stdout",
     "output_type": "stream",
     "text": [
      "[Base Price Bracket].[Base Price Bracket]\n",
      "[Products].[Size Bracket]\n"
     ]
    }
   ],
   "source": [
    "outputs_manuf = {}\n",
    "for i in brackets:\n",
    "    row_list=[f'{i}', '[Products].[' +ManufOrTopC+ ']']\n",
    "    print(i)\n",
    "    pvtTable = set_excel_fields(row_list,column_list,filter_list,value_list,pvtTable)\n",
    "    dic_name = f\"share_topline_{i.split('.[')[1]}_manuf\".replace(\"]\", \"\").replace(\" \",\"_\").replace(\"\\xa0\",\"_\").lower()\n",
    "    outputs_manuf[dic_name]= {}\n",
    "\n",
    "    # # Slides by Category for Areas = NATIONAL, RETAILER, CHANNEL\n",
    "    if len(categories) !=0:\n",
    "        pvtTable.PivotFields(\"[Scope].[Scope].[Scope]\").ClearAllFilters()\n",
    "        pvtTable.PivotFields('[Scope].[Scope].[Scope]').CurrentPageName = '[Scope].[Scope].&[Category]'\n",
    "        calculate_category_data(outputs_manuf[dic_name])\n",
    "    calculate_sector_segment_data(outputs_manuf[dic_name])\n",
    "\n",
    "    pvtTable.CubeFields(list(filter_dictionary_keys(fieldsNamePosition, '[Products].[' +ManufOrTopC+ ']').values())[0]).Orientation = 0\n",
    "    pvtTable.CubeFields(list(filter_dictionary_keys(fieldsNamePosition, f'{i}').values())[0]).Orientation = 0\n",
    "   \n",
    "    with open(f\"PPA Datasets/{dic_name}.pickle\", 'wb') as handle:\n",
    "         pickle.dump(outputs_manuf[dic_name], handle, protocol=pickle.HIGHEST_PROTOCOL)\n",
    "    \n",
    "        \n"
   ]
  },
  {
   "cell_type": "code",
   "execution_count": 24,
   "id": "85bd02bc",
   "metadata": {},
   "outputs": [
    {
     "name": "stdout",
     "output_type": "stream",
     "text": [
      "Script started at: Thu Dec 12 08:53:00 2024\n",
      "Script ended at: Thu Dec 12 10:05:11 2024\n",
      "Elapsed time: 4330.62 seconds\n"
     ]
    }
   ],
   "source": [
    "end_time = time.time()\n",
    "elapsed_time = end_time - start_time\n",
    "print(f\"Script started at: {time.ctime(start_time)}\")   \n",
    "print(f\"Script ended at: {time.ctime(end_time)}\")\n",
    "print(f\"Elapsed time: {elapsed_time:.2f} seconds\")"
   ]
  }
 ],
 "metadata": {
  "kernelspec": {
   "display_name": "Python 3",
   "language": "python",
   "name": "python3"
  },
  "language_info": {
   "codemirror_mode": {
    "name": "ipython",
    "version": 3
   },
   "file_extension": ".py",
   "mimetype": "text/x-python",
   "name": "python",
   "nbconvert_exporter": "python",
   "pygments_lexer": "ipython3",
   "version": "3.12.4"
  }
 },
 "nbformat": 4,
 "nbformat_minor": 5
}
