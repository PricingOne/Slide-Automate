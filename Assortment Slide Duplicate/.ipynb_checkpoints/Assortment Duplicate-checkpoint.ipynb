{
 "cells": [
  {
   "cell_type": "code",
   "execution_count": 1,
   "id": "0e2c6689",
   "metadata": {},
   "outputs": [],
   "source": [
    "%run \"..\\general_functions\\generalFunctions.ipynb\"\n",
    "%run \"..\\Assortment Slide Duplicate\\Assortment Replacement Function.ipynb\""
   ]
  },
  {
   "cell_type": "code",
   "execution_count": 2,
   "id": "e00b81a8",
   "metadata": {},
   "outputs": [],
   "source": [
    "# client_manuf = [\"Ontex\"]\n",
    "# client_brands = [\"Dada\"]\n",
    "# client_brands_competitor = [\"Pampers\"]\n",
    "# currency = 'PLN'\n",
    "\n",
    "# decimals = 2\n",
    "\n",
    "# sign = \"Before\"\n",
    "# percent = 100000\n",
    "# percentstr=\"'000 00\"\n",
    "# ValueCutOff = 1000\n",
    " \n",
    "\n",
    "# prodORitem = 'Product'\n",
    "# unit = \"‘00000s\"\n",
    "# unitDeviation = 100000\n",
    "\n",
    "# categories = [\"Baby Diapers/Pants\"]\n",
    "# sectors = [\"Baby Diapers\",\"Baby Pants\"]\n",
    "# segments = [\"Newborn\", \"Mini\",\"Midi\", \"Maxi\", \"Junior\", \"Extra Large\", \"Extra Extra Large\"]\n",
    "# subsegments= []\n",
    "# subcategories= []\n",
    "# #categories = []\n",
    "# customareas= \"RETAILER REGION\"\n",
    "# areas = ['NATIONAL', \"RETAILER\", \"CHANNEL\",customareas]\n",
    "\n",
    "# national = True\n",
    "# regions = [\"Biedronka\", \"Biedronka Gdańsk\",\"Biedronka Katowice\",\"Biedronka Kraków\",\"Biedronka Łódź\",\"Biedronka Lublin\",\"Biedronka Olsztyn\",\"Biedronka Poznań\",\"Biedronka Szczecin\",\"Biedronka Warsaw\",\"Biedronka Wrocław\"]\n",
    "# #channels = [\"Discount\",\"Hm/Sm\",\"Small Format\"]\n",
    "# channels = []\n",
    "# markets = []\n",
    "\n",
    "# data_source = \"DATA SOURCE: Trade Panel/Retailer Data | Ending May 2024\"\n",
    "\n",
    "# years = ['2021', '2022','2023']\n",
    "\n",
    "# valueToReplace={'Norgesgruppen':'NG'}"
   ]
  },
  {
   "cell_type": "code",
   "execution_count": 3,
   "id": "7d354b37",
   "metadata": {},
   "outputs": [],
   "source": [
    "f_name = os.path.join(os.path.dirname(os.getcwd()),\"Live connection Edgewell 1.xlsx\")\n",
    "\n",
    "client_manuf = [\"Edgewell\"]\n",
    "client_brands = [\"Xtreme 3\",\"Extra 3\",\"Hydro\",\"Quattro Titanium\",\"Classic\",\"Quattro\",\"Extra 2\",\"Duplo\"]\n",
    "client_brands_competitor = ['Mach3']\n",
    "decimals = 2\n",
    "unit = \"‘00000s\"\n",
    "unitDeviation = 100000\n",
    "\n",
    "sign = \"After\"\n",
    "currency = '€'\n",
    "currency = ' '+ currency if sign.lower() == 'after' else  currency + ' ' \n",
    "\n",
    "categories = [\"Male Shaving\"]\n",
    "sectors = [\"Disposable\",\"System\"]\n",
    "segments = [\"Lame\",\"Rasoi\"]\n",
    "subsegments= [\"Rasoi No Sensitive\", \"Rasoi Sensitive\", \"Disposable No Sensitive\",\"Disposable Sensitive\"]\n",
    "subcategories= [\"1 Blades\",\t\"2 Blades\",\t\"3 Blades\",\t\"4 Blades\",\t\"5 Blades\"]\n",
    "\n",
    "national = True\n",
    "customareas= \"DRUGSTORES\"\n",
    "areas = ['NATIONAL', \"RETAILER\",\"CHANNEL\",customareas]#, \"CHANNEL\"\n",
    "\n",
    "regions_RET  = [\"Cesar\"]\n",
    "channels_RET = []\n",
    "market_RET = []\n",
    "\n",
    "regions_CHAN = []\n",
    "channels_CHAN = [\"Drugstores\", \"Hyper\", \"Super\", \"Discount\", \"Liberi Servizi\"]#\"Discount\",\"Hm/Sm\",\"Small Format\"\n",
    "market_CHAN = []\n",
    "\n",
    "regions_CUST = []\n",
    "channels_CUST = [\"Drugstores Area 1\",\"Drugstores Area 2\",\"Drugstores Area 3\",\"Drugstores Area 4\"]\n",
    "market_CUST = []\n",
    "\n",
    "data_source = \"DATA SOURCE: Trade Panel/Retailer Data | Ending Feb 2024\"\n",
    "years = ['2021', '2022','2023']\n",
    "\n",
    "# Add one month to the original ending date (YYYY-MM-DD)\n",
    "end_date = \"2024-03-01\"\n",
    "\n",
    "prodORitem = \"Product\"\n",
    "\n",
    "brands_only = True  # Get the Data of SKU Share by brands level only\n",
    "valueToReplace = {}"
   ]
  },
  {
   "cell_type": "code",
   "execution_count": 4,
   "id": "9a174b94-e0c5-41ac-943c-af541f3f046d",
   "metadata": {},
   "outputs": [],
   "source": [
    "assortment = pd.read_pickle(\"Assortment Datasets/assortment.pickle\")\n",
    "assortmentbybrand = pd.read_pickle(\"Assortment Datasets/assortmentbybrand.pickle\")\n",
    "cumulativeShare = pd.read_pickle(\"Assortment Datasets/cumulative_share.pickle\")\n"
   ]
  },
  {
   "cell_type": "code",
   "execution_count": 5,
   "id": "392c7030",
   "metadata": {},
   "outputs": [],
   "source": [
    "def mixAssortmentCleaning(assortment, cumulativeShare):\n",
    "    \"\"\"\n",
    "    Cleans and processes assortment and cumulative share data to provide modified data for brand-specific analysis.\n",
    "    \n",
    "    Args:\n",
    "    assortment (dict): Dictionary containing assortment data.\n",
    "    cumulativeShare (dict): Dictionary containing cumulative share data.\n",
    "    \n",
    "    Returns:\n",
    "    tuple: \n",
    "        - assortmentModifiedBrand (dict): Dictionary containing cleaned and modified assortment data for brands.\n",
    "        - assortmentModifiedTotal (dict): Dictionary containing cleaned and modified total assortment data.\n",
    "        - assortmentClient (dict): Dictionary containing client-specific cleaned and modified assortment data.\n",
    "    \"\"\"\n",
    "    \n",
    "    # Initialize dictionaries to store modified data\n",
    "    cumulativeShareModifiedBrand = {}\n",
    "    assortmentModified = {}\n",
    "    assortmentModifiedBrand = {}\n",
    "    assortmentModifiedTotal = {}\n",
    "    assortmentClient = {}\n",
    "\n",
    "    # Process cumulative share data\n",
    "    for key, value in cumulativeShare.items():\n",
    "        dfcumulative = value.iloc[11:].reset_index(drop=True)  # Adjust the dataframe to remove unnecessary rows\n",
    "        dfcumulative.columns = dfcumulative.iloc[0]  # Set the first row as the column headers\n",
    "        dfcumulative = dfcumulative.iloc[1:]  # Remove the row used for headers\n",
    "        \n",
    "        if dfcumulative.shape[0] != 0:  # If the dataframe is not empty\n",
    "            newKey = key\n",
    "            if key.split(' | ')[0] not in categories:  # Adjust key if it does not match category format\n",
    "                newKey = key.split(' | ')[1] + ' | ' + key.split(' | ')[0]\n",
    "            cumulativeShareModifiedBrand[newKey] = dfcumulative.replace(np.nan, 0)  # Replace NaNs with 0 and store\n",
    "\n",
    "    # Process assortment data\n",
    "    for key, value in assortment.items():\n",
    "        df = value.iloc[12:].reset_index(drop=True)  # Adjust the dataframe to remove unnecessary rows\n",
    "        df.columns = df.iloc[0]  # Set the first row as the column headers\n",
    "        df = df.iloc[1:]  # Remove the row used for headers\n",
    "        df['Top Brands'] = df['Top Brands'].ffill()  # Forward fill 'Top Brands' column\n",
    "\n",
    "        # Replace specific values in 'Top Brands' as per 'valueToReplace' dictionary\n",
    "        for val, replacer in valueToReplace.items():\n",
    "            df['Top Brands'] = df['Top Brands'].str.replace(val, replacer)\n",
    "        \n",
    "        dfBrand = df[~df['Top Brands'].str.contains('Total')]  # Filter out rows containing 'Total' in 'Top Brands'\n",
    "        dfTotal = df[df['Top Brands'].str.contains('Total') & (df['Top Brands'] != 'Grand Total')].reset_index(drop=True)\n",
    "        dfTotal['Top Brands'] = dfTotal['Top Brands'].str.replace(' Total', '')  # Adjust 'Top Brands' column for total rows\n",
    "\n",
    "        if df.shape[0] != 0:  # If the dataframe is not empty\n",
    "            newKey = key\n",
    "            if key.split(' | ')[0] not in categories:  # Adjust key if it does not match category format\n",
    "                newKey = key.split(' | ')[1] + ' | ' + key.split(' | ')[0]\n",
    "            \n",
    "            # Process client-specific data for each brand\n",
    "            for brand in client_brands_competitor:\n",
    "                if df[df['Top Brands'] == brand].shape[0] > 0:  # Check if brand data exists in dataframe\n",
    "                    assortmentClient[newKey + ' | ' + brand] = df[df['Top Brands'] == brand].replace(np.nan, 0)\n",
    "                    assortmentClient[newKey + ' | ' + brand] = assortmentClient[newKey + ' | ' + brand].merge(\n",
    "                        cumulativeShareModifiedBrand[newKey], how='left', on= prodORitem\n",
    "                    )\n",
    "            \n",
    "            # Store modified data for total, brand, and overall assortment\n",
    "            assortmentModified[newKey] = df.replace(np.nan, 0)\n",
    "            assortmentModifiedBrand[newKey] = dfBrand.replace(np.nan, 0).drop(columns=['Cumulative '+prodORitem+' Share'])\n",
    "            assortmentModifiedBrand[newKey] = assortmentModifiedBrand[newKey].merge(\n",
    "                cumulativeShareModifiedBrand[newKey], how='left', on=prodORitem\n",
    "            )\n",
    "            assortmentModifiedTotal[newKey] = dfTotal.replace(np.nan, 0)\n",
    "    \n",
    "    return assortmentModifiedBrand, assortmentModifiedTotal, assortmentClient\n",
    "\n"
   ]
  },
  {
   "cell_type": "code",
   "execution_count": 6,
   "id": "5af95e2b",
   "metadata": {},
   "outputs": [],
   "source": [
    "\"\"\"\n",
    "Cleans and processes assortment for brand-specific analysis.\n",
    "\n",
    "Args:\n",
    "assortmentbybrand (dict): Dictionary containing assortment data by brand.\n",
    "\n",
    "Returns:\n",
    "tuple: \n",
    "   - assortmentModifiedBrand (dict): Dictionary containing cleaned and modified assortment data by brand for slide 1\n",
    "\"\"\"\n",
    "\n",
    "# Initialize dictionaries to store modified data\n",
    "assortmentbybrandfinal = {}\n",
    "# Process assortment data\n",
    "for key, value in assortmentbybrand.items():\n",
    "   df = value.iloc[12:].reset_index(drop=True)  # Adjust the dataframe to remove unnecessary rows\n",
    "   df.columns = df.iloc[0]  # Set the first row as the column headers\n",
    "   df = df.iloc[1:]  # Remove the row used for headers\n",
    "\n",
    "   # Replace specific values in 'Top Brands' as per 'valueToReplace' dictionary\n",
    "   for val, replacer in valueToReplace.items():\n",
    "      df['Top Brands'] = df['Top Brands'].str.replace(val, replacer)\n",
    "   \n",
    "   dfBrand = df[df['Top Brands'] != 'Grand Total'].reset_index(drop=True)\n",
    "   if df.shape[0] != 0:  # If the dataframe is not empty\n",
    "      newKey = key\n",
    "      if key.split(' | ')[0] not in categories:  # Adjust key if it does not match category format\n",
    "            newKey = key.split(' | ')[1] + ' | ' + key.split(' | ')[0]\n",
    "   # Store modified data for total, brand, and overall assortment\n",
    "      assortmentbybrandfinal[newKey] = dfBrand.replace(np.nan, 0)"
   ]
  },
  {
   "cell_type": "code",
   "execution_count": 7,
   "id": "898cbe1f",
   "metadata": {},
   "outputs": [],
   "source": [
    "assortmentBrandSorted= dfSort(assortmentbybrandfinal, client_brands, 'Top Brands', num=10,salesCol='Value Share')"
   ]
  },
  {
   "cell_type": "code",
   "execution_count": 8,
   "id": "cf484af2",
   "metadata": {},
   "outputs": [],
   "source": [
    "assortmentBrand,assortmentTotal,assortmentClient=mixAssortmentCleaning(assortment,cumulativeShare)"
   ]
  },
  {
   "cell_type": "code",
   "execution_count": 9,
   "id": "a73f10f3",
   "metadata": {},
   "outputs": [],
   "source": [
    "assortmentTotalSorted= dfSort(assortmentTotal, client_brands, 'Top Brands', num=10,salesCol='Value Share')"
   ]
  },
  {
   "cell_type": "markdown",
   "id": "59f3f41a",
   "metadata": {},
   "source": [
    "### Slide 3,4 cumulative share Cleaning"
   ]
  },
  {
   "cell_type": "code",
   "execution_count": 10,
   "id": "6505e78d",
   "metadata": {},
   "outputs": [],
   "source": [
    "def cumulativeShareCleaningTopPercent(assortment, cumulativeShare, percent=0.5):\n",
    "    \"\"\"\n",
    "    Cleans and processes assortment and cumulative share data, filtering out the top percentage of products.\n",
    "    \n",
    "    Args:\n",
    "    assortment (dict): Dictionary containing assortment data.\n",
    "    cumulativeShare (dict): Dictionary containing cumulative share data.\n",
    "    percent (float): The top cumulative product share percentage threshold to filter by (default is 0.5).\n",
    "    \n",
    "    Returns:\n",
    "    dict: A dictionary containing the cleaned and processed data for the top percentage of products.\n",
    "    \"\"\"\n",
    "    \n",
    "    # Initialize dictionaries to store modified data\n",
    "    assortmentModified = {}\n",
    "    assortmentModifiedBrand = {}\n",
    "    topPercent = {}\n",
    "    cumulativeShareModifiedBrand = {}\n",
    "\n",
    "    # Process cumulative share data\n",
    "    for key, value in cumulativeShare.items():\n",
    "        dfcumulative = value.iloc[11:].reset_index(drop=True)  # Adjust the dataframe to remove unnecessary rows\n",
    "        dfcumulative.columns = dfcumulative.iloc[0]  # Set the first row as the column headers\n",
    "        dfcumulative = dfcumulative.iloc[1:]  # Remove the row used for headers\n",
    "        \n",
    "        if dfcumulative.shape[0] != 0:  # If the dataframe is not empty\n",
    "            newKey = key\n",
    "            if key.split(' | ')[0] not in categories:  # Adjust key if it does not match category format\n",
    "                newKey = key.split(' | ')[1] + ' | ' + key.split(' | ')[0]\n",
    "            cumulativeShareModifiedBrand[newKey] = dfcumulative.replace(np.nan, 0)  # Replace NaNs with 0 and store\n",
    "\n",
    "    # Process assortment data\n",
    "    for key, value in assortment.items():\n",
    "        df = value.iloc[12:].reset_index(drop=True)  # Adjust the dataframe to remove unnecessary rows\n",
    "        df.columns = df.iloc[0]  # Set the first row as the column headers\n",
    "        df = df.iloc[1:]  # Remove the row used for headers\n",
    "        df['Top Brands'] = df['Top Brands'].ffill()  # Forward fill 'Top Brands' column\n",
    "        \n",
    "        # Replace specific values in 'Top Brands' as per 'valueToReplace' dictionary\n",
    "        for val, replacer in valueToReplace.items():\n",
    "            df['Top Brands'] = df['Top Brands'].str.replace(val, replacer)\n",
    "        \n",
    "        dfBrand = df[~df['Top Brands'].str.contains('Total')]  # Filter out rows containing 'Total' in 'Top Brands'\n",
    "        \n",
    "        if df.shape[0] != 0:  # If the dataframe is not empty\n",
    "            newKey = key\n",
    "            if key.split(' | ')[0] not in categories:  # Adjust key if it does not match category format\n",
    "                newKey = key.split(' | ')[1] + ' | ' + key.split(' | ')[0]\n",
    "            \n",
    "            # Store modified data for overall and brand-specific assortment\n",
    "            assortmentModified[newKey] = df.replace(np.nan, 0)\n",
    "            assortmentModifiedBrand[newKey] = dfBrand.replace(np.nan, 0).drop(columns=['Cumulative '+prodORitem+' Share'])\n",
    "            assortmentModifiedBrand[newKey] = assortmentModifiedBrand[newKey].merge(\n",
    "                cumulativeShareModifiedBrand[newKey], how='left', on=prodORitem\n",
    "            )\n",
    "            \n",
    "            # Filter and store data for products within the specified cumulative share percentage\n",
    "            if (assortmentModifiedBrand[newKey][assortmentModifiedBrand[newKey]['Cumulative '+prodORitem+' Share'] <= percent].shape[0] > 0):\n",
    "                topPercent[newKey] = assortmentModifiedBrand[newKey]\n",
    "\n",
    "    return topPercent\n"
   ]
  },
  {
   "cell_type": "code",
   "execution_count": 11,
   "id": "678533cc",
   "metadata": {},
   "outputs": [],
   "source": [
    "cumulativeShareTop50 = cumulativeShareCleaningTopPercent(assortment,cumulativeShare, percent =0.5)"
   ]
  },
  {
   "cell_type": "code",
   "execution_count": 12,
   "id": "a8af5ab7",
   "metadata": {},
   "outputs": [],
   "source": [
    "cumulativeShareAll = cumulativeShareCleaningTopPercent(assortment,cumulativeShare, percent =100)"
   ]
  },
  {
   "cell_type": "markdown",
   "id": "81a25a7a",
   "metadata": {},
   "source": [
    "### Slide 6,7 SKU Productivity Analysis Cleaning"
   ]
  },
  {
   "cell_type": "code",
   "execution_count": 13,
   "id": "011064e1",
   "metadata": {},
   "outputs": [],
   "source": [
    "def productivityAnalysisCleaning(assortmentModifiedBrand):\n",
    "    \"\"\"\n",
    "    Cleans and filters the assortment data for client brands based on specific criteria.\n",
    "    \n",
    "    Args:\n",
    "    assortmentModifiedBrand (dict): Dictionary containing modified assortment data by brand.\n",
    "    \n",
    "    Returns:\n",
    "    dict: A dictionary containing the cleaned and filtered data for each client brand.\n",
    "    \"\"\"\n",
    "    \n",
    "    assortmentClientBrand = {}  # Initialize a dictionary to store the cleaned data for client brands\n",
    "    \n",
    "    # Iterate over the modified assortment data\n",
    "    for key, value in assortmentModifiedBrand.items():\n",
    "        # Filter the dataframe for client brands with Net Sales >= 1000 and WD not equal to 0\n",
    "        df = value[(value['Top Brands'].isin(client_brands)) & (value['Net Sales'] >= 1000)]\n",
    "        df = df[df['WD'] != 0]\n",
    "        \n",
    "        # If the filtered dataframe is not empty\n",
    "        if df.shape[0] != 0:\n",
    "            # Iterate over each client brand\n",
    "            for brand in client_brands:\n",
    "                # If the brand exists in the filtered dataframe\n",
    "                if df[df['Top Brands'] == brand].shape[0] > 0:\n",
    "                    # Store the filtered data in the dictionary with a combined key of original key and brand name\n",
    "                    assortmentClientBrand[key + ' | ' + brand] = df[df['Top Brands'] == brand]\n",
    "    \n",
    "    return assortmentClientBrand\n"
   ]
  },
  {
   "cell_type": "code",
   "execution_count": 14,
   "id": "d0d89d73",
   "metadata": {},
   "outputs": [],
   "source": [
    "assortmentClientBrand=productivityAnalysisCleaning(assortmentBrand)\n"
   ]
  },
  {
   "cell_type": "markdown",
   "id": "6dab885a",
   "metadata": {},
   "source": [
    "## Duplication Stage"
   ]
  },
  {
   "cell_type": "code",
   "execution_count": 15,
   "id": "e1236c7b",
   "metadata": {},
   "outputs": [],
   "source": [
    "index = [0,1,2,3,4,5 if len(client_brands)>0 else None,6 if len(client_brands)>0 else None]\n",
    "index = [x for x in index if x is not None]\n",
    "\n",
    "duplication = [len(assortmentBrandSorted.keys()),len(assortmentBrand.keys()),len(cumulativeShareTop50.keys()), len(assortmentClient.keys()),len(assortmentBrand.keys()) , len(assortmentClientBrand.keys()) if len(client_brands)>0 else None , len(assortmentClientBrand.keys()) if len(client_brands)>0 else None ]\n",
    "duplication = [x for x in duplication if x is not None]\n",
    "\n",
    "section_names = [\"SKU Share By Brand\",\"Cumulative Product Shares\",\"Top 50% cumulative share\",\"Brand Cumulative Product Share\",\"Top 20 cumulative share\",\"SKU Productivity Analysis with TM%\" if len(client_brands)>0 else None, \"SKU Productivity Analysis with WD\" if len(client_brands)>0  else None]\n",
    "section_names = [x for x in section_names if x is not None]\n",
    "\n",
    "path = os.getcwd() + '//slide base.pptx'\n",
    "new_pre = os.getcwd() + '//slide duplicated.pptx'\n",
    "\n",
    "length = len(duplication)\n",
    "for i in reversed(range(length)):\n",
    "    if duplication[i]==0:\n",
    "        del duplication[i]\n",
    "        del index[i]\n",
    "        del section_names[i]\n",
    "\n"
   ]
  },
  {
   "cell_type": "code",
   "execution_count": 16,
   "id": "2d86274b",
   "metadata": {},
   "outputs": [
    {
     "data": {
      "text/plain": [
       "737"
      ]
     },
     "execution_count": 16,
     "metadata": {},
     "output_type": "execute_result"
    }
   ],
   "source": [
    "sum(duplication)"
   ]
  },
  {
   "cell_type": "code",
   "execution_count": 17,
   "id": "7b89c034",
   "metadata": {},
   "outputs": [],
   "source": [
    "# slideDuplication(index,duplication,section_names,path,new_pre)"
   ]
  },
  {
   "cell_type": "code",
   "execution_count": 18,
   "id": "f6e08c5e",
   "metadata": {},
   "outputs": [],
   "source": [
    "prs = Presentation(new_pre)"
   ]
  },
  {
   "cell_type": "markdown",
   "id": "f9e09a89",
   "metadata": {},
   "source": [
    "### Slide 1"
   ]
  },
  {
   "cell_type": "code",
   "execution_count": 19,
   "id": "b16811e8",
   "metadata": {},
   "outputs": [],
   "source": [
    "SkuShareByBrand(prs,assortmentBrandSorted,duplication[0],position=0)"
   ]
  },
  {
   "cell_type": "markdown",
   "id": "15768e88",
   "metadata": {},
   "source": [
    "### Slide 2"
   ]
  },
  {
   "cell_type": "code",
   "execution_count": 20,
   "id": "3a04b676",
   "metadata": {},
   "outputs": [],
   "source": [
    "CumulativeProductShare(prodORitem,prs,assortmentBrand,duplication[1],position=sum(duplication[:1]))"
   ]
  },
  {
   "cell_type": "markdown",
   "id": "12fd077f",
   "metadata": {},
   "source": [
    "### Slide 3"
   ]
  },
  {
   "cell_type": "code",
   "execution_count": 21,
   "id": "3912b3a1",
   "metadata": {},
   "outputs": [],
   "source": [
    "cumulativeTop50(prodORitem,prs, cumulativeShareTop50,duplication[2],position=sum(duplication[:2]))"
   ]
  },
  {
   "cell_type": "markdown",
   "id": "b9d2dea5",
   "metadata": {},
   "source": [
    "### Slide 4"
   ]
  },
  {
   "cell_type": "code",
   "execution_count": 22,
   "id": "6fcb1472",
   "metadata": {},
   "outputs": [],
   "source": [
    "brandCumulativeProductShare(prodORitem,prs,assortmentClient,duplication[3],position=sum(duplication[:3]))"
   ]
  },
  {
   "cell_type": "markdown",
   "id": "53c25e9a",
   "metadata": {},
   "source": [
    "### Slide 5"
   ]
  },
  {
   "cell_type": "code",
   "execution_count": 23,
   "id": "af7c2695",
   "metadata": {},
   "outputs": [],
   "source": [
    "top20CumulativeShare(prodORitem,prs,assortmentBrand,duplication[4],position=sum(duplication[:4]))"
   ]
  },
  {
   "cell_type": "markdown",
   "id": "21bfbadf",
   "metadata": {},
   "source": [
    "### Slide 6"
   ]
  },
  {
   "cell_type": "code",
   "execution_count": 24,
   "id": "0a20fc7d",
   "metadata": {},
   "outputs": [],
   "source": [
    "if len(client_brands)>0:\n",
    "    SKUProductivityAnalysis(prodORitem,prs,assortmentClientBrand,duplication[5],position=sum(duplication[:5]))"
   ]
  },
  {
   "cell_type": "markdown",
   "id": "6c83b4a2",
   "metadata": {},
   "source": [
    "### Slide 7"
   ]
  },
  {
   "cell_type": "code",
   "execution_count": 25,
   "id": "47db71f0",
   "metadata": {},
   "outputs": [],
   "source": [
    "if len(client_brands)>0:\n",
    "    SKUWithWD(prodORitem,prs,assortmentClientBrand,duplication[6],position=sum(duplication[:6]))"
   ]
  },
  {
   "cell_type": "code",
   "execution_count": 26,
   "id": "7a9ccb40",
   "metadata": {},
   "outputs": [],
   "source": [
    "outputPath=os.getcwd() + \"\\\\Mix and assortment output 24-7.pptx\"\n",
    "prs.save(outputPath)\n",
    "app = win32.Dispatch(\"PowerPoint.Application\")\n",
    "presentation = app.Presentations.Open(outputPath)"
   ]
  },
  {
   "cell_type": "code",
   "execution_count": null,
   "id": "4acc8895",
   "metadata": {},
   "outputs": [],
   "source": []
  }
 ],
 "metadata": {
  "kernelspec": {
   "display_name": "Python 3 (ipykernel)",
   "language": "python",
   "name": "python3"
  },
  "language_info": {
   "codemirror_mode": {
    "name": "ipython",
    "version": 3
   },
   "file_extension": ".py",
   "mimetype": "text/x-python",
   "name": "python",
   "nbconvert_exporter": "python",
   "pygments_lexer": "ipython3",
   "version": "3.11.3"
  }
 },
 "nbformat": 4,
 "nbformat_minor": 5
}
