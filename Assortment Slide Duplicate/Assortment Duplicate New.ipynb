{
 "cells": [
  {
   "cell_type": "code",
   "execution_count": 1,
   "id": "0e2c6689",
   "metadata": {},
   "outputs": [],
   "source": [
    "%run \"..\\general_functions\\generalFunctions.ipynb\"\n",
    "%run \"..\\Assortment Slide Duplicate\\Assortment Replacement Function New.ipynb\""
   ]
  },
  {
   "cell_type": "code",
   "execution_count": 6,
   "id": "20a6c146",
   "metadata": {},
   "outputs": [],
   "source": [
    "ManufOrTopC =\"Top Companies\" #Manufacturer or Top Companies\n",
    "BrandOrTopB= \"Top Brands\" #Brand or Top Brands\n",
    "prodORitem = \"SKU\"\n",
    "prodORitemfields= prodORitem\n",
    "\n",
    "client_manuf =[\"Malard Nicolas\"]\n",
    "client_brands = [\"Nicolas\"]\n",
    "\n",
    "decimals = 2\n",
    "sign = \"after\"\n",
    "currency = '€'\n",
    "currency = ' '+ currency if sign.lower() == 'after' else  currency + ' '\n",
    "\n",
    "categories =[\"Effervescents\"]\n",
    "sectors = [\"Champagnes\",\"Mousseux\",\"Effervescents Sans Alcool\"]\n",
    "segments = [\"Blanc De Blancs\",\"Bruts\",\"Crus\",\"Extra Brut\",\"Millesimes\",\"Rosés\",\"Mousseux Bourgogne\",\"Mousseux Italiens\",\"Mousseux Val De Loire\",\"Mousseux Alsace\",\"Mousseux Bordelais\"]\n",
    "subsegments= []\n",
    "subcategories= []\n",
    "\n",
    "national = False\n",
    "customareas= \"Revenue\"\n",
    "areas = [\"CHANNEL\",\"REGION\"]#, f'{customareas}']\n",
    " \n",
    "regions_RET  = []\n",
    "channels_RET = []\n",
    "market_RET = []\n",
    " \n",
    "regions_CHAN = []#\"NICOLAS\"]\n",
    "channels_CHAN = [\"NICOLAS VCT\",\"NICOLAS RN\",\"NICOLAS CCQ\",\"NICOLAS CCC\"]#\"NICOLAS QCN\",\"NICOLAS VCN\",\"NICOLAS QCT\",\"NICOLAS QCA\",\"NICOLAS CCP\"]\n",
    "market_CHAN = []\n",
    "\n",
    "regions_REG = []\n",
    "channels_REG = [\"NICOLAS OCC\",\"NICOLAS HAU\",\"NICOLAS NDI\",\"NICOLAS BRE\",\"NICOLAS LOI\",\"NICOLAS CEN\",\"NICOLAS BOU\"]#\"NICOLAS IDF\",\"NICOLAS PAC\",\"NICOLAS RHO\",\"NICOLAS AQU\",\"NICOLAS EST\"]\n",
    "market_REG = []\n",
    "\n",
    "regions_CUST = []\n",
    "channels_CUST = []#\"CA A\",\"CA B\",\"CA C\",\"CA D\",\"CA E\"]\n",
    "market_CUST = []\n",
    "\n",
    "data_source = \"DATA SOURCE: Trade Panel/Retailer Data | Ending June 2025\"\n",
    "years = ['2023', '2024','2025']\n",
    "end_date = \"2025-07-01\"\n",
    "unit = \"‘000\"\n",
    "unitDeviation = 1000\n",
    "OpenEditData=True\n",
    "RunManuf= False\n",
    "Runwithoutclientorder= False\n",
    "\n",
    "client_brands_competitor = client_brands \n",
    "valueToReplace = {}\n"
   ]
  },
  {
   "cell_type": "code",
   "execution_count": 7,
   "id": "1e1d68cc",
   "metadata": {},
   "outputs": [],
   "source": [
    "loaded_data = {}\n",
    "datasets_path = os.getcwd()+\"/Assortment Datasets NewEX/\"\n",
    "datasets = os.listdir(datasets_path)\n",
    "for d in datasets:\n",
    "    with open(datasets_path+d, 'rb') as handle:\n",
    "        globals()[d.split('.')[0]] = pd.read_pickle(handle)"
   ]
  },
  {
   "cell_type": "code",
   "execution_count": 8,
   "id": "392c7030",
   "metadata": {},
   "outputs": [],
   "source": [
    "def mixAssortmentCleaning(assortment, cumulativeShare,slideby=\"Top Brands\",lis=\"\"):\n",
    "    # Initialize dictionaries to store modified data\n",
    "    cumulativeShareModifiedBrand = {}\n",
    "    assortmentModified = {}\n",
    "    assortmentModifiedBrand = {}\n",
    "    assortmentModifiedTotal = {}\n",
    "    assortmentClient = {}\n",
    "\n",
    "    # Process cumulative share data\n",
    "    for key, value in cumulativeShare.items():\n",
    "        dfcumulative=cumulativeShare[key].copy()\n",
    "        # dfcumulative=DetectHeader(dfcumulative)\n",
    "        if dfcumulative.shape[0] != 0:  # If the dataframe is not empty\n",
    "            newKey = key\n",
    "            cumulativeShareModifiedBrand[newKey] = dfcumulative.replace(np.nan, 0)  # Replace NaNs with 0 and store\n",
    "\n",
    "    # Process assortment data\n",
    "    for key, value in assortment.items():\n",
    "        df=assortment[key].copy()\n",
    "\n",
    "        # df=DetectHeader(df)\n",
    "        df[slideby] = df[slideby].ffill()  # Forward fill 'Top Brands' column\n",
    "\n",
    "        # Replace specific values in 'Top Brands' as per 'valueToReplace' dictionary\n",
    "        for val, replacer in valueToReplace.items():\n",
    "            df[slideby] = df[slideby].str.replace(val, replacer)\n",
    "        \n",
    "        dfBrand = df[~df[slideby].str.contains('Total')]  # Filter out rows containing 'Total' in 'Top Brands'\n",
    "        dfTotal = df[df[slideby].str.contains('Total') & (df[slideby] != 'Grand Total')].reset_index(drop=True)\n",
    "        dfTotal[slideby] = dfTotal[slideby].str.replace(' Total', '')  # Adjust 'Top Brands' column for total rows\n",
    "\n",
    "        if df.shape[0] != 0:  # If the dataframe is not empty\n",
    "            newKey = key\n",
    "\n",
    "            # Process client-specific data for each brand\n",
    "            for brand in lis:\n",
    "\n",
    "                if df[df[slideby] == brand].shape[0] > 0:  # Check if brand data exists in dataframe\n",
    "\n",
    "                    #assortmentClient[newKey + ' | ' + brand] = df[df['Top Brands'] == brand].replace(np.nan, 0)\n",
    "                    brand_df = df[df[slideby] == brand].replace(np.nan, 0) \n",
    "                    brand_df = brand_df.sort_values(by='Value Share', ascending = False)\n",
    "                    brand_df['Value Share Rescale'] = brand_df['Value Share'] / sum(brand_df['Value Share'])\n",
    "                    brand_df['Cumulative Share'] = brand_df['Value Share Rescale'].cumsum()\n",
    "                    brand_df = brand_df[brand_df[\"WD\"] != 0]\n",
    "                    #brand_df['Final Cumlative Share'] = 100 - brand_df['Cumlative Share']*100\n",
    "                    assortmentClient[newKey + ' | ' + brand] = brand_df.merge(\n",
    "                        cumulativeShareModifiedBrand[newKey], how='left', on= prodORitem\n",
    "                    )\n",
    "                    #assortmentClient[newKey + ' | ' + brand] = assortmentClient[newKey + ' | ' + brand].merge(\n",
    "                    #    cumulativeShareModifiedBrand[newKey], how='left', on= prodORitem\n",
    "                    #)            \n",
    "            # Store modified data for total, brand, and overall assortment\n",
    "            assortmentModified[newKey] = df.replace(np.nan, 0)\n",
    "            assortmentModifiedBrand[newKey] = dfBrand.replace(np.nan, 0)\n",
    "            assortmentModifiedBrand[newKey] = assortmentModifiedBrand[newKey][assortmentModifiedBrand[newKey][\"WD\"] != 0]\n",
    "            assortmentModifiedBrand[newKey] = assortmentModifiedBrand[newKey].merge(\n",
    "                cumulativeShareModifiedBrand[newKey], how='left', on=prodORitem\n",
    "            )\n",
    "            \n",
    "            assortmentModifiedTotal[newKey] = dfTotal.replace(np.nan, 0)\n",
    "    \n",
    "    return assortmentModifiedBrand, assortmentModifiedTotal, assortmentClient\n"
   ]
  },
  {
   "cell_type": "code",
   "execution_count": 9,
   "id": "b064fa23",
   "metadata": {},
   "outputs": [],
   "source": [
    "assortmentBrand,assortmentTotal,assortmentClient=mixAssortmentCleaning(assortment,cumulative_share,slideby=f'{BrandOrTopB}',lis=client_brands_competitor)\n",
    "dropemptydf(assortmentBrand)\n",
    "assortmentmanuf,assortmentTotalmanuf,assortmentClientmanuf=mixAssortmentCleaning(assortment_manuf,cumulative_share,slideby=f'{ManufOrTopC}',lis=client_manuf)\n",
    "dropemptydf(assortmentmanuf)"
   ]
  },
  {
   "cell_type": "code",
   "execution_count": 10,
   "id": "480f5169",
   "metadata": {},
   "outputs": [],
   "source": [
    "assortmentClientManufAppend= assortmentClientmanuf\n",
    "assortmentClientManufAppend.update(assortmentClient)\n",
    "dropemptydf(assortmentClientManufAppend)"
   ]
  },
  {
   "cell_type": "code",
   "execution_count": 11,
   "id": "5af95e2b",
   "metadata": {},
   "outputs": [],
   "source": [
    "\"\"\"\n",
    "Cleans and processes assortment for brand-specific analysis.\n",
    "\n",
    "Args:\n",
    "assortmentbybrand (dict): Dictionary containing assortment data by brand.\n",
    "\n",
    "Returns:\n",
    "tuple: \n",
    "   - assortmentModifiedBrand (dict): Dictionary containing cleaned and modified assortment data by brand for slide 1\n",
    "\"\"\"\n",
    "\n",
    "# Initialize dictionaries to store modified data\n",
    "assortmentbybrandfinal = {}\n",
    "# Process assortment data\n",
    "for key, value in assortmentbybrand.items():\n",
    "   df=assortmentbybrand[key].copy()\n",
    "   # df=DetectHeader(df)\n",
    "   if BrandOrTopB != \"Top Brands\":\n",
    "      df= df.rename(columns={\"Brand\":\"Top Brands\"})\n",
    "   # Replace specific values in 'Top Brands' as per 'valueToReplace' dictionary\n",
    "   for val, replacer in valueToReplace.items():\n",
    "      df['Top Brands'] = df['Top Brands'].str.replace(val, replacer)\n",
    "   \n",
    "   dfBrand = df[df['Top Brands'] != 'Grand Total'].reset_index(drop=True)\n",
    "   if dfBrand.shape[0] != 0:  # If the dataframe is not empty\n",
    "      assortmentbybrandfinal[key] = dfBrand.replace(np.nan, 0)"
   ]
  },
  {
   "cell_type": "code",
   "execution_count": 12,
   "id": "83cac88b",
   "metadata": {},
   "outputs": [],
   "source": [
    "\"\"\"\n",
    "Cleans and processes assortment for brand-specific analysis.\n",
    "\n",
    "Args:\n",
    "assortmentbybrand (dict): Dictionary containing assortment data by brand.\n",
    "\n",
    "Returns:\n",
    "tuple: \n",
    "   - assortmentModifiedBrand (dict): Dictionary containing cleaned and modified assortment data by brand for slide 1\n",
    "\"\"\"\n",
    "\n",
    "# Initialize dictionaries to store modified data\n",
    "assortmentbymanufFinal = {}\n",
    "# Process assortment data\n",
    "for key, value in assortmentbymanuf.items():\n",
    "   df=assortmentbymanuf[key].copy()\n",
    "   # df=DetectHeader(df)\n",
    "   dfManuf = df[df[ManufOrTopC] != 'Grand Total'].reset_index(drop=True)\n",
    "   dfManuf = dfManuf[dfManuf[ManufOrTopC] != 'All Others'].reset_index(drop=True)\n",
    "   if dfManuf.shape[0] != 0:  # If the dataframe is not empty\n",
    "         assortmentbymanufFinal[key] = dfManuf.replace(np.nan, 0)"
   ]
  },
  {
   "cell_type": "code",
   "execution_count": 13,
   "id": "898cbe1f",
   "metadata": {},
   "outputs": [],
   "source": [
    "assortmentBrandSorted= dfSort(assortmentbybrandfinal, client_brands, 'Top Brands', num=10,salesCol='Value Share')\n"
   ]
  },
  {
   "cell_type": "code",
   "execution_count": 14,
   "id": "6d1e8a10",
   "metadata": {},
   "outputs": [],
   "source": [
    "assortmentManufSorted= dfSort(assortmentbymanufFinal, [], ManufOrTopC, num=10,salesCol='Value Share')\n"
   ]
  },
  {
   "cell_type": "code",
   "execution_count": 15,
   "id": "77e3bb8d",
   "metadata": {},
   "outputs": [],
   "source": [
    "assortmentBrandNOTSorted= dfSort(assortmentbybrandfinal, [], 'Top Brands', num=10,salesCol='Value Share')"
   ]
  },
  {
   "cell_type": "code",
   "execution_count": 16,
   "id": "a73f10f3",
   "metadata": {},
   "outputs": [],
   "source": [
    "assortmentTotalSorted= dfSort(assortmentTotal, client_brands, 'Top Brands', num=10,salesCol='Value Share')"
   ]
  },
  {
   "cell_type": "markdown",
   "id": "59f3f41a",
   "metadata": {},
   "source": [
    "### Slide 3,4 cumulative share Cleaning"
   ]
  },
  {
   "cell_type": "code",
   "execution_count": 17,
   "id": "6505e78d",
   "metadata": {},
   "outputs": [],
   "source": [
    "def cumulativeShareCleaningTopPercent(assortment, cumulativeShare, percent=0.5):\n",
    "    \"\"\"\n",
    "    Cleans and processes assortment and cumulative share data, filtering out the top percentage of products.\n",
    "    \n",
    "    Args:\n",
    "    assortment (dict): Dictionary containing assortment data.\n",
    "    cumulativeShare (dict): Dictionary containing cumulative share data.\n",
    "    percent (float): The top cumulative product share percentage threshold to filter by (default is 0.5).\n",
    "    \n",
    "    Returns:\n",
    "    dict: A dictionary containing the cleaned and processed data for the top percentage of products.\n",
    "    \"\"\"\n",
    "    \n",
    "    # Initialize dictionaries to store modified data\n",
    "    assortmentModified = {}\n",
    "    assortmentModifiedBrand = {}\n",
    "    topPercent = {}\n",
    "    cumulativeShareModifiedBrand = {}\n",
    "\n",
    "    # Process cumulative share data\n",
    "    for key, value in cumulativeShare.items():\n",
    "        dfcumulative=cumulativeShare[key].copy()\n",
    "        # dfcumulative=DetectHeader(dfcumulative)\n",
    "        if dfcumulative.shape[0] != 0:  # If the dataframe is not empty\n",
    "            newKey = key\n",
    "            cumulativeShareModifiedBrand[newKey] = dfcumulative.replace(np.nan, 0)  # Replace NaNs with 0 and store\n",
    "\n",
    "    # Process assortment data\n",
    "    for key, value in assortment.items():\n",
    "        df=assortment[key].copy()\n",
    "        # df=DetectHeader(df)\n",
    "        if BrandOrTopB != \"Top Brands\":\n",
    "            df= df.rename(columns={\"Brand\":\"Top Brands\"})\n",
    "        df['Top Brands'] = df['Top Brands'].ffill()  # Forward fill 'Top Brands' column\n",
    "        \n",
    "        # Replace specific values in 'Top Brands' as per 'valueToReplace' dictionary\n",
    "        for val, replacer in valueToReplace.items():\n",
    "            df['Top Brands'] = df['Top Brands'].str.replace(val, replacer)\n",
    "        \n",
    "        dfBrand = df[~df['Top Brands'].str.contains('Total')]  # Filter out rows containing 'Total' in 'Top Brands'\n",
    "        \n",
    "        if df.shape[0] != 0:  # If the dataframe is not empty\n",
    "            newKey = key\n",
    "\n",
    "            # Store modified data for overall and brand-specific assortment\n",
    "            assortmentModified[newKey] = df.replace(np.nan, 0)\n",
    "            assortmentModifiedBrand[newKey] = dfBrand.replace(np.nan, 0)\n",
    "            assortmentModifiedBrand[newKey] = assortmentModifiedBrand[newKey].merge(\n",
    "                cumulativeShareModifiedBrand[newKey], how='left', on=prodORitem\n",
    "            )\n",
    "            \n",
    "            # Filter and store data for products within the specified cumulative share percentage\n",
    "            # if (assortmentModifiedBrand[newKey][assortmentModifiedBrand[newKey]['Cumulative '+prodORitem+' Share'] <= percent].shape[0] > 0):\n",
    "            \n",
    "            topPercent[newKey] = assortmentModifiedBrand[newKey]\n",
    "\n",
    "    return topPercent\n"
   ]
  },
  {
   "cell_type": "code",
   "execution_count": 18,
   "id": "678533cc",
   "metadata": {},
   "outputs": [],
   "source": [
    "# cumulativeShareTop50 = cumulativeShareCleaningTopPercent(assortment,cumulative_share, percent =0.5)"
   ]
  },
  {
   "cell_type": "code",
   "execution_count": 19,
   "id": "a8af5ab7",
   "metadata": {},
   "outputs": [],
   "source": [
    "cumulativeShareAll = cumulativeShareCleaningTopPercent(assortment,cumulative_share, percent =100)"
   ]
  },
  {
   "cell_type": "markdown",
   "id": "81a25a7a",
   "metadata": {},
   "source": [
    "### Slide 6,7 SKU Productivity Analysis Cleaning"
   ]
  },
  {
   "cell_type": "code",
   "execution_count": 20,
   "id": "011064e1",
   "metadata": {},
   "outputs": [],
   "source": [
    "def productivityAnalysisCleaning(assortmentModifiedBrand):\n",
    "    \"\"\"\n",
    "    Cleans and filters the assortment data for client brands based on specific criteria.\n",
    "    \n",
    "    Args:\n",
    "    assortmentModifiedBrand (dict): Dictionary containing modified assortment data by brand.\n",
    "    \n",
    "    Returns:\n",
    "    dict: A dictionary containing the cleaned and filtered data for each client brand.\n",
    "    \"\"\"\n",
    "    \n",
    "    assortmentClientBrand = {}  # Initialize a dictionary to store the cleaned data for client brands\n",
    "    \n",
    "    # Iterate over the modified assortment data\n",
    "    for key, value in assortmentModifiedBrand.items():\n",
    "        # Filter the dataframe for client brands with Net Sales >= 1000 and WD not equal to 0\n",
    "        df = value[(value['Top Brands'].isin(client_brands)) & (value['Net Sales'] >= 1000)]\n",
    "        df = df[df['WD'] != 0]\n",
    "        \n",
    "        # If the filtered dataframe is not empty\n",
    "        if df.shape[0] != 0:\n",
    "            # Iterate over each client brand\n",
    "            for brand in client_brands:\n",
    "                # If the brand exists in the filtered dataframe\n",
    "                if df[df['Top Brands'] == brand].shape[0] > 0:\n",
    "                    # Store the filtered data in the dictionary with a combined key of original key and brand name\n",
    "                    assortmentClientBrand[key + ' | ' + brand] = df[df['Top Brands'] == brand]\n",
    "    \n",
    "    return assortmentClientBrand\n"
   ]
  },
  {
   "cell_type": "code",
   "execution_count": 21,
   "id": "d0d89d73",
   "metadata": {},
   "outputs": [],
   "source": [
    "assortmentClientBrand=productivityAnalysisCleaning(assortmentBrand)\n"
   ]
  },
  {
   "cell_type": "markdown",
   "id": "85ae52e2",
   "metadata": {},
   "source": [
    "## New Slide "
   ]
  },
  {
   "cell_type": "code",
   "execution_count": 22,
   "id": "6a5aef04",
   "metadata": {},
   "outputs": [],
   "source": [
    "def clean_brand(brands):\n",
    "    new_brands ={}\n",
    "    for key, df in brands.items():\n",
    "        if df.shape[0] != 0:  \n",
    "            new_brands[key] =df.replace(np.nan, -1)  \n",
    "    return new_brands\n"
   ]
  },
  {
   "cell_type": "code",
   "execution_count": 23,
   "id": "000adaba",
   "metadata": {},
   "outputs": [],
   "source": [
    "def clean_manuf(manuf):\n",
    "    new_manuf ={}\n",
    "    for key, df in manuf.items():\n",
    "        if df.shape[0] != 0:  \n",
    "            # newKey = key\n",
    "            # if key.split(' | ')[0] not in categories:  \n",
    "            #     newKey = key.split(' | ')[1] + ' | ' + key.split(' | ')[0]\n",
    "            new_manuf[key] = df.replace(np.nan, -1)  \n",
    "    return new_manuf\n"
   ]
  },
  {
   "cell_type": "code",
   "execution_count": 24,
   "id": "80e9da24",
   "metadata": {},
   "outputs": [],
   "source": [
    "def clean_total(total):\n",
    "    new_total ={}\n",
    "    for key, df in total.items():\n",
    "        # new_df = DetectHeader(df)\n",
    "        if df.shape[0] != 0:\n",
    "            new_df = df.drop(['SKU Share', 'Value Share'], axis=1)\n",
    "            new_total[key] = new_df.replace(np.nan, -1) \n",
    "    return new_total"
   ]
  },
  {
   "cell_type": "code",
   "execution_count": 25,
   "id": "22f5a81d",
   "metadata": {},
   "outputs": [],
   "source": [
    "def merge_total_brand(total, brand, column,scope):\n",
    "    brand_total ={}\n",
    "    for key in brand.keys():\n",
    "        market = key.split(' | ')[1]\n",
    "        for small_key in total.keys():\n",
    "            if market == small_key:\n",
    "                # print(market, small_key, key)\n",
    "                df = pd.merge(total[small_key], brand[key], how = 'left',on=column,suffixes=('_total', '_brand')).replace(np.nan,0)\n",
    "                print(df.columns)\n",
    "                df['Fair Share'] = df.apply(lambda x: ((x['Av No SKUs_brand'] / x['SKU Share']) * x['Value Share'] if x['SKU Share'] != 0 else 0), axis=1)\n",
    "                df ['Listing Opportunity'] = df['Fair Share'].astype(float).round(0) - df['Av No SKUs_brand'].astype(float).round(0)\n",
    "                grand_row = df[df[column] == 'Grand Total']\n",
    "                other_rows = df[df[column].isin(scope)]\n",
    "                df = pd.concat([grand_row, other_rows], ignore_index=True)\n",
    "                if df.shape[0] > 0:\n",
    "                    brand_total[key] = df\n",
    "\n",
    "    return brand_total"
   ]
  },
  {
   "cell_type": "code",
   "execution_count": 26,
   "id": "beff195c",
   "metadata": {},
   "outputs": [
    {
     "name": "stdout",
     "output_type": "stream",
     "text": [
      "Index(['Sector', 'Av No SKUs_total', 'Av No SKUs_brand', 'SKU Share',\n",
      "       'Value Share'],\n",
      "      dtype='object')\n",
      "Index(['Sector', 'Av No SKUs_total', 'Av No SKUs_brand', 'SKU Share',\n",
      "       'Value Share'],\n",
      "      dtype='object')\n",
      "Index(['Sector', 'Av No SKUs_total', 'Av No SKUs_brand', 'SKU Share',\n",
      "       'Value Share'],\n",
      "      dtype='object')\n",
      "Index(['Sector', 'Av No SKUs_total', 'Av No SKUs_brand', 'SKU Share',\n",
      "       'Value Share'],\n",
      "      dtype='object')\n",
      "Index(['Sector', 'Av No SKUs_total', 'Av No SKUs_brand', 'SKU Share',\n",
      "       'Value Share'],\n",
      "      dtype='object')\n",
      "Index(['Sector', 'Av No SKUs_total', 'Av No SKUs_brand', 'SKU Share',\n",
      "       'Value Share'],\n",
      "      dtype='object')\n",
      "Index(['Sector', 'Av No SKUs_total', 'Av No SKUs_brand', 'SKU Share',\n",
      "       'Value Share'],\n",
      "      dtype='object')\n",
      "Index(['Sector', 'Av No SKUs_total', 'Av No SKUs_brand', 'SKU Share',\n",
      "       'Value Share'],\n",
      "      dtype='object')\n",
      "Index(['Sector', 'Av No SKUs_total', 'Av No SKUs_brand', 'SKU Share',\n",
      "       'Value Share'],\n",
      "      dtype='object')\n",
      "Index(['Sector', 'Av No SKUs_total', 'Av No SKUs_brand', 'SKU Share',\n",
      "       'Value Share'],\n",
      "      dtype='object')\n",
      "Index(['Sector', 'Av No SKUs_total', 'Av No SKUs_brand', 'SKU Share',\n",
      "       'Value Share'],\n",
      "      dtype='object')\n",
      "Index(['Sector', 'Av No SKUs_total', 'Av No SKUs_brand', 'SKU Share',\n",
      "       'Value Share'],\n",
      "      dtype='object')\n",
      "Index(['Sector', 'Av No SKUs_total', 'Av No SKUs_brand', 'SKU Share',\n",
      "       'Value Share'],\n",
      "      dtype='object')\n",
      "Index(['Sector', 'Av No SKUs_total', 'Av No SKUs_brand', 'SKU Share',\n",
      "       'Value Share'],\n",
      "      dtype='object')\n",
      "Index(['Sector', 'Av No SKUs_total', 'Av No SKUs_brand', 'SKU Share',\n",
      "       'Value Share'],\n",
      "      dtype='object')\n",
      "Index(['Sector', 'Av No SKUs_total', 'Av No SKUs_brand', 'SKU Share',\n",
      "       'Value Share'],\n",
      "      dtype='object')\n",
      "Index(['Sector', 'Av No SKUs_total', 'Av No SKUs_brand', 'SKU Share',\n",
      "       'Value Share'],\n",
      "      dtype='object')\n",
      "Index(['Sector', 'Av No SKUs_total', 'Av No SKUs_brand', 'SKU Share',\n",
      "       'Value Share'],\n",
      "      dtype='object')\n",
      "Index(['Sector', 'Av No SKUs_total', 'Av No SKUs_brand', 'SKU Share',\n",
      "       'Value Share'],\n",
      "      dtype='object')\n",
      "Index(['Sector', 'Av No SKUs_total', 'Av No SKUs_brand', 'SKU Share',\n",
      "       'Value Share'],\n",
      "      dtype='object')\n",
      "Index(['Sector', 'Av No SKUs_total', 'Av No SKUs_brand', 'SKU Share',\n",
      "       'Value Share'],\n",
      "      dtype='object')\n",
      "Index(['Sector', 'Av No SKUs_total', 'Av No SKUs_brand', 'SKU Share',\n",
      "       'Value Share'],\n",
      "      dtype='object')\n",
      "Index(['Segment', 'Av No SKUs_total', 'Av No SKUs_brand', 'SKU Share',\n",
      "       'Value Share'],\n",
      "      dtype='object')\n",
      "Index(['Segment', 'Av No SKUs_total', 'Av No SKUs_brand', 'SKU Share',\n",
      "       'Value Share'],\n",
      "      dtype='object')\n",
      "Index(['Segment', 'Av No SKUs_total', 'Av No SKUs_brand', 'SKU Share',\n",
      "       'Value Share'],\n",
      "      dtype='object')\n",
      "Index(['Segment', 'Av No SKUs_total', 'Av No SKUs_brand', 'SKU Share',\n",
      "       'Value Share'],\n",
      "      dtype='object')\n",
      "Index(['Segment', 'Av No SKUs_total', 'Av No SKUs_brand', 'SKU Share',\n",
      "       'Value Share'],\n",
      "      dtype='object')\n",
      "Index(['Segment', 'Av No SKUs_total', 'Av No SKUs_brand', 'SKU Share',\n",
      "       'Value Share'],\n",
      "      dtype='object')\n",
      "Index(['Segment', 'Av No SKUs_total', 'Av No SKUs_brand', 'SKU Share',\n",
      "       'Value Share'],\n",
      "      dtype='object')\n",
      "Index(['Segment', 'Av No SKUs_total', 'Av No SKUs_brand', 'SKU Share',\n",
      "       'Value Share'],\n",
      "      dtype='object')\n",
      "Index(['Segment', 'Av No SKUs_total', 'Av No SKUs_brand', 'SKU Share',\n",
      "       'Value Share'],\n",
      "      dtype='object')\n",
      "Index(['Segment', 'Av No SKUs_total', 'Av No SKUs_brand', 'SKU Share',\n",
      "       'Value Share'],\n",
      "      dtype='object')\n",
      "Index(['Segment', 'Av No SKUs_total', 'Av No SKUs_brand', 'SKU Share',\n",
      "       'Value Share'],\n",
      "      dtype='object')\n",
      "Index(['Segment', 'Av No SKUs_total', 'Av No SKUs_brand', 'SKU Share',\n",
      "       'Value Share'],\n",
      "      dtype='object')\n",
      "Index(['Segment', 'Av No SKUs_total', 'Av No SKUs_brand', 'SKU Share',\n",
      "       'Value Share'],\n",
      "      dtype='object')\n",
      "Index(['Segment', 'Av No SKUs_total', 'Av No SKUs_brand', 'SKU Share',\n",
      "       'Value Share'],\n",
      "      dtype='object')\n",
      "Index(['Segment', 'Av No SKUs_total', 'Av No SKUs_brand', 'SKU Share',\n",
      "       'Value Share'],\n",
      "      dtype='object')\n",
      "Index(['Segment', 'Av No SKUs_total', 'Av No SKUs_brand', 'SKU Share',\n",
      "       'Value Share'],\n",
      "      dtype='object')\n",
      "Index(['Segment', 'Av No SKUs_total', 'Av No SKUs_brand', 'SKU Share',\n",
      "       'Value Share'],\n",
      "      dtype='object')\n",
      "Index(['Segment', 'Av No SKUs_total', 'Av No SKUs_brand', 'SKU Share',\n",
      "       'Value Share'],\n",
      "      dtype='object')\n",
      "Index(['Segment', 'Av No SKUs_total', 'Av No SKUs_brand', 'SKU Share',\n",
      "       'Value Share'],\n",
      "      dtype='object')\n",
      "Index(['Segment', 'Av No SKUs_total', 'Av No SKUs_brand', 'SKU Share',\n",
      "       'Value Share'],\n",
      "      dtype='object')\n",
      "Index(['Segment', 'Av No SKUs_total', 'Av No SKUs_brand', 'SKU Share',\n",
      "       'Value Share'],\n",
      "      dtype='object')\n",
      "Index(['Segment', 'Av No SKUs_total', 'Av No SKUs_brand', 'SKU Share',\n",
      "       'Value Share'],\n",
      "      dtype='object')\n"
     ]
    }
   ],
   "source": [
    "if len(sectors) > 0:\n",
    "    Sector_brands = clean_brand(Sector_dfs_brands)\n",
    "    Sector_manuf = clean_manuf(Sector_dfs_manuf)\n",
    "    Sector_total = clean_total(Sector_dfs_total)\n",
    "    Sector_brand_total = merge_total_brand(Sector_total, Sector_brands, 'Sector',sectors)\n",
    "    Sector_manuf_total = merge_total_brand(Sector_total, Sector_manuf, 'Sector',sectors)\n",
    "    final_Sector = Sector_manuf_total | Sector_brand_total\n",
    "\n",
    "\n",
    "if len(segments) > 0:\n",
    "    Segment_brands = clean_brand(Segment_dfs_brands)\n",
    "    Segment_manuf = clean_manuf(Segment_dfs_manuf)\n",
    "    Segment_total = clean_total(Segment_dfs_total)\n",
    "    Segment_brand_total = merge_total_brand(Segment_total, Segment_brands, 'Segment',segments)\n",
    "    Segment_manuf_total = merge_total_brand(Segment_total, Segment_manuf, 'Segment',segments)\n",
    "    final_Segment = Segment_manuf_total | Segment_brand_total\n",
    "\n",
    "\n",
    "if len(subcategories) > 0:\n",
    "    SubCategory_brands = clean_brand(SubCategory_dfs_brands)\n",
    "    SubCategory_manuf = clean_manuf(SubCategory_dfs_manuf)\n",
    "    SubCategory_total = clean_total(SubCategory_dfs_total)\n",
    "    SubCategory_brand_total = merge_total_brand(SubCategory_total, SubCategory_brands, 'SubCategory',subcategories)\n",
    "    SubCategory_manuf_total = merge_total_brand(SubCategory_total, SubCategory_manuf, 'SubCategory',subcategories)\n",
    "    final_SubCategory = SubCategory_manuf_total | SubCategory_brand_total\n",
    "\n",
    "\n",
    "if len(subsegments) > 0:\n",
    "    Subsegment_brands = clean_brand(SubSegment_dfs_brands)\n",
    "    Subsegment_manuf = clean_manuf(SubSegment_dfs_manuf)\n",
    "    Subsegment_total = clean_total(SubSegment_dfs_total)\n",
    "    Subsegment_brand_total = merge_total_brand(Subsegment_total, Subsegment_brands,'SubSegment',subsegments)\n",
    "    Subsegment_manuf_total = merge_total_brand(Subsegment_total, Subsegment_manuf,'SubSegment',subsegments)\n",
    "    final_Subsegment = Subsegment_manuf_total | Subsegment_brand_total\n",
    "\n",
    "\n"
   ]
  },
  {
   "cell_type": "code",
   "execution_count": 27,
   "id": "e1236c7b",
   "metadata": {},
   "outputs": [],
   "source": [
    "index = [0,0 if RunManuf else None,1,3,4,5 if len(client_brands)>0 else None,6 if len(client_brands)>0 else None, *[7]*((1 if sectors else 0) + (1 if segments else 0) + (1 if subsegments else 0) + (1 if subcategories else 0)),0 if Runwithoutclientorder else None]\n",
    "        #  2 if len(client_brands)>0 else None ##TOP%CUM\n",
    "index = [x for x in index if x is not None]\n",
    "\n",
    "duplication = [len(assortmentBrandSorted.keys()),len(assortmentManufSorted.keys()) if RunManuf else None,len(assortmentBrand.keys()),len(assortmentClientManufAppend.keys()) if len(client_brands) >0 else None,len(assortmentBrand.keys()) , len(assortmentClientBrand.keys()) if len(client_brands)>0 else None , len(assortmentClientBrand.keys()) if len(client_brands)>0 else None,\n",
    "            #    len(cumulativeShareTop50.keys()), ##TOP%CUM\n",
    "               len(final_Sector.keys()) if len(sectors) >0 else None, len(final_Segment.keys()) if len(segments) > 0 else None, len(final_SubCategory.keys()) if len(subcategories) >0 else None, len(final_Subsegment.keys()) if len(subsegments) > 0 else None ,len(assortmentBrandNOTSorted.keys()) if Runwithoutclientorder else None]\n",
    "duplication = [x for x in duplication if x is not None]\n",
    "\n",
    "section_names = [\"SKU Share By Brand\",\"SKU Share by Manuf\" if RunManuf else None,\"Cumulative Product Shares\",\"Manuf Cumulative Product Share\" if len(client_brands) >0 else None,\"Top 20 cumulative share\",\"SKU Productivity Analysis with TM%\" if len(client_brands)>0 else None, \"SKU Productivity Analysis with WD\" if len(client_brands)>0  else None,\n",
    "                 #\"Top 50% cumulative share\",##TOP%CUM\n",
    "                 \"Sectors Fair Share\" if len(sectors) > 0 else None, \"Segments Fair Share\" if len(segments) > 0 else None, \"SubCategory Fair Share\" if len(subcategories) > 0 else None, \"SubSegment Fair Share\" if len(subsegments) > 0 else None,\"SKU Share By Brand no client prio\" if Runwithoutclientorder else None ]\n",
    "section_names = [x for x in section_names if x is not None]\n",
    "\n",
    "path = os.getcwd() + '//Assortment base Oct 2024.pptx'\n",
    "new_pre = os.getcwd() + '//slide duplicated.pptx'\n",
    "\n",
    "\n",
    "length = len(duplication)\n",
    "for i in reversed(range(length)):\n",
    "    if duplication[i]==0:\n",
    "        del duplication[i]\n",
    "        del index[i]\n",
    "        del section_names[i]\n"
   ]
  },
  {
   "cell_type": "code",
   "execution_count": 28,
   "id": "059c9266",
   "metadata": {},
   "outputs": [
    {
     "name": "stdout",
     "output_type": "stream",
     "text": [
      "8\n",
      "[0, 1, 3, 4, 5, 6, 7, 7]\n",
      "8\n",
      "[165, 165, 132, 165, 57, 57, 22, 22]\n",
      "8\n",
      "['SKU Share By Brand', 'Cumulative Product Shares', 'Manuf Cumulative Product Share', 'Top 20 cumulative share', 'SKU Productivity Analysis with TM%', 'SKU Productivity Analysis with WD', 'Sectors Fair Share', 'Segments Fair Share']\n"
     ]
    }
   ],
   "source": [
    "print(len(index))\n",
    "print(index)\n",
    "print(len(duplication))\n",
    "print(duplication)\n",
    "print(len(section_names))\n",
    "print(section_names)\n"
   ]
  },
  {
   "cell_type": "code",
   "execution_count": 29,
   "id": "2d86274b",
   "metadata": {},
   "outputs": [
    {
     "data": {
      "text/plain": [
       "785"
      ]
     },
     "execution_count": 29,
     "metadata": {},
     "output_type": "execute_result"
    }
   ],
   "source": [
    "sum(duplication)"
   ]
  },
  {
   "cell_type": "code",
   "execution_count": 30,
   "id": "7b89c034",
   "metadata": {},
   "outputs": [],
   "source": [
    "slideDuplication(index,duplication,section_names,path,new_pre)"
   ]
  },
  {
   "cell_type": "code",
   "execution_count": 31,
   "id": "f6e08c5e",
   "metadata": {},
   "outputs": [],
   "source": [
    "prs = Presentation(new_pre)"
   ]
  },
  {
   "cell_type": "markdown",
   "id": "f9e09a89",
   "metadata": {},
   "source": [
    "### Slide 1"
   ]
  },
  {
   "cell_type": "code",
   "execution_count": 32,
   "id": "b16811e8",
   "metadata": {},
   "outputs": [],
   "source": [
    "posItr = 0\n",
    "ind=0\n",
    "SkuShareByBrand(prs,assortmentBrandSorted,duplication[ind],BrandOrTopB,position=posItr)\n",
    "posItr +=len(assortmentBrandSorted)\n",
    "ind+=1"
   ]
  },
  {
   "cell_type": "code",
   "execution_count": 33,
   "id": "5bfee105",
   "metadata": {},
   "outputs": [
    {
     "name": "stdout",
     "output_type": "stream",
     "text": [
      "165 1\n"
     ]
    }
   ],
   "source": [
    "print(posItr,ind)"
   ]
  },
  {
   "cell_type": "code",
   "execution_count": 34,
   "id": "b1df971c",
   "metadata": {},
   "outputs": [],
   "source": [
    "if RunManuf:\n",
    "    SkuShareByBrand(prs,assortmentManufSorted,duplication[ind],ManufOrTopC,position=posItr)\n",
    "    posItr += len(assortmentManufSorted)\n",
    "    ind+=1"
   ]
  },
  {
   "cell_type": "code",
   "execution_count": 35,
   "id": "dabb97e8",
   "metadata": {},
   "outputs": [
    {
     "name": "stdout",
     "output_type": "stream",
     "text": [
      "165 1\n"
     ]
    }
   ],
   "source": [
    "print(posItr,ind)"
   ]
  },
  {
   "cell_type": "markdown",
   "id": "15768e88",
   "metadata": {},
   "source": [
    "### Slide 2"
   ]
  },
  {
   "cell_type": "code",
   "execution_count": 36,
   "id": "3a04b676",
   "metadata": {},
   "outputs": [],
   "source": [
    "CumulativeProductShare(prodORitemfields,prs,assortmentBrand,duplication[ind],position=posItr)\n",
    "posItr+= len(assortmentBrand)\n",
    "ind+=1"
   ]
  },
  {
   "cell_type": "code",
   "execution_count": 37,
   "id": "59bcb85a",
   "metadata": {},
   "outputs": [
    {
     "name": "stdout",
     "output_type": "stream",
     "text": [
      "330 2\n"
     ]
    }
   ],
   "source": [
    "print(posItr,ind)"
   ]
  },
  {
   "cell_type": "markdown",
   "id": "12fd077f",
   "metadata": {},
   "source": [
    "### Slide 3"
   ]
  },
  {
   "cell_type": "code",
   "execution_count": 38,
   "id": "3912b3a1",
   "metadata": {},
   "outputs": [],
   "source": [
    "# cumulativeTop50(prodORitem,prs, cumulativeShareTop50,duplication[ind],position=posItr)\n",
    "# posItr +=len(cumulativeShareTop50)\n",
    "# ind+=1"
   ]
  },
  {
   "cell_type": "code",
   "execution_count": 39,
   "id": "2908c907",
   "metadata": {},
   "outputs": [
    {
     "name": "stdout",
     "output_type": "stream",
     "text": [
      "330 2\n"
     ]
    }
   ],
   "source": [
    "print(posItr,ind)"
   ]
  },
  {
   "cell_type": "markdown",
   "id": "b9d2dea5",
   "metadata": {},
   "source": [
    "### Slide 4"
   ]
  },
  {
   "cell_type": "code",
   "execution_count": 40,
   "id": "6fcb1472",
   "metadata": {},
   "outputs": [],
   "source": [
    "if len(client_brands)>0:\n",
    "    brandCumulativeProductShare(prodORitem,prodORitemfields,prs,assortmentClientManufAppend,duplication[ind],position=posItr)\n",
    "    posItr +=len(assortmentClientManufAppend)\n",
    "    ind+=1"
   ]
  },
  {
   "cell_type": "code",
   "execution_count": 41,
   "id": "06b377f8",
   "metadata": {},
   "outputs": [
    {
     "name": "stdout",
     "output_type": "stream",
     "text": [
      "462 3\n"
     ]
    }
   ],
   "source": [
    "print(posItr,ind)"
   ]
  },
  {
   "cell_type": "markdown",
   "id": "53c25e9a",
   "metadata": {},
   "source": [
    "### Slide 5"
   ]
  },
  {
   "cell_type": "code",
   "execution_count": 42,
   "id": "af7c2695",
   "metadata": {},
   "outputs": [],
   "source": [
    "top20CumulativeShare(prodORitem,prodORitemfields,prs,assortmentBrand,duplication[ind],client_brands, position=posItr)\n",
    "posItr+= len(assortmentBrand)\n",
    "ind+=1"
   ]
  },
  {
   "cell_type": "code",
   "execution_count": 43,
   "id": "6565deb8",
   "metadata": {},
   "outputs": [
    {
     "name": "stdout",
     "output_type": "stream",
     "text": [
      "627 4\n"
     ]
    }
   ],
   "source": [
    "print(posItr,ind)"
   ]
  },
  {
   "cell_type": "markdown",
   "id": "21bfbadf",
   "metadata": {},
   "source": [
    "### Slide 6"
   ]
  },
  {
   "cell_type": "code",
   "execution_count": 44,
   "id": "0a20fc7d",
   "metadata": {},
   "outputs": [],
   "source": [
    "if len(client_brands)>0 and len(assortmentClientBrand.keys())>0:\n",
    "    SKUProductivityAnalysis(prodORitem,prodORitemfields,prs,assortmentClientBrand,duplication[ind],position=posItr)\n",
    "    posItr += len(assortmentClientBrand)\n",
    "    ind+=1"
   ]
  },
  {
   "cell_type": "code",
   "execution_count": 45,
   "id": "9751cc18",
   "metadata": {},
   "outputs": [
    {
     "name": "stdout",
     "output_type": "stream",
     "text": [
      "684 5\n"
     ]
    }
   ],
   "source": [
    "print(posItr,ind)"
   ]
  },
  {
   "cell_type": "markdown",
   "id": "6c83b4a2",
   "metadata": {},
   "source": [
    "### Slide 7"
   ]
  },
  {
   "cell_type": "code",
   "execution_count": 46,
   "id": "47db71f0",
   "metadata": {},
   "outputs": [],
   "source": [
    "if len(client_brands)>0 and len(assortmentClientBrand.keys())>0:\n",
    "    SKUWithWD(prodORitem,prodORitemfields,prs,assortmentClientBrand,duplication[ind],position=posItr)\n",
    "    posItr += len(assortmentClientBrand)\n",
    "    ind+=1"
   ]
  },
  {
   "cell_type": "code",
   "execution_count": 47,
   "id": "9d428f67",
   "metadata": {},
   "outputs": [
    {
     "name": "stdout",
     "output_type": "stream",
     "text": [
      "741 6\n"
     ]
    }
   ],
   "source": [
    "print(posItr,ind)"
   ]
  },
  {
   "cell_type": "markdown",
   "id": "535bff0b",
   "metadata": {},
   "source": [
    "### Slide 8"
   ]
  },
  {
   "cell_type": "code",
   "execution_count": 48,
   "id": "219a1941",
   "metadata": {},
   "outputs": [],
   "source": [
    "\n",
    "if len(sectors)>0:\n",
    "    fair_share(final_Sector,prs ,scope ='Sector', position=posItr,category = categories[0])\n",
    "    posItr += len(final_Sector)\n",
    "    ind+=1"
   ]
  },
  {
   "cell_type": "code",
   "execution_count": 49,
   "id": "f3a3546f",
   "metadata": {},
   "outputs": [],
   "source": [
    "if len(segments)>0:\n",
    "    fair_share(final_Segment,prs ,scope='Segment', position=posItr,category =categories[0])\n",
    "    posItr += len(final_Segment)\n",
    "    ind+=1\n",
    "    "
   ]
  },
  {
   "cell_type": "code",
   "execution_count": 50,
   "id": "23cfbb8b",
   "metadata": {},
   "outputs": [],
   "source": [
    "if len(subcategories)>0:\n",
    "    fair_share(final_SubCategory,prs ,scope='SubCategory', position=posItr,category =categories[0])\n",
    "    posItr += len(final_SubCategory)\n",
    "    ind+=1\n",
    "    "
   ]
  },
  {
   "cell_type": "code",
   "execution_count": 51,
   "id": "6e831e86",
   "metadata": {},
   "outputs": [],
   "source": [
    "if len(subsegments)>0:\n",
    "    fair_share(final_Subsegment,prs ,scope='SubSegment', position=posItr,category =categories[0])\n",
    "    posItr += len(final_Subsegment)\n",
    "    ind+=1"
   ]
  },
  {
   "cell_type": "markdown",
   "id": "c71926fb",
   "metadata": {},
   "source": [
    "### Slide 1 without forcing client brand"
   ]
  },
  {
   "cell_type": "code",
   "execution_count": 52,
   "id": "e1f84829",
   "metadata": {},
   "outputs": [
    {
     "name": "stdout",
     "output_type": "stream",
     "text": [
      "785 8\n"
     ]
    }
   ],
   "source": [
    "print(posItr,ind)"
   ]
  },
  {
   "cell_type": "code",
   "execution_count": 53,
   "id": "776c0826",
   "metadata": {},
   "outputs": [],
   "source": [
    "if Runwithoutclientorder: SkuShareByBrand(prs,assortmentBrandNOTSorted,duplication[ind],BrandOrTopB,position=posItr)"
   ]
  },
  {
   "cell_type": "code",
   "execution_count": 54,
   "id": "7a9ccb40",
   "metadata": {},
   "outputs": [],
   "source": [
    "outputPath=os.getcwd() + f\"\\\\Mix and assortment output_{datetime.today().strftime(\"%d-%m\")}.pptx\"\n",
    "prs.save(outputPath)"
   ]
  },
  {
   "cell_type": "code",
   "execution_count": 55,
   "id": "5e82b1fc",
   "metadata": {},
   "outputs": [
    {
     "name": "stdout",
     "output_type": "stream",
     "text": [
      "Slide 628: Opened Excel workbook: Book1\n",
      "Slide 629: Opened Excel workbook: Book1\n",
      "Slide 630: Opened Excel workbook: Book1\n",
      "Slide 631: Opened Excel workbook: Book1\n",
      "Slide 632: Opened Excel workbook: Book1\n",
      "Slide 633: Opened Excel workbook: Book1\n",
      "Slide 634: Opened Excel workbook: Book1\n",
      "Slide 635: Opened Excel workbook: Book1\n",
      "Slide 636: Opened Excel workbook: Book1\n",
      "Slide 637: Opened Excel workbook: Book1\n",
      "Slide 638: Opened Excel workbook: Book1\n",
      "Slide 639: Opened Excel workbook: Book1\n",
      "Slide 640: Opened Excel workbook: Book1\n",
      "Slide 641: Opened Excel workbook: Book1\n",
      "Slide 642: Opened Excel workbook: Book1\n",
      "Slide 643: Opened Excel workbook: Book1\n",
      "Slide 644: Opened Excel workbook: Book1\n",
      "Slide 645: Opened Excel workbook: Book1\n",
      "Slide 646: Opened Excel workbook: Book1\n",
      "Slide 647: Opened Excel workbook: Book1\n",
      "Slide 648: Opened Excel workbook: Book1\n",
      "Slide 649: Opened Excel workbook: Book1\n",
      "Slide 650: Opened Excel workbook: Book1\n",
      "Slide 651: Opened Excel workbook: Book1\n",
      "Slide 652: Opened Excel workbook: Book1\n",
      "Slide 653: Opened Excel workbook: Book1\n",
      "Slide 654: Opened Excel workbook: Book1\n",
      "Slide 655: Opened Excel workbook: Book1\n",
      "Slide 656: Opened Excel workbook: Book1\n",
      "Slide 657: Opened Excel workbook: Book1\n",
      "Slide 658: Opened Excel workbook: Book1\n",
      "Slide 659: Opened Excel workbook: Book1\n",
      "Slide 660: Opened Excel workbook: Book1\n",
      "Slide 661: Opened Excel workbook: Book1\n",
      "Slide 662: Opened Excel workbook: Book1\n",
      "Slide 663: Opened Excel workbook: Book1\n",
      "Slide 664: Opened Excel workbook: Book1\n",
      "Slide 665: Opened Excel workbook: Book1\n",
      "Slide 666: Opened Excel workbook: Book1\n",
      "Slide 667: Opened Excel workbook: Book1\n",
      "Slide 668: Opened Excel workbook: Book1\n",
      "Slide 669: Opened Excel workbook: Book1\n",
      "Slide 670: Opened Excel workbook: Book1\n",
      "Slide 671: Opened Excel workbook: Book1\n",
      "Slide 672: Opened Excel workbook: Book1\n",
      "Slide 673: Opened Excel workbook: Book1\n",
      "Slide 674: Opened Excel workbook: Book1\n",
      "Slide 675: Opened Excel workbook: Book1\n",
      "Slide 676: Opened Excel workbook: Book1\n",
      "Slide 677: Opened Excel workbook: Book1\n",
      "Slide 678: Opened Excel workbook: Book1\n",
      "Slide 679: Opened Excel workbook: Book1\n",
      "Slide 680: Opened Excel workbook: Book1\n",
      "Slide 681: Opened Excel workbook: Book1\n",
      "Slide 682: Opened Excel workbook: Book1\n",
      "Slide 683: Opened Excel workbook: Book1\n",
      "Slide 684: Opened Excel workbook: Book1\n",
      "Slide 685: Opened Excel workbook: Book1\n",
      "Slide 686: Opened Excel workbook: Book1\n",
      "Slide 687: Opened Excel workbook: Book1\n",
      "Slide 688: Opened Excel workbook: Book1\n",
      "Slide 689: Opened Excel workbook: Book1\n",
      "Slide 690: Opened Excel workbook: Book1\n",
      "Slide 691: Opened Excel workbook: Book1\n",
      "Slide 692: Opened Excel workbook: Book1\n",
      "Slide 693: Opened Excel workbook: Book1\n",
      "Slide 694: Opened Excel workbook: Book1\n",
      "Slide 695: Opened Excel workbook: Book1\n",
      "Slide 696: Opened Excel workbook: Book1\n",
      "Slide 697: Opened Excel workbook: Book1\n",
      "Slide 698: Opened Excel workbook: Book1\n",
      "Slide 699: Opened Excel workbook: Book1\n",
      "Slide 700: Opened Excel workbook: Book1\n",
      "Slide 701: Opened Excel workbook: Book1\n",
      "Slide 702: Opened Excel workbook: Book1\n",
      "Slide 703: Opened Excel workbook: Book1\n",
      "Slide 704: Opened Excel workbook: Book1\n",
      "Slide 705: Opened Excel workbook: Book1\n",
      "Slide 706: Opened Excel workbook: Book1\n",
      "Slide 707: Opened Excel workbook: Book1\n",
      "Slide 708: Opened Excel workbook: Book1\n",
      "Slide 709: Opened Excel workbook: Book1\n",
      "Slide 710: Opened Excel workbook: Book1\n",
      "Slide 711: Opened Excel workbook: Book1\n",
      "Slide 712: Opened Excel workbook: Book1\n",
      "Slide 713: Opened Excel workbook: Book1\n",
      "Slide 714: Opened Excel workbook: Book1\n",
      "Slide 715: Opened Excel workbook: Book1\n",
      "Slide 716: Opened Excel workbook: Book1\n",
      "Slide 717: Opened Excel workbook: Book1\n",
      "Slide 718: Opened Excel workbook: Book1\n",
      "Slide 719: Opened Excel workbook: Book1\n",
      "Slide 720: Opened Excel workbook: Book1\n",
      "Slide 721: Opened Excel workbook: Book1\n",
      "Slide 722: Opened Excel workbook: Book1\n",
      "Slide 723: Opened Excel workbook: Book1\n",
      "Slide 724: Opened Excel workbook: Book1\n",
      "Slide 725: Opened Excel workbook: Book1\n",
      "Slide 726: Opened Excel workbook: Book1\n",
      "Slide 727: Opened Excel workbook: Book1\n",
      "Slide 728: Opened Excel workbook: Book1\n",
      "Slide 729: Opened Excel workbook: Book1\n",
      "Slide 730: Opened Excel workbook: Book1\n",
      "Slide 731: Opened Excel workbook: Book1\n",
      "Slide 732: Opened Excel workbook: Book1\n",
      "Slide 733: Opened Excel workbook: Book1\n",
      "Slide 734: Opened Excel workbook: Book1\n",
      "Slide 735: Opened Excel workbook: Book1\n",
      "Slide 736: Opened Excel workbook: Book1\n",
      "Slide 737: Opened Excel workbook: Book1\n",
      "Slide 738: Opened Excel workbook: Book1\n",
      "Slide 739: Opened Excel workbook: Book1\n",
      "Slide 740: Opened Excel workbook: Book1\n",
      "Slide 741: Opened Excel workbook: Book1\n"
     ]
    }
   ],
   "source": [
    "final=os.getcwd() + f\"\\\\Mix and assortment output_{datetime.today().strftime(\"%d-%m\")}.pptx\"\n",
    "pptx_path = outputPath  # Replace with the actual path to your PPTX file\n",
    "output_pptx_path=final\n",
    "open_chart_data_in_excel(pptx_path,output_pptx_path)\n"
   ]
  },
  {
   "cell_type": "code",
   "execution_count": null,
   "id": "72dcb2f7",
   "metadata": {},
   "outputs": [],
   "source": []
  }
 ],
 "metadata": {
  "kernelspec": {
   "display_name": "base",
   "language": "python",
   "name": "python3"
  },
  "language_info": {
   "codemirror_mode": {
    "name": "ipython",
    "version": 3
   },
   "file_extension": ".py",
   "mimetype": "text/x-python",
   "name": "python",
   "nbconvert_exporter": "python",
   "pygments_lexer": "ipython3",
   "version": "3.12.3"
  }
 },
 "nbformat": 4,
 "nbformat_minor": 5
}
