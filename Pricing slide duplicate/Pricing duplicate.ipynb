{
 "cells": [
  {
   "cell_type": "code",
   "execution_count": 34,
   "id": "7ab0a915",
   "metadata": {},
   "outputs": [],
   "source": [
    "%run \"..\\general_functions\\generalFunctions.ipynb\"\n",
    "%run \"..\\Pricing slide duplicate\\Pricing Replacement Function.ipynb\""
   ]
  },
  {
   "cell_type": "code",
   "execution_count": 35,
   "id": "dfa85c5a-066a-4ba2-9495-a5770a51af4d",
   "metadata": {},
   "outputs": [
    {
     "name": "stdout",
     "output_type": "stream",
     "text": [
      "c:\\Users\\aleaa\\Documents\\Slide-Automate\\Pricing slide duplicate/Pricing Datasets/\n"
     ]
    }
   ],
   "source": [
    "loaded_data = {}\n",
    "datasets_path = os.getcwd()+\"/Pricing Datasets/\"\n",
    "print(datasets_path)\n",
    "datasets = os.listdir(datasets_path)\n",
    "for d in datasets:\n",
    "    # print(d)\n",
    "    globals()[d.split('.')[0]] = pd.read_pickle(datasets_path+d)\n",
    "\n",
    "    # with open(datasets_path+d, 'rb') as handle:\n",
    "    #     globals()[d.split('.')[0]] = pickle.load(handle)\n",
    " \n",
    "themePath = r\"C:\\Users\\BW4SA\\Documents\\GitHub\\Slide-Automate\\Theme1.thmx\"\n",
    " "
   ]
  },
  {
   "cell_type": "markdown",
   "id": "50998a64-35de-4070-9aae-9e388762ad60",
   "metadata": {},
   "source": [
    "\n",
    "## Data Parameters"
   ]
  },
  {
   "cell_type": "code",
   "execution_count": 36,
   "id": "46b7f40a-3f8e-45e5-bce0-29fce6698aa1",
   "metadata": {},
   "outputs": [],
   "source": [
    "client_manuf = [\"Edgewell Personal Care\"]\n",
    "client_brands = [\"Schick\",\"Equate\",\"Cremo\"]\n",
    "# client_brands = [\"Cremo\",\"Xtreme 3\",\"Hydro 5\",\"Xtreme 2\",\n",
    "#                  \"Quattro For Men\",\"Hydro 3\",\"Hydro Stubble Eraser\",\n",
    "#                  \"Xtreme 4\",\"Schick Classic\",\"Schick Injector\",\n",
    "#                  \"Schick Original\",\"Xtreme 5\",\"St2/Slim Twin\",\n",
    "#                  \"5-Blade\",\"The Stylish 5\",\"Speed 3 Sensitive\",\n",
    "#                  \"The Essential 2\",\"The Stylish 3\",\"Caliber 4 Max\",\n",
    "#                  \"Easy Fit 3\",\"Speed 4\",\"Pbg Pl\"]\n",
    "decimals = 2\n",
    "sign = \"Before\"\n",
    "currency = '$'\n",
    "currency = ' '+ currency if sign.lower() == 'after' else  currency + ' '\n",
    "\n",
    "prodORitem=\"SKU\"\n",
    "categories =[\"Manual Shave Men\"]\n",
    "sectors = [\"System\",\"Disposables\"]\n",
    "segments = [\"Razors\",\"Refills\",\"Disposables\"]\n",
    "subsegments= []\n",
    "subcategories= []\n",
    "\n",
    "customareas=''\n",
    "national = True\n",
    "areas = [\"NATIONAL\",'RETAILER']\n",
    "\n",
    "regions_RET  =[\"Bj's And Sam's\",\"Walmart\"]\n",
    "channels_RET = []\n",
    "market_RET = []\n",
    " \n",
    "regions_CHAN = []\n",
    "channels_CHAN = []\n",
    "market_CHAN = []\n",
    " \n",
    "regions_CUST = []\n",
    "channels_CUST = []\n",
    "market_CUST = []\n",
    " \n",
    "data_source = \"DATA SOURCE: Trade Panel/Retailer Data | Ending March  2025\"\n",
    "end_date = \"2025-04-01\"\n",
    " \n",
    "OpenEditData=True\n",
    "ManufOrTopC =\"Top Companies\"\n",
    "BrandOrTopB=\"Brand\"\n",
    "direct_parent = {\"Sector\":\"Category\",\n",
    "                \"Segment\":\"Sector\",\n",
    "                \"SubSegment\":\"Segment\",\n",
    "                \"SubCategory\":\"Segment\"}\n",
    " \n",
    "parent_lists={'Category':categories,\n",
    "             \"Sector\":sectors,\n",
    "              \"Segment\":segments,\n",
    "               \"SubSegment\":subsegments,\n",
    "                \"SubCategory\":subcategories }\n",
    " "
   ]
  },
  {
   "cell_type": "code",
   "execution_count": 37,
   "id": "583878e8-5142-4689-a8f0-6b6a67d09667",
   "metadata": {},
   "outputs": [],
   "source": [
    "start_time = time.time()"
   ]
  },
  {
   "cell_type": "code",
   "execution_count": 38,
   "id": "20149560",
   "metadata": {},
   "outputs": [],
   "source": [
    "run_firstdeck = True\n",
    "run_seconddeck = True\n",
    "run_thirddeck = True  \n",
    "run_fourthdeck = True\n",
    "run_scraped = True\n",
    "Sections_WO_CB=True"
   ]
  },
  {
   "cell_type": "markdown",
   "id": "b54f700c",
   "metadata": {},
   "source": [
    "## Price Positioning Summary "
   ]
  },
  {
   "cell_type": "code",
   "execution_count": 39,
   "id": "0ef68935",
   "metadata": {},
   "outputs": [],
   "source": [
    "pricepoition_summary=summary(price_positioning_brands,col=f\"{BrandOrTopB}\")\n",
    "\n",
    "if len(categories)>0:\n",
    "    cat_groups,cat_groupsdf=group_by_key(pricepoition_summary,categories)\n",
    "if len(sectors)>0:\n",
    "    sector_groups,sector_groupsdf=group_by_key(pricepoition_summary,sectors)\n",
    "if len(segments)>0:\n",
    "    segment_groups,segment_groupsdf=group_by_key(pricepoition_summary,segments)\n",
    "if len(subsegments)>0:\n",
    "    subsegment_groups,subsegment_groupsdf=group_by_key(pricepoition_summary,subsegments)\n",
    "if len(subcategories)>0:\n",
    "    subcategory_groups,subcategory_groupsdf=group_by_key(pricepoition_summary,subcategories)\n",
    "\n",
    "\n",
    "#Create  slide index   \n",
    "if len(categories)>0:\n",
    "    final_lis0=indexlist(cat_groups) \n",
    "if len(sectors)>0:\n",
    "    final_lis1=indexlist(sector_groups)\n",
    "if len(segments)>0:\n",
    "    final_lis2=indexlist(segment_groups)\n",
    "if len(subsegments)>0:\n",
    "    final_lis3=indexlist(subsegment_groups)\n",
    "if len(subcategories)>0:\n",
    "    final_lis4=indexlist(subcategory_groups)\n",
    "\n",
    "summaryindex = []\n",
    "if categories:\n",
    "    summaryindex.extend(final_lis0)\n",
    "if sectors:\n",
    "    summaryindex.extend(final_lis1)\n",
    "if segments:\n",
    "    summaryindex.extend(final_lis2)\n",
    "if subsegments:\n",
    "    summaryindex.extend(final_lis3)\n",
    "if subcategories:\n",
    "    summaryindex.extend(final_lis4)\n",
    "    \n",
    "    "
   ]
  },
  {
   "cell_type": "markdown",
   "id": "06e82860",
   "metadata": {},
   "source": [
    "## Pricing Positioning"
   ]
  },
  {
   "cell_type": "code",
   "execution_count": 40,
   "id": "1e60dfb4",
   "metadata": {},
   "outputs": [],
   "source": [
    "modified_price_positioning_brands_sorted, modified_leadership_table_brands_sorted= PricePositioningClean(price_positioning_brands, col=f\"{BrandOrTopB}\")\n",
    "modified_price_positioning_manuf_sorted,modified_leadership_table_manuf_sorted = PricePositioningClean(price_positioning_manuf, col=f'{ManufOrTopC}')\n",
    "dropemptydf(modified_price_positioning_brands_sorted)\n",
    "dropemptydf(modified_leadership_table_brands_sorted)\n",
    "dropemptydf(modified_price_positioning_manuf_sorted)\n",
    "dropemptydf(modified_leadership_table_manuf_sorted)"
   ]
  },
  {
   "cell_type": "markdown",
   "id": "47b933b4",
   "metadata": {},
   "source": [
    "## Sector/Segment Leadership Table"
   ]
  },
  {
   "cell_type": "code",
   "execution_count": 41,
   "id": "1745209f",
   "metadata": {},
   "outputs": [],
   "source": [
    "sector_wob_leadership=wobcleaning(sector_total_leadership,slideby=\"Sector\")\n",
    "segment_wob_leadership=wobcleaning(segment_total_leadership,slideby=\"Segment\")\n",
    "subsegment_wob_leadership=wobcleaning(subseg_total_leadership,slideby=\"SubSegment\")\n",
    "subcategory_wob_leadership=wobcleaning(subcat_total_leadership,slideby=\"SubCategory\")"
   ]
  },
  {
   "cell_type": "code",
   "execution_count": 42,
   "id": "4d98cf96",
   "metadata": {},
   "outputs": [],
   "source": [
    "####Brands&Manuf DataFrames\n",
    "if len(sectors)!=0:\n",
    "    sharGrowthDf_brands_sec=sharGrowthDfclean(modified_price_positioning_brands_sorted,sector_wob_leadership,sectors)\n",
    "    sharGrowthDf_manuf_sec=sharGrowthDfclean(modified_leadership_table_manuf_sorted,sector_wob_leadership,sectors)\n",
    "if len(segments)!=0:\n",
    "    sharGrowthDf_brands_seg=sharGrowthDfclean(modified_price_positioning_brands_sorted,segment_wob_leadership,segments)\n",
    "    sharGrowthDf_manuf_seg=sharGrowthDfclean(modified_leadership_table_manuf_sorted,segment_wob_leadership,segments)\n",
    "if len(subsegments)!=0:\n",
    "    sharGrowthDf_brands_subseg=sharGrowthDfclean(modified_price_positioning_brands_sorted,subsegment_wob_leadership,subsegments)\n",
    "    sharGrowthDf_manuf_subseg=sharGrowthDfclean(modified_leadership_table_manuf_sorted,subsegment_wob_leadership,subsegments)\n",
    "if len(subcategories)!=0:\n",
    "    sharGrowthDf_brands_subcat=sharGrowthDfclean(modified_price_positioning_brands_sorted,subcategory_wob_leadership,subcategories)\n",
    "    sharGrowthDf_manuf_subcat=sharGrowthDfclean(modified_leadership_table_manuf_sorted,subcategory_wob_leadership,subcategories)"
   ]
  },
  {
   "cell_type": "markdown",
   "id": "86897787",
   "metadata": {},
   "source": [
    "## Sector/Segment Leadership Analysis"
   ]
  },
  {
   "cell_type": "code",
   "execution_count": 43,
   "id": "bf8a2100",
   "metadata": {},
   "outputs": [],
   "source": [
    "if len(segments)!=0:\n",
    "    modified_totals_segments_leadershipanalysis={}\n",
    "    modified_brands_segments_leadershipanalysis={}\n",
    "    modified_manuf_segments_leadershipanalysis={}\n",
    "    leadershipanalysisclean(total_Segment,modified_totals_segments_leadershipanalysis,parent=direct_parent[\"Segment\"],total=True)\n",
    "    leadershipanalysisclean(brand_Segment,modified_brands_segments_leadershipanalysis,parent=direct_parent[\"Segment\"],total=False)\n",
    "    leadershipanalysisclean(manuf_Segment,modified_manuf_segments_leadershipanalysis,parent=direct_parent[\"Segment\"],total=False)\n",
    "    dropemptydf(modified_totals_segments_leadershipanalysis)\n",
    "    dropemptydf(modified_brands_segments_leadershipanalysis)\n",
    "    dropemptydf(modified_manuf_segments_leadershipanalysis)\n",
    "if len(subsegments)!=0:\n",
    "    modified_totals_subsegments_leadershipanalysis={}\n",
    "    modified_brands_subsegments_leadershipanalysis={}  \n",
    "    modified_manuf_subsegments_leadershipanalysis={}\n",
    "    leadershipanalysisclean(total_SubSegment,modified_totals_subsegments_leadershipanalysis,parent=direct_parent[\"SubSegment\"],total=True)\n",
    "    leadershipanalysisclean(brand_SubSegment,modified_brands_subsegments_leadershipanalysis,parent=direct_parent[\"SubSegment\"],total=False)\n",
    "    leadershipanalysisclean(manuf_SubSegment,modified_manuf_subsegments_leadershipanalysis,parent=direct_parent[\"SubSegment\"],total=False)\n",
    "    dropemptydf(modified_totals_subsegments_leadershipanalysis)\n",
    "    dropemptydf(modified_brands_subsegments_leadershipanalysis)\n",
    "    dropemptydf(modified_manuf_subsegments_leadershipanalysis)\n",
    "if len(subcategories)!=0:\n",
    "    modified_totals_subcategory_leadershipanalysis={}\n",
    "    modified_brands_subcategory_leadershipanalysis={}\n",
    "    modified_manuf_subcategory_leadershipanalysis={}\n",
    "    leadershipanalysisclean(total_SubCategory,modified_totals_subcategory_leadershipanalysis,parent=direct_parent[\"SubCategory\"],total=True)\n",
    "    leadershipanalysisclean(brand_SubCategory,modified_brands_subcategory_leadershipanalysis,parent=direct_parent[\"SubCategory\"],total=False)\n",
    "    leadershipanalysisclean(manuf_SubCategory,modified_manuf_subcategory_leadershipanalysis,parent=direct_parent[\"SubCategory\"],total=False)\n",
    "    dropemptydf(modified_totals_subcategory_leadershipanalysis)\n",
    "    dropemptydf(modified_brands_subcategory_leadershipanalysis)\n",
    "    dropemptydf(modified_manuf_subcategory_leadershipanalysis)"
   ]
  },
  {
   "cell_type": "markdown",
   "id": "04790561",
   "metadata": {},
   "source": [
    "## Sector/Segment BrandLeaderships"
   ]
  },
  {
   "cell_type": "code",
   "execution_count": 44,
   "id": "6b9d8d93",
   "metadata": {},
   "outputs": [],
   "source": [
    "if len(sectors)!=0:\n",
    "    modified_sector_leadership,modified_sector_total_leadership={},{}\n",
    "    totalleadership(sector_leadership,modified_sector_leadership,Inscope=\"Sector\",total=False)\n",
    "    totalleadership(sector_total_leadership,modified_sector_total_leadership,Inscope=\"Sector\",total=True)\n",
    "    dropemptydf(modified_sector_leadership)\n",
    "    dropemptydf(modified_sector_total_leadership)\n",
    "if len(segments)!=0:\n",
    "    modified_segment_leadership,modified_segment_total_leadership={},{}\n",
    "    totalleadership(segment_leadership,modified_segment_leadership,Inscope=\"Segment\",total=False)\n",
    "    totalleadership(segment_total_leadership,modified_segment_total_leadership,Inscope=\"Segment\",total=True)\n",
    "    dropemptydf(modified_segment_leadership)\n",
    "    dropemptydf(modified_segment_total_leadership)\n",
    "if len(subsegments)!=0:\n",
    "    modified_subsegment_leadership={}\n",
    "    modified_subsegment_total_leadership={}\n",
    "    totalleadership(subseg_leadership,modified_subsegment_leadership,Inscope=\"SubSegment\",total=False)\n",
    "    totalleadership(subseg_total_leadership,modified_subsegment_total_leadership,Inscope=\"SubSegment\",total=True)\n",
    "    dropemptydf(modified_subsegment_leadership)\n",
    "    dropemptydf(modified_subsegment_total_leadership)\n",
    "if len(subcategories)!=0:\n",
    "    modified_subcategory_leadership={}\n",
    "    modified_subcategory_total_leadership={}\n",
    "    totalleadership(subcat_leadership,modified_subcategory_leadership,Inscope=\"SubCategory\",total=False)\n",
    "    totalleadership(subcat_total_leadership,modified_subcategory_total_leadership,Inscope=\"SubCategory\",total=True)\n",
    "    dropemptydf(modified_subcategory_leadership)\n",
    "    dropemptydf(modified_subcategory_total_leadership)"
   ]
  },
  {
   "cell_type": "markdown",
   "id": "b587ea74",
   "metadata": {},
   "source": [
    "## Shelf price /vol and Avg price /vol comparison"
   ]
  },
  {
   "cell_type": "code",
   "execution_count": 45,
   "id": "75d742cf",
   "metadata": {},
   "outputs": [],
   "source": [
    "if (len(sectors)!=0):\n",
    "    total_brands_sector,top_brands_sector,total_manuf_sector,top_manuf_sector={},{},{},{}\n",
    "    shelfallbrandsclean(shelf_sectors_all_brands,total_brands_sector,shelf_sectors_top_brands,top_brands_sector,Inscope=\"Sector\")\n",
    "    shelfallbrandsclean(shelf_sectors_all_manuf,total_manuf_sector,shelf_sectors_top_manuf,top_manuf_sector,Inscope=\"Sector\",bymanuf=f'{ManufOrTopC}')\n",
    "if (len(segments)!=0):\n",
    "    total_brands_segment,top_brands_segment,total_manuf_segment,top_manuf_segment = {},{},{},{}\n",
    "    shelfallbrandsclean(shelf_segments_all_brands,total_brands_segment,shelf_segments_top_brands,top_brands_segment,Inscope=\"Segment\")\n",
    "    shelfallbrandsclean(shelf_segments_all_manuf,total_manuf_segment,shelf_segments_top_manuf,top_manuf_segment,Inscope=\"Segment\",bymanuf=f'{ManufOrTopC}')\n",
    "if (len(subsegments)!=0): \n",
    "    total_brands_subsegment,top_brands_subsegment,total_manuf_subsegment,top_manuf_subsegment = {},{},{},{}\n",
    "    shelfallbrandsclean(shelf_subsegments_all_brands,total_brands_subsegment,shelf_subsegments_top_brands,top_brands_subsegment,Inscope=\"SubSegment\")\n",
    "    shelfallbrandsclean(shelf_subsegments_all_manuf,total_manuf_subsegment,shelf_subsegments_top_manuf,top_manuf_subsegment,Inscope=\"SubSegment\",bymanuf=f'{ManufOrTopC}')\n",
    "if (len(subcategories)!=0):\n",
    "    total_brands_subcategory,top_brands_subcategory,total_manuf_subcategory,top_manuf_subcategory = {},{},{},{}\n",
    "    shelfallbrandsclean(shelf_subcategories_all_brands,total_brands_subcategory,shelf_subcategories_top_brands,top_brands_subcategory,Inscope=\"SubCategory\")\n",
    "    shelfallbrandsclean(shelf_subcategories_all_manuf,total_manuf_subcategory,shelf_subcategories_top_manuf,top_manuf_subcategory,Inscope=\"SubCategory\",bymanuf=f'{ManufOrTopC}')"
   ]
  },
  {
   "cell_type": "markdown",
   "id": "c7d3af58",
   "metadata": {},
   "source": [
    "#### Shelf Price & AVG PRICE"
   ]
  },
  {
   "cell_type": "code",
   "execution_count": 46,
   "id": "d93d73b2",
   "metadata": {},
   "outputs": [],
   "source": [
    "#### Shelf Price & AVG PRICE FUNCTION\n",
    "def shelfPriceCleaning(total_brands, top_brands, sec_seg='Sector',slide_by=[],brandORmanuf=''):\n",
    "    all_brands = {}\n",
    "\n",
    "    for top_key in top_brands.keys():\n",
    "        common_part = top_key.split(\" | \",1)[1]  # Extract the common part from the top_brands key\n",
    "        print(\"Common\",common_part)\n",
    "        total_key = [key for key in total_brands.keys() if common_part in key][0]  # Find the corresponding total_brands key\n",
    "        print(\"total\",total_key)\n",
    "        if 'Sort_Value' in total_brands[total_key].columns:\n",
    "            total_brands[total_key] = total_brands[total_key].drop(columns=['Sort_Value'])\n",
    "            # print(\"GGG\")\n",
    "        total_brands[total_key] = total_brands[total_key].sort_values(['Value Share'], ascending=False)\n",
    "        total_brands[total_key]['Sort_Value'] = range(1, total_brands[total_key].shape[0] + 1)\n",
    "\n",
    "        total_brands[total_key][brandORmanuf] = 'Total'\n",
    "        total_brands[total_key][sec_seg] = total_brands[total_key][sec_seg].str.replace('Total', '').str.strip()\n",
    "        \n",
    "        all_brands[top_key] = pd.concat([total_brands[total_key], top_brands[top_key]])\n",
    "        unique_brands = all_brands[top_key][brandORmanuf].unique()\n",
    "        missing_brand_sector = {}\n",
    "        \n",
    "        for sector in all_brands[top_key][sec_seg].unique():\n",
    "            missingBrands = list(set(unique_brands) - set(all_brands[top_key][all_brands[top_key][sec_seg] == sector][brandORmanuf].unique()))\n",
    "            if missingBrands:\n",
    "                missing_brand_sector[sector] = missingBrands\n",
    "\n",
    "        missing_brand_sector = pd.DataFrame({sec_seg: missing_brand_sector.keys(), brandORmanuf: missing_brand_sector.values()}).explode(brandORmanuf)\n",
    "        all_brands[top_key] = pd.concat([all_brands[top_key], missing_brand_sector]).sort_values(by=[sec_seg]).replace(np.nan, None)\n",
    "        all_brands[top_key]['Value Share'] = all_brands[top_key]['Value Share'].astype(float)\n",
    "        total_brands[total_key]['Sort_Value'] = total_brands[total_key]['Sort_Value'].astype(int)\n",
    "        total_brands[total_key] = total_brands[total_key][total_brands[total_key][sec_seg].isin(slide_by)]\n",
    "        all_brands[top_key] = all_brands[top_key].drop(columns='Sort_Value').merge(total_brands[total_key][[sec_seg, 'Sort_Value']]).sort_values(['Sort_Value', 'Value Share'], ascending=[True, False])\n",
    "        all_brands[top_key] = all_brands[top_key][all_brands[top_key][sec_seg].isin(slide_by)]\n",
    "        \n",
    "    return all_brands"
   ]
  },
  {
   "cell_type": "code",
   "execution_count": 47,
   "id": "e554b97f",
   "metadata": {},
   "outputs": [
    {
     "name": "stdout",
     "output_type": "stream",
     "text": [
      "Common National\n",
      "total National\n",
      "Common National\n",
      "total National\n",
      "Common National\n",
      "total National\n",
      "Common Bj's And Sam's\n",
      "total Bj's And Sam's\n",
      "Common Bj's And Sam's\n",
      "total Bj's And Sam's\n",
      "Common Walmart\n",
      "total Walmart\n",
      "Common Walmart\n",
      "total Walmart\n",
      "Common Walmart\n",
      "total Walmart\n",
      "Common National\n",
      "total National\n",
      "Common Bj's And Sam's\n",
      "total Bj's And Sam's\n",
      "Common Walmart\n",
      "total Walmart\n",
      "Common National | System\n",
      "total National | System\n",
      "Common National | System\n",
      "total National | System\n",
      "Common National | System\n",
      "total National | System\n",
      "Common National | Disposables\n",
      "total National | Disposables\n",
      "Common National | Disposables\n",
      "total National | Disposables\n",
      "Common Bj's And Sam's | System\n",
      "total Bj's And Sam's | System\n",
      "Common Bj's And Sam's | Disposables\n",
      "total Bj's And Sam's | Disposables\n",
      "Common Walmart | System\n",
      "total Walmart | System\n",
      "Common Walmart | System\n",
      "total Walmart | System\n",
      "Common Walmart | System\n",
      "total Walmart | System\n",
      "Common Walmart | Disposables\n",
      "total Walmart | Disposables\n",
      "Common Walmart | Disposables\n",
      "total Walmart | Disposables\n",
      "Common National | System\n",
      "total National | System\n",
      "Common National | Disposables\n",
      "total National | Disposables\n",
      "Common Bj's And Sam's | System\n",
      "total Bj's And Sam's | System\n",
      "Common Bj's And Sam's | Disposables\n",
      "total Bj's And Sam's | Disposables\n",
      "Common Walmart | System\n",
      "total Walmart | System\n",
      "Common Walmart | Disposables\n",
      "total Walmart | Disposables\n"
     ]
    }
   ],
   "source": [
    "if len(sectors) != 0 and len(parent_lists[direct_parent['Sector']]) != 0:\n",
    "    all_brands_sector,all_manuf_sector={},{}\n",
    "    all_brands_sector=shelfPriceCleaning(total_brands_sector,top_brands_sector,sec_seg='Sector', slide_by = sectors,brandORmanuf=f\"{BrandOrTopB}\")\n",
    "    all_manuf_sector=shelfPriceCleaning(total_manuf_sector,top_manuf_sector,sec_seg='Sector', slide_by = sectors,brandORmanuf=f'{ManufOrTopC}')\n",
    "    dropemptydf(all_manuf_sector)\n",
    "    dropemptydf(all_brands_sector) \n",
    "if len(segments)!=0 and len(parent_lists[direct_parent['Segment']])!=0:\n",
    "    all_brands_segment,all_manuf_segment={},{}\n",
    "    all_brands_segment=shelfPriceCleaning(total_brands_segment,top_brands_segment,sec_seg='Segment', slide_by = segments,brandORmanuf=f\"{BrandOrTopB}\")\n",
    "    all_manuf_segment=shelfPriceCleaning(total_manuf_segment,top_manuf_segment,sec_seg='Segment', slide_by = segments,brandORmanuf=f'{ManufOrTopC}')\n",
    "    dropemptydf(all_manuf_segment)\n",
    "    dropemptydf(all_brands_segment)\n",
    "if len(subsegments)!=0 and len(parent_lists[direct_parent['SubSegment']])!=0:\n",
    "    all_brands_subsegment,all_manuf_subsegment={},{}\n",
    "    all_brands_subsegment=shelfPriceCleaning(total_brands_subsegment,top_brands_subsegment,sec_seg='SubSegment', slide_by = subsegments,brandORmanuf=f\"{BrandOrTopB}\")\n",
    "    all_manuf_subsegment=shelfPriceCleaning(total_manuf_subsegment,top_manuf_subsegment,sec_seg='SubSegment', slide_by = subsegments,brandORmanuf=f'{ManufOrTopC}')\n",
    "    dropemptydf(all_manuf_subsegment)\n",
    "    dropemptydf(all_brands_subsegment)\n",
    "if len(subcategories)!=0 and len(parent_lists[direct_parent['SubCategory']])!=0:\n",
    "    all_brands_subcategory,all_manuf_subcategory={},{}\n",
    "    all_brands_subcategory=shelfPriceCleaning(total_brands_subcategory,top_brands_subcategory,sec_seg='SubCategory', slide_by = subcategories,brandORmanuf=f\"{BrandOrTopB}\")\n",
    "    all_manuf_subcategory=shelfPriceCleaning(total_manuf_subcategory,top_manuf_subcategory,sec_seg='SubCategory', slide_by = subcategories,brandORmanuf=f'{ManufOrTopC}')\n",
    "    dropemptydf(all_manuf_subcategory)\n",
    "    dropemptydf(all_brands_subcategory)\n"
   ]
  },
  {
   "cell_type": "markdown",
   "id": "fca5b9e3",
   "metadata": {},
   "source": [
    "## Cleaning Price Distribution"
   ]
  },
  {
   "cell_type": "code",
   "execution_count": 48,
   "id": "2b62d715",
   "metadata": {},
   "outputs": [],
   "source": [
    "def cleaningPricePoint(dfs,Inscope):\n",
    "    output={}\n",
    "    for k in dfs.keys():\n",
    "        t = dfs[k].copy()\n",
    "        t=DetectHeader(t)\n",
    "        t = t[(t['Total Size'].notna()) | (t[Inscope].str.contains(\"Total\"))]\n",
    "        t[Inscope] = t[Inscope].ffill()\n",
    "        t['Value Sales'] = t['Value Sales'].fillna(0)\n",
    "        t = t[t['Value Sales']>1000]\n",
    "        t = t.sort_values('Value Sales',ascending = False)\n",
    "        dfTotal = t[t[Inscope].str.contains('Total')]\n",
    "        dfTotal=dfTotal.sort_values(['Value Sales'],ascending=False)\n",
    "        dfTotal['Sort_Value']=range(1,dfTotal.shape[0]+1)\n",
    "        dfTotal[Inscope]=dfTotal[Inscope].str.replace(' Total','')\n",
    "        print(k,dfTotal)\n",
    "        t = t[~t[Inscope].str.contains('Total')].head(15)\n",
    "        t=t.merge(dfTotal[[Inscope,'Sort_Value']]).sort_values(['Sort_Value','Value Sales'],ascending=[True,False])\n",
    "        # print(k,t)\n",
    "        \n",
    "        t=t.dropna(subset=['Base Price/Unit', 'Base Price/KG'])\n",
    "        if not t.empty:\n",
    "            output[k] = t             # missing_values = sectorPD[key][['Base Price/Unit', 'Base Price/KG']].isna().any()\n",
    "    return output   "
   ]
  },
  {
   "cell_type": "code",
   "execution_count": null,
   "id": "dae4d3b2",
   "metadata": {},
   "outputs": [],
   "source": [
    "if len(parent_lists[direct_parent['Sector']])!=0 and len(sectors)!=0:\n",
    "    sectorP3mPD=cleaningPricePoint(price_distribution_Sector_p3m,Inscope=\"Sector\")\n",
    "    sectorP12mPD=cleaningPricePoint(price_distribution_Sector_p12m,Inscope=\"Sector\")\n",
    "    sectorP3mPD_manuf=cleaningPricePoint(price_distribution_Sector_manuf_p3m,Inscope=\"Sector\")\n",
    "    sectorP12mPD_manuf=cleaningPricePoint(price_distribution_Sector_manuf_p12m,Inscope=\"Sector\")\n",
    "if len(parent_lists[direct_parent['Segment']])!=0 and len(segments)!=0:\n",
    "    segmentP3mPD=cleaningPricePoint(price_distribution_Segment_p3m,Inscope=\"Segment\")\n",
    "    segmentP12mPD=cleaningPricePoint(price_distribution_Segment_p12m,Inscope=\"Segment\")\n",
    "    segmentP3mPD_manuf=cleaningPricePoint(price_distribution_Segment_manuf_p3m,Inscope=\"Segment\")\n",
    "    segmentP12mPD_manuf=cleaningPricePoint(price_distribution_Segment_manuf_p12m,Inscope=\"Segment\")\n",
    "if len(parent_lists[direct_parent['SubSegment']])!=0 and len(subsegments)!=0:\n",
    "    sub_segmentP3mPD=cleaningPricePoint(price_distribution_SubSegment_p3m,Inscope=\"SubSegment\")\n",
    "    sub_segmentP12mPD=cleaningPricePoint(price_distribution_SubSegment_p12m,Inscope=\"SubSegment\")\n",
    "    sub_segmentP3mPD_manuf=cleaningPricePoint(price_distribution_SubSegment_manuf_p3m,Inscope=\"SubSegment\")\n",
    "    sub_segmentP12mPD_manuf=cleaningPricePoint(price_distribution_SubSegment_manuf_p12m,Inscope=\"SubSegment\")\n",
    "if len(parent_lists[direct_parent['SubCategory']])!=0 and len(subcategories)!=0:\n",
    "    sub_categoryP3mPD=cleaningPricePoint(price_distribution_SubCategory_p3m,Inscope=\"SubCategory\")\n",
    "    sub_categoryP12mPD=cleaningPricePoint(price_distribution_SubCategory_p12m,Inscope=\"SubCategory\")\n",
    "    sub_categoryP3mPD_manuf=cleaningPricePoint(price_distribution_SubCategory_manuf_p3m,Inscope=\"SubCategory\")\n",
    "    sub_categoryP12mPD_manuf=cleaningPricePoint(price_distribution_SubCategory_manuf_p12m,Inscope=\"SubCategory\")       \n",
    "\n",
    "########################################  Scraped  ############################################\n",
    "if run_scraped:\n",
    "    if len(parent_lists[direct_parent['Sector']])!=0 and len(sectors)!=0:\n",
    "        sectorPD_scraped=cleaningPricePointScraped(price_distribution_scraped_Sector,price_distribution_scraped_Sector_Ean,Inscope=\"Sector\")\n",
    "        sectorPD_manuf_scraped=cleaningPricePointScraped(price_distribution_scraped_Sector_manuf,price_distribution_scraped_Sector_Ean_manuf,Inscope=\"Sector\")\n",
    "    if len(parent_lists[direct_parent['Segment']])!=0 and len(segments)!=0:\n",
    "        segmentPD_scraped=cleaningPricePointScraped(price_distribution_scraped_Segment,price_distribution_scraped_Segment_Ean,Inscope=\"Segment\")\n",
    "        segmentPD_manuf_scraped=cleaningPricePointScraped(price_distribution_scraped_Segment_manuf,price_distribution_scraped_Segment_Ean_manuf,Inscope=\"Segment\")\n",
    "    if len(parent_lists[direct_parent['SubSegment']])!=0 and len(subsegments)!=0:\n",
    "        sub_segmentPD_scraped=cleaningPricePointScraped(price_distribution_scraped_SubSegment,price_distribution_scraped_SubSegment_Ean,Inscope=\"SubSegment\")\n",
    "        sub_segmentPD_manuf_scraped=cleaningPricePointScraped(price_distribution_scraped_SubSegment_manuf,price_distribution_scraped_SubSegment_Ean_manuf,Inscope=\"SubSegment\")\n",
    "    if len(parent_lists[direct_parent['SubCategory']])!=0 and len(subcategories)!=0:\n",
    "        sub_categoryPD_scraped=cleaningPricePointScraped(price_distribution_scraped_SubCategory,price_distribution_scraped_SubCategory_Ean,Inscope=\"SubCategory\")\n",
    "        sub_categoryPD_manuf_scraped=cleaningPricePointScraped(price_distribution_scraped_SubCategory_manuf,price_distribution_scraped_SubCategory_Ean_manuf,Inscope=\"SubCategory\") "
   ]
  },
  {
   "cell_type": "markdown",
   "id": "c0bfd2bc",
   "metadata": {},
   "source": [
    "## Price Contribution"
   ]
  },
  {
   "cell_type": "code",
   "execution_count": 73,
   "id": "cbdf417d",
   "metadata": {},
   "outputs": [],
   "source": [
    "P12M = clean_P12M(price_point_by_brands_items_P12M,slideby=f\"{BrandOrTopB}\")\n",
    "P3M = clean_P3M(price_point_by_brands_items_P3M,slideby=f\"{BrandOrTopB}\")\n",
    "P12M_manuf = clean_P12M(price_point_by_manuf_items_P12M,slideby=f'{ManufOrTopC}')\n",
    "P3M_manuf= clean_P3M(price_point_by_manuf_items_P3M,slideby=f'{ManufOrTopC}')\n",
    "if run_scraped:\n",
    "    item_scraped = clean_comparison_scraped(price_point_by_brands_items_scraped,price_point_by_brands_items_P12M,slideby=f\"{BrandOrTopB}\")\n",
    "    item_manuf_scraped = clean_comparison_scraped(price_point_by_manuf_items_scraped,price_point_by_manuf_items_P12M,slideby=f'{ManufOrTopC}')"
   ]
  },
  {
   "cell_type": "code",
   "execution_count": 74,
   "id": "c968d018",
   "metadata": {},
   "outputs": [],
   "source": [
    "# Step 2: Combine all EAN-level Value Sales data into one DataFrame\n",
    "ean_dfs = []\n",
    "\n",
    "for d in [\n",
    "    price_distribution_scraped_Sector_Ean,\n",
    "    price_distribution_scraped_Segment_Ean,\n",
    "    price_distribution_scraped_SubSegment_Ean,\n",
    "    price_distribution_scraped_SubCategory_Ean,\n",
    "]:\n",
    "     for df in d.values():\n",
    "        if isinstance(df, pd.DataFrame):\n",
    "            df = df.copy()\n",
    "            df = DetectHeader(df)\n",
    "            ean_dfs.append(df)\n",
    "\n",
    "combined_ean_df = pd.concat(ean_dfs, ignore_index=True).drop_duplicates(subset=['Ean'])\n",
    "\n",
    "# Step 3: Enrich each cleaned scraped df with Value Sales and keep top 15\n",
    "top_scraped = {}\n",
    "top_manuf_scraped = {}\n",
    "\n",
    "for key, df in item_scraped.items():\n",
    "        if 'Ean' in df.columns:\n",
    "            df['Ean'] = df['Ean'].astype(str)\n",
    "            combined_ean_df['Ean'] = combined_ean_df['Ean'].astype(str)\n",
    "\n",
    "            merged = df.merge(combined_ean_df[['Ean', 'Value Sales']], on='Ean', how='left')\n",
    "            merged['Value Sales'] = pd.to_numeric(merged['Value Sales'], errors='coerce').fillna(0)\n",
    "\n",
    "            top15 = merged.sort_values('Value Sales', ascending=False).head(15)\n",
    "            top_scraped[key] = top15\n",
    "\n",
    "for key, df in item_manuf_scraped.items():\n",
    "    if 'Ean' in df.columns:\n",
    "        df['Ean'] = df['Ean'].astype(str)\n",
    "        combined_ean_df['Ean'] = combined_ean_df['Ean'].astype(str)\n",
    "\n",
    "        merged = df.merge(combined_ean_df[['Ean', 'Value Sales']], on='Ean', how='left')\n",
    "        merged['Value Sales'] = pd.to_numeric(merged['Value Sales'], errors='coerce').fillna(0)\n",
    "\n",
    "        top15 = merged.sort_values('Value Sales', ascending=False).head(15)\n",
    "        top_manuf_scraped[key] = top15"
   ]
  },
  {
   "cell_type": "code",
   "execution_count": 75,
   "id": "d062ce42",
   "metadata": {},
   "outputs": [],
   "source": [
    "for key in P3M.keys():\n",
    "    if key not in P12M:\n",
    "        P12M[key] = pd.DataFrame({f'{prodORitem}': [],f\"{BrandOrTopB}\": [],'Gross Margin %': []})\n",
    "# Merge the dictionaries based on the 'Product' column\n",
    "merged_dict = {}\n",
    "for key in P3M.keys():\n",
    "\n",
    "    merged_df = pd.merge(P3M[key], P12M[key], on=[f'{prodORitem}',f\"{BrandOrTopB}\"], how='left')\n",
    "    merged_dict[key] = merged_df\n",
    "dropemptydf(merged_dict)"
   ]
  },
  {
   "cell_type": "code",
   "execution_count": 76,
   "id": "de75dbd9",
   "metadata": {},
   "outputs": [],
   "source": [
    "for key in P3M_manuf.keys():\n",
    "    if key not in P12M_manuf:\n",
    "        P12M_manuf[key] = pd.DataFrame({f'{prodORitem}': [],f'{ManufOrTopC}': [],'Gross Margin %': []}) \n",
    "# Merge the dictionaries based on the 'Product' column\n",
    "merged_dict_manuf = {}\n",
    "for key in P3M_manuf.keys():\n",
    "    merged_df = pd.merge(P3M_manuf[key], P12M_manuf[key], on=[f'{prodORitem}',f'{ManufOrTopC}'], how='left')\n",
    "    merged_df = merged_df.drop_duplicates()\n",
    "\n",
    "    merged_dict_manuf[key] = merged_df\n",
    "dropemptydf(merged_dict_manuf)"
   ]
  },
  {
   "cell_type": "markdown",
   "id": "e1410267",
   "metadata": {},
   "source": [
    "## Price Distribution By Brand"
   ]
  },
  {
   "cell_type": "code",
   "execution_count": 50,
   "id": "cdd82d14",
   "metadata": {},
   "outputs": [],
   "source": [
    "modified_brandPriceDistribution = brandPriceDistributionCleaning(price_distribution_by_brands_category,brandInScope= client_brands)\n",
    "dropemptydf(modified_brandPriceDistribution)"
   ]
  },
  {
   "cell_type": "markdown",
   "id": "742fe4dc",
   "metadata": {},
   "source": [
    "## Price Distribution By Brand by Sec/Seg/SubSeg/SubCat"
   ]
  },
  {
   "cell_type": "code",
   "execution_count": 124,
   "id": "b53fc7e8",
   "metadata": {},
   "outputs": [],
   "source": [
    "import copy\n",
    "\n",
    "###### Cleaning Price Distribution By Brand by Sec/Seg/SubSeg/SUbCat\n",
    "def segmentPriceDistributionCleaning(brandPriceDistributionOrigin,brandInScope=['Kerrygold'],sec_seg='Segment',sec_seg_InScope = []):\n",
    "    brandPriceDistribution = copy.deepcopy(brandPriceDistributionOrigin)\n",
    "    for key in brandPriceDistribution.keys():\n",
    "        brandPriceDistribution[key]=DetectHeader(brandPriceDistribution[key])\n",
    "        brandPriceDistribution[key][f\"{BrandOrTopB}\"] = brandPriceDistribution[key][f\"{BrandOrTopB}\"].ffill()\n",
    "        brandPriceDistribution[key][sec_seg] = np.where(brandPriceDistribution[key][f\"{BrandOrTopB}\"].str.contains(' Total'), brandPriceDistribution[key][f\"{BrandOrTopB}\"], brandPriceDistribution[key][sec_seg])\n",
    "        brandPriceDistribution[key][sec_seg] = brandPriceDistribution[key][sec_seg].ffill()\n",
    "        brandPriceDistribution[key][f\"{BrandOrTopB}\"]=brandPriceDistribution[key][f\"{BrandOrTopB}\"].ffill()\n",
    "        brandPriceDistribution[key]['Value Share']=brandPriceDistribution[key]['Value Share'].astype(float)\n",
    "        clientDf = brandPriceDistribution[key][brandPriceDistribution[key][f\"{BrandOrTopB}\"].isin(i + ' Total' for i in brandInScope)]\n",
    "        clientDf = clientDf.sort_values(\"Value Share\", ascending=False)\n",
    "        clientDf[f\"{BrandOrTopB}\"] = clientDf[f\"{BrandOrTopB}\"].str.replace(\" Total\", \"\")\n",
    "        # Exclude Brands with < 0.5% Market Share\n",
    "        brandPriceDistribution[key]=brandPriceDistribution[key][(brandPriceDistribution[key]['Value Share']>=.005)]# | (brandPriceDistribution[key][f\"{BrandOrTopB}\"].isin([i + ' Total' for i in brandInScope]+brandInScope))]\n",
    "        # Sort the brands on the Total Value Share\n",
    "        dfTotal=brandPriceDistribution[key][brandPriceDistribution[key][f\"{BrandOrTopB}\"].str.contains('Total')].sort_values(['Value Share'],ascending=False)\n",
    "        dfTotal[f\"{BrandOrTopB}\"]=dfTotal[f\"{BrandOrTopB}\"].str.replace(' Total','')\n",
    "        dfTotal=dfTotal[dfTotal[f\"{BrandOrTopB}\"]!='Other'] # Drop The brand named 'Other'\n",
    "        dfTotal=dfTotal.iloc[:5,:]\n",
    "        missingBrand = list(set(clientDf[f\"{BrandOrTopB}\"].unique())-set(dfTotal[f\"{BrandOrTopB}\"].unique()))\n",
    "        \n",
    "        if missingBrand:\n",
    "            existBrand = dfTotal[dfTotal[f\"{BrandOrTopB}\"].isin(brandInScope)]\n",
    "            topBrandsWithoutClient=dfTotal[~dfTotal[f\"{BrandOrTopB}\"].isin(brandInScope)]\n",
    "            dfTotal = pd.concat([topBrandsWithoutClient.iloc[:topBrandsWithoutClient.shape[0] - len(missingBrand)],clientDf[clientDf[f\"{BrandOrTopB}\"].isin(missingBrand)],existBrand]).sort_values(['Value Share'],ascending=False)\n",
    "        else:\n",
    "            pass\n",
    "        dfTotal['Sort_Value_brands'] = range(1,dfTotal.shape[0]+1)\n",
    "        brandPriceDistribution[key] = brandPriceDistribution[key][~brandPriceDistribution[key][f\"{BrandOrTopB}\"].str.contains(' Total')]#drop total after sort\n",
    "        dfTotalSegment = brandPriceDistribution[key][brandPriceDistribution[key][sec_seg].str.contains('Total')]#.sort_values(['Value Share'],ascending=False)\n",
    "        dfTotalSegment = dfTotalSegment[dfTotalSegment[f\"{BrandOrTopB}\"].isin(dfTotal[f\"{BrandOrTopB}\"].unique())]\n",
    "        segmentDf=[]\n",
    "        for brand in dfTotalSegment[f\"{BrandOrTopB}\"].unique():\n",
    "            segmentDfPerBrand=dfTotalSegment[dfTotalSegment[f\"{BrandOrTopB}\"]==brand].sort_values(['Value Share'],ascending=False)\n",
    "            segmentDfPerBrand['Sort_Value_'+sec_seg]=range(1,segmentDfPerBrand.shape[0]+1)\n",
    "            segmentDfPerBrand[sec_seg]=segmentDfPerBrand[sec_seg].str.replace(' Total','')\n",
    "            unique_size=brandPriceDistribution[key]['Pack Size'].unique()\n",
    "            eachBrandDf=brandPriceDistribution[key][brandPriceDistribution[key][f\"{BrandOrTopB}\"]==brand]\n",
    "            eachBrandDf=eachBrandDf[~eachBrandDf[sec_seg].str.contains('Total')]\n",
    "            missing_brand_size={}\n",
    "            for segment in eachBrandDf[sec_seg].unique():\n",
    "                missingSizes=list(set(unique_size)-set(eachBrandDf[eachBrandDf[sec_seg]==segment]['Pack Size'].unique()))\n",
    "                missing_brand_size[segment] = missingSizes\n",
    "            missing_brand_size=pd.DataFrame({f\"{BrandOrTopB}\":brand,sec_seg:missing_brand_size.keys(),'Pack Size':missing_brand_size.values()}).explode('Pack Size')\n",
    "            brandPriceDistribution[key]=pd.concat([brandPriceDistribution[key],missing_brand_size])#.sort_values(by=[sec_seg]).replace(np.nan,'0')\n",
    "            brandPriceDistribution[key]['Pack Size No']=brandPriceDistribution[key]['Pack Size'].str.replace('GR','').str.replace('OZ','')\n",
    "            segmentDf.append(segmentDfPerBrand)\n",
    "        if segmentDf:    \n",
    "            segmentDf=pd.concat(segmentDf)\n",
    "            brandPriceDistribution[key]=brandPriceDistribution[key].merge(dfTotal[[f\"{BrandOrTopB}\",'Sort_Value_brands']])#.sort_values(['Sort_Value_brands','Sort_Value_Segment','Pack Size No'])\n",
    "            brandPriceDistribution[key]=brandPriceDistribution[key].merge(segmentDf[[f\"{BrandOrTopB}\",sec_seg,'Sort_Value_'+sec_seg]],on=[f\"{BrandOrTopB}\",sec_seg]).sort_values(['Sort_Value_brands','Sort_Value_'+sec_seg,'Pack Size No'])\n",
    "        brandPriceDistribution[key]=brandPriceDistribution[key][brandPriceDistribution[key]['Pack Size'].notna()]\n",
    "        brandPriceDistribution[key]=brandPriceDistribution[key].fillna(0)\n",
    "        brandPriceDistribution[key]=brandPriceDistribution[key][brandPriceDistribution[key][sec_seg].isin(sec_seg_InScope)]\n",
    "    return brandPriceDistribution"
   ]
  },
  {
   "cell_type": "code",
   "execution_count": 125,
   "id": "eefc790a",
   "metadata": {},
   "outputs": [],
   "source": [
    "if len(sectors)!=0:\n",
    "    modified_sectorsPriceDistribution = segmentPriceDistributionCleaning(price_distribution_by_brands_Sector,client_brands,sec_seg = 'Sector',sec_seg_InScope = sectors)\n",
    "    dropemptydf(modified_sectorsPriceDistribution)\n",
    "if len(segments)!=0:\n",
    "    modified_segmentPriceDistribution = segmentPriceDistributionCleaning(price_distribution_by_brands_Segment,client_brands,sec_seg='Segment',sec_seg_InScope = segments)\n",
    "    dropemptydf(modified_segmentPriceDistribution)\n",
    "\n",
    "if len(subsegments)!=0:\n",
    "    modified_subsegmentPriceDistribution = segmentPriceDistributionCleaning(price_distribution_by_brands_SubSegment,client_brands,sec_seg='SubSegment',sec_seg_InScope = subsegments)\n",
    "    dropemptydf(modified_subsegmentPriceDistribution)\n",
    "\n",
    "if len(subcategories)!=0:\n",
    "    modified_subcategoryPriceDistribution = segmentPriceDistributionCleaning(price_distribution_by_brands_SubCategory,client_brands,sec_seg='SubCategory',sec_seg_InScope = subcategories)\n",
    "    dropemptydf(modified_subcategoryPriceDistribution)\n"
   ]
  },
  {
   "cell_type": "markdown",
   "id": "15de1da1",
   "metadata": {},
   "source": [
    "## Cleaning Correlation Slide "
   ]
  },
  {
   "cell_type": "code",
   "execution_count": 570,
   "id": "9e23179e",
   "metadata": {},
   "outputs": [],
   "source": [
    "#### Correlation slide clean\n",
    "def clean_data(price_correlation_data,p3y=False):\n",
    "    cleaned_data = {}\n",
    "    final ={}\n",
    "    for key in price_correlation_data:\n",
    "        df = price_correlation_data[key].copy()\n",
    "        df=DetectHeader(df)\n",
    "        df[f\"{BrandOrTopB}\"] = df[f\"{BrandOrTopB}\"].fillna(method='ffill')\n",
    "        df = df[~df[f\"{BrandOrTopB}\"].str.contains(\"All Others\", na=False)]\n",
    "        df.fillna(0,inplace = True)\n",
    "        if p3y==True:\n",
    "            df['QuarterStart'] = df['QuarterStart'].astype(str)\n",
    "            # Apply the filter to exclude rows where 'QuarterStart' contains 'Total'\n",
    "            df = df[~df['QuarterStart'].str.contains('Total', case=False, na=False)]\n",
    "        if df.shape[0] > 0: \n",
    "            cleaned_data[key] = df\n",
    "    for key, df in cleaned_data.items():\n",
    "        for client in client_brands:\n",
    "            if client in df[f\"{BrandOrTopB}\"].unique():\n",
    "                total_sorted = df[df[f\"{BrandOrTopB}\"].str.contains('total', case=False)]\n",
    "                total_sorted[f\"{BrandOrTopB}\"] = total_sorted[f\"{BrandOrTopB}\"].str.replace(' Total', '', regex=False)\n",
    "                total_sorted = total_sorted[~total_sorted[f\"{BrandOrTopB}\"].isin(client_brands+['Grand'])].sort_values(by =\"Value Share\", ascending = False)\n",
    "                top_3 = total_sorted.reset_index(drop=True).head(3)\n",
    "                top_3[f\"{BrandOrTopB}\"] = top_3[f\"{BrandOrTopB}\"].str.replace(' Total', '', regex=False)\n",
    "                top_3_brands = top_3[f\"{BrandOrTopB}\"]\n",
    "                for i in top_3_brands:\n",
    "                    client_df = df[df[f\"{BrandOrTopB}\"]== client].reset_index(drop= True)\n",
    "                    comp_df = df[df[f\"{BrandOrTopB}\"]== i].reset_index(drop= True)\n",
    "                    merged_df = pd.merge(client_df, comp_df, on='End of Week', suffixes=('_client', '_comp'))\n",
    "                    merged_df['Av Price/KG_comp'] = merged_df['Av Price/KG_comp'].replace(0,np.nan)\n",
    "                    merged_df['Price lx vs PL'] = merged_df['Av Price/KG_client'] / merged_df['Av Price/KG_comp']\n",
    "                    new_key = key + ' | ' + client + ' | ' + i\n",
    "                    if merged_df.shape[0] > 0:\n",
    "                        final[new_key] = merged_df\n",
    "    \n",
    "    return final\n",
    "    "
   ]
  },
  {
   "cell_type": "code",
   "execution_count": 571,
   "id": "d8be7941",
   "metadata": {},
   "outputs": [],
   "source": [
    "modified_price = clean_data(price_correlation_P3Y,p3y=True)"
   ]
  },
  {
   "cell_type": "code",
   "execution_count": 572,
   "id": "6d358e0c",
   "metadata": {},
   "outputs": [],
   "source": [
    "modified_price_P12M = {}\n",
    "past_12_months = pd.date_range(end=end_date , periods=12, freq='M').strftime('%b-%y').tolist()\n",
    "for key in modified_price.keys():\n",
    "    df=modified_price[key].copy()\n",
    "    df['End of Week'] = pd.to_datetime(df['End of Week'])\n",
    "    filtered_df = df[df['End of Week'].dt.strftime('%b-%y').isin(past_12_months)]\n",
    "    if not filtered_df.empty:\n",
    "        modified_price_P12M[key] = filtered_df"
   ]
  },
  {
   "cell_type": "code",
   "execution_count": 573,
   "id": "eb733eab",
   "metadata": {},
   "outputs": [],
   "source": [
    "modified_price_P3M = {}\n",
    "past_3_months = pd.date_range(end=end_date , periods=3, freq='M').strftime('%b-%y').tolist()\n",
    "for key in modified_price_P12M.keys():\n",
    "    df=modified_price_P12M[key].copy()\n",
    "    df['End of Week'] = pd.to_datetime(df['End of Week'])\n",
    "    filtered_df = df[df['End of Week'].dt.strftime('%b-%y').isin(past_3_months)]\n",
    "    modified_price_P3M[key] = filtered_df"
   ]
  },
  {
   "cell_type": "code",
   "execution_count": 574,
   "id": "cef7b1b0",
   "metadata": {},
   "outputs": [],
   "source": [
    "categories_dict = {key: df for key, df in modified_price.items() if key.split(' | ')[0] in categories}\n",
    "sectors_dict = {key: df for key, df in modified_price.items() if key.split(' | ')[1] in sectors}\n",
    "segments_dict = {key: df for key, df in modified_price.items() if key.split(' | ')[1] in segments }\n",
    "subsegments_dict = {key: df for key, df in modified_price.items() if key.split(' | ')[1] in subsegments }\n",
    "subcategories_dict = {key: df for key, df in modified_price.items() if key.split(' | ')[1] in subcategories }\n"
   ]
  },
  {
   "cell_type": "code",
   "execution_count": 575,
   "id": "550910fd",
   "metadata": {},
   "outputs": [],
   "source": [
    "categories_dict_P12M = {key: df for key, df in modified_price_P12M.items() if key.split(' | ')[0] in categories}\n",
    "sectors_dict_P12M = {key: df for key, df in modified_price_P12M.items() if key.split(' | ')[1] in sectors}\n",
    "segments_dict_P12M = {key: df for key, df in modified_price_P12M.items() if key.split(' | ')[1] in segments }\n",
    "subsegments_dict_P12M = {key: df for key, df in modified_price_P12M.items() if key.split(' | ')[1] in subsegments }\n",
    "subcategories_dict_P12M = {key: df for key, df in modified_price_P12M.items() if key.split(' | ')[1] in subcategories }"
   ]
  },
  {
   "cell_type": "code",
   "execution_count": 576,
   "id": "6883ce65",
   "metadata": {},
   "outputs": [],
   "source": [
    "categories_dict_P3M = {key: df for key, df in modified_price_P3M.items() if key.split(' | ')[0] in categories}\n",
    "sectors_dict_P3M = {key: df for key, df in modified_price_P3M.items() if key.split(' | ')[1] in sectors}\n",
    "segments_dict_P3M = {key: df for key, df in modified_price_P3M.items() if key.split(' | ')[1] in segments }\n",
    "subsegments_dict_P3M = {key: df for key, df in modified_price_P3M.items() if key.split(' | ')[1] in subsegments }\n",
    "subcategories_dict_P3M = {key: df for key, df in modified_price_P3M.items() if key.split(' | ')[1] in subcategories }"
   ]
  },
  {
   "cell_type": "code",
   "execution_count": 577,
   "id": "48888e2c",
   "metadata": {},
   "outputs": [],
   "source": [
    "def compute_r_squared(modified_price, modified_price_p12m):\n",
    "    r_squared_dict = {}\n",
    "    filtered_modified_price = {}\n",
    "\n",
    "    for key, df in modified_price.items():\n",
    "        df.fillna(0, inplace=True)\n",
    "        r2chart1, r2chart2 = None, None\n",
    "\n",
    "        # --- Chart 1 ---\n",
    "        if 'Price lx vs PL' in df.columns and 'Volume Share_client' in df.columns:\n",
    "            df12m = modified_price_p12m.get(key)\n",
    "            if df12m is not None:\n",
    "                df12m.fillna(0, inplace=True)\n",
    "                x_vals1 = df12m['Price lx vs PL'].tolist()\n",
    "                y_vals1 = df12m['Volume Share_client'].tolist()\n",
    "\n",
    "                if len(x_vals1) > 1 and len(y_vals1) > 1:\n",
    "                    slope, intercept = np.polyfit(x_vals1, y_vals1, 1)\n",
    "                    y_hat = [slope * x + intercept for x in x_vals1]\n",
    "                    ss_res = sum((y - y_h) ** 2 for y, y_h in zip(y_vals1, y_hat))\n",
    "                    ss_tot = sum((y - np.mean(y_vals1)) ** 2 for y in y_vals1)\n",
    "                    r2chart1 = 1 - ss_res / ss_tot if ss_tot != 0 else 0\n",
    "\n",
    "        # --- Chart 2 ---\n",
    "        if key in modified_price_p12m:\n",
    "            df12m = modified_price_p12m[key]\n",
    "            df12m.fillna(0, inplace=True)\n",
    "\n",
    "            if 'Av Price/KG_client' in df12m.columns and 'Volume Share_client' in df12m.columns:\n",
    "                x_vals2 = df12m['Av Price/KG_client'].tolist()\n",
    "                y_vals2 = df12m['Volume Share_client'].tolist()\n",
    "\n",
    "                if len(x_vals2) > 1 and len(y_vals2) > 1:\n",
    "                    slope2, intercept2 = np.polyfit(x_vals2, y_vals2, 1)\n",
    "                    y_hat2 = [slope2 * x + intercept2 for x in x_vals2]\n",
    "                    ss_res2 = sum((y - y_h) ** 2 for y, y_h in zip(y_vals2, y_hat2))\n",
    "                    ss_tot2 = sum((y - np.mean(y_vals2)) ** 2 for y in y_vals2)\n",
    "                    r2chart2 = 1 - ss_res2 / ss_tot2 if ss_tot2 != 0 else 0\n",
    "\n",
    "        r_squared_dict[key] = {\"chart1\": r2chart1, \"chart2\": r2chart2}\n",
    "\n",
    "        if (r2chart1 is not None and r2chart1 >= 0.5) or (r2chart2 is not None and r2chart2 >= 0.5):\n",
    "            filtered_modified_price[key] = df\n",
    "\n",
    "    return filtered_modified_price, r_squared_dict\n"
   ]
  },
  {
   "cell_type": "code",
   "execution_count": 578,
   "id": "ca710921",
   "metadata": {},
   "outputs": [],
   "source": [
    "categories_dict,x = compute_r_squared(categories_dict, categories_dict_P12M)\n",
    "sectors_dict,y = compute_r_squared(sectors_dict, sectors_dict_P12M)\n",
    "segments_dict,_ = compute_r_squared(segments_dict, segments_dict_P12M)\n",
    "subsegments_dict,_ = compute_r_squared(subsegments_dict, subsegments_dict_P12M)\n",
    "subcategories_dict,_ = compute_r_squared(subcategories_dict, subcategories_dict_P12M)"
   ]
  },
  {
   "cell_type": "markdown",
   "id": "256b8a87",
   "metadata": {},
   "source": [
    "## Frist deck pricing output for slide 1_4"
   ]
  },
  {
   "cell_type": "code",
   "execution_count": 579,
   "id": "6294a1a1",
   "metadata": {},
   "outputs": [],
   "source": [
    "if run_firstdeck:\n",
    "    index=(summaryindex)\n",
    "\n",
    "    index.extend([0]*2)\n",
    "    # Slide 1\n",
    "    index.extend([1] * ((1 if sectors else 0) + (1 if segments else 0) + (1 if subcategories else 0) + (1 if subsegments else 0)))\n",
    "    index.extend([1] * ((1 if sectors else 0) + (1 if segments else 0) + (1 if subcategories else 0) + (1 if subsegments else 0)))\n",
    "    # Slide 2\n",
    "    repeat_count_slide2 = (\n",
    "        (2 if segments and len(parent_lists[direct_parent[\"Segment\"]]) > 0 else 0) +\n",
    "        (2 if subsegments and len(parent_lists[direct_parent[\"SubSegment\"]]) > 0 else 0) +\n",
    "        (2 if subcategories and len(parent_lists[direct_parent[\"SubCategory\"]]) > 0 else 0)\n",
    "    )\n",
    "    index.extend([2] * repeat_count_slide2)\n",
    "    if len(client_brands) > 0:\n",
    "        repeat_count_slide3 = ((1 if sectors else 0) + (1 if segments else 0) + (1 if subsegments else 0) + (1 if subcategories else 0)\n",
    "        )\n",
    "        index.extend([3] * repeat_count_slide3)\n",
    "\n",
    "    duplicationsummaryslide=[(1 if categories else 0),(1 if sectors else 0),(1 if segments else 0),(1 if subsegments else 0),(1 if subcategories else 0) ]\n",
    "    duplication_0=[len(modified_price_positioning_brands_sorted.keys())]\n",
    "    duplication_0_manuf=[len(modified_price_positioning_manuf_sorted.keys())]\n",
    "    # slide 1 \n",
    "    duplication_1=[sum(len(v) for v in sharGrowthDf_brands_sec.values())if sectors else 0, sum(len(v) for v in sharGrowthDf_brands_seg.values()) if segments else 0, \n",
    "                sum(len(v) for v in sharGrowthDf_brands_subseg.values()) if subsegments else 0, sum(len(v) for v in sharGrowthDf_brands_subcat.values()) if subcategories  else 0]\n",
    "    duplication_1_manuf=[sum(len(v) for v in sharGrowthDf_manuf_sec.values())if sectors else 0, sum(len(v) for v in sharGrowthDf_manuf_seg.values()) if segments else 0, \n",
    "                sum(len(v) for v in sharGrowthDf_manuf_subseg.values()) if subsegments else 0, sum(len(v) for v in sharGrowthDf_manuf_subcat.values()) if subcategories  else 0]\n",
    "    #slide 2\n",
    "    duplication_2=[len(modified_manuf_segments_leadershipanalysis.keys())if segments and len(parent_lists[direct_parent[\"Segment\"]])>0 else 0,\n",
    "                len(modified_brands_segments_leadershipanalysis.keys())if segments and len(parent_lists[direct_parent[\"Segment\"]])>0 else 0,\n",
    "                len(modified_manuf_subsegments_leadershipanalysis.keys())if subsegments and len(parent_lists[direct_parent[\"SubSegment\"]])>0 else 0,\n",
    "                len(modified_brands_subsegments_leadershipanalysis.keys())if subsegments and len(parent_lists[direct_parent[\"SubSegment\"]])>0 else 0,\n",
    "                len(modified_manuf_subcategory_leadershipanalysis.keys())if subcategories and len(parent_lists[direct_parent[\"SubCategory\"]])>0 else 0, \n",
    "                len(modified_brands_subcategory_leadershipanalysis.keys())if subcategories and len(parent_lists[direct_parent[\"SubCategory\"]])>0 else 0]    \n",
    "    #slide 3 \n",
    "    duplication_3=[len(modified_sector_leadership.keys())if sectors else 0,\n",
    "                len(modified_segment_leadership.keys())if segments else 0,\n",
    "                len(modified_subsegment_leadership.keys())if subsegments else 0,    \n",
    "                len(modified_subcategory_leadership.keys())if subcategories else 0]\n",
    "    duplication =duplicationsummaryslide+duplication_0+duplication_0_manuf+duplication_1+duplication_1_manuf + duplication_2 + duplication_3  \n",
    "    duplication=[i for i in duplication if i !=0]\n",
    "\n",
    "    section_namessummary_sldie=['Price Positioning Summary Category'if len(categories)>0 else [],'Price Positioning Summary Sector' if len(sectors)>0 else [],'Price Positioning Summary Segment' if len(segments)>0 else [],'Price Positioning Summary Subsegment' if len(subsegments)>0 else [],'Price Positioning Summary SubCategory' if len(subcategories)>0 else []]\n",
    "    section_names_0= [\"Price Positioning Analysis By Brands\"]\n",
    "    section_names_0_manuf= [\"Price Positioning Analysis By Manufacturer\"]\n",
    "    # slide 1 \n",
    "    section_names_1=[(\"Sectors Share and Growth By Brands\" if len(sectors)>0 else []),\n",
    "                    (\"Segments Share and Growth By Brands\" if len(segments)>0 else []),\n",
    "                    (\"SubSegments Share and Growth By Brands\"if len(subsegments)>0 else[]),\n",
    "                    (\"SubCategory Share and Growth By Brands\"if len(subcategories)>0 else[])]\n",
    "    section_names_1_maunf=[(\"Sectors Share and Growth By Manufacturer\" if len(sectors)>0 else []),\n",
    "                    (\"Segments Share and Growth By Manufacturer\" if len(segments)>0 else []),\n",
    "                    (\"SubSegments Share and Growth By Manufacturer\"if len(subsegments)>0 else[]),\n",
    "                    (\"SubCategory Share and Growth By Manufacturer\"if len(subcategories)>0 else[])]\n",
    "    # slide_2\n",
    "    section_names_2=[(f\"{direct_parent[\"Segment\"][:3]}/Seg Value Sales Vs Avg Price By Manufacturer\" if len(segments)>0 and len(parent_lists[direct_parent[\"Segment\"]])>0 else []),\n",
    "                    (f\"{direct_parent[\"Segment\"][:3]}/Seg Value Sales Vs Avg Price\" if len(segments)>0 and len(parent_lists[direct_parent[\"Segment\"]])>0 else []),\n",
    "                    (f\"{direct_parent[\"SubSegment\"][:3]}/SubSeg Value Sales Vs Avg Price By Manufacturer\" if len(subsegments)>0 and len(parent_lists[direct_parent[\"SubSegment\"]])>0 else []),\n",
    "                    (f\"{direct_parent[\"SubSegment\"][:3]}/SubSeg Value Sales Vs Avg Price\" if len(subsegments)>0 and len(parent_lists[direct_parent[\"SubSegment\"]])>0 else []),\n",
    "                    (f\"{direct_parent[\"SubCategory\"][:3]}/SubCatg Value Sales Vs Avg Price By Manufacturer\" if len(subcategories)>0 and len(parent_lists[direct_parent[\"SubCategory\"]])>0  else []),\n",
    "                    (f\"{direct_parent[\"SubCategory\"][:3]}/SubCatg Value Sales Vs Avg Price\" if len(subcategories)>0 and len(parent_lists[direct_parent[\"SubCategory\"]])>0  else [])]\n",
    "    #slide_3 \n",
    "    section_names_3 = []\n",
    "\n",
    "    if len(client_brands) > 0:\n",
    "        section_names_3.extend([\n",
    "            \"Sectors Value Sales Vs Avg Price\" if len(sectors) > 0 else [],\n",
    "            \"Segment Value Sales Vs Avg Price\" if len(segments) > 0 else [],\n",
    "            \"SubSegment Value Sales Vs Avg Price\" if len(subsegments) > 0 else [],\n",
    "            \"SubCategory Value Sales Vs Avg Price\" if len(subcategories) > 0 else []\n",
    "        ])\n",
    "\n",
    "    section_names = [*section_namessummary_sldie,*section_names_0,*section_names_0_manuf,*section_names_1 ,*section_names_1_maunf, *section_names_2 , *section_names_3  ]\n",
    "    section_names=[i for i in section_names if i !=[]]\n",
    "\n",
    "    path = os.getcwd() + '\\Pricing base.pptx'\n",
    "    new_pre = os.getcwd() + '\\Pricing duplicated.pptx'"
   ]
  },
  {
   "cell_type": "code",
   "execution_count": 580,
   "id": "6a8fe20f",
   "metadata": {},
   "outputs": [
    {
     "name": "stdout",
     "output_type": "stream",
     "text": [
      "[[11, 11, 11], [12, 12, 12], [13, 13, 13], 0, 0, 1, 1, 1, 1, 2, 2, 3, 3]\n",
      "13\n",
      "[1, 1, 1, 15, 15, 3, 3, 3, 3, 3, 8, 8, 8]\n",
      "13\n",
      "['Price Positioning Summary Category', 'Price Positioning Summary Sector', 'Price Positioning Summary Segment', 'Price Positioning Analysis By Brands', 'Price Positioning Analysis By Manufacturer', 'Sectors Share and Growth By Brands', 'Segments Share and Growth By Brands', 'Sectors Share and Growth By Manufacturer', 'Segments Share and Growth By Manufacturer', 'Sec/Seg Value Sales Vs Avg Price By Manufacturer', 'Sec/Seg Value Sales Vs Avg Price', 'Sectors Value Sales Vs Avg Price', 'Segment Value Sales Vs Avg Price']\n",
      "13\n",
      "c:\\Users\\BW4SA\\Documents\\Slide-Automate\\Pricing slide duplicate\\Pricing base.pptx\n",
      "c:\\Users\\BW4SA\\Documents\\Slide-Automate\\Pricing slide duplicate\\Pricing duplicated.pptx\n",
      "72\n"
     ]
    }
   ],
   "source": [
    "if run_firstdeck:\n",
    "    print(index)\n",
    "    print(len(index))\n",
    "    print(duplication)\n",
    "    print(len(duplication))\n",
    "    print(section_names)\n",
    "    print(len(section_names))\n",
    "    print(path)\n",
    "    print(new_pre)\n",
    "    print(sum(duplication))\n"
   ]
  },
  {
   "cell_type": "code",
   "execution_count": 581,
   "id": "12873ca9",
   "metadata": {},
   "outputs": [],
   "source": [
    "if run_firstdeck:\n",
    "    slideDuplication(index,duplication,section_names,path,new_pre)"
   ]
  },
  {
   "cell_type": "code",
   "execution_count": 582,
   "id": "69a32140",
   "metadata": {},
   "outputs": [],
   "source": [
    "if run_firstdeck:\n",
    "    prs = Presentation(new_pre)"
   ]
  },
  {
   "cell_type": "code",
   "execution_count": 583,
   "id": "e390b211",
   "metadata": {},
   "outputs": [],
   "source": [
    "if run_firstdeck:\n",
    "\n",
    "    def calculate_position(end):\n",
    "        \n",
    "        return sum(duplication[i] * (1 if isinstance(index[i], int) else len(index[i])) for i in range(end))"
   ]
  },
  {
   "cell_type": "markdown",
   "id": "3560b697",
   "metadata": {},
   "source": [
    "#### Price Positioning (slide 1)"
   ]
  },
  {
   "cell_type": "code",
   "execution_count": 584,
   "id": "4d282af9",
   "metadata": {},
   "outputs": [
    {
     "name": "stdout",
     "output_type": "stream",
     "text": [
      "9 0\n",
      "9 1\n",
      "9 2\n",
      "10 0\n",
      "10 1\n",
      "10 2\n",
      "11 0\n",
      "11 1\n",
      "11 2\n",
      "9\n"
     ]
    }
   ],
   "source": [
    "if run_firstdeck:\n",
    "    p=0\n",
    "    pos=calculate_position(p)\n",
    "    if len(categories)>0:\n",
    "        pricepositionSummary(prs, cat_groupsdf, pos, cat_groups,'Category',p)\n",
    "        p +=1    \n",
    "        pos=calculate_position(p)\n",
    "    if len(sectors)>0:\n",
    "        pricepositionSummary(prs, sector_groupsdf, pos, sector_groups,'Sector',p)\n",
    "        p += 1\n",
    "        pos=calculate_position(p)\n",
    "    if len(segments)>0:\n",
    "        pricepositionSummary(prs, segment_groupsdf, pos, segment_groups,'Segment',p)\n",
    "        p += 1\n",
    "        pos=calculate_position(p)\n",
    "        print(pos)\n",
    "    if len(subsegments)>0:\n",
    "        pricepositionSummary(prs, subsegment_groupsdf, pos, subsegment_groups,'SubSegment',p)\n",
    "        p += 1\n",
    "        pos=calculate_position(p)\n",
    "    if len(subcategories)>0:\n",
    "        pricepositionSummary(prs, subcategory_groupsdf, pos, subcategory_groups,'SubCategory',p)\n",
    "        p += 1\n"
   ]
  },
  {
   "cell_type": "code",
   "execution_count": 585,
   "id": "f71f975d",
   "metadata": {},
   "outputs": [],
   "source": [
    "if run_firstdeck:\n",
    "    pricePositioning(prs,modified_price_positioning_brands_sorted,duplication[p],position=calculate_position(p),slideby=f\"{BrandOrTopB}\")\n",
    "    p+=1\n",
    "    pricePositioning(prs,modified_price_positioning_manuf_sorted,duplication[p],position=calculate_position(p),slideby=f'{ManufOrTopC}')\n",
    "    p+=1"
   ]
  },
  {
   "cell_type": "markdown",
   "id": "adfe80fd",
   "metadata": {},
   "source": [
    "#### Leeadership table (slide 2)"
   ]
  },
  {
   "cell_type": "code",
   "execution_count": 586,
   "id": "1a393a90",
   "metadata": {},
   "outputs": [],
   "source": [
    "if run_firstdeck:\n",
    "\n",
    "    ####By Brands\n",
    "    if len(sectors)!=0:\n",
    "        leadership_table1(prs,modified_leadership_table_brands_sorted,sharGrowthDf_brands_sec,sector_wob_leadership, position=calculate_position(p),Inscope=\"Sector\",slideby=f\"{BrandOrTopB}\")\n",
    "        p+=1\n",
    "    if len(segments)!=0:\n",
    "        leadership_table1(prs,modified_leadership_table_brands_sorted,sharGrowthDf_brands_seg,segment_wob_leadership, position=calculate_position(p),Inscope=\"Segment\",slideby=f\"{BrandOrTopB}\")\n",
    "        p+=1\n",
    "    if len(subsegments)!=0:    \n",
    "        leadership_table1(prs,modified_leadership_table_brands_sorted,sharGrowthDf_brands_subseg,subsegment_wob_leadership, position=calculate_position(p),Inscope=\"SubSegment\",slideby=f\"{BrandOrTopB}\")\n",
    "        p+=1\n",
    "    if len(subcategories)!=0:\n",
    "        leadership_table1(prs,modified_leadership_table_brands_sorted,sharGrowthDf_brands_subcat,subcategory_wob_leadership, position=calculate_position(p),Inscope=\"SubCategory\",slideby=f\"{BrandOrTopB}\")\n",
    "        p+=1\n",
    "\n",
    "    ####By manufactory\n",
    "    if len(sectors)!=0:\n",
    "        leadership_table1(prs,modified_leadership_table_manuf_sorted,sharGrowthDf_manuf_sec,sector_wob_leadership, position=calculate_position(p),Inscope=\"Sector\",slideby=f'{ManufOrTopC}')\n",
    "        p+=1\n",
    "    if len(segments)!=0:\n",
    "        leadership_table1(prs,modified_leadership_table_manuf_sorted,sharGrowthDf_manuf_seg,segment_wob_leadership, position=calculate_position(p),Inscope=\"Segment\",slideby=f'{ManufOrTopC}')\n",
    "        p+=1\n",
    "    if len(subsegments)!=0:    \n",
    "        leadership_table1(prs,modified_leadership_table_manuf_sorted,sharGrowthDf_manuf_subseg,subsegment_wob_leadership, position=calculate_position(p),Inscope=\"SubSegment\",slideby=f'{ManufOrTopC}')\n",
    "        p+=1\n",
    "    if len(subcategories)!=0:\n",
    "        leadership_table1(prs,modified_leadership_table_manuf_sorted,sharGrowthDf_manuf_subcat,subcategory_wob_leadership, position=calculate_position(p),Inscope=\"SubCategory\",slideby=f'{ManufOrTopC}')\n",
    "        p+=1\n",
    "\n"
   ]
  },
  {
   "cell_type": "markdown",
   "id": "afe1692d",
   "metadata": {},
   "source": [
    "#### Leadership Analysis (slides 3-4)"
   ]
  },
  {
   "cell_type": "code",
   "execution_count": 587,
   "id": "dde57a7c",
   "metadata": {},
   "outputs": [],
   "source": [
    "if run_firstdeck:\n",
    "    if len(segments)!=0 and len(parent_lists[direct_parent[\"Segment\"]])!=0:\n",
    "        totalSegmentLeadership(prs,duplication[p],modified_totals_segments_leadershipanalysis,modified_manuf_segments_leadershipanalysis,segments,position=calculate_position(p),parent = direct_parent[\"Segment\"], child = 'Segment',slideby=\"Top Companies\")\n",
    "        p+=1\n",
    "    if len(client_brands)!=0:\n",
    "        # Slide 4: 2 levels\n",
    "        if len(segments)!=0 and len(parent_lists[direct_parent[\"Segment\"]])!=0:\n",
    "            totalSegmentLeadership(prs,duplication[p],modified_totals_segments_leadershipanalysis,modified_brands_segments_leadershipanalysis,segments,position=calculate_position(p),parent = direct_parent[\"Segment\"], child = 'Segment')\n",
    "            p+=1\n",
    "\n",
    "    if len(subsegments)!=0 and len(parent_lists[direct_parent[\"SubSegment\"]])!=0:\n",
    "        totalSegmentLeadership(prs,duplication[p],modified_totals_subsegments_leadershipanalysis,modified_manuf_subsegments_leadershipanalysis,subsegments,position=calculate_position(p),parent = direct_parent[\"SubSegment\"], child = 'SubSegment',slideby=\"Top Companies\")\n",
    "        p+=1\n",
    "    if len(client_brands)!=0:\n",
    "        if len(subsegments)!=0 and len(parent_lists[direct_parent[\"SubSegment\"]])!=0:\n",
    "            totalSegmentLeadership(prs,duplication[p],modified_totals_subsegments_leadershipanalysis,modified_brands_subsegments_leadershipanalysis,subsegments,position=calculate_position(p),parent = direct_parent[\"SubSegment\"], child = 'SubSegment')\n",
    "            p+=1\n",
    "\n",
    "            \n",
    "    if len(subcategories)!=0 and len(parent_lists[direct_parent[\"SubCategory\"]])!=0:\n",
    "        totalSegmentLeadership(prs,duplication[p],modified_totals_subcategory_leadershipanalysis,modified_manuf_subcategory_leadershipanalysis,subcategories,position=calculate_position(p),parent = direct_parent[\"SubCategory\"], child = 'SubCategory',slideby=\"Top Companies\")\n",
    "        p+=1\n",
    "    if len(client_brands)!=0:\n",
    "        if len(subcategories)!=0 and len(parent_lists[direct_parent[\"SubCategory\"]])!=0:\n",
    "            totalSegmentLeadership(prs,duplication[p],modified_totals_subcategory_leadershipanalysis,modified_brands_subcategory_leadershipanalysis,subcategories,position=calculate_position(p),parent = direct_parent[\"SubCategory\"], child = 'SubCategory')\n",
    "            p+=1\n",
    "\n"
   ]
  },
  {
   "cell_type": "code",
   "execution_count": 588,
   "id": "97a5c991",
   "metadata": {},
   "outputs": [],
   "source": [
    "if run_firstdeck:\n",
    "    if len(client_brands)>0:\n",
    "        # Slide 3: 1 level\n",
    "        if len(sectors)!=0:\n",
    "            brandSegmentLeadership(prs,duplication[p],modified_sector_total_leadership,modified_sector_leadership,sectors,position=calculate_position(p),slide_by = 'Sectors',child=\"Sector\")\n",
    "            p+=1\n",
    "        if len(segments)!=0:\n",
    "            brandSegmentLeadership(prs,duplication[p],modified_segment_total_leadership,modified_segment_leadership,segments,position=calculate_position(p),slide_by = 'Segments',child=\"Segment\")\n",
    "            p+=1\n",
    "        if len(subsegments)!=0:\n",
    "            brandSegmentLeadership(prs,duplication[p],modified_subsegment_total_leadership,modified_subsegment_leadership,subsegments,position=calculate_position(p),slide_by = 'SubSegments',child=\"SubSegment\")\n",
    "            p+=1\n",
    "        if len(subcategories)!=0:\n",
    "            brandSegmentLeadership(prs,duplication[p],modified_subcategory_total_leadership,modified_subcategory_leadership,subcategories,position=calculate_position(p),slide_by = 'SubCategory',child=\"SubCategory\")  \n",
    "            p+=1\n"
   ]
  },
  {
   "cell_type": "code",
   "execution_count": 589,
   "id": "3550dec0",
   "metadata": {},
   "outputs": [
    {
     "name": "stdout",
     "output_type": "stream",
     "text": [
      "Slide 1: Opened Excel workbook: Book1\n",
      "Slide 2: Opened Excel workbook: Book1\n",
      "Slide 3: Opened Excel workbook: Book1\n",
      "Slide 4: Opened Excel workbook: Book1\n",
      "Slide 4: Opened Excel workbook: Book1\n",
      "Slide 5: Opened Excel workbook: Book1\n",
      "Slide 5: Opened Excel workbook: Book1\n",
      "Slide 6: Opened Excel workbook: Book1\n",
      "Slide 6: Opened Excel workbook: Book1\n",
      "Slide 7: Opened Excel workbook: Book1\n",
      "Slide 7: Opened Excel workbook: Book1\n",
      "Slide 7: Opened Excel workbook: Book1\n",
      "Slide 8: Opened Excel workbook: Book1\n",
      "Slide 8: Opened Excel workbook: Book1\n",
      "Slide 8: Opened Excel workbook: Book1\n",
      "Slide 9: Opened Excel workbook: Book1\n",
      "Slide 9: Opened Excel workbook: Book1\n",
      "Slide 9: Opened Excel workbook: Book1\n",
      "Slide 10: Opened Excel workbook: Book1\n",
      "Slide 11: Opened Excel workbook: Book1\n",
      "Slide 12: Opened Excel workbook: Book1\n",
      "Slide 13: Opened Excel workbook: Book1\n",
      "Slide 14: Opened Excel workbook: Book1\n",
      "Slide 15: Opened Excel workbook: Book1\n",
      "Slide 16: Opened Excel workbook: Book1\n",
      "Slide 17: Opened Excel workbook: Book1\n",
      "Slide 18: Opened Excel workbook: Book1\n",
      "Slide 19: Opened Excel workbook: Book1\n",
      "Slide 20: Opened Excel workbook: Book1\n",
      "Slide 21: Opened Excel workbook: Book1\n",
      "Slide 22: Opened Excel workbook: Book1\n",
      "Slide 23: Opened Excel workbook: Book1\n",
      "Slide 24: Opened Excel workbook: Book1\n",
      "Slide 25: Opened Excel workbook: Book1\n",
      "Slide 26: Opened Excel workbook: Book1\n",
      "Slide 27: Opened Excel workbook: Book1\n",
      "Slide 28: Opened Excel workbook: Book1\n",
      "Slide 29: Opened Excel workbook: Book1\n",
      "Slide 30: Opened Excel workbook: Book1\n",
      "Slide 31: Opened Excel workbook: Book1\n",
      "Slide 32: Opened Excel workbook: Book1\n",
      "Slide 33: Opened Excel workbook: Book1\n",
      "Slide 34: Opened Excel workbook: Book1\n",
      "Slide 35: Opened Excel workbook: Book1\n",
      "Slide 36: Opened Excel workbook: Book1\n",
      "Slide 37: Opened Excel workbook: Book1\n",
      "Slide 38: Opened Excel workbook: Book1\n",
      "Slide 39: Opened Excel workbook: Book1\n"
     ]
    }
   ],
   "source": [
    "if run_firstdeck:\n",
    "    outputPath = os.getcwd()+\"\\\\Final OutPut\"+f\"\\\\Pricing output_{datetime.today().strftime(\"%d-%m\")}.pptx\"\n",
    "    prs.save(outputPath)\n",
    "    final=os.getcwd() +\"\\\\Final OutPut\"+f\"\\\\Pricing output_{datetime.today().strftime(\"%d-%m\")}.pptx\"\n",
    "    open_chart_data_in_excel(final,outputPath)"
   ]
  },
  {
   "cell_type": "markdown",
   "id": "7a0de830",
   "metadata": {},
   "source": [
    "# Second Deck Avg&ShelfPrice Slides 5_6  "
   ]
  },
  {
   "cell_type": "code",
   "execution_count": 590,
   "id": "19746853",
   "metadata": {},
   "outputs": [],
   "source": [
    "if run_seconddeck:\n",
    "    import os\n",
    "\n",
    "    # Initialize lists\n",
    "    index = []\n",
    "    \n",
    "    hierarchy = []\n",
    "\n",
    "    # Define hierarchy levels based on non-empty parent lists and data lists\n",
    "    if parent_lists.get(direct_parent['Sector']) and sectors:\n",
    "        hierarchy.append(\"sectors\")\n",
    "    if parent_lists.get(direct_parent['Segment']) and segments:\n",
    "        hierarchy.append(\"segments\")\n",
    "    if parent_lists.get(direct_parent['SubSegment']) and subsegments:\n",
    "        hierarchy.append(\"subsegments\")\n",
    "    if parent_lists.get(direct_parent['SubCategory']) and subcategories:\n",
    "        hierarchy.append(\"subcategories\")\n",
    "    # Slides 4 and 5\n",
    "    index.extend([4, 5] * len(hierarchy))\n",
    "    # Duplication counts for slide 4 & 5 based on hierarchy levels\n",
    "    duplication_4 = [\n",
    "        (len(all_brands_sector.keys()) + len(all_manuf_sector.keys())) if 'sectors' in hierarchy else 0,\n",
    "        (len(all_brands_sector.keys()) + len(all_manuf_sector.keys())) if 'sectors' in hierarchy else 0,\n",
    "        (len(all_brands_segment.keys()) + len(all_manuf_segment.keys())) if 'segments' in hierarchy else 0,\n",
    "        (len(all_brands_segment.keys()) + len(all_manuf_segment.keys())) if 'segments' in hierarchy else 0,\n",
    "        (len(all_brands_subsegment.keys()) + len(all_manuf_subsegment.keys())) if 'subsegments' in hierarchy else 0,\n",
    "        (len(all_brands_subsegment.keys()) + len(all_manuf_subsegment.keys())) if 'subsegments' in hierarchy else 0,\n",
    "        (len(all_brands_subcategory.keys()) + len(all_manuf_subcategory.keys())) if 'subcategories' in hierarchy else 0,\n",
    "        (len(all_brands_subcategory.keys()) + len(all_manuf_subcategory.keys())) if 'subcategories' in hierarchy else 0\n",
    "    ]\n",
    "    duplication = [count for count in duplication_4 if count != 0]\n",
    "    # Section names for slides 4 and 5\n",
    "    section_names_4_5 = [\n",
    "        \"Sector Avg Price/Vol Comparison\" if 'sectors' in hierarchy else None,\n",
    "        \"Sector Shelf Price/Vol Comparison\" if 'sectors' in hierarchy else None,\n",
    "        \"Segment Avg Price/Vol Comparison\" if 'segments' in hierarchy else None,\n",
    "        \"Segment Shelf Price/Vol Comparison\" if 'segments' in hierarchy else None,\n",
    "        \"SubSegment Avg Price/Vol Comparison\" if 'subsegments' in hierarchy else None,\n",
    "        \"SubSegment Shelf Price/Vol Comparison\" if 'subsegments' in hierarchy else None,\n",
    "        \"SubCategory Avg Price/Vol Comparison\" if 'subcategories' in hierarchy else None,\n",
    "        \"SubCategory Shelf Price/Vol Comparison\" if 'subcategories' in hierarchy else None\n",
    "    ]\n",
    "    section_names = [name for name in section_names_4_5 if name]\n",
    "    # File paths\n",
    "    path = os.path.join(os.getcwd(), 'Pricing base.pptx')\n",
    "    new_pre = os.path.join(os.getcwd(), 'Pricing AvgPrice duplicated.pptx')\n",
    "\n"
   ]
  },
  {
   "cell_type": "code",
   "execution_count": 591,
   "id": "274d740d",
   "metadata": {},
   "outputs": [
    {
     "name": "stdout",
     "output_type": "stream",
     "text": [
      "[4, 5, 4, 5]\n",
      "4\n",
      "[11, 11, 18, 18]\n",
      "4\n",
      "['Sector Avg Price/Vol Comparison', 'Sector Shelf Price/Vol Comparison', 'Segment Avg Price/Vol Comparison', 'Segment Shelf Price/Vol Comparison']\n",
      "4\n",
      "c:\\Users\\BW4SA\\Documents\\Slide-Automate\\Pricing slide duplicate\\Pricing base.pptx\n",
      "c:\\Users\\BW4SA\\Documents\\Slide-Automate\\Pricing slide duplicate\\Pricing AvgPrice duplicated.pptx\n",
      "58\n"
     ]
    }
   ],
   "source": [
    "if run_firstdeck:\n",
    "    print(index)\n",
    "    print(len(index))\n",
    "    print(duplication)\n",
    "    print(len(duplication))\n",
    "    print(section_names)\n",
    "    print(len(section_names))\n",
    "    print(path)\n",
    "    print(new_pre)\n",
    "    print(sum(duplication))"
   ]
  },
  {
   "cell_type": "code",
   "execution_count": 592,
   "id": "a8a8b759",
   "metadata": {},
   "outputs": [],
   "source": [
    "if run_firstdeck:\n",
    "    slideDuplication(index,duplication,section_names,path,new_pre)"
   ]
  },
  {
   "cell_type": "code",
   "execution_count": 593,
   "id": "6b4842b9",
   "metadata": {},
   "outputs": [],
   "source": [
    "if run_firstdeck:\n",
    "    prs = Presentation(new_pre)\n",
    "\n",
    "    def calculate_position(end):\n",
    "        return sum(duplication[i] * (1 if isinstance(index[i], int) else len(index[i])) for i in range(end))"
   ]
  },
  {
   "cell_type": "markdown",
   "id": "403c1219",
   "metadata": {},
   "source": [
    "#### Shelf price / vol & Avg price / vol Comparison (slides 5-6)"
   ]
  },
  {
   "cell_type": "code",
   "execution_count": 594,
   "id": "4745076f",
   "metadata": {},
   "outputs": [],
   "source": [
    "if run_firstdeck:\n",
    "    p=0\n",
    "    if len(sectors)!=0 and len(parent_lists[direct_parent[\"Sector\"]])!=0:\n",
    "        shelfPrice_AvgPrice(prs,all_manuf_sector, len(all_manuf_sector.keys()),salesColumn = 'Av Price/KG',sec_seg='Sector',position = calculate_position(p),brandORmanuf=f'{ManufOrTopC}')\n",
    "        shelfPrice_AvgPrice(prs,all_brands_sector, len(all_brands_sector.keys()),salesColumn = 'Av Price/KG',sec_seg='Sector',position = calculate_position(p)+len(all_manuf_sector.keys()),brandORmanuf=f\"{BrandOrTopB}\")\n",
    "        p+=1\n",
    "        shelfPrice_AvgPrice(prs,all_manuf_sector,len(all_manuf_sector.keys()),salesColumn = 'Base Price/KG',sec_seg='Sector',position=calculate_position(p),brandORmanuf=f'{ManufOrTopC}')\n",
    "        shelfPrice_AvgPrice(prs,all_brands_sector,len(all_brands_sector.keys()),salesColumn = 'Base Price/KG',sec_seg='Sector',position=calculate_position(p)+len(all_manuf_sector.keys()),brandORmanuf=f\"{BrandOrTopB}\")\n",
    "        p+=1"
   ]
  },
  {
   "cell_type": "code",
   "execution_count": 595,
   "id": "91a60c26",
   "metadata": {},
   "outputs": [],
   "source": [
    "if run_firstdeck:   \n",
    "    if len(segments)!=0 and len(parent_lists[direct_parent[\"Segment\"]])!=0:\n",
    "        shelfPrice_AvgPrice(prs,all_manuf_segment, len(all_manuf_segment.keys()),salesColumn = 'Av Price/KG',sec_seg='Segment',position = calculate_position(p),brandORmanuf=f'{ManufOrTopC}')\n",
    "        shelfPrice_AvgPrice(prs,all_brands_segment, len(all_brands_segment.keys()),salesColumn = 'Av Price/KG',sec_seg='Segment',position = calculate_position(p)+len(all_manuf_segment.keys()),brandORmanuf=f\"{BrandOrTopB}\")\n",
    "        p+=1\n",
    "        shelfPrice_AvgPrice(prs,all_manuf_segment,len(all_manuf_segment.keys()),salesColumn = 'Base Price/KG',sec_seg='Segment',position=calculate_position(p),brandORmanuf=f'{ManufOrTopC}')\n",
    "        shelfPrice_AvgPrice(prs,all_brands_segment,len(all_brands_segment.keys()),salesColumn = 'Base Price/KG',sec_seg='Segment',position=calculate_position(p)+len(all_manuf_segment.keys()),brandORmanuf=f\"{BrandOrTopB}\")\n",
    "        p+=1"
   ]
  },
  {
   "cell_type": "code",
   "execution_count": 596,
   "id": "4a0a6f05",
   "metadata": {},
   "outputs": [],
   "source": [
    "if run_firstdeck:\n",
    "    if len(subsegments)!=0 and len(parent_lists[direct_parent[\"SubSegment\"]])!=0:\n",
    "\n",
    "        shelfPrice_AvgPrice(prs,all_manuf_subsegment, len(all_manuf_subsegment.keys()),salesColumn = 'Av Price/KG',sec_seg='SubSegment',position = calculate_position(p),brandORmanuf=f'{ManufOrTopC}')\n",
    "        shelfPrice_AvgPrice(prs,all_brands_subsegment, len(all_brands_subsegment.keys()),salesColumn = 'Av Price/KG',sec_seg='SubSegment',position = calculate_position(p)+len(all_manuf_subsegment.keys()),brandORmanuf=f\"{BrandOrTopB}\")\n",
    "        p+=1\n",
    "        shelfPrice_AvgPrice(prs,all_manuf_subsegment,len(all_manuf_subsegment.keys()),salesColumn = 'Base Price/KG',sec_seg='SubSegment',position=calculate_position(p),brandORmanuf=f'{ManufOrTopC}')\n",
    "        shelfPrice_AvgPrice(prs,all_brands_subsegment,len(all_brands_subsegment.keys()),salesColumn = 'Base Price/KG',sec_seg='SubSegment',position=calculate_position(p)+len(all_manuf_subsegment.keys()),brandORmanuf=f\"{BrandOrTopB}\")\n",
    "        p+=1"
   ]
  },
  {
   "cell_type": "code",
   "execution_count": 597,
   "id": "b587702d",
   "metadata": {},
   "outputs": [],
   "source": [
    "if run_firstdeck:\n",
    "    if len(subcategories)!=0 and len(parent_lists[direct_parent[\"SubCategory\"]])!=0:\n",
    "\n",
    "        shelfPrice_AvgPrice(prs,all_manuf_subcategory, len(all_manuf_subcategory.keys()),salesColumn = 'Av Price/KG',sec_seg='SubCategory',position = calculate_position(p),brandORmanuf=f'{ManufOrTopC}')\n",
    "        shelfPrice_AvgPrice(prs,all_brands_subcategory, len(all_brands_subcategory.keys()),salesColumn = 'Av Price/KG',sec_seg='SubCategory',position = calculate_position(p)+len(all_manuf_subcategory.keys()),brandORmanuf=f\"{BrandOrTopB}\")\n",
    "        p+=1\n",
    "        shelfPrice_AvgPrice(prs,all_manuf_subcategory,len(all_manuf_subcategory.keys()),salesColumn = 'Base Price/KG',sec_seg='SubCategory',position=calculate_position(p),brandORmanuf=f'{ManufOrTopC}')\n",
    "        shelfPrice_AvgPrice(prs,all_brands_subcategory,len(all_brands_subcategory.keys()),salesColumn = 'Base Price/KG',sec_seg='SubCategory',position=calculate_position(p)+len(all_manuf_subcategory.keys()),brandORmanuf=f\"{BrandOrTopB}\")\n",
    "        p+=1"
   ]
  },
  {
   "cell_type": "code",
   "execution_count": 598,
   "id": "3492ef15",
   "metadata": {},
   "outputs": [],
   "source": [
    "if run_firstdeck:\n",
    "    outputPath = os.getcwd()+\"\\\\Final OutPut\"+f\"\\\\Pricing  AvgPrice output _{datetime.today().strftime(\"%d-%m\")}.pptx\"\n",
    "    prs.save(outputPath)\n"
   ]
  },
  {
   "cell_type": "markdown",
   "id": "41720451",
   "metadata": {},
   "source": [
    "# Third Deck Price Point slides 7_10"
   ]
  },
  {
   "cell_type": "markdown",
   "id": "36a67dd5",
   "metadata": {},
   "source": [
    "#### Price Point Distribution Analysis by product P3M and P12M (slides 7-8)"
   ]
  },
  {
   "cell_type": "code",
   "execution_count": null,
   "id": "e2a50f56",
   "metadata": {},
   "outputs": [],
   "source": [
    "if run_thirddeck:\n",
    "    index = []\n",
    "    # Slide 6\n",
    "    index.extend([6] * (\n",
    "        (1 if sectors and len(sectorP3mPD.keys()) > 0 else 0) +\n",
    "        (1 if sectors and len(sectorP12mPD.keys()) > 0 else 0) +\n",
    "        (1 if segments and len(segmentP3mPD.keys()) > 0 else 0) +\n",
    "        (1 if segments and len(segmentP12mPD.keys()) > 0 else 0) +\n",
    "        (1 if subsegments and len(sub_segmentP3mPD.keys()) > 0 else 0) +\n",
    "        (1 if subsegments and len(sub_segmentP12mPD.keys()) > 0 else 0) +\n",
    "        (1 if subcategories and len(sub_categoryP3mPD.keys()) > 0 else 0) +\n",
    "        (1 if subcategories and len(sub_categoryP12mPD.keys()) > 0 else 0)\n",
    "    ))\n",
    "    index.extend([6] * (\n",
    "        (1 if sectors and len(sectorP3mPD_manuf.keys()) > 0 else 0) +\n",
    "        (1 if sectors and len(sectorP12mPD_manuf.keys()) > 0 else 0) +\n",
    "        (1 if segments and len(segmentP3mPD_manuf.keys()) > 0 else 0) +\n",
    "        (1 if segments and len(segmentP12mPD_manuf.keys()) > 0 else 0) +\n",
    "        (1 if subsegments and len(sub_segmentP3mPD_manuf.keys()) > 0 else 0) +\n",
    "        (1 if subsegments and len(sub_segmentP12mPD_manuf.keys()) > 0 else 0) +\n",
    "        (1 if subcategories and len(sub_categoryP3mPD_manuf.keys()) > 0 else 0) +\n",
    "        (1 if subcategories and len(sub_categoryP12mPD_manuf.keys()) > 0 else 0)\n",
    "    ))\n",
    "    ##scraped slide     \n",
    "    if run_scraped:\n",
    "        index.extend([15] * (\n",
    "        (1 if sectors and len(sectorPD_scraped.keys()) > 0 else 0)+\n",
    "        (1 if segments and len(segmentPD_scraped.keys()) > 0 else 0) +\n",
    "        (1 if subsegments and len(sub_segmentPD_scraped.keys()) > 0 else 0)+\n",
    "        (1 if subcategories and len(sub_categoryPD_scraped.keys()) > 0 else 0)\n",
    "        ))\n",
    "        index.extend([15] * (\n",
    "            (1 if sectors and len(sectorPD_manuf_scraped.keys()) > 0 else 0) +\n",
    "            (1 if segments and len(segmentPD_manuf_scraped.keys()) > 0 else 0)+\n",
    "            (1 if subsegments and len(sub_segmentPD_manuf_scraped.keys()) > 0 else 0)+\n",
    "            (1 if subcategories and len(sub_categoryPD_manuf_scraped.keys()) > 0 else 0) \n",
    "        ))\n",
    "\n",
    "\n",
    "    # Slides 7 and 8\n",
    "    index.extend([7]*((1 if len(merged_dict.keys())>0 else 0)+(1 if len(merged_dict_manuf.keys())>0 else 0)))\n",
    "    \n",
    "    ###scraped comparison slide\n",
    "    if run_scraped:    \n",
    "        index.extend([16]*(\n",
    "        (1 if len(top_scraped.keys())>0 else 0)+\n",
    "        (1 if len(top_manuf_scraped.keys())>0 else 0)\n",
    "        ))\n",
    "    \n",
    "    index.extend([8])\n",
    "    # Slide 9\n",
    "    index.extend([9] * ((1 if sectors else 0) + (1 if segments else 0) + (1 if subsegments else 0) + (1 if subcategories else 0)))\n",
    "\n",
    "    #slide 6\n",
    "    duplication_5=[len(sectorP3mPD.keys()) if sectors else 0,len(sectorP12mPD.keys()) if sectors else 0,\n",
    "                len(segmentP3mPD.keys())if segments else 0, len(segmentP12mPD.keys()) if segments else 0,\n",
    "                len(sub_segmentP3mPD.keys())if subsegments else 0, len(sub_segmentP12mPD.keys())if subsegments else 0,\n",
    "                (len(sub_categoryP3mPD.keys())if subcategories else 0), (len(sub_categoryP12mPD.keys())if subcategories else 0)]  \n",
    "\n",
    "    duplication_5_manuf=[len(sectorP3mPD_manuf.keys()) if sectors else 0,len(sectorP12mPD_manuf.keys()) if sectors else 0,\n",
    "                len(segmentP3mPD_manuf.keys())if segments else 0, len(segmentP12mPD_manuf.keys()) if segments else 0,\n",
    "                len(sub_segmentP3mPD_manuf.keys())if subsegments else 0, len(sub_segmentP12mPD_manuf.keys())if subsegments else 0,\n",
    "                (len(sub_categoryP3mPD_manuf.keys())if subcategories else 0), (len(sub_categoryP12mPD_manuf.keys())if subcategories else 0)]  #slide 7\n",
    "    ##Scraped_Slide\n",
    "    if run_scraped:\n",
    "        duplication_scraped=[len(sectorPD_scraped.keys()) if sectors else 0,\n",
    "                    len(segmentPD_scraped.keys())if segments else 0,\n",
    "                    len(sub_segmentPD_scraped.keys())if subsegments else 0,\n",
    "                    (len(sub_categoryPD_scraped.keys())if subcategories else 0)]  \n",
    "\n",
    "        duplication_manuf_scraped=[len(sectorPD_manuf_scraped.keys()) if sectors else 0,\n",
    "                    len(segmentPD_manuf_scraped.keys())if segments else 0,\n",
    "                    len(sub_segmentPD_manuf_scraped.keys())if subsegments else 0,\n",
    "                    (len(sub_categoryPD_manuf_scraped.keys())if subcategories else 0)]  \n",
    "\n",
    "\n",
    "\n",
    "    duplication_6= [len(merged_dict_manuf.keys())]\n",
    "    duplication_6_manuf=[len(merged_dict.keys())]\n",
    "\n",
    "    ##Scraped Comparison Slide\n",
    "    duplication_scraped_comparison=[len(top_scraped.keys()) if len(top_scraped.keys())>0 else 0]\n",
    "    duplication_scraped_comparison_manuf=[len(top_manuf_scraped.keys()) if len(top_manuf_scraped.keys())>0 else 0]\n",
    "\n",
    "    # slide 8\n",
    "    duplication_7=[len(modified_brandPriceDistribution.keys())] \n",
    "\n",
    "    # slide 9\n",
    "    duplication_8=[len(modified_sectorsPriceDistribution.keys())if sectors else 0,len(modified_segmentPriceDistribution.keys())if segments else 0,\n",
    "                len(modified_subsegmentPriceDistribution.keys())if subsegments else 0,len(modified_subcategoryPriceDistribution.keys())if subcategories else 0]          \n",
    "    \n",
    "    if run_scraped:\n",
    "        duplication =duplication_5+duplication_5_manuf +duplication_scraped+duplication_manuf_scraped+ duplication_6 +duplication_6_manuf+duplication_scraped_comparison+duplication_scraped_comparison_manuf+ duplication_7 + duplication_8\n",
    "    else: \n",
    "        duplication =duplication_5+duplication_5_manuf + duplication_6 +duplication_6_manuf+ duplication_7 + duplication_8\n",
    "\n",
    "    duplication=[i for i in duplication if i !=0]\n",
    "\n",
    "    #slide 6\n",
    "    section_names_6=[(f\"{direct_parent[\"Sector\"]} Price Point Distribution Analysis P3M\"if len(sectorP3mPD.keys()) > 0 else []),\n",
    "                    (f\"{direct_parent[\"Sector\"]} Price Point Distribution Analysis P12M\"if len(sectorP12mPD.keys()) > 0 else []),\n",
    "                    (f\"{direct_parent[\"Segment\"]} Price Point Distribution Analysis P3M\"if len(segments)>0 and len(segmentP3mPD.keys())>0 else []),\n",
    "                    (f\"{direct_parent[\"Segment\"]} Price Point Distribution Analysis P12M\"if len(segments)>0 and len(segmentP12mPD.keys())>0 else []),\n",
    "                    (f\"{direct_parent[\"SubSegment\"]}_SubSegment Price Point Distribution Analysis P3M\" if len(subsegments) > 0 and len(sub_segmentP3mPD.keys())>0 else[]), \n",
    "                    (f\"{direct_parent[\"SubSegment\"]}_SubSegment Price Point Distribution Analysis P12M\" if len(subsegments) > 0 and len(sub_segmentP12mPD.keys())>0  else []),\n",
    "                    (f\"{direct_parent[\"SubCategory\"]}_SubCategory Price Point Distribution Analysis P3M\" if len(subcategories) > 0 and len(sub_categoryP3mPD.keys())>0 else []),\n",
    "                    (f\"{direct_parent[\"SubCategory\"]}_SubCategory Price Point Distribution Analysis P12M\" if len(subcategories) > 0 and len(sub_categoryP12mPD.keys())>0 else [])]\n",
    "    section_names_6_manuf=[(f\"{direct_parent[\"Sector\"]} Price Point Distribution Analysis P3M ByManuf\"if len(sectorP3mPD_manuf.keys()) > 0 else []),\n",
    "                    (f\"{direct_parent[\"Sector\"]} Price Point Distribution Analysis P12M ByManuf\"if len(sectorP12mPD_manuf.keys()) > 0 else []),\n",
    "                    (f\"{direct_parent[\"Segment\"]} Price Point Distribution Analysis P3M ByManuf\"if len(segments)>0 and len(segmentP3mPD_manuf.keys())>0 else []),\n",
    "                    (f\"{direct_parent[\"Segment\"]} Price Point Distribution Analysis P12M ByManuf\"if len(segments)>0 and len(segmentP12mPD_manuf.keys())>0 else []),\n",
    "                    (f\"{direct_parent[\"SubSegment\"]}_SubSegment Price Point Distribution Analysis P3M ByManuf\" if len(subsegments) > 0 and len(sub_segmentP3mPD_manuf.keys())>0 else[]), \n",
    "                    (f\"{direct_parent[\"SubSegment\"]}_SubSegment Price Point Distribution Analysis P12M ByManuf\" if len(subsegments) > 0 and len(sub_segmentP12mPD_manuf.keys())>0  else []),\n",
    "                    (f\"{direct_parent[\"SubCategory\"]}_SubCategory Price Point Distribution Analysis P3M ByManuf\" if len(subcategories) > 0 and len(sub_categoryP3mPD_manuf.keys())>0 else []),\n",
    "                    (f\"{direct_parent[\"SubCategory\"]}_SubCategory Price Point Distribution Analysis P12M ByManuf\" if len(subcategories) > 0 and len(sub_categoryP12mPD_manuf.keys())>0 else [])]\n",
    "\n",
    "    ##Scraped Slide\n",
    "    if run_scraped:\n",
    "        section_names_scraped=[(f\"{direct_parent[\"Sector\"]} Price Point Distribution Scraped\"if len(sectorPD_scraped.keys()) > 0 else []),\n",
    "                        (f\"{direct_parent[\"Segment\"]} Price Point Distribution Scraped\"if len(segments)>0 and len(segmentPD_scraped.keys())>0 else []),\n",
    "                        (f\"{direct_parent[\"SubSegment\"]}_SubSegment Price Point Distribution Scraped\" if len(subsegments) > 0 and len(sub_segmentPD_scraped.keys())>0 else[]),\n",
    "                        (f\"{direct_parent[\"SubCategory\"]}_SubCategory Price Point Distribution Scraped\" if len(subcategories) > 0 and len(sub_categoryPD_scraped.keys())>0 else [])]\n",
    "        section_names_manuf_scraped=[(f\"{direct_parent[\"Sector\"]} Price Point Distribution Scraped ByManuf\"if len(sectorPD_manuf_scraped.keys()) > 0 else []),\n",
    "                        (f\"{direct_parent[\"Segment\"]} Price Point Distribution Scraped ByManuf\"if len(segments)>0 and len(segmentPD_manuf_scraped.keys())>0 else []),\n",
    "                        (f\"{direct_parent[\"SubSegment\"]}_SubSegment Price Point Distribution Scraped ByManuf\" if len(subsegments) > 0 and len(sub_segmentPD_manuf_scraped.keys())>0 else[]), \n",
    "                        (f\"{direct_parent[\"SubCategory\"]}_SubCategory Price Point Distribution Scraped ByManuf\" if len(subcategories) > 0 and len(sub_categoryPD_manuf_scraped.keys())>0 else [])]\n",
    "\n",
    "    # slide_7\n",
    "    section_names_7=[(\"Price Point Comparison Analysis by Manuf\")if len(client_brands)>0 else []]\n",
    "    section_names_7_manuf=[(\"Price Point Comparison Analysis by Product\")]\n",
    "\n",
    "    #Scraped Comparison Slide\n",
    "    if run_scraped:\n",
    "        section_names_scraped_comparison=[(\"Price Point Comparison Analysis by Product Scraped\")if len(top_scraped)>0 else []]\n",
    "        section_names_scraped_comparison_manuf =[(\"Price Point Comparison Analysis by Manuf Scraped\")if len(top_manuf_scraped)>0 else []]\n",
    "\n",
    "    # slide_8\n",
    "    section_names_8=[\"Price Point Distribution Analysis By Brand\"]\n",
    "    # slide_9\n",
    "    section_names_9=[(\"Price Point Distribution By Brand By Sector\"if len(sectors)>0 else []),(\"Price Point Distribution By Brand By Segment\"if len(segments)>0 else[]),\n",
    "                    (\"Price Point Distribution By Brand By SubSegment\"if len(subsegments)>0 else[]),(\"Price Point Distribution By Brand By SubCategory\"if len(subcategories)>0 else[])]\n",
    "    if run_scraped:\n",
    "        section_names = [ *section_names_6,*section_names_6_manuf,*section_names_scraped,*section_names_manuf_scraped , *section_names_7,*section_names_7_manuf ,*section_names_scraped_comparison,*section_names_scraped_comparison_manuf, *section_names_8,*section_names_9]\n",
    "    else:\n",
    "        section_names = [ *section_names_6,*section_names_6_manuf, *section_names_7,*section_names_7_manuf , *section_names_8,*section_names_9]\n",
    "\n",
    "    section_names=[i for i in section_names if i !=[]]\n",
    "    path = os.getcwd() + '\\Pricing base.pptx'\n",
    "    new_pre = os.getcwd() + '\\Pricing price point duplicated.pptx'"
   ]
  },
  {
   "cell_type": "markdown",
   "id": "630497fb",
   "metadata": {},
   "source": [
    "duplication_5"
   ]
  },
  {
   "cell_type": "code",
   "execution_count": 82,
   "id": "7e47e5e6",
   "metadata": {},
   "outputs": [
    {
     "name": "stdout",
     "output_type": "stream",
     "text": [
      "[16, 16]\n",
      "2\n",
      "[14, 5]\n",
      "2\n",
      "['Price Point Comparison Analysis by Product Scraped', 'Price Point Comparison Analysis by Manuf Scraped']\n",
      "2\n",
      "c:\\Users\\Salma Hany\\Documents\\Slide-Automate\\Pricing slide duplicate\\Pricing base.pptx\n",
      "c:\\Users\\Salma Hany\\Documents\\Slide-Automate\\Pricing slide duplicate\\Pricing price point duplicated.pptx\n",
      "19\n"
     ]
    }
   ],
   "source": [
    "if run_thirddeck:\n",
    "    print(index)\n",
    "    print(len(index))\n",
    "    print(duplication)\n",
    "    print(len(duplication))\n",
    "    print(section_names)\n",
    "    print(len(section_names))\n",
    "    print(path)\n",
    "    print(new_pre)\n",
    "    print(sum(duplication))"
   ]
  },
  {
   "cell_type": "code",
   "execution_count": 83,
   "id": "c6c53a96",
   "metadata": {},
   "outputs": [],
   "source": [
    "if run_thirddeck:\n",
    "    slideDuplication(index,duplication,section_names,path,new_pre)"
   ]
  },
  {
   "cell_type": "code",
   "execution_count": 84,
   "id": "64479aac",
   "metadata": {},
   "outputs": [],
   "source": [
    "if run_thirddeck:\n",
    "    prs = Presentation(new_pre)"
   ]
  },
  {
   "cell_type": "code",
   "execution_count": 85,
   "id": "089ce2b7",
   "metadata": {},
   "outputs": [],
   "source": [
    "if run_thirddeck:\n",
    "    def calculate_position(end):\n",
    "        return sum(duplication[i] * (1 if isinstance(index[i], int) else len(index[i])) for i in range(end))"
   ]
  },
  {
   "cell_type": "code",
   "execution_count": null,
   "id": "b04c1ed5",
   "metadata": {},
   "outputs": [],
   "source": [
    "if run_thirddeck:\n",
    "    p=0\n",
    "    if len(parent_lists[direct_parent['Sector']])!=0 and len(sectors)!=0:\n",
    "        if len(sectorP3mPD.keys())!=0:\n",
    "            pricePoint(prs,sectorP3mPD,duplication[p],months = \"P3M\",sec_seg = 'Sector' ,position=calculate_position(p))\n",
    "            p+=1\n",
    "        if len(sectorP12mPD.keys())!=0:\n",
    "            pricePoint(prs,sectorP12mPD,duplication[p],months = 'P12M',sec_seg = 'Sector',position = calculate_position(p))\n",
    "            p+=1"
   ]
  },
  {
   "cell_type": "code",
   "execution_count": null,
   "id": "8b1624e1",
   "metadata": {},
   "outputs": [],
   "source": [
    "if run_thirddeck:\n",
    "    if len(parent_lists[direct_parent['Segment']])!=0 and len(segments)!=0:\n",
    "        if len(segmentP3mPD.keys())!=0:\n",
    "            pricePoint(prs,segmentP3mPD,duplication[p],months = 'P3M' ,sec_seg = 'Segment',position=calculate_position(p))\n",
    "            p+=1\n",
    "        if len(segmentP12mPD.keys())!=0:\n",
    "            pricePoint(prs,segmentP12mPD,duplication[p],months = 'P12M',sec_seg = 'Segment',position=calculate_position(p))\n",
    "            p+=1\n",
    "    if len(parent_lists[direct_parent['SubSegment']])!=0 and len(subsegments)!=0:\n",
    "        if len(sub_segmentP3mPD.keys())!=0:\n",
    "            pricePoint(prs,sub_segmentP3mPD,duplication[p],months = 'P3M' ,sec_seg = 'SubSegment',position=calculate_position(p))\n",
    "            p+=1\n",
    "        if len(sub_segmentP12mPD.keys())!=0:\n",
    "            pricePoint(prs,sub_segmentP12mPD,duplication[p],months = 'P12M',sec_seg = 'SubSegment',position=calculate_position(p))\n",
    "            p+=1        \n",
    "    if len(parent_lists[direct_parent['SubCategory']])!=0 and len(subcategories)!=0:\n",
    "        if len(sub_categoryP3mPD.keys())!=0:\n",
    "            pricePoint(prs,sub_categoryP3mPD,duplication[p],months = 'P3M' ,sec_seg = 'SubCategory',position=calculate_position(p))\n",
    "            p+=1\n",
    "        if len(sub_categoryP12mPD.keys())!=0:\n",
    "            pricePoint(prs,sub_categoryP12mPD,duplication[p],months = 'P12M',sec_seg = 'SubCategory',position=calculate_position(p))    \n",
    "            p+=1        "
   ]
  },
  {
   "cell_type": "code",
   "execution_count": null,
   "id": "ecc3bf75",
   "metadata": {},
   "outputs": [],
   "source": [
    "if run_thirddeck:\n",
    "    if len(parent_lists[direct_parent['Sector']])!=0 and len(sectors)!=0:\n",
    "        if len(sectorP3mPD_manuf.keys())!=0:\n",
    "            pricePoint(prs,sectorP3mPD_manuf,duplication[p],months = \"P3M\",sec_seg = 'Sector' ,position=calculate_position(p))\n",
    "            p+=1\n",
    "        pricePoint(prs,sectorP12mPD_manuf,duplication[p],months = 'P12M',sec_seg = 'Sector',position = calculate_position(p))\n",
    "        p+=1\n",
    "    if len(parent_lists[direct_parent['Segment']])!=0 and len(segments)!=0:\n",
    "        if len(segmentP3mPD_manuf.keys())!=0:\n",
    "            pricePoint(prs,segmentP3mPD_manuf,duplication[p],months = 'P3M' ,sec_seg = 'Segment',position=calculate_position(p))\n",
    "            p+=1\n",
    "        pricePoint(prs,segmentP12mPD_manuf,duplication[p],months = 'P12M',sec_seg = 'Segment',position=calculate_position(p))\n",
    "        p+=1   \n",
    "\n",
    "    if len(parent_lists[direct_parent['SubSegment']])!=0 and len(subsegments)!=0:\n",
    "        if len(sub_segmentP3mPD_manuf.keys())!=0:\n",
    "            pricePoint(prs,sub_segmentP3mPD_manuf,duplication[p],months = 'P3M' ,sec_seg = 'SubSegment',position=calculate_position(p))\n",
    "            p+=1\n",
    "        pricePoint(prs,sub_segmentP12mPD_manuf,duplication[p],months = 'P12M',sec_seg = 'SubSegment',position=calculate_position(p))\n",
    "        p+=1\n",
    "    if len(parent_lists[direct_parent['SubCategory']])!=0 and len(subcategories)!=0:\n",
    "        if len(sub_categoryP3mPD_manuf.keys())!=0:\n",
    "            pricePoint(prs,sub_categoryP3mPD_manuf,duplication[p],months = 'P3M' ,sec_seg = 'SubCategory',position=calculate_position(p))\n",
    "            p+=1\n",
    "        pricePoint(prs,sub_categoryP12mPD_manuf,duplication[p],months = 'P12M',sec_seg = 'SubCategory',position=calculate_position(p))    \n",
    "        p+=1    \n",
    "        "
   ]
  },
  {
   "cell_type": "code",
   "execution_count": null,
   "id": "371fa22f",
   "metadata": {},
   "outputs": [
    {
     "data": {
      "text/plain": [
       "36"
      ]
     },
     "execution_count": 608,
     "metadata": {},
     "output_type": "execute_result"
    }
   ],
   "source": [
    "calculate_position(8)"
   ]
  },
  {
   "cell_type": "markdown",
   "id": "8b59705d",
   "metadata": {},
   "source": [
    "### Scraped Slide"
   ]
  },
  {
   "cell_type": "code",
   "execution_count": 610,
   "id": "43775d7c",
   "metadata": {},
   "outputs": [
    {
     "name": "stdout",
     "output_type": "stream",
     "text": [
      "2025-06-29 for Manual Shave Men | Schick | Walmart\n",
      "[ 5 15]\n",
      "2025-06-29 for Manual Shave Men | Cremo | Walmart\n",
      "[3]\n",
      "2025-06-29 for Schick | Walmart | System\n",
      "[ 2  7 15]\n",
      "2025-06-29 for Schick | Walmart | Disposables\n",
      "[15]\n",
      "2025-06-29 for Cremo | Walmart | System\n",
      "[2 3]\n"
     ]
    }
   ],
   "source": [
    "if run_thirddeck:\n",
    "    if run_scraped:\n",
    "        if len(parent_lists[direct_parent['Sector']])!=0 and len(sectors)!=0:\n",
    "            if len(sectorPD_scraped.keys())!=0:\n",
    "                pricePointScraped(prs,sectorPD_scraped,duplication[p],sec_seg = 'Sector' ,position=calculate_position(p))\n",
    "                p+=1\n",
    "        if len(parent_lists[direct_parent['Segment']])!=0 and len(segments)!=0:\n",
    "            if len(segmentPD_scraped.keys())!=0:\n",
    "                pricePointScraped(prs,segmentPD_scraped,duplication[p],sec_seg = 'Segment',position=calculate_position(p))\n",
    "                p+=1\n",
    "        if len(parent_lists[direct_parent['SubSegment']])!=0 and len(subsegments)!=0:\n",
    "            if len(sub_segmentPD_scraped.keys())!=0:\n",
    "                pricePointScraped(prs,sub_segmentPD_scraped,duplication[p],sec_seg = 'SubSegment',position=calculate_position(p))\n",
    "                p+=1       \n",
    "        if len(parent_lists[direct_parent['SubCategory']])!=0 and len(subcategories)!=0:\n",
    "            if len(sub_categoryPD_scraped.keys())!=0:\n",
    "                pricePointScraped(prs,sub_categoryPD_scraped,duplication[p],sec_seg = 'SubCategory',position=calculate_position(p))\n",
    "                p+=1"
   ]
  },
  {
   "cell_type": "code",
   "execution_count": 611,
   "id": "c200d162",
   "metadata": {},
   "outputs": [
    {
     "name": "stdout",
     "output_type": "stream",
     "text": [
      "2025-06-29 for Edgewell Personal Care | Walmart\n",
      "[ 5 15]\n",
      "2025-06-29 for Edgewell Personal Care | Walmart\n",
      "[ 5  6  9 15]\n"
     ]
    }
   ],
   "source": [
    "if run_thirddeck:\n",
    "    if run_scraped:\n",
    "        if len(parent_lists[direct_parent['Sector']])!=0 and len(sectors)!=0:\n",
    "            if len(sectorPD_manuf_scraped.keys())!=0:\n",
    "                pricePointScraped(prs,sectorPD_manuf_scraped,duplication[p],sec_seg = 'Sector' ,position=calculate_position(p))\n",
    "                p+=1\n",
    "\n",
    "        if len(parent_lists[direct_parent['Segment']])!=0 and len(segments)!=0:\n",
    "            if len(segmentPD_manuf_scraped.keys())!=0:\n",
    "                pricePointScraped(prs,segmentPD_manuf_scraped,duplication[p] ,sec_seg = 'Segment',position=calculate_position(p))\n",
    "                p+=1\n",
    "\n",
    "        if len(parent_lists[direct_parent['SubSegment']])!=0 and len(subsegments)!=0:\n",
    "            if len(sub_segmentPD_manuf_scraped.keys())!=0:\n",
    "                pricePointScraped(prs,sub_segmentPD_manuf_scraped,duplication[p],sec_seg = 'SubSegment',position=calculate_position(p))\n",
    "                p+=1\n",
    "            \n",
    "        if len(parent_lists[direct_parent['SubCategory']])!=0 and len(subcategories)!=0:\n",
    "            if len(sub_categoryPD_manuf_scraped.keys())!=0:\n",
    "                pricePointScraped(prs,sub_categoryPD_manuf_scraped,duplication[p],sec_seg = 'SubCategory',position=calculate_position(p))\n",
    "                p+=1"
   ]
  },
  {
   "cell_type": "markdown",
   "id": "42ba5dec",
   "metadata": {},
   "source": [
    "#### Price Point Comparison (slide 9)"
   ]
  },
  {
   "cell_type": "code",
   "execution_count": 612,
   "id": "c8a56ea2",
   "metadata": {},
   "outputs": [],
   "source": [
    "if run_thirddeck:\n",
    "    if len(merged_dict_manuf)>0:\n",
    "        pricepoint_comparison(prs, merged_dict_manuf, position=calculate_position(p),slideby=f'{ManufOrTopC}')\n",
    "        p+=1\n",
    "    if len(merged_dict)>0:\n",
    "        pricepoint_comparison(prs, merged_dict, position=calculate_position(p),slideby=f\"{BrandOrTopB}\")\n",
    "        p+=1"
   ]
  },
  {
   "cell_type": "code",
   "execution_count": 87,
   "id": "25539f87",
   "metadata": {},
   "outputs": [],
   "source": [
    "if run_thirddeck:\n",
    "    if len(top_scraped)>0:\n",
    "        pricepoint_comparison_scraped(prs, top_scraped, position=calculate_position(p),slideby=f\"{BrandOrTopB}\")\n",
    "        p+=1\n",
    "    if len(top_manuf_scraped)>0:\n",
    "        pricepoint_comparison_scraped(prs, top_manuf_scraped, position=calculate_position(p),slideby=f'{ManufOrTopC}')\n",
    "        p+=1\n",
    "    "
   ]
  },
  {
   "cell_type": "markdown",
   "id": "a2a545fc",
   "metadata": {},
   "source": [
    "#### Price Point Distribution Analysis by brand (slide 10)"
   ]
  },
  {
   "cell_type": "code",
   "execution_count": 613,
   "id": "9005d47b",
   "metadata": {},
   "outputs": [],
   "source": [
    "if run_thirddeck:\n",
    "    brandPriceDistributionPPTX(prs,modified_brandPriceDistribution,duplication[p],currency=currency,position=calculate_position(p))\n",
    "    p+=1"
   ]
  },
  {
   "cell_type": "markdown",
   "id": "cace779a",
   "metadata": {},
   "source": [
    "#### Price Point Distribution Analysis by brand by sec/seg/subseg/subcat (slide 11)"
   ]
  },
  {
   "cell_type": "code",
   "execution_count": 614,
   "id": "f13d86c6",
   "metadata": {
    "scrolled": true
   },
   "outputs": [],
   "source": [
    "if run_thirddeck:\n",
    "    if len(sectors)!=0:\n",
    "        sec_seg='Sector'\n",
    "        brandSectorPriceDistributionPPTX(prs,modified_sectorsPriceDistribution,duplication[p],sec_seg,currency,position=calculate_position(p))\n",
    "        p+=1"
   ]
  },
  {
   "cell_type": "code",
   "execution_count": 615,
   "id": "d9558878",
   "metadata": {},
   "outputs": [],
   "source": [
    "if run_thirddeck:\n",
    "    if len(segments)!=0:\n",
    "        sec_seg='Segment'\n",
    "        brandSectorPriceDistributionPPTX(prs,modified_segmentPriceDistribution,duplication[p],sec_seg,currency,position=calculate_position(p))\n",
    "        p+=1"
   ]
  },
  {
   "cell_type": "code",
   "execution_count": 616,
   "id": "ab5b5531",
   "metadata": {},
   "outputs": [],
   "source": [
    "if run_thirddeck:\n",
    "    if len(subsegments)!=0:\n",
    "        sec_seg='SubSegment'\n",
    "        brandSectorPriceDistributionPPTX(prs,modified_subsegmentPriceDistribution,duplication[p],sec_seg,currency,position=calculate_position(p))\n",
    "        p+=1"
   ]
  },
  {
   "cell_type": "code",
   "execution_count": 617,
   "id": "c8c2f849",
   "metadata": {},
   "outputs": [],
   "source": [
    "if run_thirddeck:\n",
    "    if len(subcategories)!=0:\n",
    "        sec_seg='SubCategory'\n",
    "        brandSectorPriceDistributionPPTX(prs,modified_subcategoryPriceDistribution,duplication[p],sec_seg,currency,position=calculate_position(p))\n",
    "        p+=1"
   ]
  },
  {
   "cell_type": "markdown",
   "id": "6a5fb480",
   "metadata": {},
   "source": [
    "#### PPT Finalization"
   ]
  },
  {
   "cell_type": "code",
   "execution_count": 88,
   "id": "325b19f7",
   "metadata": {},
   "outputs": [],
   "source": [
    "if run_thirddeck:\n",
    "    outputPath = os.getcwd()+\"\\\\Final OutPut\"+f\"\\\\Pricing  PricePoint output _{datetime.today().strftime(\"%d-%m\")}.pptx\"\n",
    "    prs.save(outputPath)"
   ]
  },
  {
   "cell_type": "markdown",
   "id": "a67d4fc8",
   "metadata": {
    "tags": [
     "Fifth Deck Price Point Distribution (Scraped Av Price)"
    ]
   },
   "source": [
    "# Forth Deck Correlation  Slides 11_12"
   ]
  },
  {
   "cell_type": "markdown",
   "id": "734b0760",
   "metadata": {},
   "source": [
    "#### Correlation Duplication"
   ]
  },
  {
   "cell_type": "code",
   "execution_count": 619,
   "id": "75b64bbe",
   "metadata": {},
   "outputs": [],
   "source": [
    "if run_fourthdeck:\n",
    "    index_correlation=[*[10]*((1 if categories else 0)\n",
    "                            +(1 if sectors else 0) +(1 if segments else 0)+(1 if subsegments else 0 )+(1 if subcategories else 0))]\n",
    "\n",
    "    duplication_correlation_1=[len(categories_dict)if categories else 0\n",
    "                            ,len(sectors_dict)if sectors else 0,len(segments_dict)if segments else 0,len(subsegments_dict)if subsegments else 0,len(subcategories_dict)if subcategories else 0]\n",
    "    duplication_correlation=duplication_correlation_1\n",
    "    duplication_correlation=[i for i in duplication_correlation if i !=0]\n",
    "\n",
    "    section_names_correlation_1=[(\"Category Price Correlation Analysis P3Y\" if len(categories)>0 else[])\n",
    "                                ,(\"Sectors Price Correlation Analysis P3Y\"if sectors else []),\n",
    "                                (\"Segments Price Correlation Analysis P3Y\"if len(segments)>0 else[]),(\"SubSegment Price Correlation Analysis P3Y\"if len(subsegments)>0 else[]), (\"SubCategory Price Correlation Analysis P3Y\"if len(subcategories)>0 else[])]\n",
    "\n",
    "    section_names_correlation=[*section_names_correlation_1]\n",
    "    section_names_correlation=[i for i in section_names_correlation if i !=[]]\n",
    "\n",
    "    path=os.getcwd() + '\\Pricing base.pptx'\n",
    "    new_pre2=os.getcwd() + '\\Pricing Correlation duplicated.pptx'\n"
   ]
  },
  {
   "cell_type": "code",
   "execution_count": 620,
   "id": "b7c3107f",
   "metadata": {},
   "outputs": [
    {
     "name": "stdout",
     "output_type": "stream",
     "text": [
      "[10, 10, 10]\n",
      "3\n",
      "[10, 12, 13]\n",
      "3\n",
      "['Category Price Correlation Analysis P3Y', 'Sectors Price Correlation Analysis P3Y', 'Segments Price Correlation Analysis P3Y']\n",
      "3\n",
      "35\n"
     ]
    }
   ],
   "source": [
    "if run_fourthdeck:\n",
    "    print(index_correlation)\n",
    "    print(len(index_correlation))\n",
    "    print(duplication_correlation)\n",
    "    print(len(duplication_correlation))\n",
    "    print(section_names_correlation)\n",
    "    print(len(section_names_correlation))\n",
    "    print(sum(duplication_correlation))"
   ]
  },
  {
   "cell_type": "code",
   "execution_count": 621,
   "id": "b3acb9d7",
   "metadata": {},
   "outputs": [],
   "source": [
    "if run_fourthdeck:\n",
    "    slideDuplication(index_correlation,duplication_correlation,section_names_correlation,path,new_pre2)"
   ]
  },
  {
   "cell_type": "code",
   "execution_count": 622,
   "id": "3380fae7",
   "metadata": {},
   "outputs": [],
   "source": [
    "if run_fourthdeck:\n",
    "    def calculate_correlation_position(end):\n",
    "        return sum(duplication_correlation[i] * (1 if isinstance(index_correlation[i], int) else len(index_correlation[i])) for i in range(end))"
   ]
  },
  {
   "cell_type": "code",
   "execution_count": 623,
   "id": "fee8220c",
   "metadata": {},
   "outputs": [],
   "source": [
    "if run_fourthdeck:\n",
    "    prs2= Presentation(new_pre2)"
   ]
  },
  {
   "cell_type": "markdown",
   "id": "f451dfcd",
   "metadata": {},
   "source": [
    "##### Price Correlation Analysis P3Y (slide 12)"
   ]
  },
  {
   "cell_type": "code",
   "execution_count": 624,
   "id": "ade653b9",
   "metadata": {},
   "outputs": [],
   "source": [
    "if run_fourthdeck:\n",
    "    r=0\n",
    "    price_correlation_p3y(prs2, categories_dict,categories_dict_P12M,categories_dict_P3M, position=r)\n",
    "\n",
    "    r+=1\n",
    "    if len(sectors)!=0:\n",
    "        price_correlation_p3y(prs2, sectors_dict,sectors_dict_P12M,sectors_dict_P3M,position=calculate_correlation_position(r))\n",
    "        r+=1\n",
    "    if len(segments)!=0:\n",
    "        price_correlation_p3y(prs2, segments_dict,segments_dict_P12M,segments_dict_P3M,position=calculate_correlation_position(r))\n",
    "        r+=1\n",
    "\n",
    "    if len(subsegments)!=0:    \n",
    "        price_correlation_p3y(prs2, subsegments_dict,subsegments_dict_P12M,subsegments_dict_P3M,position=calculate_correlation_position(r))\n",
    "        r+=1\n",
    "    if len(subcategories)!=0:    \n",
    "        price_correlation_p3y(prs2, subcategories_dict,subcategories_dict_P12M,subcategories_dict_P3M,  position=calculate_correlation_position(r))\n",
    "        r+=1\n",
    " "
   ]
  },
  {
   "cell_type": "markdown",
   "id": "2076cff5",
   "metadata": {},
   "source": [
    "#### PPT Finalization"
   ]
  },
  {
   "cell_type": "code",
   "execution_count": 625,
   "id": "b84309f6",
   "metadata": {},
   "outputs": [],
   "source": [
    "if run_fourthdeck:\n",
    "    outputPath = os.getcwd()+\"\\\\Final OutPut\"+f\"\\\\Pricing Correlation output_{datetime.today().strftime(\"%d-%m\")}.pptx\"\n",
    "    prs2.save(outputPath)"
   ]
  },
  {
   "cell_type": "code",
   "execution_count": 626,
   "id": "78ea9eac-53cf-4fa0-8dd4-028438e6c278",
   "metadata": {},
   "outputs": [
    {
     "name": "stdout",
     "output_type": "stream",
     "text": [
      "Script started at: Thu Jul 17 19:03:54 2025\n",
      "Script ended at: Thu Jul 17 19:06:54 2025\n",
      "Elapsed time: 179.65 seconds\n"
     ]
    }
   ],
   "source": [
    "if run_fourthdeck:\n",
    "    end_time = time.time()\n",
    "    elapsed_time = end_time - start_time\n",
    "    print(f\"Script started at: {time.ctime(start_time)}\")\n",
    "    print(f\"Script ended at: {time.ctime(end_time)}\")\n",
    "    print(f\"Elapsed time: {elapsed_time:.2f} seconds\")"
   ]
  },
  {
   "cell_type": "markdown",
   "id": "9cf057ab",
   "metadata": {},
   "source": [
    "# WITHOUT Forcing CLIENT BRANDS"
   ]
  },
  {
   "cell_type": "code",
   "execution_count": 636,
   "id": "c986794d",
   "metadata": {},
   "outputs": [],
   "source": [
    "Sections_WO_CB=True"
   ]
  },
  {
   "cell_type": "code",
   "execution_count": 637,
   "id": "21849e03",
   "metadata": {},
   "outputs": [],
   "source": [
    "if not Sections_WO_CB:\n",
    "    print(\"Stopping the script as 'Sections_WO_CB' is set to False.\")\n",
    "    sys.exit()  # Terminate the script here\n"
   ]
  },
  {
   "cell_type": "code",
   "execution_count": 52,
   "id": "2d2bb3a8",
   "metadata": {},
   "outputs": [],
   "source": [
    "client_brands = []"
   ]
  },
  {
   "cell_type": "code",
   "execution_count": 53,
   "id": "b2e2acf9",
   "metadata": {},
   "outputs": [],
   "source": [
    "modified_price_positioning_WO_CB = {}\n",
    "modified_price_positioning_sorted_WO_CB = {}\n",
    "\n",
    "for l in price_positioning_brands.keys():\n",
    "    df = price_positioning_brands[l].copy()\n",
    "    df=DetectHeader(df)\n",
    "    df['Value Share'] =df['Value Share'].astype(float) \n",
    "    df = df[df[f\"{BrandOrTopB}\"] != \"Grand Total\"]\n",
    "    modified_price_positioning_WO_CB[l] = df\n",
    "\n",
    "modified_price_positioning_sorted_WO_CB = dfSort(modified_price_positioning_WO_CB, client_brands, f\"{BrandOrTopB}\", num=10, salesCol='Value Share')\n",
    "## Remove Others \n",
    "for k in modified_price_positioning_sorted_WO_CB.keys():\n",
    "    t=modified_price_positioning_sorted_WO_CB[k].copy()\n",
    "    t=t[~t[f\"{BrandOrTopB}\"].str.contains(\"Others\")]\n",
    "    modified_price_positioning_sorted_WO_CB[k]=t\n",
    " \n",
    "dropemptydf(modified_price_positioning_sorted_WO_CB)"
   ]
  },
  {
   "cell_type": "code",
   "execution_count": 54,
   "id": "a1db4b92",
   "metadata": {},
   "outputs": [],
   "source": [
    "sharGrowthDf_sec_WO_CB={}\n",
    "sharGrowthDf_seg_WO_CB={}\n",
    "sharGrowthDf_subseg_WO_CB={}\n",
    "sharGrowthDf_subcat_WO_CB={}\n",
    " \n",
    "for key in [\"National\"] + regions_RET + channels_RET+market_RET +  regions_CHAN +channels_CHAN+ market_CHAN+regions_CUST +channels_CUST+ market_CUST:\n",
    "    sharGrowthDf_sec_WO_CB[key]=[k.split(' | ')[1] for k in modified_price_positioning_sorted_WO_CB.keys() if key == k.split(' | ')[0] and k.split(' | ')[1] in sectors ]\n",
    "    sharGrowthDf_seg_WO_CB[key]=[k.split(' | ')[1] for k in modified_price_positioning_sorted_WO_CB.keys() if key == k.split(' | ')[0] and k.split(' | ')[1] in segments]\n",
    "    sharGrowthDf_subseg_WO_CB[key]=[k.split(' | ')[1] for k in modified_price_positioning_sorted_WO_CB.keys() if key == k.split(' | ')[0] and k.split(' | ')[1] in subsegments]\n",
    "    sharGrowthDf_subcat_WO_CB[key]=[k.split(' | ')[1] for k in modified_price_positioning_sorted_WO_CB.keys() if key == k.split(' | ')[0] and k.split(' | ')[1] in subcategories]\n",
    "    if len(sharGrowthDf_sec_WO_CB[key])==0:\n",
    "        sharGrowthDf_sec_WO_CB.pop(key,None)\n",
    "    if len(sharGrowthDf_seg_WO_CB[key])==0:\n",
    "        sharGrowthDf_seg_WO_CB.pop(key,None)\n",
    "    if len(sharGrowthDf_subseg_WO_CB[key])==0:\n",
    "        sharGrowthDf_subseg_WO_CB.pop(key,None)\n",
    "    if len(sharGrowthDf_subcat_WO_CB[key])==0:\n",
    "        sharGrowthDf_subcat_WO_CB.pop(key,None)"
   ]
  },
  {
   "cell_type": "code",
   "execution_count": 55,
   "id": "be5b7172",
   "metadata": {},
   "outputs": [],
   "source": [
    "####Brands&Manuf DataFrames\n",
    "if len(sectors)!=0:\n",
    "    sharGrowthDf_sec_WO_CB=sharGrowthDfclean(modified_price_positioning_sorted_WO_CB,sector_wob_leadership,sectors)\n",
    "if len(segments)!=0:\n",
    "    sharGrowthDf_seg_WO_CB=sharGrowthDfclean(modified_price_positioning_sorted_WO_CB,segment_wob_leadership,segments)\n",
    "if len(subsegments)!=0:\n",
    "    sharGrowthDf_subseg_WO_CB=sharGrowthDfclean(modified_price_positioning_sorted_WO_CB,subsegment_wob_leadership,subsegments)\n",
    "if len(subcategories)!=0:\n",
    "    sharGrowthDf_subcat_WO_CB=sharGrowthDfclean(modified_price_positioning_sorted_WO_CB,subcategory_wob_leadership,subcategories)\n",
    "\n"
   ]
  },
  {
   "cell_type": "code",
   "execution_count": 75,
   "id": "a179853f",
   "metadata": {},
   "outputs": [],
   "source": [
    "modified_brandPriceDistribution_WO_CB = brandPriceDistributionCleaning(price_distribution_by_brands_category,brandInScope= client_brands)\n",
    "dropemptydf(modified_brandPriceDistribution_WO_CB)"
   ]
  },
  {
   "cell_type": "code",
   "execution_count": 644,
   "id": "b16c2c4c",
   "metadata": {},
   "outputs": [],
   "source": [
    "index = [0]\n",
    "# Slide 1\n",
    "index.extend([1] * ((1 if sectors else 0) + (1 if segments else 0) + (1 if subcategories else 0) + (1 if subsegments else 0)))\n",
    "index.extend([8]*(1 if len(modified_brandPriceDistribution_WO_CB.keys())>0 else 0))\n",
    "sector_leadership = (len(regions_RET) + len(channels_RET) + len(market_RET) + len(regions_CHAN) + len(channels_CHAN) + len(market_CHAN)  + len(regions_CUST) + len(channels_CUST) + len(market_CUST)  + 1 if national else 0) * math.ceil(len(sectors)/6) \n",
    "segment_leadership = (len(regions_RET) + len(channels_RET) + len(market_RET) + len(regions_CHAN) + len(channels_CHAN) + len(market_CHAN)  + len(regions_CUST) + len(channels_CUST) + len(market_CUST)  + 1 if national else 0) * math.ceil(len(segments)/6) \n",
    "subsegment_leadership = (len(regions_RET) + len(channels_RET) + len(market_RET) + len(regions_CHAN) + len(channels_CHAN) + len(market_CHAN)  + len(regions_CUST) + len(channels_CUST) + len(market_CUST)  + 1 if national else 0) * math.ceil(len(subsegments)/6) \n",
    "subcategory_leadership = (len(regions_RET) + len(channels_RET) + len(market_RET) + len(regions_CHAN) + len(channels_CHAN) + len(market_CHAN)  + len(regions_CUST) + len(channels_CUST) + len(market_CUST)  + 1 if national else 0) * math.ceil(len(subcategories)/6) \n",
    "\n",
    "\n",
    "# Slide_0\n",
    "duplication_0=[len(modified_price_positioning_sorted_WO_CB.keys())]\n",
    "# # slide 1 \n",
    "# duplication_1=[len(sharGrowthDf_sec_WO_CB.keys())if sectors else 0, len(sharGrowthDf_seg_WO_CB.keys()) if segments else 0, \n",
    "#               len(sharGrowthDf_subseg_WO_CB.keys()) if subsegments else 0, len(sharGrowthDf_subcat_WO_CB.keys()) if subcategories  else 0]\n",
    "duplication_1=[sum(len(v) for v in sharGrowthDf_sec_WO_CB.values())if sectors else 0, sum(len(v) for v in sharGrowthDf_seg_WO_CB.values()) if segments else 0, \n",
    "              sum(len(v) for v in sharGrowthDf_subseg_WO_CB.values()) if subsegments else 0, sum(len(v) for v in sharGrowthDf_subcat_WO_CB.values()) if subcategories  else 0]\n",
    "           \n",
    "           \n",
    "duplication_2=[len(modified_brandPriceDistribution_WO_CB.keys())] \n",
    "\n",
    "duplication = duplication_0+duplication_1 +duplication_2\n",
    "duplication=[i for i in duplication if i !=0]\n",
    "section_names_0= [\"Price Positioning Analysis\"]\n",
    "\n",
    "# slide 1 \n",
    "section_names_1=[(\"Sectors Share and Growth By Brands\" if len(sectors)>0 else []),\n",
    "                 (\"Segments Share and Growth By Brands\" if len(segments)>0 else []),\n",
    "                 (\"SubSegments Share and Growth By Brands\"if len(subsegments)>0 else[]),\n",
    "                 (\"SubCategory Share and Growth By Brands\"if len(subcategories)>0 else[])]\n",
    "\n",
    "section_names_2=[(\"Price Point Distribution Analysis By Brand\" if len(modified_brandPriceDistribution_WO_CB.keys())>0 else [])]\n",
    "\n",
    "\n",
    "section_names = [*section_names_0,*section_names_1,*section_names_2]\n",
    "section_names=[i for i in section_names if i !=[]]\n"
   ]
  },
  {
   "cell_type": "code",
   "execution_count": 645,
   "id": "27555950",
   "metadata": {},
   "outputs": [],
   "source": [
    "path = os.getcwd() + '\\Pricing base.pptx'\n",
    "new_pre3 = os.getcwd() + '\\Pricing duplicated Not forcing CB.pptx'"
   ]
  },
  {
   "cell_type": "code",
   "execution_count": 646,
   "id": "6ba178f9",
   "metadata": {},
   "outputs": [
    {
     "name": "stdout",
     "output_type": "stream",
     "text": [
      "4\n",
      "[0, 1, 1, 8]\n",
      "4\n",
      "4\n",
      "[15, 3, 3, 10]\n",
      "31\n"
     ]
    }
   ],
   "source": [
    "print(len(index))\n",
    "print(index)\n",
    "print(len(duplication))\n",
    "\n",
    "print(len(section_names))\n",
    "print(duplication)\n",
    "print(sum(duplication))"
   ]
  },
  {
   "cell_type": "code",
   "execution_count": 647,
   "id": "df240334",
   "metadata": {},
   "outputs": [],
   "source": [
    "def calculate_position(end):\n",
    "    return sum(duplication[i] * (1 if isinstance(index[i], int) else len(index[i])) for i in range(end))"
   ]
  },
  {
   "cell_type": "code",
   "execution_count": 648,
   "id": "f81f8bb2",
   "metadata": {},
   "outputs": [],
   "source": [
    "slideDuplication(index,duplication,section_names,path,new_pre3)\n"
   ]
  },
  {
   "cell_type": "code",
   "execution_count": 649,
   "id": "2a33f735",
   "metadata": {},
   "outputs": [],
   "source": [
    "prs3 = Presentation(new_pre3)"
   ]
  },
  {
   "cell_type": "code",
   "execution_count": 650,
   "id": "fb2fe68b",
   "metadata": {},
   "outputs": [],
   "source": [
    "p=0\n",
    "pricePositioning(prs3,modified_price_positioning_sorted_WO_CB,duplication[p],position=p,slideby=f\"{BrandOrTopB}\")\n",
    "p+=1"
   ]
  },
  {
   "cell_type": "code",
   "execution_count": 651,
   "id": "330ce62f",
   "metadata": {},
   "outputs": [],
   "source": [
    "if len(sectors)!=0:\n",
    "\n",
    "    leadership_table1(prs3,modified_price_positioning_sorted_WO_CB,sharGrowthDf_sec_WO_CB,sector_wob_leadership, position=calculate_position(p),Inscope=\"Sector\",slideby=f\"{BrandOrTopB}\")\n",
    "    p+=1\n",
    "if len(segments)!=0:\n",
    "    leadership_table1(prs3,modified_price_positioning_sorted_WO_CB,sharGrowthDf_seg_WO_CB,segment_wob_leadership, position=calculate_position(p),Inscope=\"Segment\",slideby=f\"{BrandOrTopB}\")\n",
    "    p+=1\n",
    "if len(subsegments)!=0:    \n",
    "    leadership_table1(prs3,modified_price_positioning_sorted_WO_CB,sharGrowthDf_subseg_WO_CB,subsegment_wob_leadership, position=calculate_position(p),Inscope=\"SubSegment\",slideby=f\"{BrandOrTopB}\")\n",
    "    p+=1\n",
    "if len(subcategories)!=0:\n",
    "    leadership_table1(prs3,modified_price_positioning_sorted_WO_CB,sharGrowthDf_subcat_WO_CB,subcategory_wob_leadership, position=calculate_position(p),Inscope=\"SubCategory\",slideby=f\"{BrandOrTopB}\")\n",
    "    p+=1\n",
    "\n"
   ]
  },
  {
   "cell_type": "code",
   "execution_count": 652,
   "id": "8041fc38",
   "metadata": {},
   "outputs": [],
   "source": [
    "brandPriceDistributionPPTX(prs3,modified_brandPriceDistribution_WO_CB,duplication[p],currency=currency,position=calculate_position(p))\n"
   ]
  },
  {
   "cell_type": "code",
   "execution_count": 653,
   "id": "d266535d",
   "metadata": {},
   "outputs": [
    {
     "name": "stdout",
     "output_type": "stream",
     "text": [
      "Slide 1: Opened Excel workbook: Book1\n",
      "Slide 2: Opened Excel workbook: Book1\n",
      "Slide 3: Opened Excel workbook: Book1\n",
      "Slide 4: Opened Excel workbook: Book1\n",
      "Slide 5: Opened Excel workbook: Book1\n",
      "Slide 6: Opened Excel workbook: Book1\n",
      "Slide 7: Opened Excel workbook: Book1\n",
      "Slide 8: Opened Excel workbook: Book1\n",
      "Slide 9: Opened Excel workbook: Book1\n",
      "Slide 10: Opened Excel workbook: Book1\n",
      "Slide 11: Opened Excel workbook: Book1\n",
      "Slide 12: Opened Excel workbook: Book1\n",
      "Slide 13: Opened Excel workbook: Book1\n",
      "Slide 14: Opened Excel workbook: Book1\n",
      "Slide 15: Opened Excel workbook: Book1\n"
     ]
    }
   ],
   "source": [
    "outputPath = os.getcwd()+\"\\\\Final OutPut\"+f\"\\\\Pricing not_forcing_CB_output_{datetime.today().strftime(\"%d-%m\")}.pptx\"\n",
    "prs3.save(outputPath)\n",
    "final=os.getcwd() +\"\\\\Final OutPut\"+f\"\\\\Pricing not_forcing_CB_output_{datetime.today().strftime(\"%d-%m\")}.pptx\"\n",
    "open_chart_data_in_excel(final,outputPath)\n"
   ]
  },
  {
   "cell_type": "code",
   "execution_count": null,
   "id": "4b898a63",
   "metadata": {},
   "outputs": [],
   "source": []
  },
  {
   "cell_type": "code",
   "execution_count": null,
   "id": "7a1ffa26",
   "metadata": {},
   "outputs": [],
   "source": []
  }
 ],
 "metadata": {
  "kernelspec": {
   "display_name": "Python 3",
   "language": "python",
   "name": "python3"
  },
  "language_info": {
   "codemirror_mode": {
    "name": "ipython",
    "version": 3
   },
   "file_extension": ".py",
   "mimetype": "text/x-python",
   "name": "python",
   "nbconvert_exporter": "python",
   "pygments_lexer": "ipython3",
   "version": "3.13.1"
  }
 },
 "nbformat": 4,
 "nbformat_minor": 5
}
