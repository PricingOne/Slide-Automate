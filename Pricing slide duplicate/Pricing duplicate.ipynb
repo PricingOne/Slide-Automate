{
 "cells": [
  {
   "cell_type": "code",
   "execution_count": 548,
   "id": "7ab0a915",
   "metadata": {},
   "outputs": [],
   "source": [
    "%run \"..\\general_functions\\generalFunctions.ipynb\"\n",
    "%run \"..\\Pricing slide duplicate\\Pricing Replacement Function.ipynb\""
   ]
  },
  {
   "cell_type": "code",
   "execution_count": 549,
   "id": "dfa85c5a-066a-4ba2-9495-a5770a51af4d",
   "metadata": {},
   "outputs": [
    {
     "name": "stdout",
     "output_type": "stream",
     "text": [
      "c:\\Users\\BW4SA\\Documents\\Slide-Automate\\Pricing slide duplicate/Pricing Datasets-EdBrand/\n"
     ]
    }
   ],
   "source": [
    "loaded_data = {}\n",
    "datasets_path = os.getcwd()+\"/Pricing Datasets-EdBrand/\"\n",
    "print(datasets_path)\n",
    "datasets = os.listdir(datasets_path)\n",
    "for d in datasets:\n",
    "    # print(d)\n",
    "    globals()[d.split('.')[0]] = pd.read_pickle(datasets_path+d)\n",
    " \n",
    "    # with open(datasets_path+d, 'rb') as handle:\n",
    "    #     globals()[d.split('.')[0]] = pickle.load(handle)\n",
    " \n",
    "themePath = r\"C:\\Users\\BW4SA\\Documents\\GitHub\\Slide-Automate\\Theme1.thmx\"\n",
    " "
   ]
  },
  {
   "cell_type": "markdown",
   "id": "50998a64-35de-4070-9aae-9e388762ad60",
   "metadata": {},
   "source": [
    "\n",
    "## Data Parameters"
   ]
  },
  {
   "cell_type": "code",
   "execution_count": 550,
   "id": "46b7f40a-3f8e-45e5-bce0-29fce6698aa1",
   "metadata": {},
   "outputs": [],
   "source": [
    "client_manuf = [\"Edgewell Personal Care\"]\n",
    "client_brands = [\"Schick\",\"Equate\",\"Cremo\"]\n",
    "# client_brands = [\"Cremo\",\"Xtreme 3\",\"Hydro 5\",\"Xtreme 2\",\n",
    "#                  \"Quattro For Men\",\"Hydro 3\",\"Hydro Stubble Eraser\",\n",
    "#                  \"Xtreme 4\",\"Schick Classic\",\"Schick Injector\",\n",
    "#                  \"Schick Original\",\"Xtreme 5\",\"St2/Slim Twin\",\n",
    "#                  \"5-Blade\",\"The Stylish 5\",\"Speed 3 Sensitive\",\n",
    "#                  \"The Essential 2\",\"The Stylish 3\",\"Caliber 4 Max\",\n",
    "#                  \"Easy Fit 3\",\"Speed 4\",\"Pbg Pl\"]\n",
    "decimals = 2\n",
    "sign = \"Before\"\n",
    "currency = '$'\n",
    "currency = ' '+ currency if sign.lower() == 'after' else  currency + ' '\n",
    "\n",
    "prodORitem=\"SKU\"\n",
    "categories =[\"Manual Shave Men\"]\n",
    "sectors = [\"System\",\"Disposables\"]\n",
    "segments = [\"Razors\",\"Refills\",\"Disposables\"]\n",
    "subsegments= []\n",
    "subcategories= []\n",
    "\n",
    "customareas=''\n",
    "national = True\n",
    "areas = [\"NATIONAL\",'RETAILER']\n",
    "\n",
    "regions_RET  =[\"Bj's And Sam's\",\"Walmart\"]\n",
    "channels_RET = []\n",
    "market_RET = []\n",
    " \n",
    "regions_CHAN = []\n",
    "channels_CHAN = []\n",
    "market_CHAN = []\n",
    " \n",
    "regions_CUST = []\n",
    "channels_CUST = []\n",
    "market_CUST = []\n",
    " \n",
    "data_source = \"DATA SOURCE: Trade Panel/Retailer Data | Ending March  2025\"\n",
    "end_date = \"2025-04-01\"\n",
    " \n",
    "OpenEditData=True\n",
    "ManufOrTopC =\"Top Companies\"\n",
    "BrandOrTopB=\"Brand\"\n",
    "direct_parent = {\"Sector\":\"Category\",\n",
    "                \"Segment\":\"Sector\",\n",
    "                \"SubSegment\":\"Segment\",\n",
    "                \"SubCategory\":\"Segment\"}\n",
    " \n",
    "parent_lists={'Category':categories,\n",
    "             \"Sector\":sectors,\n",
    "              \"Segment\":segments,\n",
    "               \"SubSegment\":subsegments,\n",
    "                \"SubCategory\":subcategories }\n",
    " "
   ]
  },
  {
   "cell_type": "code",
   "execution_count": 551,
   "id": "583878e8-5142-4689-a8f0-6b6a67d09667",
   "metadata": {},
   "outputs": [],
   "source": [
    "start_time = time.time()"
   ]
  },
  {
   "cell_type": "code",
   "execution_count": 552,
   "id": "20149560",
   "metadata": {},
   "outputs": [],
   "source": [
    "run_firstdeck = True\n",
    "run_seconddeck = True\n",
    "run_thirddeck = True  \n",
    "run_fourthdeck = True\n",
    "run_scraped = True\n",
    "Sections_WO_CB=True"
   ]
  },
  {
   "cell_type": "markdown",
   "id": "b54f700c",
   "metadata": {},
   "source": [
    "## Price Positioning Summary "
   ]
  },
  {
   "cell_type": "code",
   "execution_count": 553,
   "id": "0ef68935",
   "metadata": {},
   "outputs": [],
   "source": [
    "pricepoition_summary=summary(price_positioning_brands,col=f\"{BrandOrTopB}\")\n",
    "\n",
    "if len(categories)>0:\n",
    "    cat_groups,cat_groupsdf=group_by_key(pricepoition_summary,categories)\n",
    "if len(sectors)>0:\n",
    "    sector_groups,sector_groupsdf=group_by_key(pricepoition_summary,sectors)\n",
    "if len(segments)>0:\n",
    "    segment_groups,segment_groupsdf=group_by_key(pricepoition_summary,segments)\n",
    "if len(subsegments)>0:\n",
    "    subsegment_groups,subsegment_groupsdf=group_by_key(pricepoition_summary,subsegments)\n",
    "if len(subcategories)>0:\n",
    "    subcategory_groups,subcategory_groupsdf=group_by_key(pricepoition_summary,subcategories)\n",
    "\n",
    "\n",
    "#Create  slide index   \n",
    "if len(categories)>0:\n",
    "    final_lis0=indexlist(cat_groups) \n",
    "if len(sectors)>0:\n",
    "    final_lis1=indexlist(sector_groups)\n",
    "if len(segments)>0:\n",
    "    final_lis2=indexlist(segment_groups)\n",
    "if len(subsegments)>0:\n",
    "    final_lis3=indexlist(subsegment_groups)\n",
    "if len(subcategories)>0:\n",
    "    final_lis4=indexlist(subcategory_groups)\n",
    "\n",
    "summaryindex = []\n",
    "if categories:\n",
    "    summaryindex.extend(final_lis0)\n",
    "if sectors:\n",
    "    summaryindex.extend(final_lis1)\n",
    "if segments:\n",
    "    summaryindex.extend(final_lis2)\n",
    "if subsegments:\n",
    "    summaryindex.extend(final_lis3)\n",
    "if subcategories:\n",
    "    summaryindex.extend(final_lis4)\n",
    "    \n",
    "    "
   ]
  },
  {
   "cell_type": "markdown",
   "id": "06e82860",
   "metadata": {},
   "source": [
    "## Pricing Positioning"
   ]
  },
  {
   "cell_type": "code",
   "execution_count": 554,
   "id": "1e60dfb4",
   "metadata": {},
   "outputs": [],
   "source": [
    "modified_price_positioning_brands_sorted, modified_leadership_table_brands_sorted= PricePositioningClean(price_positioning_brands, col=f\"{BrandOrTopB}\")\n",
    "modified_price_positioning_manuf_sorted,modified_leadership_table_manuf_sorted = PricePositioningClean(price_positioning_manuf, col=f'{ManufOrTopC}')\n",
    "dropemptydf(modified_price_positioning_brands_sorted)\n",
    "dropemptydf(modified_leadership_table_brands_sorted)\n",
    "dropemptydf(modified_price_positioning_manuf_sorted)\n",
    "dropemptydf(modified_leadership_table_manuf_sorted)"
   ]
  },
  {
   "cell_type": "markdown",
   "id": "47b933b4",
   "metadata": {},
   "source": [
    "## Sector/Segment Leadership Table"
   ]
  },
  {
   "cell_type": "code",
   "execution_count": 555,
   "id": "1745209f",
   "metadata": {},
   "outputs": [],
   "source": [
    "sector_wob_leadership=wobcleaning(sector_total_leadership,slideby=\"Sector\")\n",
    "segment_wob_leadership=wobcleaning(segment_total_leadership,slideby=\"Segment\")\n",
    "subsegment_wob_leadership=wobcleaning(subseg_total_leadership,slideby=\"SubSegment\")\n",
    "subcategory_wob_leadership=wobcleaning(subcat_total_leadership,slideby=\"SubCategory\")"
   ]
  },
  {
   "cell_type": "code",
   "execution_count": 556,
   "id": "4d98cf96",
   "metadata": {},
   "outputs": [],
   "source": [
    "####Brands&Manuf DataFrames\n",
    "if len(sectors)!=0:\n",
    "    sharGrowthDf_brands_sec=sharGrowthDfclean(modified_price_positioning_brands_sorted,sector_wob_leadership,sectors)\n",
    "    sharGrowthDf_manuf_sec=sharGrowthDfclean(modified_leadership_table_manuf_sorted,sector_wob_leadership,sectors)\n",
    "if len(segments)!=0:\n",
    "    sharGrowthDf_brands_seg=sharGrowthDfclean(modified_price_positioning_brands_sorted,segment_wob_leadership,segments)\n",
    "    sharGrowthDf_manuf_seg=sharGrowthDfclean(modified_leadership_table_manuf_sorted,segment_wob_leadership,segments)\n",
    "if len(subsegments)!=0:\n",
    "    sharGrowthDf_brands_subseg=sharGrowthDfclean(modified_price_positioning_brands_sorted,subsegment_wob_leadership,subsegments)\n",
    "    sharGrowthDf_manuf_subseg=sharGrowthDfclean(modified_leadership_table_manuf_sorted,subsegment_wob_leadership,subsegments)\n",
    "if len(subcategories)!=0:\n",
    "    sharGrowthDf_brands_subcat=sharGrowthDfclean(modified_price_positioning_brands_sorted,subcategory_wob_leadership,subcategories)\n",
    "    sharGrowthDf_manuf_subcat=sharGrowthDfclean(modified_leadership_table_manuf_sorted,subcategory_wob_leadership,subcategories)"
   ]
  },
  {
   "cell_type": "markdown",
   "id": "86897787",
   "metadata": {},
   "source": [
    "## Sector/Segment Leadership Analysis"
   ]
  },
  {
   "cell_type": "code",
   "execution_count": 557,
   "id": "bf8a2100",
   "metadata": {},
   "outputs": [],
   "source": [
    "if len(segments)!=0:\n",
    "    modified_totals_segments_leadershipanalysis={}\n",
    "    modified_brands_segments_leadershipanalysis={}\n",
    "    modified_manuf_segments_leadershipanalysis={}\n",
    "    leadershipanalysisclean(total_Segment,modified_totals_segments_leadershipanalysis,parent=direct_parent[\"Segment\"],total=True)\n",
    "    leadershipanalysisclean(brand_Segment,modified_brands_segments_leadershipanalysis,parent=direct_parent[\"Segment\"],total=False)\n",
    "    leadershipanalysisclean(manuf_Segment,modified_manuf_segments_leadershipanalysis,parent=direct_parent[\"Segment\"],total=False)\n",
    "    dropemptydf(modified_totals_segments_leadershipanalysis)\n",
    "    dropemptydf(modified_brands_segments_leadershipanalysis)\n",
    "    dropemptydf(modified_manuf_segments_leadershipanalysis)\n",
    "if len(subsegments)!=0:\n",
    "    modified_totals_subsegments_leadershipanalysis={}\n",
    "    modified_brands_subsegments_leadershipanalysis={}  \n",
    "    modified_manuf_subsegments_leadershipanalysis={}\n",
    "    leadershipanalysisclean(total_SubSegment,modified_totals_subsegments_leadershipanalysis,parent=direct_parent[\"SubSegment\"],total=True)\n",
    "    leadershipanalysisclean(brand_SubSegment,modified_brands_subsegments_leadershipanalysis,parent=direct_parent[\"SubSegment\"],total=False)\n",
    "    leadershipanalysisclean(manuf_SubSegment,modified_manuf_subsegments_leadershipanalysis,parent=direct_parent[\"SubSegment\"],total=False)\n",
    "    dropemptydf(modified_totals_subsegments_leadershipanalysis)\n",
    "    dropemptydf(modified_brands_subsegments_leadershipanalysis)\n",
    "    dropemptydf(modified_manuf_subsegments_leadershipanalysis)\n",
    "if len(subcategories)!=0:\n",
    "    modified_totals_subcategory_leadershipanalysis={}\n",
    "    modified_brands_subcategory_leadershipanalysis={}\n",
    "    modified_manuf_subcategory_leadershipanalysis={}\n",
    "    leadershipanalysisclean(total_SubCategory,modified_totals_subcategory_leadershipanalysis,parent=direct_parent[\"SubCategory\"],total=True)\n",
    "    leadershipanalysisclean(brand_SubCategory,modified_brands_subcategory_leadershipanalysis,parent=direct_parent[\"SubCategory\"],total=False)\n",
    "    leadershipanalysisclean(manuf_SubCategory,modified_manuf_subcategory_leadershipanalysis,parent=direct_parent[\"SubCategory\"],total=False)\n",
    "    dropemptydf(modified_totals_subcategory_leadershipanalysis)\n",
    "    dropemptydf(modified_brands_subcategory_leadershipanalysis)\n",
    "    dropemptydf(modified_manuf_subcategory_leadershipanalysis)"
   ]
  },
  {
   "cell_type": "markdown",
   "id": "04790561",
   "metadata": {},
   "source": [
    "## Sector/Segment BrandLeaderships"
   ]
  },
  {
   "cell_type": "code",
   "execution_count": 558,
   "id": "6b9d8d93",
   "metadata": {},
   "outputs": [],
   "source": [
    "if len(sectors)!=0:\n",
    "    modified_sector_leadership,modified_sector_total_leadership={},{}\n",
    "    totalleadership(sector_leadership,modified_sector_leadership,Inscope=\"Sector\",total=False)\n",
    "    totalleadership(sector_total_leadership,modified_sector_total_leadership,Inscope=\"Sector\",total=True)\n",
    "    dropemptydf(modified_sector_leadership)\n",
    "    dropemptydf(modified_sector_total_leadership)\n",
    "if len(segments)!=0:\n",
    "    modified_segment_leadership,modified_segment_total_leadership={},{}\n",
    "    totalleadership(segment_leadership,modified_segment_leadership,Inscope=\"Segment\",total=False)\n",
    "    totalleadership(segment_total_leadership,modified_segment_total_leadership,Inscope=\"Segment\",total=True)\n",
    "    dropemptydf(modified_segment_leadership)\n",
    "    dropemptydf(modified_segment_total_leadership)\n",
    "if len(subsegments)!=0:\n",
    "    modified_subsegment_leadership={}\n",
    "    modified_subsegment_total_leadership={}\n",
    "    totalleadership(subseg_leadership,modified_subsegment_leadership,Inscope=\"SubSegment\",total=False)\n",
    "    totalleadership(subseg_total_leadership,modified_subsegment_total_leadership,Inscope=\"SubSegment\",total=True)\n",
    "    dropemptydf(modified_subsegment_leadership)\n",
    "    dropemptydf(modified_subsegment_total_leadership)\n",
    "if len(subcategories)!=0:\n",
    "    modified_subcategory_leadership={}\n",
    "    modified_subcategory_total_leadership={}\n",
    "    totalleadership(subcat_leadership,modified_subcategory_leadership,Inscope=\"SubCategory\",total=False)\n",
    "    totalleadership(subcat_total_leadership,modified_subcategory_total_leadership,Inscope=\"SubCategory\",total=True)\n",
    "    dropemptydf(modified_subcategory_leadership)\n",
    "    dropemptydf(modified_subcategory_total_leadership)"
   ]
  },
  {
   "cell_type": "markdown",
   "id": "b587ea74",
   "metadata": {},
   "source": [
    "## Shelf price /vol and Avg price /vol comparison"
   ]
  },
  {
   "cell_type": "code",
   "execution_count": 559,
   "id": "75d742cf",
   "metadata": {},
   "outputs": [],
   "source": [
    "if (len(sectors)!=0):\n",
    "    total_brands_sector,top_brands_sector,total_manuf_sector,top_manuf_sector={},{},{},{}\n",
    "    shelfallbrandsclean(shelf_sectors_all_brands,total_brands_sector,shelf_sectors_top_brands,top_brands_sector,Inscope=\"Sector\")\n",
    "    shelfallbrandsclean(shelf_sectors_all_manuf,total_manuf_sector,shelf_sectors_top_manuf,top_manuf_sector,Inscope=\"Sector\",bymanuf=f'{ManufOrTopC}')\n",
    "if (len(segments)!=0):\n",
    "    total_brands_segment,top_brands_segment,total_manuf_segment,top_manuf_segment = {},{},{},{}\n",
    "    shelfallbrandsclean(shelf_segments_all_brands,total_brands_segment,shelf_segments_top_brands,top_brands_segment,Inscope=\"Segment\")\n",
    "    shelfallbrandsclean(shelf_segments_all_manuf,total_manuf_segment,shelf_segments_top_manuf,top_manuf_segment,Inscope=\"Segment\",bymanuf=f'{ManufOrTopC}')\n",
    "if (len(subsegments)!=0): \n",
    "    total_brands_subsegment,top_brands_subsegment,total_manuf_subsegment,top_manuf_subsegment = {},{},{},{}\n",
    "    shelfallbrandsclean(shelf_subsegments_all_brands,total_brands_subsegment,shelf_subsegments_top_brands,top_brands_subsegment,Inscope=\"SubSegment\")\n",
    "    shelfallbrandsclean(shelf_subsegments_all_manuf,total_manuf_subsegment,shelf_subsegments_top_manuf,top_manuf_subsegment,Inscope=\"SubSegment\",bymanuf=f'{ManufOrTopC}')\n",
    "if (len(subcategories)!=0):\n",
    "    total_brands_subcategory,top_brands_subcategory,total_manuf_subcategory,top_manuf_subcategory = {},{},{},{}\n",
    "    shelfallbrandsclean(shelf_subcategories_all_brands,total_brands_subcategory,shelf_subcategories_top_brands,top_brands_subcategory,Inscope=\"SubCategory\")\n",
    "    shelfallbrandsclean(shelf_subcategories_all_manuf,total_manuf_subcategory,shelf_subcategories_top_manuf,top_manuf_subcategory,Inscope=\"SubCategory\",bymanuf=f'{ManufOrTopC}')"
   ]
  },
  {
   "cell_type": "markdown",
   "id": "c7d3af58",
   "metadata": {},
   "source": [
    "#### Shelf Price & AVG PRICE"
   ]
  },
  {
   "cell_type": "code",
   "execution_count": 560,
   "id": "e554b97f",
   "metadata": {},
   "outputs": [],
   "source": [
    "if len(sectors) != 0 and len(parent_lists[direct_parent['Sector']]) != 0:\n",
    "    all_brands_sector,all_manuf_sector={},{}\n",
    "    all_brands_sector=shelfPriceCleaning(total_brands_sector,top_brands_sector,sec_seg='Sector', slide_by = sectors,brandORmanuf=f\"{BrandOrTopB}\")\n",
    "    all_manuf_sector=shelfPriceCleaning(total_manuf_sector,top_manuf_sector,sec_seg='Sector', slide_by = sectors,brandORmanuf=f'{ManufOrTopC}')\n",
    "    dropemptydf(all_manuf_sector)\n",
    "    dropemptydf(all_brands_sector) \n",
    "if len(segments)!=0 and len(parent_lists[direct_parent['Segment']])!=0:\n",
    "    all_brands_segment,all_manuf_segment={},{}\n",
    "    all_brands_segment=shelfPriceCleaning(total_brands_segment,top_brands_segment,sec_seg='Segment', slide_by = segments,brandORmanuf=f\"{BrandOrTopB}\")\n",
    "    all_manuf_segment=shelfPriceCleaning(total_manuf_segment,top_manuf_segment,sec_seg='Segment', slide_by = segments,brandORmanuf=f'{ManufOrTopC}')\n",
    "    dropemptydf(all_manuf_segment)\n",
    "    dropemptydf(all_brands_segment)\n",
    "if len(subsegments)!=0 and len(parent_lists[direct_parent['SubSegment']])!=0:\n",
    "    all_brands_subsegment,all_manuf_subsegment={},{}\n",
    "    all_brands_subsegment=shelfPriceCleaning(total_brands_subsegment,top_brands_subsegment,sec_seg='SubSegment', slide_by = subsegments,brandORmanuf=f\"{BrandOrTopB}\")\n",
    "    all_manuf_subsegment=shelfPriceCleaning(total_manuf_subsegment,top_manuf_subsegment,sec_seg='SubSegment', slide_by = subsegments,brandORmanuf=f'{ManufOrTopC}')\n",
    "    dropemptydf(all_manuf_subsegment)\n",
    "    dropemptydf(all_brands_subsegment)\n",
    "if len(subcategories)!=0 and len(parent_lists[direct_parent['SubCategory']])!=0:\n",
    "    all_brands_subcategory,all_manuf_subcategory={},{}\n",
    "    all_brands_subcategory=shelfPriceCleaning(total_brands_subcategory,top_brands_subcategory,sec_seg='SubCategory', slide_by = subcategories,brandORmanuf=f\"{BrandOrTopB}\")\n",
    "    all_manuf_subcategory=shelfPriceCleaning(total_manuf_subcategory,top_manuf_subcategory,sec_seg='SubCategory', slide_by = subcategories,brandORmanuf=f'{ManufOrTopC}')\n",
    "    dropemptydf(all_manuf_subcategory)\n",
    "    dropemptydf(all_brands_subcategory)\n"
   ]
  },
  {
   "cell_type": "markdown",
   "id": "fca5b9e3",
   "metadata": {},
   "source": [
    "## Cleaning Price Distribution"
   ]
  },
  {
   "cell_type": "code",
   "execution_count": 561,
   "id": "270cbe51",
   "metadata": {},
   "outputs": [],
   "source": [
    "def cleaningPricePointScraped(dfs,Eandfs,Inscope):\n",
    "    output={}\n",
    "    for k in dfs.keys():\n",
    "        t = dfs[k].copy()\n",
    "        t=DetectHeader(t)\n",
    "        endf=Eandfs[k].copy()\n",
    "        endf=DetectHeader(endf)\n",
    "        \n",
    "        # t = t[(t['Total Size'].notna()) | (t[Inscope].str.contains(\"Total\"))]\n",
    "        t[\"End of Week\"]=t[\"End of Week\"].ffill()\n",
    "        t[Inscope] = t[Inscope].ffill()\n",
    "        t[\"Ean\"] = t[\"Ean\"].ffill()\n",
    "        t[\"SKU\"] = t[\"SKU\"].ffill()\n",
    "        \n",
    "        dfTotal = t[t[Inscope].str.contains('Total')]\n",
    "        # dfTotal['Sort_Value']=range(1,dfTotal.shape[0]+1)\n",
    "        # dfTotal[Inscope]=dfTotal[Inscope].str.replace(' Total','')\n",
    "        t = t[~t[Inscope].str.contains('Total')]\n",
    "        t=t[~t[\"End of Week\"].str.contains('Total')]  \n",
    "        t = t[~t[f'{prodORitem}'].fillna('').str.contains('Total')]\n",
    "        t=t[~t['Ean'].str.contains('Total')] \n",
    "        \n",
    "        # t=t.dropna(subset=['Scraped Av. Price/Unit', 'Scraped Av. Price/KG'])\n",
    "        \n",
    "        t['End of Week'] = pd.to_datetime(t['End of Week'], errors='coerce')\n",
    "        # t.drop(columns=['End of Week'], inplace=True)\n",
    "        # dfTotal['Sort_Value']=range(1,dfTotal.shape[0]+1)\n",
    "        # dfTotal[Inscope]=dfTotal[Inscope].str.replace(' Total','')\n",
    "        # t = t[~t[Inscope].str.contains('Total')].head(15)\n",
    "        # t=t.merge(dfTotal[[Inscope,'Sort_Value']]).sort_values(['Sort_Value','Scraped Av. Price/KG'],ascending=[True,False])\n",
    "        if not t.empty and k in Eandfs:\n",
    "            t = t.merge(endf, on='Ean', how='left')\n",
    "            t['End of Week'] = pd.to_datetime(t['End of Week'], errors='coerce')\n",
    "            latest_eow = t['End of Week'].max().date()\n",
    "            t = t[t['End of Week'].dt.date == latest_eow]\n",
    "            t = t.sort_values('Value Sales',ascending=False).head(15)\n",
    "\n",
    "            # print(latest_eow)\n",
    "\n",
    "            output[k] = t\n",
    "             # missing_values = sectorPD[key][['Base Price/Unit', 'Base Price/KG']].isna().any()\n",
    "    return output "
   ]
  },
  {
   "cell_type": "code",
   "execution_count": 562,
   "id": "dae4d3b2",
   "metadata": {},
   "outputs": [],
   "source": [
    "if len(parent_lists[direct_parent['Sector']])!=0 and len(sectors)!=0:\n",
    "    sectorP3mPD=cleaningPricePoint(price_distribution_Sector_p3m,Inscope=\"Sector\")\n",
    "    sectorP12mPD=cleaningPricePoint(price_distribution_Sector_p12m,Inscope=\"Sector\")\n",
    "    sectorP3mPD_manuf=cleaningPricePoint(price_distribution_Sector_manuf_p3m,Inscope=\"Sector\")\n",
    "    sectorP12mPD_manuf=cleaningPricePoint(price_distribution_Sector_manuf_p12m,Inscope=\"Sector\")\n",
    "if len(parent_lists[direct_parent['Segment']])!=0 and len(segments)!=0:\n",
    "    segmentP3mPD=cleaningPricePoint(price_distribution_Segment_p3m,Inscope=\"Segment\")\n",
    "    segmentP12mPD=cleaningPricePoint(price_distribution_Segment_p12m,Inscope=\"Segment\")\n",
    "    segmentP3mPD_manuf=cleaningPricePoint(price_distribution_Segment_manuf_p3m,Inscope=\"Segment\")\n",
    "    segmentP12mPD_manuf=cleaningPricePoint(price_distribution_Segment_manuf_p12m,Inscope=\"Segment\")\n",
    "if len(parent_lists[direct_parent['SubSegment']])!=0 and len(subsegments)!=0:\n",
    "    sub_segmentP3mPD=cleaningPricePoint(price_distribution_SubSegment_p3m,Inscope=\"SubSegment\")\n",
    "    sub_segmentP12mPD=cleaningPricePoint(price_distribution_SubSegment_p12m,Inscope=\"SubSegment\")\n",
    "    sub_segmentP3mPD_manuf=cleaningPricePoint(price_distribution_SubSegment_manuf_p3m,Inscope=\"SubSegment\")\n",
    "    sub_segmentP12mPD_manuf=cleaningPricePoint(price_distribution_SubSegment_manuf_p12m,Inscope=\"SubSegment\")\n",
    "if len(parent_lists[direct_parent['SubCategory']])!=0 and len(subcategories)!=0:\n",
    "    sub_categoryP3mPD=cleaningPricePoint(price_distribution_SubCategory_p3m,Inscope=\"SubCategory\")\n",
    "    sub_categoryP12mPD=cleaningPricePoint(price_distribution_SubCategory_p12m,Inscope=\"SubCategory\")   \n",
    "    sub_categoryP3mPD_manuf=cleaningPricePoint(price_distribution_SubCategory_manuf_p3m,Inscope=\"SubCategory\")\n",
    "    sub_categoryP12mPD_manuf=cleaningPricePoint(price_distribution_SubCategory_manuf_p12m,Inscope=\"SubCategory\")        \n",
    "\n",
    "########################################  Scraped  ############################################\n",
    "if run_scraped:\n",
    "    if len(parent_lists[direct_parent['Sector']])!=0 and len(sectors)!=0:\n",
    "        sectorPD_scraped=cleaningPricePointScraped(price_distribution_scraped_Sector,price_distribution_scraped_Sector_Ean,Inscope=\"Sector\")\n",
    "        sectorPD_manuf_scraped=cleaningPricePointScraped(price_distribution_scraped_Sector_manuf,price_distribution_scraped_Sector_Ean_manuf,Inscope=\"Sector\")\n",
    "    if len(parent_lists[direct_parent['Segment']])!=0 and len(segments)!=0:\n",
    "        segmentPD_scraped=cleaningPricePointScraped(price_distribution_scraped_Segment,price_distribution_scraped_Segment_Ean,Inscope=\"Segment\")\n",
    "        segmentPD_manuf_scraped=cleaningPricePointScraped(price_distribution_scraped_Segment_manuf,price_distribution_scraped_Segment_Ean_manuf,Inscope=\"Segment\")\n",
    "    if len(parent_lists[direct_parent['SubSegment']])!=0 and len(subsegments)!=0:\n",
    "        sub_segmentPD_scraped=cleaningPricePointScraped(price_distribution_scraped_SubSegment,price_distribution_scraped_SubSegment_Ean,Inscope=\"SubSegment\")\n",
    "        sub_segmentPD_manuf_scraped=cleaningPricePointScraped(price_distribution_scraped_SubSegment_manuf,price_distribution_scraped_SubSegment_Ean_manuf,Inscope=\"SubSegment\")\n",
    "    if len(parent_lists[direct_parent['SubCategory']])!=0 and len(subcategories)!=0:\n",
    "        sub_categoryPD_scraped=cleaningPricePointScraped(price_distribution_scraped_SubCategory,price_distribution_scraped_SubCategory_Ean,Inscope=\"SubCategory\")\n",
    "        sub_categoryPD_manuf_scraped=cleaningPricePointScraped(price_distribution_scraped_SubCategory_manuf,price_distribution_scraped_SubCategory_Ean_manuf,Inscope=\"SubCategory\") "
   ]
  },
  {
   "cell_type": "markdown",
   "id": "c0bfd2bc",
   "metadata": {},
   "source": [
    "## Price Contribution"
   ]
  },
  {
   "cell_type": "code",
   "execution_count": 563,
   "id": "d85c014c",
   "metadata": {},
   "outputs": [],
   "source": [
    "def clean_scrap_test(data,slideby=\"\"):\n",
    "    cleaned_data = {}\n",
    "    final ={}\n",
    "    for key in data.keys():\n",
    "        df = data[key]\n",
    "        df=DetectHeader(df)\n",
    "        df[slideby] = df[slideby].ffill()\n",
    "        # df=df[df[\"Value Sales\"]>1000]\n",
    "        if df.shape[0] >0:\n",
    "            cleaned_data[key] = df\n",
    "            \n",
    "    for key, df in cleaned_data.items():\n",
    "        total_entries = df[(df[slideby].str.contains(' Total')) & ~(df[slideby].isin(['Grand Total',\"All Others Total\"])) & ~(df[slideby].isin([i+' Total' for i in client_brands]))]\n",
    "        total_entries['Value Share'] = total_entries['Value Share'].astype(float)\n",
    "        total_entries = total_entries.nlargest(3,columns=\"Value Share\")    \n",
    "        comp_lis = list(total_entries[slideby].str.replace(\" Total\",''))\n",
    "        if slideby==f\"{BrandOrTopB}\":\n",
    "            for client in client_brands:\n",
    "                if client in df[f\"{BrandOrTopB}\"].unique():\n",
    "                    df = df[~df[f\"{BrandOrTopB}\"].isin(['Grand Total',\"All Others Total\"])]\n",
    "                    df = df[~df[f\"{BrandOrTopB}\"].str.contains('Total')]\n",
    "                    df[f'{prodORitem}'] = df[f'{prodORitem}'].astype(str)\n",
    "                    df = df[~df[f'{prodORitem}'].str.contains('Total')]\n",
    "\n",
    "                    df = df.reset_index(drop =True)\n",
    "                \n",
    "                    comp_sorted = df[\n",
    "                        (~df[f\"{BrandOrTopB}\"].isin(client_brands)) & \n",
    "                        (df[f\"{BrandOrTopB}\"].isin(comp_lis))\n",
    "                    ].sort_values(by=\"Value Share\", ascending=False)\n",
    "                    top_5_comp = comp_sorted.groupby(f\"{BrandOrTopB}\", group_keys=False).apply(lambda x: x.sort_values(by='Value Share', ascending=False).head(5)).reset_index(drop = True)\n",
    "                    client_sorted = df[df[f\"{BrandOrTopB}\"]==client].sort_values(by =\"Value Share\", ascending = False)\n",
    "                    top_5_client = client_sorted.reset_index(drop=True).head(5)\n",
    "                    merged = pd.concat([top_5_client, top_5_comp], ignore_index=True)\n",
    "                    new_key = key + ' | ' + client\n",
    "                    if merged.shape[0] > 0:\n",
    "                            print(new_key,merged)\n",
    "                            \n",
    "                            final[new_key] = merged\n",
    "        else:\n",
    "            for manuf in client_manuf:\n",
    "                if manuf in df[slideby].unique():\n",
    "                    df = df[~df[slideby].isin(['Grand Total',\"All Others Total\"])]\n",
    "                    df = df[~df[slideby].str.contains('Total')]\n",
    "                    df[f'{prodORitem}'] = df[f'{prodORitem}'].astype(str)\n",
    "\n",
    "                    df = df[~df[f'{prodORitem}'].str.contains('Total')]\n",
    "                    \n",
    "                    df = df.reset_index(drop =True)\n",
    "                    \n",
    "                    comp_sorted = df[\n",
    "                        (~df[slideby].isin(client_brands)) & \n",
    "                        (df[slideby].isin(comp_lis))\n",
    "                    ].sort_values(by=\"Value Share\", ascending=False)\n",
    "                    top_5_comp = comp_sorted.groupby(slideby, group_keys=False).apply(lambda x: x.sort_values(by='Value Share', ascending=False).head(5)).reset_index(drop = True)\n",
    "                    \n",
    "                    client_sorted = df[df[slideby]==manuf].sort_values(by =\"Value Share\", ascending = False)\n",
    "                    top_5_client = client_sorted.reset_index(drop=True).head(5)\n",
    "                    merged = pd.concat([top_5_client, top_5_comp], ignore_index=True)\n",
    "                    new_key = key + ' | ' + manuf\n",
    "                    if merged.shape[0] > 0:\n",
    "                            final[new_key] = merged\n",
    "\n",
    "    return final\n"
   ]
  },
  {
   "cell_type": "code",
   "execution_count": 564,
   "id": "d3dd0f14",
   "metadata": {},
   "outputs": [],
   "source": [
    "def clean_test2_scraped(data, datap12m, slideby=\"\"):\n",
    "    final = {}\n",
    "    client_list = client_brands if slideby == BrandOrTopB else client_manuf\n",
    "\n",
    "    for key in data.keys():\n",
    "        df = DetectHeader(data[key])\n",
    "        df12 = DetectHeader(datap12m[key])\n",
    "\n",
    "        df[slideby] = df[slideby].ffill()\n",
    "        df['End of Week'] = df['End of Week'].ffill()\n",
    "        df['Scraped Av. Price/Unit'] = df['Scraped Av. Price/Unit'].fillna(0)\n",
    "        df['Scraped Av. Price/KG'] = df['Scraped Av. Price/KG'].fillna(0)\n",
    "\n",
    "        df = df.dropna(subset=['Total Size'])\n",
    "        df = df[~df[slideby].str.contains('Total', na=False)]\n",
    "        df['End of Week'] = pd.to_datetime(df['End of Week'])\n",
    "\n",
    "        df = df.reset_index(drop=True)\n",
    "        if df.empty:\n",
    "            continue\n",
    "\n",
    "        df12[slideby] = df12[slideby].ffill()\n",
    "        comp_entries = df12[\n",
    "            (df12[slideby].str.contains(' Total', na=False)) &\n",
    "            ~(df12[slideby].isin(['Grand Total', \"All Others Total\"])) &\n",
    "            ~(df12[slideby].isin([i + ' Total' for i in client_list]))\n",
    "        ]\n",
    "\n",
    "        try:\n",
    "            comp_entries['Value Share'] = comp_entries['Value Share'].astype(float)\n",
    "        except:\n",
    "            continue\n",
    "\n",
    "        top_comp = comp_entries.nlargest(3, 'Value Share')\n",
    "        comp_lis = list(top_comp[slideby].str.replace(\" Total\", '', regex=False))\n",
    "        # print(comp_lis)\n",
    "\n",
    "        # print(key,df['End of Week'])\n",
    "        weeks = sorted((df['End of Week'].dropna().unique()), reverse=True)\n",
    "        # print(key,weeks)\n",
    "\n",
    "        for client in client_list:\n",
    "            best_week = None\n",
    "            best_comp_found = []\n",
    "\n",
    "            for week in weeks:\n",
    "                week_df = df[df['End of Week'] == week]\n",
    "                brands_in_week = week_df[slideby].unique()\n",
    "                # print(key)\n",
    "                # print(\"Week:\", week)\n",
    "                # print(\"Brands in week:\", week_df[slideby].tolist())\n",
    "                # print(\"Rows in week:\", len(week_df))\n",
    "\n",
    "                if client not in brands_in_week:\n",
    "                    continue\n",
    "\n",
    "                found_comps = [c for c in comp_lis if c in brands_in_week]\n",
    "                # print(comp_lis)\n",
    "                # print(key,found_comps)\n",
    "\n",
    "                if (best_week is None) or \\\n",
    "                   (len(found_comps) > len(best_comp_found)) or \\\n",
    "                   (len(found_comps) == len(best_comp_found) and week > best_week):\n",
    "                    best_week = week\n",
    "                    best_comp_found = found_comps\n",
    "                    # print(found_comps,\"???????????????????????????????\")\n",
    "                    # print(key,len(found_comps),len(best_comp_found))\n",
    "\n",
    "            if best_week:\n",
    "                # print(\"////////\")\n",
    "                filtered_df = df[\n",
    "                    (df['End of Week'] == best_week) &\n",
    "                    ((df[slideby] == client) | (df[slideby].isin(best_comp_found)))\n",
    "                ]\n",
    "            else:\n",
    "                # print(\"???????\")\n",
    "                client_weeks = df[df[slideby] == client]['End of Week'].dropna().unique()\n",
    "                latest_client_week = sorted(client_weeks, reverse=True)[0] if len(client_weeks) > 0 else None\n",
    "                filtered_df = df[\n",
    "                    (df['End of Week'] == latest_client_week) & (df[slideby] == client)\n",
    "                ] if latest_client_week else pd.DataFrame()\n",
    "\n",
    "            if not filtered_df.empty:\n",
    "                client_df = filtered_df[filtered_df[slideby] == client]\n",
    "                comp_df = filtered_df[filtered_df[slideby] != client]\n",
    "                final[f\"{key} | {client}\"] = pd.concat([client_df, comp_df], ignore_index=True)\n",
    "\n",
    "    return final"
   ]
  },
  {
   "cell_type": "code",
   "execution_count": 565,
   "id": "cbdf417d",
   "metadata": {},
   "outputs": [],
   "source": [
    "P12M = clean_P12M(price_point_by_brands_items_P12M,slideby=f\"{BrandOrTopB}\")\n",
    "P3M = clean_P3M(price_point_by_brands_items_P3M,slideby=f\"{BrandOrTopB}\")\n",
    "P12M_manuf = clean_P12M(price_point_by_manuf_items_P12M,slideby=f'{ManufOrTopC}')\n",
    "P3M_manuf= clean_P3M(price_point_by_manuf_items_P3M,slideby=f'{ManufOrTopC}')\n",
    "if run_scraped:\n",
    "    item_scraped = clean_test2_scraped(price_point_by_brands_items_scraped,price_point_by_brands_items_P12M,slideby=f\"{BrandOrTopB}\")\n",
    "    item_manuf_scraped = clean_test2_scraped(price_point_by_manuf_items_scraped,price_point_by_manuf_items_P12M,slideby=f'{ManufOrTopC}')"
   ]
  },
  {
   "cell_type": "code",
   "execution_count": 566,
   "id": "d062ce42",
   "metadata": {},
   "outputs": [],
   "source": [
    "for key in P3M.keys():\n",
    "    if key not in P12M:\n",
    "        P12M[key] = pd.DataFrame({f'{prodORitem}': [],f\"{BrandOrTopB}\": [],'Gross Margin %': []})\n",
    "# Merge the dictionaries based on the 'Product' column\n",
    "merged_dict = {}\n",
    "for key in P3M.keys():\n",
    "\n",
    "    merged_df = pd.merge(P3M[key], P12M[key], on=[f'{prodORitem}',f\"{BrandOrTopB}\"], how='left')\n",
    "    merged_dict[key] = merged_df\n",
    "dropemptydf(merged_dict)"
   ]
  },
  {
   "cell_type": "code",
   "execution_count": 567,
   "id": "de75dbd9",
   "metadata": {},
   "outputs": [],
   "source": [
    "for key in P3M_manuf.keys():\n",
    "    if key not in P12M_manuf:\n",
    "        P12M_manuf[key] = pd.DataFrame({f'{prodORitem}': [],f'{ManufOrTopC}': [],'Gross Margin %': []}) \n",
    "# Merge the dictionaries based on the 'Product' column\n",
    "merged_dict_manuf = {}\n",
    "for key in P3M_manuf.keys():\n",
    "    merged_df = pd.merge(P3M_manuf[key], P12M_manuf[key], on=[f'{prodORitem}',f'{ManufOrTopC}'], how='left')\n",
    "    merged_df = merged_df.drop_duplicates()\n",
    "\n",
    "    merged_dict_manuf[key] = merged_df\n",
    "dropemptydf(merged_dict_manuf)"
   ]
  },
  {
   "cell_type": "markdown",
   "id": "e1410267",
   "metadata": {},
   "source": [
    "## Price Distribution By Brand"
   ]
  },
  {
   "cell_type": "code",
   "execution_count": 568,
   "id": "cdd82d14",
   "metadata": {},
   "outputs": [],
   "source": [
    "modified_brandPriceDistribution = brandPriceDistributionCleaning(price_distribution_by_brands_category,brandInScope= client_brands)\n",
    "dropemptydf(modified_brandPriceDistribution)"
   ]
  },
  {
   "cell_type": "markdown",
   "id": "742fe4dc",
   "metadata": {},
   "source": [
    "## Price Distribution By Brand by Sec/Seg/SubSeg/SubCat"
   ]
  },
  {
   "cell_type": "code",
   "execution_count": 569,
   "id": "eefc790a",
   "metadata": {},
   "outputs": [],
   "source": [
    "if len(sectors)!=0:\n",
    "    modified_sectorsPriceDistribution = segmentPriceDistributionCleaning(price_distribution_by_brands_Sector,client_brands,sec_seg = 'Sector',sec_seg_InScope = sectors)\n",
    "    dropemptydf(modified_sectorsPriceDistribution)\n",
    "if len(segments)!=0:\n",
    "    modified_segmentPriceDistribution = segmentPriceDistributionCleaning(price_distribution_by_brands_Segment,client_brands,sec_seg='Segment',sec_seg_InScope = segments)\n",
    "    dropemptydf(modified_segmentPriceDistribution)\n",
    "\n",
    "if len(subsegments)!=0:\n",
    "    modified_subsegmentPriceDistribution = segmentPriceDistributionCleaning(price_distribution_by_brands_SubSegment,client_brands,sec_seg='SubSegment',sec_seg_InScope = subsegments)\n",
    "    dropemptydf(modified_subsegmentPriceDistribution)\n",
    "\n",
    "if len(subcategories)!=0:\n",
    "    modified_subcategoryPriceDistribution = segmentPriceDistributionCleaning(price_distribution_by_brands_SubCategory,client_brands,sec_seg='SubCategory',sec_seg_InScope = subcategories)\n",
    "    dropemptydf(modified_subcategoryPriceDistribution)\n"
   ]
  },
  {
   "cell_type": "markdown",
   "id": "15de1da1",
   "metadata": {},
   "source": [
    "## Cleaning Correlation Slide "
   ]
  },
  {
   "cell_type": "code",
   "execution_count": 570,
   "id": "9e23179e",
   "metadata": {},
   "outputs": [],
   "source": [
    "#### Correlation slide clean\n",
    "def clean_data(price_correlation_data,p3y=False):\n",
    "    cleaned_data = {}\n",
    "    final ={}\n",
    "    for key in price_correlation_data:\n",
    "        df = price_correlation_data[key].copy()\n",
    "        df=DetectHeader(df)\n",
    "        df[f\"{BrandOrTopB}\"] = df[f\"{BrandOrTopB}\"].fillna(method='ffill')\n",
    "        df = df[~df[f\"{BrandOrTopB}\"].str.contains(\"All Others\", na=False)]\n",
    "        df.fillna(0,inplace = True)\n",
    "        if p3y==True:\n",
    "            df['QuarterStart'] = df['QuarterStart'].astype(str)\n",
    "            # Apply the filter to exclude rows where 'QuarterStart' contains 'Total'\n",
    "            df = df[~df['QuarterStart'].str.contains('Total', case=False, na=False)]\n",
    "        if df.shape[0] > 0: \n",
    "            cleaned_data[key] = df\n",
    "    for key, df in cleaned_data.items():\n",
    "        for client in client_brands:\n",
    "            if client in df[f\"{BrandOrTopB}\"].unique():\n",
    "                total_sorted = df[df[f\"{BrandOrTopB}\"].str.contains('total', case=False)]\n",
    "                total_sorted[f\"{BrandOrTopB}\"] = total_sorted[f\"{BrandOrTopB}\"].str.replace(' Total', '', regex=False)\n",
    "                total_sorted = total_sorted[~total_sorted[f\"{BrandOrTopB}\"].isin(client_brands+['Grand'])].sort_values(by =\"Value Share\", ascending = False)\n",
    "                top_3 = total_sorted.reset_index(drop=True).head(3)\n",
    "                top_3[f\"{BrandOrTopB}\"] = top_3[f\"{BrandOrTopB}\"].str.replace(' Total', '', regex=False)\n",
    "                top_3_brands = top_3[f\"{BrandOrTopB}\"]\n",
    "                for i in top_3_brands:\n",
    "                    client_df = df[df[f\"{BrandOrTopB}\"]== client].reset_index(drop= True)\n",
    "                    comp_df = df[df[f\"{BrandOrTopB}\"]== i].reset_index(drop= True)\n",
    "                    merged_df = pd.merge(client_df, comp_df, on='End of Week', suffixes=('_client', '_comp'))\n",
    "                    merged_df['Av Price/KG_comp'] = merged_df['Av Price/KG_comp'].replace(0,np.nan)\n",
    "                    merged_df['Price lx vs PL'] = merged_df['Av Price/KG_client'] / merged_df['Av Price/KG_comp']\n",
    "                    new_key = key + ' | ' + client + ' | ' + i\n",
    "                    if merged_df.shape[0] > 0:\n",
    "                        final[new_key] = merged_df\n",
    "    \n",
    "    return final\n",
    "    "
   ]
  },
  {
   "cell_type": "code",
   "execution_count": 571,
   "id": "d8be7941",
   "metadata": {},
   "outputs": [],
   "source": [
    "modified_price = clean_data(price_correlation_P3Y,p3y=True)"
   ]
  },
  {
   "cell_type": "code",
   "execution_count": 572,
   "id": "6d358e0c",
   "metadata": {},
   "outputs": [],
   "source": [
    "modified_price_P12M = {}\n",
    "past_12_months = pd.date_range(end=end_date , periods=12, freq='M').strftime('%b-%y').tolist()\n",
    "for key in modified_price.keys():\n",
    "    df=modified_price[key].copy()\n",
    "    df['End of Week'] = pd.to_datetime(df['End of Week'])\n",
    "    filtered_df = df[df['End of Week'].dt.strftime('%b-%y').isin(past_12_months)]\n",
    "    if not filtered_df.empty:\n",
    "        modified_price_P12M[key] = filtered_df"
   ]
  },
  {
   "cell_type": "code",
   "execution_count": 573,
   "id": "eb733eab",
   "metadata": {},
   "outputs": [],
   "source": [
    "modified_price_P3M = {}\n",
    "past_3_months = pd.date_range(end=end_date , periods=3, freq='M').strftime('%b-%y').tolist()\n",
    "for key in modified_price_P12M.keys():\n",
    "    df=modified_price_P12M[key].copy()\n",
    "    df['End of Week'] = pd.to_datetime(df['End of Week'])\n",
    "    filtered_df = df[df['End of Week'].dt.strftime('%b-%y').isin(past_3_months)]\n",
    "    modified_price_P3M[key] = filtered_df"
   ]
  },
  {
   "cell_type": "code",
   "execution_count": 574,
   "id": "cef7b1b0",
   "metadata": {},
   "outputs": [],
   "source": [
    "categories_dict = {key: df for key, df in modified_price.items() if key.split(' | ')[0] in categories}\n",
    "sectors_dict = {key: df for key, df in modified_price.items() if key.split(' | ')[1] in sectors}\n",
    "segments_dict = {key: df for key, df in modified_price.items() if key.split(' | ')[1] in segments }\n",
    "subsegments_dict = {key: df for key, df in modified_price.items() if key.split(' | ')[1] in subsegments }\n",
    "subcategories_dict = {key: df for key, df in modified_price.items() if key.split(' | ')[1] in subcategories }\n"
   ]
  },
  {
   "cell_type": "code",
   "execution_count": 575,
   "id": "550910fd",
   "metadata": {},
   "outputs": [],
   "source": [
    "categories_dict_P12M = {key: df for key, df in modified_price_P12M.items() if key.split(' | ')[0] in categories}\n",
    "sectors_dict_P12M = {key: df for key, df in modified_price_P12M.items() if key.split(' | ')[1] in sectors}\n",
    "segments_dict_P12M = {key: df for key, df in modified_price_P12M.items() if key.split(' | ')[1] in segments }\n",
    "subsegments_dict_P12M = {key: df for key, df in modified_price_P12M.items() if key.split(' | ')[1] in subsegments }\n",
    "subcategories_dict_P12M = {key: df for key, df in modified_price_P12M.items() if key.split(' | ')[1] in subcategories }"
   ]
  },
  {
   "cell_type": "code",
   "execution_count": 576,
   "id": "6883ce65",
   "metadata": {},
   "outputs": [],
   "source": [
    "categories_dict_P3M = {key: df for key, df in modified_price_P3M.items() if key.split(' | ')[0] in categories}\n",
    "sectors_dict_P3M = {key: df for key, df in modified_price_P3M.items() if key.split(' | ')[1] in sectors}\n",
    "segments_dict_P3M = {key: df for key, df in modified_price_P3M.items() if key.split(' | ')[1] in segments }\n",
    "subsegments_dict_P3M = {key: df for key, df in modified_price_P3M.items() if key.split(' | ')[1] in subsegments }\n",
    "subcategories_dict_P3M = {key: df for key, df in modified_price_P3M.items() if key.split(' | ')[1] in subcategories }"
   ]
  },
  {
   "cell_type": "code",
   "execution_count": 577,
   "id": "48888e2c",
   "metadata": {},
   "outputs": [],
   "source": [
    "def compute_r_squared(modified_price, modified_price_p12m):\n",
    "    r_squared_dict = {}\n",
    "    filtered_modified_price = {}\n",
    "\n",
    "    for key, df in modified_price.items():\n",
    "        df.fillna(0, inplace=True)\n",
    "        r2chart1, r2chart2 = None, None\n",
    "\n",
    "        # --- Chart 1 ---\n",
    "        if 'Price lx vs PL' in df.columns and 'Volume Share_client' in df.columns:\n",
    "            df12m = modified_price_p12m.get(key)\n",
    "            if df12m is not None:\n",
    "                df12m.fillna(0, inplace=True)\n",
    "                x_vals1 = df12m['Price lx vs PL'].tolist()\n",
    "                y_vals1 = df12m['Volume Share_client'].tolist()\n",
    "\n",
    "                if len(x_vals1) > 1 and len(y_vals1) > 1:\n",
    "                    slope, intercept = np.polyfit(x_vals1, y_vals1, 1)\n",
    "                    y_hat = [slope * x + intercept for x in x_vals1]\n",
    "                    ss_res = sum((y - y_h) ** 2 for y, y_h in zip(y_vals1, y_hat))\n",
    "                    ss_tot = sum((y - np.mean(y_vals1)) ** 2 for y in y_vals1)\n",
    "                    r2chart1 = 1 - ss_res / ss_tot if ss_tot != 0 else 0\n",
    "\n",
    "        # --- Chart 2 ---\n",
    "        if key in modified_price_p12m:\n",
    "            df12m = modified_price_p12m[key]\n",
    "            df12m.fillna(0, inplace=True)\n",
    "\n",
    "            if 'Av Price/KG_client' in df12m.columns and 'Volume Share_client' in df12m.columns:\n",
    "                x_vals2 = df12m['Av Price/KG_client'].tolist()\n",
    "                y_vals2 = df12m['Volume Share_client'].tolist()\n",
    "\n",
    "                if len(x_vals2) > 1 and len(y_vals2) > 1:\n",
    "                    slope2, intercept2 = np.polyfit(x_vals2, y_vals2, 1)\n",
    "                    y_hat2 = [slope2 * x + intercept2 for x in x_vals2]\n",
    "                    ss_res2 = sum((y - y_h) ** 2 for y, y_h in zip(y_vals2, y_hat2))\n",
    "                    ss_tot2 = sum((y - np.mean(y_vals2)) ** 2 for y in y_vals2)\n",
    "                    r2chart2 = 1 - ss_res2 / ss_tot2 if ss_tot2 != 0 else 0\n",
    "\n",
    "        r_squared_dict[key] = {\"chart1\": r2chart1, \"chart2\": r2chart2}\n",
    "\n",
    "        if (r2chart1 is not None and r2chart1 >= 0.5) or (r2chart2 is not None and r2chart2 >= 0.5):\n",
    "            filtered_modified_price[key] = df\n",
    "\n",
    "    return filtered_modified_price, r_squared_dict\n"
   ]
  },
  {
   "cell_type": "code",
   "execution_count": 578,
   "id": "ca710921",
   "metadata": {},
   "outputs": [],
   "source": [
    "categories_dict,x = compute_r_squared(categories_dict, categories_dict_P12M)\n",
    "sectors_dict,y = compute_r_squared(sectors_dict, sectors_dict_P12M)\n",
    "segments_dict,_ = compute_r_squared(segments_dict, segments_dict_P12M)\n",
    "subsegments_dict,_ = compute_r_squared(subsegments_dict, subsegments_dict_P12M)\n",
    "subcategories_dict,_ = compute_r_squared(subcategories_dict, subcategories_dict_P12M)"
   ]
  },
  {
   "cell_type": "markdown",
   "id": "256b8a87",
   "metadata": {},
   "source": [
    "## Frist deck pricing output for slide 1_4"
   ]
  },
  {
   "cell_type": "code",
   "execution_count": 579,
   "id": "6294a1a1",
   "metadata": {},
   "outputs": [],
   "source": [
    "if run_firstdeck:\n",
    "    index=(summaryindex)\n",
    "\n",
    "    index.extend([0]*2)\n",
    "    # Slide 1\n",
    "    index.extend([1] * ((1 if sectors else 0) + (1 if segments else 0) + (1 if subcategories else 0) + (1 if subsegments else 0)))\n",
    "    index.extend([1] * ((1 if sectors else 0) + (1 if segments else 0) + (1 if subcategories else 0) + (1 if subsegments else 0)))\n",
    "    # Slide 2\n",
    "    repeat_count_slide2 = (\n",
    "        (2 if segments and len(parent_lists[direct_parent[\"Segment\"]]) > 0 else 0) +\n",
    "        (2 if subsegments and len(parent_lists[direct_parent[\"SubSegment\"]]) > 0 else 0) +\n",
    "        (2 if subcategories and len(parent_lists[direct_parent[\"SubCategory\"]]) > 0 else 0)\n",
    "    )\n",
    "    index.extend([2] * repeat_count_slide2)\n",
    "    if len(client_brands) > 0:\n",
    "        repeat_count_slide3 = ((1 if sectors else 0) + (1 if segments else 0) + (1 if subsegments else 0) + (1 if subcategories else 0)\n",
    "        )\n",
    "        index.extend([3] * repeat_count_slide3)\n",
    "\n",
    "    duplicationsummaryslide=[(1 if categories else 0),(1 if sectors else 0),(1 if segments else 0),(1 if subsegments else 0),(1 if subcategories else 0) ]\n",
    "    duplication_0=[len(modified_price_positioning_brands_sorted.keys())]\n",
    "    duplication_0_manuf=[len(modified_price_positioning_manuf_sorted.keys())]\n",
    "    # slide 1 \n",
    "    duplication_1=[sum(len(v) for v in sharGrowthDf_brands_sec.values())if sectors else 0, sum(len(v) for v in sharGrowthDf_brands_seg.values()) if segments else 0, \n",
    "                sum(len(v) for v in sharGrowthDf_brands_subseg.values()) if subsegments else 0, sum(len(v) for v in sharGrowthDf_brands_subcat.values()) if subcategories  else 0]\n",
    "    duplication_1_manuf=[sum(len(v) for v in sharGrowthDf_manuf_sec.values())if sectors else 0, sum(len(v) for v in sharGrowthDf_manuf_seg.values()) if segments else 0, \n",
    "                sum(len(v) for v in sharGrowthDf_manuf_subseg.values()) if subsegments else 0, sum(len(v) for v in sharGrowthDf_manuf_subcat.values()) if subcategories  else 0]\n",
    "    #slide 2\n",
    "    duplication_2=[len(modified_manuf_segments_leadershipanalysis.keys())if segments and len(parent_lists[direct_parent[\"Segment\"]])>0 else 0,\n",
    "                len(modified_brands_segments_leadershipanalysis.keys())if segments and len(parent_lists[direct_parent[\"Segment\"]])>0 else 0,\n",
    "                len(modified_manuf_subsegments_leadershipanalysis.keys())if subsegments and len(parent_lists[direct_parent[\"SubSegment\"]])>0 else 0,\n",
    "                len(modified_brands_subsegments_leadershipanalysis.keys())if subsegments and len(parent_lists[direct_parent[\"SubSegment\"]])>0 else 0,\n",
    "                len(modified_manuf_subcategory_leadershipanalysis.keys())if subcategories and len(parent_lists[direct_parent[\"SubCategory\"]])>0 else 0, \n",
    "                len(modified_brands_subcategory_leadershipanalysis.keys())if subcategories and len(parent_lists[direct_parent[\"SubCategory\"]])>0 else 0]    \n",
    "    #slide 3 \n",
    "    duplication_3=[len(modified_sector_leadership.keys())if sectors else 0,\n",
    "                len(modified_segment_leadership.keys())if segments else 0,\n",
    "                len(modified_subsegment_leadership.keys())if subsegments else 0,    \n",
    "                len(modified_subcategory_leadership.keys())if subcategories else 0]\n",
    "    duplication =duplicationsummaryslide+duplication_0+duplication_0_manuf+duplication_1+duplication_1_manuf + duplication_2 + duplication_3  \n",
    "    duplication=[i for i in duplication if i !=0]\n",
    "\n",
    "    section_namessummary_sldie=['Price Positioning Summary Category'if len(categories)>0 else [],'Price Positioning Summary Sector' if len(sectors)>0 else [],'Price Positioning Summary Segment' if len(segments)>0 else [],'Price Positioning Summary Subsegment' if len(subsegments)>0 else [],'Price Positioning Summary SubCategory' if len(subcategories)>0 else []]\n",
    "    section_names_0= [\"Price Positioning Analysis By Brands\"]\n",
    "    section_names_0_manuf= [\"Price Positioning Analysis By Manufacturer\"]\n",
    "    # slide 1 \n",
    "    section_names_1=[(\"Sectors Share and Growth By Brands\" if len(sectors)>0 else []),\n",
    "                    (\"Segments Share and Growth By Brands\" if len(segments)>0 else []),\n",
    "                    (\"SubSegments Share and Growth By Brands\"if len(subsegments)>0 else[]),\n",
    "                    (\"SubCategory Share and Growth By Brands\"if len(subcategories)>0 else[])]\n",
    "    section_names_1_maunf=[(\"Sectors Share and Growth By Manufacturer\" if len(sectors)>0 else []),\n",
    "                    (\"Segments Share and Growth By Manufacturer\" if len(segments)>0 else []),\n",
    "                    (\"SubSegments Share and Growth By Manufacturer\"if len(subsegments)>0 else[]),\n",
    "                    (\"SubCategory Share and Growth By Manufacturer\"if len(subcategories)>0 else[])]\n",
    "    # slide_2\n",
    "    section_names_2=[(f\"{direct_parent[\"Segment\"][:3]}/Seg Value Sales Vs Avg Price By Manufacturer\" if len(segments)>0 and len(parent_lists[direct_parent[\"Segment\"]])>0 else []),\n",
    "                    (f\"{direct_parent[\"Segment\"][:3]}/Seg Value Sales Vs Avg Price\" if len(segments)>0 and len(parent_lists[direct_parent[\"Segment\"]])>0 else []),\n",
    "                    (f\"{direct_parent[\"SubSegment\"][:3]}/SubSeg Value Sales Vs Avg Price By Manufacturer\" if len(subsegments)>0 and len(parent_lists[direct_parent[\"SubSegment\"]])>0 else []),\n",
    "                    (f\"{direct_parent[\"SubSegment\"][:3]}/SubSeg Value Sales Vs Avg Price\" if len(subsegments)>0 and len(parent_lists[direct_parent[\"SubSegment\"]])>0 else []),\n",
    "                    (f\"{direct_parent[\"SubCategory\"][:3]}/SubCatg Value Sales Vs Avg Price By Manufacturer\" if len(subcategories)>0 and len(parent_lists[direct_parent[\"SubCategory\"]])>0  else []),\n",
    "                    (f\"{direct_parent[\"SubCategory\"][:3]}/SubCatg Value Sales Vs Avg Price\" if len(subcategories)>0 and len(parent_lists[direct_parent[\"SubCategory\"]])>0  else [])]\n",
    "    #slide_3 \n",
    "    section_names_3 = []\n",
    "\n",
    "    if len(client_brands) > 0:\n",
    "        section_names_3.extend([\n",
    "            \"Sectors Value Sales Vs Avg Price\" if len(sectors) > 0 else [],\n",
    "            \"Segment Value Sales Vs Avg Price\" if len(segments) > 0 else [],\n",
    "            \"SubSegment Value Sales Vs Avg Price\" if len(subsegments) > 0 else [],\n",
    "            \"SubCategory Value Sales Vs Avg Price\" if len(subcategories) > 0 else []\n",
    "        ])\n",
    "\n",
    "    section_names = [*section_namessummary_sldie,*section_names_0,*section_names_0_manuf,*section_names_1 ,*section_names_1_maunf, *section_names_2 , *section_names_3  ]\n",
    "    section_names=[i for i in section_names if i !=[]]\n",
    "\n",
    "    path = os.getcwd() + '\\Pricing base.pptx'\n",
    "    new_pre = os.getcwd() + '\\Pricing duplicated.pptx'"
   ]
  },
  {
   "cell_type": "code",
   "execution_count": 580,
   "id": "6a8fe20f",
   "metadata": {},
   "outputs": [
    {
     "name": "stdout",
     "output_type": "stream",
     "text": [
      "[[11, 11, 11], [12, 12, 12], [13, 13, 13], 0, 0, 1, 1, 1, 1, 2, 2, 3, 3]\n",
      "13\n",
      "[1, 1, 1, 15, 15, 3, 3, 3, 3, 3, 8, 8, 8]\n",
      "13\n",
      "['Price Positioning Summary Category', 'Price Positioning Summary Sector', 'Price Positioning Summary Segment', 'Price Positioning Analysis By Brands', 'Price Positioning Analysis By Manufacturer', 'Sectors Share and Growth By Brands', 'Segments Share and Growth By Brands', 'Sectors Share and Growth By Manufacturer', 'Segments Share and Growth By Manufacturer', 'Sec/Seg Value Sales Vs Avg Price By Manufacturer', 'Sec/Seg Value Sales Vs Avg Price', 'Sectors Value Sales Vs Avg Price', 'Segment Value Sales Vs Avg Price']\n",
      "13\n",
      "c:\\Users\\BW4SA\\Documents\\Slide-Automate\\Pricing slide duplicate\\Pricing base.pptx\n",
      "c:\\Users\\BW4SA\\Documents\\Slide-Automate\\Pricing slide duplicate\\Pricing duplicated.pptx\n",
      "72\n"
     ]
    }
   ],
   "source": [
    "if run_firstdeck:\n",
    "    print(index)\n",
    "    print(len(index))\n",
    "    print(duplication)\n",
    "    print(len(duplication))\n",
    "    print(section_names)\n",
    "    print(len(section_names))\n",
    "    print(path)\n",
    "    print(new_pre)\n",
    "    print(sum(duplication))\n"
   ]
  },
  {
   "cell_type": "code",
   "execution_count": 581,
   "id": "12873ca9",
   "metadata": {},
   "outputs": [],
   "source": [
    "if run_firstdeck:\n",
    "    slideDuplication(index,duplication,section_names,path,new_pre)"
   ]
  },
  {
   "cell_type": "code",
   "execution_count": 582,
   "id": "69a32140",
   "metadata": {},
   "outputs": [],
   "source": [
    "if run_firstdeck:\n",
    "    prs = Presentation(new_pre)"
   ]
  },
  {
   "cell_type": "code",
   "execution_count": 583,
   "id": "e390b211",
   "metadata": {},
   "outputs": [],
   "source": [
    "if run_firstdeck:\n",
    "\n",
    "    def calculate_position(end):\n",
    "        \n",
    "        return sum(duplication[i] * (1 if isinstance(index[i], int) else len(index[i])) for i in range(end))"
   ]
  },
  {
   "cell_type": "markdown",
   "id": "3560b697",
   "metadata": {},
   "source": [
    "#### Price Positioning (slide 1)"
   ]
  },
  {
   "cell_type": "code",
   "execution_count": 584,
   "id": "4d282af9",
   "metadata": {},
   "outputs": [
    {
     "name": "stdout",
     "output_type": "stream",
     "text": [
      "9 0\n",
      "9 1\n",
      "9 2\n",
      "10 0\n",
      "10 1\n",
      "10 2\n",
      "11 0\n",
      "11 1\n",
      "11 2\n",
      "9\n"
     ]
    }
   ],
   "source": [
    "if run_firstdeck:\n",
    "    p=0\n",
    "    pos=calculate_position(p)\n",
    "    if len(categories)>0:\n",
    "        pricepositionSummary(prs, cat_groupsdf, pos, cat_groups,'Category',p)\n",
    "        p +=1    \n",
    "        pos=calculate_position(p)\n",
    "    if len(sectors)>0:\n",
    "        pricepositionSummary(prs, sector_groupsdf, pos, sector_groups,'Sector',p)\n",
    "        p += 1\n",
    "        pos=calculate_position(p)\n",
    "    if len(segments)>0:\n",
    "        pricepositionSummary(prs, segment_groupsdf, pos, segment_groups,'Segment',p)\n",
    "        p += 1\n",
    "        pos=calculate_position(p)\n",
    "        print(pos)\n",
    "    if len(subsegments)>0:\n",
    "        pricepositionSummary(prs, subsegment_groupsdf, pos, subsegment_groups,'SubSegment',p)\n",
    "        p += 1\n",
    "        pos=calculate_position(p)\n",
    "    if len(subcategories)>0:\n",
    "        pricepositionSummary(prs, subcategory_groupsdf, pos, subcategory_groups,'SubCategory',p)\n",
    "        p += 1\n"
   ]
  },
  {
   "cell_type": "code",
   "execution_count": 585,
   "id": "f71f975d",
   "metadata": {},
   "outputs": [],
   "source": [
    "if run_firstdeck:\n",
    "    pricePositioning(prs,modified_price_positioning_brands_sorted,duplication[p],position=calculate_position(p),slideby=f\"{BrandOrTopB}\")\n",
    "    p+=1\n",
    "    pricePositioning(prs,modified_price_positioning_manuf_sorted,duplication[p],position=calculate_position(p),slideby=f'{ManufOrTopC}')\n",
    "    p+=1"
   ]
  },
  {
   "cell_type": "markdown",
   "id": "adfe80fd",
   "metadata": {},
   "source": [
    "#### Leeadership table (slide 2)"
   ]
  },
  {
   "cell_type": "code",
   "execution_count": 586,
   "id": "1a393a90",
   "metadata": {},
   "outputs": [],
   "source": [
    "if run_firstdeck:\n",
    "\n",
    "    ####By Brands\n",
    "    if len(sectors)!=0:\n",
    "        leadership_table1(prs,modified_leadership_table_brands_sorted,sharGrowthDf_brands_sec,sector_wob_leadership, position=calculate_position(p),Inscope=\"Sector\",slideby=f\"{BrandOrTopB}\")\n",
    "        p+=1\n",
    "    if len(segments)!=0:\n",
    "        leadership_table1(prs,modified_leadership_table_brands_sorted,sharGrowthDf_brands_seg,segment_wob_leadership, position=calculate_position(p),Inscope=\"Segment\",slideby=f\"{BrandOrTopB}\")\n",
    "        p+=1\n",
    "    if len(subsegments)!=0:    \n",
    "        leadership_table1(prs,modified_leadership_table_brands_sorted,sharGrowthDf_brands_subseg,subsegment_wob_leadership, position=calculate_position(p),Inscope=\"SubSegment\",slideby=f\"{BrandOrTopB}\")\n",
    "        p+=1\n",
    "    if len(subcategories)!=0:\n",
    "        leadership_table1(prs,modified_leadership_table_brands_sorted,sharGrowthDf_brands_subcat,subcategory_wob_leadership, position=calculate_position(p),Inscope=\"SubCategory\",slideby=f\"{BrandOrTopB}\")\n",
    "        p+=1\n",
    "\n",
    "    ####By manufactory\n",
    "    if len(sectors)!=0:\n",
    "        leadership_table1(prs,modified_leadership_table_manuf_sorted,sharGrowthDf_manuf_sec,sector_wob_leadership, position=calculate_position(p),Inscope=\"Sector\",slideby=f'{ManufOrTopC}')\n",
    "        p+=1\n",
    "    if len(segments)!=0:\n",
    "        leadership_table1(prs,modified_leadership_table_manuf_sorted,sharGrowthDf_manuf_seg,segment_wob_leadership, position=calculate_position(p),Inscope=\"Segment\",slideby=f'{ManufOrTopC}')\n",
    "        p+=1\n",
    "    if len(subsegments)!=0:    \n",
    "        leadership_table1(prs,modified_leadership_table_manuf_sorted,sharGrowthDf_manuf_subseg,subsegment_wob_leadership, position=calculate_position(p),Inscope=\"SubSegment\",slideby=f'{ManufOrTopC}')\n",
    "        p+=1\n",
    "    if len(subcategories)!=0:\n",
    "        leadership_table1(prs,modified_leadership_table_manuf_sorted,sharGrowthDf_manuf_subcat,subcategory_wob_leadership, position=calculate_position(p),Inscope=\"SubCategory\",slideby=f'{ManufOrTopC}')\n",
    "        p+=1\n",
    "\n"
   ]
  },
  {
   "cell_type": "markdown",
   "id": "afe1692d",
   "metadata": {},
   "source": [
    "#### Leadership Analysis (slides 3-4)"
   ]
  },
  {
   "cell_type": "code",
   "execution_count": 587,
   "id": "dde57a7c",
   "metadata": {},
   "outputs": [],
   "source": [
    "if run_firstdeck:\n",
    "    if len(segments)!=0 and len(parent_lists[direct_parent[\"Segment\"]])!=0:\n",
    "        totalSegmentLeadership(prs,duplication[p],modified_totals_segments_leadershipanalysis,modified_manuf_segments_leadershipanalysis,segments,position=calculate_position(p),parent = direct_parent[\"Segment\"], child = 'Segment',slideby=\"Top Companies\")\n",
    "        p+=1\n",
    "    if len(client_brands)!=0:\n",
    "        # Slide 4: 2 levels\n",
    "        if len(segments)!=0 and len(parent_lists[direct_parent[\"Segment\"]])!=0:\n",
    "            totalSegmentLeadership(prs,duplication[p],modified_totals_segments_leadershipanalysis,modified_brands_segments_leadershipanalysis,segments,position=calculate_position(p),parent = direct_parent[\"Segment\"], child = 'Segment')\n",
    "            p+=1\n",
    "\n",
    "    if len(subsegments)!=0 and len(parent_lists[direct_parent[\"SubSegment\"]])!=0:\n",
    "        totalSegmentLeadership(prs,duplication[p],modified_totals_subsegments_leadershipanalysis,modified_manuf_subsegments_leadershipanalysis,subsegments,position=calculate_position(p),parent = direct_parent[\"SubSegment\"], child = 'SubSegment',slideby=\"Top Companies\")\n",
    "        p+=1\n",
    "    if len(client_brands)!=0:\n",
    "        if len(subsegments)!=0 and len(parent_lists[direct_parent[\"SubSegment\"]])!=0:\n",
    "            totalSegmentLeadership(prs,duplication[p],modified_totals_subsegments_leadershipanalysis,modified_brands_subsegments_leadershipanalysis,subsegments,position=calculate_position(p),parent = direct_parent[\"SubSegment\"], child = 'SubSegment')\n",
    "            p+=1\n",
    "\n",
    "            \n",
    "    if len(subcategories)!=0 and len(parent_lists[direct_parent[\"SubCategory\"]])!=0:\n",
    "        totalSegmentLeadership(prs,duplication[p],modified_totals_subcategory_leadershipanalysis,modified_manuf_subcategory_leadershipanalysis,subcategories,position=calculate_position(p),parent = direct_parent[\"SubCategory\"], child = 'SubCategory',slideby=\"Top Companies\")\n",
    "        p+=1\n",
    "    if len(client_brands)!=0:\n",
    "        if len(subcategories)!=0 and len(parent_lists[direct_parent[\"SubCategory\"]])!=0:\n",
    "            totalSegmentLeadership(prs,duplication[p],modified_totals_subcategory_leadershipanalysis,modified_brands_subcategory_leadershipanalysis,subcategories,position=calculate_position(p),parent = direct_parent[\"SubCategory\"], child = 'SubCategory')\n",
    "            p+=1\n",
    "\n"
   ]
  },
  {
   "cell_type": "code",
   "execution_count": 588,
   "id": "97a5c991",
   "metadata": {},
   "outputs": [],
   "source": [
    "if run_firstdeck:\n",
    "    if len(client_brands)>0:\n",
    "        # Slide 3: 1 level\n",
    "        if len(sectors)!=0:\n",
    "            brandSegmentLeadership(prs,duplication[p],modified_sector_total_leadership,modified_sector_leadership,sectors,position=calculate_position(p),slide_by = 'Sectors',child=\"Sector\")\n",
    "            p+=1\n",
    "        if len(segments)!=0:\n",
    "            brandSegmentLeadership(prs,duplication[p],modified_segment_total_leadership,modified_segment_leadership,segments,position=calculate_position(p),slide_by = 'Segments',child=\"Segment\")\n",
    "            p+=1\n",
    "        if len(subsegments)!=0:\n",
    "            brandSegmentLeadership(prs,duplication[p],modified_subsegment_total_leadership,modified_subsegment_leadership,subsegments,position=calculate_position(p),slide_by = 'SubSegments',child=\"SubSegment\")\n",
    "            p+=1\n",
    "        if len(subcategories)!=0:\n",
    "            brandSegmentLeadership(prs,duplication[p],modified_subcategory_total_leadership,modified_subcategory_leadership,subcategories,position=calculate_position(p),slide_by = 'SubCategory',child=\"SubCategory\")  \n",
    "            p+=1\n"
   ]
  },
  {
   "cell_type": "code",
   "execution_count": 589,
   "id": "3550dec0",
   "metadata": {},
   "outputs": [
    {
     "name": "stdout",
     "output_type": "stream",
     "text": [
      "Slide 1: Opened Excel workbook: Book1\n",
      "Slide 2: Opened Excel workbook: Book1\n",
      "Slide 3: Opened Excel workbook: Book1\n",
      "Slide 4: Opened Excel workbook: Book1\n",
      "Slide 4: Opened Excel workbook: Book1\n",
      "Slide 5: Opened Excel workbook: Book1\n",
      "Slide 5: Opened Excel workbook: Book1\n",
      "Slide 6: Opened Excel workbook: Book1\n",
      "Slide 6: Opened Excel workbook: Book1\n",
      "Slide 7: Opened Excel workbook: Book1\n",
      "Slide 7: Opened Excel workbook: Book1\n",
      "Slide 7: Opened Excel workbook: Book1\n",
      "Slide 8: Opened Excel workbook: Book1\n",
      "Slide 8: Opened Excel workbook: Book1\n",
      "Slide 8: Opened Excel workbook: Book1\n",
      "Slide 9: Opened Excel workbook: Book1\n",
      "Slide 9: Opened Excel workbook: Book1\n",
      "Slide 9: Opened Excel workbook: Book1\n",
      "Slide 10: Opened Excel workbook: Book1\n",
      "Slide 11: Opened Excel workbook: Book1\n",
      "Slide 12: Opened Excel workbook: Book1\n",
      "Slide 13: Opened Excel workbook: Book1\n",
      "Slide 14: Opened Excel workbook: Book1\n",
      "Slide 15: Opened Excel workbook: Book1\n",
      "Slide 16: Opened Excel workbook: Book1\n",
      "Slide 17: Opened Excel workbook: Book1\n",
      "Slide 18: Opened Excel workbook: Book1\n",
      "Slide 19: Opened Excel workbook: Book1\n",
      "Slide 20: Opened Excel workbook: Book1\n",
      "Slide 21: Opened Excel workbook: Book1\n",
      "Slide 22: Opened Excel workbook: Book1\n",
      "Slide 23: Opened Excel workbook: Book1\n",
      "Slide 24: Opened Excel workbook: Book1\n",
      "Slide 25: Opened Excel workbook: Book1\n",
      "Slide 26: Opened Excel workbook: Book1\n",
      "Slide 27: Opened Excel workbook: Book1\n",
      "Slide 28: Opened Excel workbook: Book1\n",
      "Slide 29: Opened Excel workbook: Book1\n",
      "Slide 30: Opened Excel workbook: Book1\n",
      "Slide 31: Opened Excel workbook: Book1\n",
      "Slide 32: Opened Excel workbook: Book1\n",
      "Slide 33: Opened Excel workbook: Book1\n",
      "Slide 34: Opened Excel workbook: Book1\n",
      "Slide 35: Opened Excel workbook: Book1\n",
      "Slide 36: Opened Excel workbook: Book1\n",
      "Slide 37: Opened Excel workbook: Book1\n",
      "Slide 38: Opened Excel workbook: Book1\n",
      "Slide 39: Opened Excel workbook: Book1\n"
     ]
    }
   ],
   "source": [
    "if run_firstdeck:\n",
    "    outputPath = os.getcwd()+\"\\\\Final OutPut\"+f\"\\\\Pricing output_{datetime.today().strftime(\"%d-%m\")}.pptx\"\n",
    "    prs.save(outputPath)\n",
    "    final=os.getcwd() +\"\\\\Final OutPut\"+f\"\\\\Pricing output_{datetime.today().strftime(\"%d-%m\")}.pptx\"\n",
    "    open_chart_data_in_excel(final,outputPath)"
   ]
  },
  {
   "cell_type": "markdown",
   "id": "7a0de830",
   "metadata": {},
   "source": [
    "# Second Deck Avg&ShelfPrice Slides 5_6  "
   ]
  },
  {
   "cell_type": "code",
   "execution_count": 590,
   "id": "19746853",
   "metadata": {},
   "outputs": [],
   "source": [
    "if run_seconddeck:\n",
    "    import os\n",
    "\n",
    "    # Initialize lists\n",
    "    index = []\n",
    "    \n",
    "    hierarchy = []\n",
    "\n",
    "    # Define hierarchy levels based on non-empty parent lists and data lists\n",
    "    if parent_lists.get(direct_parent['Sector']) and sectors:\n",
    "        hierarchy.append(\"sectors\")\n",
    "    if parent_lists.get(direct_parent['Segment']) and segments:\n",
    "        hierarchy.append(\"segments\")\n",
    "    if parent_lists.get(direct_parent['SubSegment']) and subsegments:\n",
    "        hierarchy.append(\"subsegments\")\n",
    "    if parent_lists.get(direct_parent['SubCategory']) and subcategories:\n",
    "        hierarchy.append(\"subcategories\")\n",
    "    # Slides 4 and 5\n",
    "    index.extend([4, 5] * len(hierarchy))\n",
    "    # Duplication counts for slide 4 & 5 based on hierarchy levels\n",
    "    duplication_4 = [\n",
    "        (len(all_brands_sector.keys()) + len(all_manuf_sector.keys())) if 'sectors' in hierarchy else 0,\n",
    "        (len(all_brands_sector.keys()) + len(all_manuf_sector.keys())) if 'sectors' in hierarchy else 0,\n",
    "        (len(all_brands_segment.keys()) + len(all_manuf_segment.keys())) if 'segments' in hierarchy else 0,\n",
    "        (len(all_brands_segment.keys()) + len(all_manuf_segment.keys())) if 'segments' in hierarchy else 0,\n",
    "        (len(all_brands_subsegment.keys()) + len(all_manuf_subsegment.keys())) if 'subsegments' in hierarchy else 0,\n",
    "        (len(all_brands_subsegment.keys()) + len(all_manuf_subsegment.keys())) if 'subsegments' in hierarchy else 0,\n",
    "        (len(all_brands_subcategory.keys()) + len(all_manuf_subcategory.keys())) if 'subcategories' in hierarchy else 0,\n",
    "        (len(all_brands_subcategory.keys()) + len(all_manuf_subcategory.keys())) if 'subcategories' in hierarchy else 0\n",
    "    ]\n",
    "    duplication = [count for count in duplication_4 if count != 0]\n",
    "    # Section names for slides 4 and 5\n",
    "    section_names_4_5 = [\n",
    "        \"Sector Avg Price/Vol Comparison\" if 'sectors' in hierarchy else None,\n",
    "        \"Sector Shelf Price/Vol Comparison\" if 'sectors' in hierarchy else None,\n",
    "        \"Segment Avg Price/Vol Comparison\" if 'segments' in hierarchy else None,\n",
    "        \"Segment Shelf Price/Vol Comparison\" if 'segments' in hierarchy else None,\n",
    "        \"SubSegment Avg Price/Vol Comparison\" if 'subsegments' in hierarchy else None,\n",
    "        \"SubSegment Shelf Price/Vol Comparison\" if 'subsegments' in hierarchy else None,\n",
    "        \"SubCategory Avg Price/Vol Comparison\" if 'subcategories' in hierarchy else None,\n",
    "        \"SubCategory Shelf Price/Vol Comparison\" if 'subcategories' in hierarchy else None\n",
    "    ]\n",
    "    section_names = [name for name in section_names_4_5 if name]\n",
    "    # File paths\n",
    "    path = os.path.join(os.getcwd(), 'Pricing base.pptx')\n",
    "    new_pre = os.path.join(os.getcwd(), 'Pricing AvgPrice duplicated.pptx')\n",
    "\n"
   ]
  },
  {
   "cell_type": "code",
   "execution_count": 591,
   "id": "274d740d",
   "metadata": {},
   "outputs": [
    {
     "name": "stdout",
     "output_type": "stream",
     "text": [
      "[4, 5, 4, 5]\n",
      "4\n",
      "[11, 11, 18, 18]\n",
      "4\n",
      "['Sector Avg Price/Vol Comparison', 'Sector Shelf Price/Vol Comparison', 'Segment Avg Price/Vol Comparison', 'Segment Shelf Price/Vol Comparison']\n",
      "4\n",
      "c:\\Users\\BW4SA\\Documents\\Slide-Automate\\Pricing slide duplicate\\Pricing base.pptx\n",
      "c:\\Users\\BW4SA\\Documents\\Slide-Automate\\Pricing slide duplicate\\Pricing AvgPrice duplicated.pptx\n",
      "58\n"
     ]
    }
   ],
   "source": [
    "if run_firstdeck:\n",
    "    print(index)\n",
    "    print(len(index))\n",
    "    print(duplication)\n",
    "    print(len(duplication))\n",
    "    print(section_names)\n",
    "    print(len(section_names))\n",
    "    print(path)\n",
    "    print(new_pre)\n",
    "    print(sum(duplication))"
   ]
  },
  {
   "cell_type": "code",
   "execution_count": 592,
   "id": "a8a8b759",
   "metadata": {},
   "outputs": [],
   "source": [
    "if run_firstdeck:\n",
    "    slideDuplication(index,duplication,section_names,path,new_pre)"
   ]
  },
  {
   "cell_type": "code",
   "execution_count": 593,
   "id": "6b4842b9",
   "metadata": {},
   "outputs": [],
   "source": [
    "if run_firstdeck:\n",
    "    prs = Presentation(new_pre)\n",
    "\n",
    "    def calculate_position(end):\n",
    "        return sum(duplication[i] * (1 if isinstance(index[i], int) else len(index[i])) for i in range(end))"
   ]
  },
  {
   "cell_type": "markdown",
   "id": "403c1219",
   "metadata": {},
   "source": [
    "#### Shelf price / vol & Avg price / vol Comparison (slides 5-6)"
   ]
  },
  {
   "cell_type": "code",
   "execution_count": 594,
   "id": "4745076f",
   "metadata": {},
   "outputs": [],
   "source": [
    "if run_firstdeck:\n",
    "    p=0\n",
    "    if len(sectors)!=0 and len(parent_lists[direct_parent[\"Sector\"]])!=0:\n",
    "        shelfPrice_AvgPrice(prs,all_manuf_sector, len(all_manuf_sector.keys()),salesColumn = 'Av Price/KG',sec_seg='Sector',position = calculate_position(p),brandORmanuf=f'{ManufOrTopC}')\n",
    "        shelfPrice_AvgPrice(prs,all_brands_sector, len(all_brands_sector.keys()),salesColumn = 'Av Price/KG',sec_seg='Sector',position = calculate_position(p)+len(all_manuf_sector.keys()),brandORmanuf=f\"{BrandOrTopB}\")\n",
    "        p+=1\n",
    "        shelfPrice_AvgPrice(prs,all_manuf_sector,len(all_manuf_sector.keys()),salesColumn = 'Base Price/KG',sec_seg='Sector',position=calculate_position(p),brandORmanuf=f'{ManufOrTopC}')\n",
    "        shelfPrice_AvgPrice(prs,all_brands_sector,len(all_brands_sector.keys()),salesColumn = 'Base Price/KG',sec_seg='Sector',position=calculate_position(p)+len(all_manuf_sector.keys()),brandORmanuf=f\"{BrandOrTopB}\")\n",
    "        p+=1"
   ]
  },
  {
   "cell_type": "code",
   "execution_count": 595,
   "id": "91a60c26",
   "metadata": {},
   "outputs": [],
   "source": [
    "if run_firstdeck:   \n",
    "    if len(segments)!=0 and len(parent_lists[direct_parent[\"Segment\"]])!=0:\n",
    "        shelfPrice_AvgPrice(prs,all_manuf_segment, len(all_manuf_segment.keys()),salesColumn = 'Av Price/KG',sec_seg='Segment',position = calculate_position(p),brandORmanuf=f'{ManufOrTopC}')\n",
    "        shelfPrice_AvgPrice(prs,all_brands_segment, len(all_brands_segment.keys()),salesColumn = 'Av Price/KG',sec_seg='Segment',position = calculate_position(p)+len(all_manuf_segment.keys()),brandORmanuf=f\"{BrandOrTopB}\")\n",
    "        p+=1\n",
    "        shelfPrice_AvgPrice(prs,all_manuf_segment,len(all_manuf_segment.keys()),salesColumn = 'Base Price/KG',sec_seg='Segment',position=calculate_position(p),brandORmanuf=f'{ManufOrTopC}')\n",
    "        shelfPrice_AvgPrice(prs,all_brands_segment,len(all_brands_segment.keys()),salesColumn = 'Base Price/KG',sec_seg='Segment',position=calculate_position(p)+len(all_manuf_segment.keys()),brandORmanuf=f\"{BrandOrTopB}\")\n",
    "        p+=1"
   ]
  },
  {
   "cell_type": "code",
   "execution_count": 596,
   "id": "4a0a6f05",
   "metadata": {},
   "outputs": [],
   "source": [
    "if run_firstdeck:\n",
    "    if len(subsegments)!=0 and len(parent_lists[direct_parent[\"SubSegment\"]])!=0:\n",
    "\n",
    "        shelfPrice_AvgPrice(prs,all_manuf_subsegment, len(all_manuf_subsegment.keys()),salesColumn = 'Av Price/KG',sec_seg='SubSegment',position = calculate_position(p),brandORmanuf=f'{ManufOrTopC}')\n",
    "        shelfPrice_AvgPrice(prs,all_brands_subsegment, len(all_brands_subsegment.keys()),salesColumn = 'Av Price/KG',sec_seg='SubSegment',position = calculate_position(p)+len(all_manuf_subsegment.keys()),brandORmanuf=f\"{BrandOrTopB}\")\n",
    "        p+=1\n",
    "        shelfPrice_AvgPrice(prs,all_manuf_subsegment,len(all_manuf_subsegment.keys()),salesColumn = 'Base Price/KG',sec_seg='SubSegment',position=calculate_position(p),brandORmanuf=f'{ManufOrTopC}')\n",
    "        shelfPrice_AvgPrice(prs,all_brands_subsegment,len(all_brands_subsegment.keys()),salesColumn = 'Base Price/KG',sec_seg='SubSegment',position=calculate_position(p)+len(all_manuf_subsegment.keys()),brandORmanuf=f\"{BrandOrTopB}\")\n",
    "        p+=1"
   ]
  },
  {
   "cell_type": "code",
   "execution_count": 597,
   "id": "b587702d",
   "metadata": {},
   "outputs": [],
   "source": [
    "if run_firstdeck:\n",
    "    if len(subcategories)!=0 and len(parent_lists[direct_parent[\"SubCategory\"]])!=0:\n",
    "\n",
    "        shelfPrice_AvgPrice(prs,all_manuf_subcategory, len(all_manuf_subcategory.keys()),salesColumn = 'Av Price/KG',sec_seg='SubCategory',position = calculate_position(p),brandORmanuf=f'{ManufOrTopC}')\n",
    "        shelfPrice_AvgPrice(prs,all_brands_subcategory, len(all_brands_subcategory.keys()),salesColumn = 'Av Price/KG',sec_seg='SubCategory',position = calculate_position(p)+len(all_manuf_subcategory.keys()),brandORmanuf=f\"{BrandOrTopB}\")\n",
    "        p+=1\n",
    "        shelfPrice_AvgPrice(prs,all_manuf_subcategory,len(all_manuf_subcategory.keys()),salesColumn = 'Base Price/KG',sec_seg='SubCategory',position=calculate_position(p),brandORmanuf=f'{ManufOrTopC}')\n",
    "        shelfPrice_AvgPrice(prs,all_brands_subcategory,len(all_brands_subcategory.keys()),salesColumn = 'Base Price/KG',sec_seg='SubCategory',position=calculate_position(p)+len(all_manuf_subcategory.keys()),brandORmanuf=f\"{BrandOrTopB}\")\n",
    "        p+=1"
   ]
  },
  {
   "cell_type": "code",
   "execution_count": 598,
   "id": "3492ef15",
   "metadata": {},
   "outputs": [],
   "source": [
    "if run_firstdeck:\n",
    "    outputPath = os.getcwd()+\"\\\\Final OutPut\"+f\"\\\\Pricing  AvgPrice output _{datetime.today().strftime(\"%d-%m\")}.pptx\"\n",
    "    prs.save(outputPath)\n"
   ]
  },
  {
   "cell_type": "markdown",
   "id": "41720451",
   "metadata": {},
   "source": [
    "# Third Deck Price Point slides 7_10"
   ]
  },
  {
   "cell_type": "markdown",
   "id": "36a67dd5",
   "metadata": {},
   "source": [
    "#### Price Point Distribution Analysis by product P3M and P12M (slides 7-8)"
   ]
  },
  {
   "cell_type": "code",
   "execution_count": 599,
   "id": "e2a50f56",
   "metadata": {},
   "outputs": [],
   "source": [
    "if run_thirddeck:\n",
    "    index = []\n",
    "    # Slide 6\n",
    "    index.extend([6] * (\n",
    "        (1 if sectors and len(sectorP3mPD.keys()) > 0 else 0) +\n",
    "        (1 if sectors and len(sectorP12mPD.keys()) > 0 else 0) +\n",
    "        (1 if segments and len(segmentP3mPD.keys()) > 0 else 0) +\n",
    "        (1 if segments and len(segmentP12mPD.keys()) > 0 else 0) +\n",
    "        (1 if subsegments and len(sub_segmentP3mPD.keys()) > 0 else 0) +\n",
    "        (1 if subsegments and len(sub_segmentP12mPD.keys()) > 0 else 0) +\n",
    "        (1 if subcategories and len(sub_categoryP3mPD.keys()) > 0 else 0) +\n",
    "        (1 if subcategories and len(sub_categoryP12mPD.keys()) > 0 else 0)\n",
    "    ))\n",
    "    index.extend([6] * (\n",
    "        (1 if sectors and len(sectorP3mPD_manuf.keys()) > 0 else 0) +\n",
    "        (1 if sectors and len(sectorP12mPD_manuf.keys()) > 0 else 0) +\n",
    "        (1 if segments and len(segmentP3mPD_manuf.keys()) > 0 else 0) +\n",
    "        (1 if segments and len(segmentP12mPD_manuf.keys()) > 0 else 0) +\n",
    "        (1 if subsegments and len(sub_segmentP3mPD_manuf.keys()) > 0 else 0) +\n",
    "        (1 if subsegments and len(sub_segmentP12mPD_manuf.keys()) > 0 else 0) +\n",
    "        (1 if subcategories and len(sub_categoryP3mPD_manuf.keys()) > 0 else 0) +\n",
    "        (1 if subcategories and len(sub_categoryP12mPD_manuf.keys()) > 0 else 0)\n",
    "    ))\n",
    "    ##scraped slide     \n",
    "    if run_scraped:\n",
    "        index.extend([15] * (\n",
    "        (1 if sectors and len(sectorPD_scraped.keys()) > 0 else 0)+\n",
    "        (1 if segments and len(segmentPD_scraped.keys()) > 0 else 0) +\n",
    "        (1 if subsegments and len(sub_segmentPD_scraped.keys()) > 0 else 0)+\n",
    "        (1 if subcategories and len(sub_categoryPD_scraped.keys()) > 0 else 0)\n",
    "        ))\n",
    "        index.extend([15] * (\n",
    "            (1 if sectors and len(sectorPD_manuf_scraped.keys()) > 0 else 0) +\n",
    "            (1 if segments and len(segmentPD_manuf_scraped.keys()) > 0 else 0)+\n",
    "            (1 if subsegments and len(sub_segmentPD_manuf_scraped.keys()) > 0 else 0)+\n",
    "            (1 if subcategories and len(sub_categoryPD_manuf_scraped.keys()) > 0 else 0) \n",
    "        ))\n",
    "\n",
    "\n",
    "    # Slides 7 and 8\n",
    "    index.extend([7]*((1 if len(merged_dict.keys())>0 else 0)+(1 if len(merged_dict_manuf.keys())>0 else 0)))\n",
    "    index.extend([8])\n",
    "    # Slide 9\n",
    "    index.extend([9] * ((1 if sectors else 0) + (1 if segments else 0) + (1 if subsegments else 0) + (1 if subcategories else 0)))\n",
    "\n",
    "    #slide 6\n",
    "    duplication_5=[len(sectorP3mPD.keys()) if sectors else 0,len(sectorP12mPD.keys()) if sectors else 0,\n",
    "                len(segmentP3mPD.keys())if segments else 0, len(segmentP12mPD.keys()) if segments else 0,\n",
    "                len(sub_segmentP3mPD.keys())if subsegments else 0, len(sub_segmentP12mPD.keys())if subsegments else 0,\n",
    "                (len(sub_categoryP3mPD.keys())if subcategories else 0), (len(sub_categoryP12mPD.keys())if subcategories else 0)]  \n",
    "\n",
    "    duplication_5_manuf=[len(sectorP3mPD_manuf.keys()) if sectors else 0,len(sectorP12mPD_manuf.keys()) if sectors else 0,\n",
    "                len(segmentP3mPD_manuf.keys())if segments else 0, len(segmentP12mPD_manuf.keys()) if segments else 0,\n",
    "                len(sub_segmentP3mPD_manuf.keys())if subsegments else 0, len(sub_segmentP12mPD_manuf.keys())if subsegments else 0,\n",
    "                (len(sub_categoryP3mPD_manuf.keys())if subcategories else 0), (len(sub_categoryP12mPD_manuf.keys())if subcategories else 0)]  #slide 7\n",
    "    ##Scraped_Slide\n",
    "    if run_scraped:\n",
    "        duplication_scraped=[len(sectorPD_scraped.keys()) if sectors else 0,\n",
    "                    len(segmentPD_scraped.keys())if segments else 0,\n",
    "                    len(sub_segmentPD_scraped.keys())if subsegments else 0,\n",
    "                    (len(sub_categoryPD_scraped.keys())if subcategories else 0)]  \n",
    "\n",
    "        duplication_manuf_scraped=[len(sectorPD_manuf_scraped.keys()) if sectors else 0,\n",
    "                    len(segmentPD_manuf_scraped.keys())if segments else 0,\n",
    "                    len(sub_segmentPD_manuf_scraped.keys())if subsegments else 0,\n",
    "                    (len(sub_categoryPD_manuf_scraped.keys())if subcategories else 0)]  \n",
    "\n",
    "\n",
    "\n",
    "    duplication_6= [len(merged_dict_manuf.keys())]\n",
    "    duplication_6_manuf=[len(merged_dict.keys())]\n",
    "\n",
    "\n",
    "    # slide 8\n",
    "    duplication_7=[len(modified_brandPriceDistribution.keys())] \n",
    "\n",
    "    # slide 9\n",
    "    duplication_8=[len(modified_sectorsPriceDistribution.keys())if sectors else 0,len(modified_segmentPriceDistribution.keys())if segments else 0,\n",
    "                len(modified_subsegmentPriceDistribution.keys())if subsegments else 0,len(modified_subcategoryPriceDistribution.keys())if subcategories else 0]          \n",
    "    \n",
    "    if run_scraped:\n",
    "        duplication =duplication_5+duplication_5_manuf +duplication_scraped+duplication_manuf_scraped+ duplication_6 +duplication_6_manuf+ duplication_7 + duplication_8\n",
    "    else: \n",
    "        duplication =duplication_5+duplication_5_manuf + duplication_6 +duplication_6_manuf+ duplication_7 + duplication_8\n",
    "\n",
    "    duplication=[i for i in duplication if i !=0]\n",
    "\n",
    "    #slide 6\n",
    "    section_names_6=[(f\"{direct_parent[\"Sector\"]} Price Point Distribution Analysis P3M\"if len(sectorP3mPD.keys()) > 0 else []),\n",
    "                    (f\"{direct_parent[\"Sector\"]} Price Point Distribution Analysis P12M\"if len(sectorP12mPD.keys()) > 0 else []),\n",
    "                    (f\"{direct_parent[\"Segment\"]} Price Point Distribution Analysis P3M\"if len(segments)>0 and len(segmentP3mPD.keys())>0 else []),\n",
    "                    (f\"{direct_parent[\"Segment\"]} Price Point Distribution Analysis P12M\"if len(segments)>0 and len(segmentP12mPD.keys())>0 else []),\n",
    "                    (f\"{direct_parent[\"SubSegment\"]}_SubSegment Price Point Distribution Analysis P3M\" if len(subsegments) > 0 and len(sub_segmentP3mPD.keys())>0 else[]), \n",
    "                    (f\"{direct_parent[\"SubSegment\"]}_SubSegment Price Point Distribution Analysis P12M\" if len(subsegments) > 0 and len(sub_segmentP12mPD.keys())>0  else []),\n",
    "                    (f\"{direct_parent[\"SubCategory\"]}_SubCategory Price Point Distribution Analysis P3M\" if len(subcategories) > 0 and len(sub_categoryP3mPD.keys())>0 else []),\n",
    "                    (f\"{direct_parent[\"SubCategory\"]}_SubCategory Price Point Distribution Analysis P12M\" if len(subcategories) > 0 and len(sub_categoryP12mPD.keys())>0 else [])]\n",
    "    section_names_6_manuf=[(f\"{direct_parent[\"Sector\"]} Price Point Distribution Analysis P3M ByManuf\"if len(sectorP3mPD_manuf.keys()) > 0 else []),\n",
    "                    (f\"{direct_parent[\"Sector\"]} Price Point Distribution Analysis P12M ByManuf\"if len(sectorP12mPD_manuf.keys()) > 0 else []),\n",
    "                    (f\"{direct_parent[\"Segment\"]} Price Point Distribution Analysis P3M ByManuf\"if len(segments)>0 and len(segmentP3mPD_manuf.keys())>0 else []),\n",
    "                    (f\"{direct_parent[\"Segment\"]} Price Point Distribution Analysis P12M ByManuf\"if len(segments)>0 and len(segmentP12mPD_manuf.keys())>0 else []),\n",
    "                    (f\"{direct_parent[\"SubSegment\"]}_SubSegment Price Point Distribution Analysis P3M ByManuf\" if len(subsegments) > 0 and len(sub_segmentP3mPD_manuf.keys())>0 else[]), \n",
    "                    (f\"{direct_parent[\"SubSegment\"]}_SubSegment Price Point Distribution Analysis P12M ByManuf\" if len(subsegments) > 0 and len(sub_segmentP12mPD_manuf.keys())>0  else []),\n",
    "                    (f\"{direct_parent[\"SubCategory\"]}_SubCategory Price Point Distribution Analysis P3M ByManuf\" if len(subcategories) > 0 and len(sub_categoryP3mPD_manuf.keys())>0 else []),\n",
    "                    (f\"{direct_parent[\"SubCategory\"]}_SubCategory Price Point Distribution Analysis P12M ByManuf\" if len(subcategories) > 0 and len(sub_categoryP12mPD_manuf.keys())>0 else [])]\n",
    "\n",
    "    ##Scraped Slide\n",
    "    if run_scraped:\n",
    "        section_names_scraped=[(f\"{direct_parent[\"Sector\"]} Price Point Distribution Scraped\"if len(sectorPD_scraped.keys()) > 0 else []),\n",
    "                        (f\"{direct_parent[\"Segment\"]} Price Point Distribution Scraped\"if len(segments)>0 and len(segmentPD_scraped.keys())>0 else []),\n",
    "                        (f\"{direct_parent[\"SubSegment\"]}_SubSegment Price Point Distribution Scraped\" if len(subsegments) > 0 and len(sub_segmentPD_scraped.keys())>0 else[]),\n",
    "                        (f\"{direct_parent[\"SubCategory\"]}_SubCategory Price Point Distribution Scraped\" if len(subcategories) > 0 and len(sub_categoryPD_scraped.keys())>0 else [])]\n",
    "        section_names_manuf_scraped=[(f\"{direct_parent[\"Sector\"]} Price Point Distribution Scraped ByManuf\"if len(sectorPD_manuf_scraped.keys()) > 0 else []),\n",
    "                        (f\"{direct_parent[\"Segment\"]} Price Point Distribution Scraped ByManuf\"if len(segments)>0 and len(segmentPD_manuf_scraped.keys())>0 else []),\n",
    "                        (f\"{direct_parent[\"SubSegment\"]}_SubSegment Price Point Distribution Scraped ByManuf\" if len(subsegments) > 0 and len(sub_segmentPD_manuf_scraped.keys())>0 else[]), \n",
    "                        (f\"{direct_parent[\"SubCategory\"]}_SubCategory Price Point Distribution Scraped ByManuf\" if len(subcategories) > 0 and len(sub_categoryPD_manuf_scraped.keys())>0 else [])]\n",
    "\n",
    "\n",
    "\n",
    "    # slide_7\n",
    "    section_names_7=[(\"Price Point Comparison Analysis by Manuf\")if len(client_brands)>0 else []]\n",
    "    section_names_7_manuf=[(\"Price Point Comparison Analysis by Product\")]\n",
    "    # slide_8\n",
    "    section_names_8=[\"Price Point Distribution Analysis By Brand\"]\n",
    "    # slide_9\n",
    "    section_names_9=[(\"Price Point Distribution By Brand By Sector\"if len(sectors)>0 else []),(\"Price Point Distribution By Brand By Segment\"if len(segments)>0 else[]),\n",
    "                    (\"Price Point Distribution By Brand By SubSegment\"if len(subsegments)>0 else[]),(\"Price Point Distribution By Brand By SubCategory\"if len(subcategories)>0 else[])]\n",
    "    if run_scraped:\n",
    "        section_names = [ *section_names_6,*section_names_6_manuf,*section_names_scraped,*section_names_manuf_scraped , *section_names_7,*section_names_7_manuf , *section_names_8,*section_names_9]\n",
    "    else:\n",
    "        section_names = [ *section_names_6,*section_names_6_manuf, *section_names_7,*section_names_7_manuf , *section_names_8,*section_names_9]\n",
    "\n",
    "    section_names=[i for i in section_names if i !=[]]\n",
    "    path = os.getcwd() + '\\Pricing base.pptx'\n",
    "    new_pre = os.getcwd() + '\\Pricing price point duplicated.pptx'"
   ]
  },
  {
   "cell_type": "markdown",
   "id": "630497fb",
   "metadata": {},
   "source": [
    "duplication_5"
   ]
  },
  {
   "cell_type": "code",
   "execution_count": 600,
   "id": "7e47e5e6",
   "metadata": {},
   "outputs": [
    {
     "name": "stdout",
     "output_type": "stream",
     "text": [
      "[6, 6, 6, 6, 6, 6, 6, 6, 15, 15, 15, 15, 7, 7, 8, 9, 9]\n",
      "17\n",
      "[5, 5, 7, 7, 3, 3, 3, 3, 2, 3, 1, 1, 12, 30, 15, 3, 6]\n",
      "17\n",
      "['Category Price Point Distribution Analysis P3M', 'Category Price Point Distribution Analysis P12M', 'Sector Price Point Distribution Analysis P3M', 'Sector Price Point Distribution Analysis P12M', 'Category Price Point Distribution Analysis P3M ByManuf', 'Category Price Point Distribution Analysis P12M ByManuf', 'Sector Price Point Distribution Analysis P3M ByManuf', 'Sector Price Point Distribution Analysis P12M ByManuf', 'Category Price Point Distribution Scraped', 'Sector Price Point Distribution Scraped', 'Category Price Point Distribution Scraped ByManuf', 'Sector Price Point Distribution Scraped ByManuf', 'Price Point Comparison Analysis by Manuf', 'Price Point Comparison Analysis by Product', 'Price Point Distribution Analysis By Brand', 'Price Point Distribution By Brand By Sector', 'Price Point Distribution By Brand By Segment']\n",
      "17\n",
      "c:\\Users\\BW4SA\\Documents\\Slide-Automate\\Pricing slide duplicate\\Pricing base.pptx\n",
      "c:\\Users\\BW4SA\\Documents\\Slide-Automate\\Pricing slide duplicate\\Pricing price point duplicated.pptx\n"
     ]
    }
   ],
   "source": [
    "if run_thirddeck:\n",
    "    print(index)\n",
    "    print(len(index))\n",
    "    print(duplication)\n",
    "    print(len(duplication))\n",
    "    print(section_names)\n",
    "    print(len(section_names))\n",
    "    print(path)\n",
    "    print(new_pre)\n",
    "    sum(duplication)"
   ]
  },
  {
   "cell_type": "code",
   "execution_count": 601,
   "id": "c6c53a96",
   "metadata": {},
   "outputs": [],
   "source": [
    "if run_thirddeck:\n",
    "    slideDuplication(index,duplication,section_names,path,new_pre)"
   ]
  },
  {
   "cell_type": "code",
   "execution_count": 602,
   "id": "64479aac",
   "metadata": {},
   "outputs": [],
   "source": [
    "if run_thirddeck:\n",
    "    prs = Presentation(new_pre)"
   ]
  },
  {
   "cell_type": "code",
   "execution_count": 603,
   "id": "089ce2b7",
   "metadata": {},
   "outputs": [],
   "source": [
    "if run_thirddeck:\n",
    "    def calculate_position(end):\n",
    "        return sum(duplication[i] * (1 if isinstance(index[i], int) else len(index[i])) for i in range(end))"
   ]
  },
  {
   "cell_type": "code",
   "execution_count": 604,
   "id": "b04c1ed5",
   "metadata": {},
   "outputs": [],
   "source": [
    "if run_thirddeck:\n",
    "    p=0\n",
    "    if len(parent_lists[direct_parent['Sector']])!=0 and len(sectors)!=0:\n",
    "        if len(sectorP3mPD.keys())!=0:\n",
    "            pricePoint(prs,sectorP3mPD,duplication[p],months = \"P3M\",sec_seg = 'Sector' ,position=calculate_position(p))\n",
    "            p+=1\n",
    "        if len(sectorP12mPD.keys())!=0:\n",
    "            pricePoint(prs,sectorP12mPD,duplication[p],months = 'P12M',sec_seg = 'Sector',position = calculate_position(p))\n",
    "            p+=1"
   ]
  },
  {
   "cell_type": "code",
   "execution_count": 605,
   "id": "8b1624e1",
   "metadata": {},
   "outputs": [],
   "source": [
    "if run_thirddeck:\n",
    "    if len(parent_lists[direct_parent['Segment']])!=0 and len(segments)!=0:\n",
    "        if len(segmentP3mPD.keys())!=0:\n",
    "            pricePoint(prs,segmentP3mPD,duplication[p],months = 'P3M' ,sec_seg = 'Segment',position=calculate_position(p))\n",
    "            p+=1\n",
    "        if len(segmentP12mPD.keys())!=0:\n",
    "            pricePoint(prs,segmentP12mPD,duplication[p],months = 'P12M',sec_seg = 'Segment',position=calculate_position(p))\n",
    "            p+=1\n",
    "    if len(parent_lists[direct_parent['SubSegment']])!=0 and len(subsegments)!=0:\n",
    "        if len(sub_segmentP3mPD.keys())!=0:\n",
    "            pricePoint(prs,sub_segmentP3mPD,duplication[p],months = 'P3M' ,sec_seg = 'SubSegment',position=calculate_position(p))\n",
    "            p+=1\n",
    "        if len(sub_segmentP12mPD.keys())!=0:\n",
    "            pricePoint(prs,sub_segmentP12mPD,duplication[p],months = 'P12M',sec_seg = 'SubSegment',position=calculate_position(p))\n",
    "            p+=1        \n",
    "    if len(parent_lists[direct_parent['SubCategory']])!=0 and len(subcategories)!=0:\n",
    "        if len(sub_categoryP3mPD.keys())!=0:\n",
    "            pricePoint(prs,sub_categoryP3mPD,duplication[p],months = 'P3M' ,sec_seg = 'SubCategory',position=calculate_position(p))\n",
    "            p+=1\n",
    "        if len(sub_categoryP12mPD.keys())!=0:\n",
    "            pricePoint(prs,sub_categoryP12mPD,duplication[p],months = 'P12M',sec_seg = 'SubCategory',position=calculate_position(p))    \n",
    "            p+=1        "
   ]
  },
  {
   "cell_type": "code",
   "execution_count": 606,
   "id": "ecc3bf75",
   "metadata": {},
   "outputs": [],
   "source": [
    "if run_thirddeck:\n",
    "    if len(parent_lists[direct_parent['Sector']])!=0 and len(sectors)!=0:\n",
    "        if len(sectorP3mPD_manuf.keys())!=0:\n",
    "            pricePoint(prs,sectorP3mPD_manuf,duplication[p],months = \"P3M\",sec_seg = 'Sector' ,position=calculate_position(p))\n",
    "            p+=1\n",
    "        pricePoint(prs,sectorP12mPD_manuf,duplication[p],months = 'P12M',sec_seg = 'Sector',position = calculate_position(p))\n",
    "        p+=1\n",
    "    if len(parent_lists[direct_parent['Segment']])!=0 and len(segments)!=0:\n",
    "        if len(segmentP3mPD_manuf.keys())!=0:\n",
    "            pricePoint(prs,segmentP3mPD_manuf,duplication[p],months = 'P3M' ,sec_seg = 'Segment',position=calculate_position(p))\n",
    "            p+=1\n",
    "        pricePoint(prs,segmentP12mPD_manuf,duplication[p],months = 'P12M',sec_seg = 'Segment',position=calculate_position(p))\n",
    "        p+=1   \n",
    "\n",
    "    if len(parent_lists[direct_parent['SubSegment']])!=0 and len(subsegments)!=0:\n",
    "        if len(sub_segmentP3mPD_manuf.keys())!=0:\n",
    "            pricePoint(prs,sub_segmentP3mPD_manuf,duplication[p],months = 'P3M' ,sec_seg = 'SubSegment',position=calculate_position(p))\n",
    "            p+=1\n",
    "        pricePoint(prs,sub_segmentP12mPD_manuf,duplication[p],months = 'P12M',sec_seg = 'SubSegment',position=calculate_position(p))\n",
    "        p+=1\n",
    "    if len(parent_lists[direct_parent['SubCategory']])!=0 and len(subcategories)!=0:\n",
    "        if len(sub_categoryP3mPD_manuf.keys())!=0:\n",
    "            pricePoint(prs,sub_categoryP3mPD_manuf,duplication[p],months = 'P3M' ,sec_seg = 'SubCategory',position=calculate_position(p))\n",
    "            p+=1\n",
    "        pricePoint(prs,sub_categoryP12mPD_manuf,duplication[p],months = 'P12M',sec_seg = 'SubCategory',position=calculate_position(p))    \n",
    "        p+=1    \n",
    "        "
   ]
  },
  {
   "cell_type": "code",
   "execution_count": 607,
   "id": "c01f88c1",
   "metadata": {},
   "outputs": [
    {
     "name": "stdout",
     "output_type": "stream",
     "text": [
      "8\n"
     ]
    }
   ],
   "source": [
    "print(p)"
   ]
  },
  {
   "cell_type": "code",
   "execution_count": 608,
   "id": "371fa22f",
   "metadata": {},
   "outputs": [
    {
     "data": {
      "text/plain": [
       "36"
      ]
     },
     "execution_count": 608,
     "metadata": {},
     "output_type": "execute_result"
    }
   ],
   "source": [
    "calculate_position(8)"
   ]
  },
  {
   "cell_type": "markdown",
   "id": "8b59705d",
   "metadata": {},
   "source": [
    "### Scraped Slide"
   ]
  },
  {
   "cell_type": "code",
   "execution_count": null,
   "id": "bc5ed78e",
   "metadata": {},
   "outputs": [],
   "source": [
    "def pricePointScraped(prs, sectorPD, numOfDuplicates, sec_seg='Sector', position=0):\n",
    "    \"\"\"\n",
    "    Generate slides displaying price point distribution.\n",
    "    \"\"\"\n",
    "    for slidenum in range(numOfDuplicates):\n",
    "        dfName = list(sectorPD.keys())[slidenum]\n",
    "        df = sectorPD[dfName]\n",
    "\n",
    "        if 'End of Week' in df.columns:\n",
    "            latest_eow = df['End of Week'].max()\n",
    "            last_eow_cleaned = latest_eow.strftime('%Y-%m-%d')\n",
    "            print(f\"{last_eow_cleaned} for {dfName}\")\n",
    "            \n",
    "            # ✅ Filter df to keep only rows where End of Week == latest_eow\n",
    "            # df = df[df['End of Week'] == latest_eow].reset_index(drop=True)\n",
    "            \n",
    "            # ✅ Replace back in sectorPD if you want to keep the filtered df\n",
    "            sectorPD[dfName] = df\n",
    "        else:\n",
    "            last_eow_cleaned = ''\n",
    "            print(f\"No 'End of Week' column found in {dfName}\")\n",
    "\n",
    "        # ✅ Now df is filtered, continue your processing...\n",
    "        # e.g. shapes, tables, charts generation etc.\n",
    "\n",
    "\n",
    "\n",
    "        shapes = prs.slides[slidenum+position].shapes\n",
    "        titleNumber = get_shape_number(shapes, \"Price Point Distribution | Brand | Category | National | P12M\")\n",
    "        headerNumber = get_shape_number(shapes, \"Price Point Distribution Analysis by product (Replace with SO WHAT)\")\n",
    "        axistitle=get_shape_number(shapes,\"Base Price/Unit ($)\")\n",
    "        currencywithoutspace =currency.strip()  # Remove the leading space\n",
    "        shapes[axistitle].text=f'Scraped Av. Price/Unit ({currencywithoutspace})'\n",
    "        shapes[axistitle].text_frame.paragraphs[0].font.size = Pt(8)\n",
    "        shapes[axistitle].text_frame.paragraphs[0].font.name = 'Nexa Bold'\n",
    "        shapes[axistitle].text_frame.paragraphs[0].font.color.rgb = RGBColor(87, 85, 85)  # Set color to black\n",
    " \n",
    "        shapes[titleNumber - 1].text = shapes[titleNumber-1].text.replace(\"Ending Sep 2022\", last_eow_cleaned)\n",
    "        # Set title for the slide\n",
    "        shapes[titleNumber].text = \"Price Point Distribution | \" + list(sectorPD.keys())[slidenum] \n",
    "        # shapes[titleNumber].text_frame.paragraphs[0].font.bold = True\n",
    "        shapes[titleNumber].text_frame.paragraphs[0].font.size = Pt(12)\n",
    "        shapes[titleNumber].text_frame.paragraphs[0].font.name = 'Nexa (Headings)'    \n",
    "        tables,charts=createTableAndChart(shapes)\n",
    "        chart=charts[0].chart\n",
    "        chart_data = CategoryChartData()\n",
    "        chart_data.categories = sectorPD[dfName][prodORitem].unique()\n",
    "        # formatted_prices = sectorPD[dfName]['Base Price/Unit'].apply(lambda x: f\"{currency}{round(x, decimals):,.2f}\")\n",
    "        # chart_data.add_series('Base Price/Unit', formatted_prices)\n",
    "       \n",
    "        chart_data.add_series('Scraped Av. Price/Unit', round(sectorPD[dfName]['Scraped Av. Price/Unit'].astype(float),decimals))\n",
    "        chart.replace_data(chart_data)\n",
    "        chart.has_title = False\n",
    " \n",
    "        for i,series in enumerate(chart.series):\n",
    "                for j, point in enumerate(series.points):      \n",
    "                    data_label = point.data_label\n",
    "                    data_label.has_text_frame = True\n",
    "                    data_label.text_frame.text = str(round(series.values[j], decimals))\n",
    "                    data_label.position = XL_LABEL_POSITION.ABOVE  # Set the position above the point\n",
    " \n",
    "        value_axis = chart.value_axis\n",
    "        value_axis.auto_axis = True\n",
    "        value_axis.minimum_scale = None\n",
    "        value_axis.major_unit = None\n",
    "        value_axis.minor_unit = None\n",
    "        value_axis.axis_title.text_frame.text=''\n",
    "        value_axis.tick_labels.number_format = \"#,##0.00\" if decimals ==2 else \"#,##0\"\n",
    " \n",
    "        # Table #\n",
    "        table=tables[0].table\n",
    " \n",
    "        num_columns_to_remove = (len(table.columns) - sectorPD[dfName].shape[0]) - 1  # Specify the number of rows to remove from the end\n",
    "        table_width = Inches(8.89)  # Specify the desired table height\n",
    "        # table=col_cell_remove(table,num_columns_to_remove,table_width,sectorPD[dfName])\n",
    "        table=col_cell_remove(table,num_columns_to_remove)\n",
    "        # print(num_columns_to_remove)\n",
    "       \n",
    "       \n",
    "        total_col_width = table_width - table.columns[0].width\n",
    "        num_columns = len(table.columns) - 1  # Exclude the first row\n",
    " \n",
    "        if num_columns > 0:\n",
    "            cell_width = total_col_width / num_columns\n",
    "            for col in range(1, table.columns.__len__()):\n",
    "                table.columns[col].width = int(cell_width)\n",
    " \n",
    "        # mergedCellDf = sectorPD[dfName][sec_seg].value_counts().reset_index()\n",
    "        mergedCellDf = sectorPD[dfName].groupby(sec_seg).size().reset_index(name='count')\n",
    "        # print(key,mergedCellDf)\n",
    "\n",
    "        # print(dfName, sectorPD[dfName][sec_seg])\n",
    "        # mergedCellDf = mergedCellDf.rename(columns = {\"index\":f'{sec_seg}'})\n",
    "        # mergedCellDf=mergedCellDf.merge(sectorPD[dfName][[sec_seg,'Sort_Value']].drop_duplicates()).sort_values(['Sort_Value'])\n",
    " \n",
    "        mergedCellDf['mergedCell']=mergedCellDf['count'].cumsum()\n",
    "        count=1\n",
    "        print(mergedCellDf['mergedCell'].unique())\n",
    "        for mergedCell in mergedCellDf['mergedCell'].unique():\n",
    "            table.cell(0,count).merge(table.cell(0,mergedCell))\n",
    "            count=mergedCell+1\n",
    " \n",
    "        table.height = Inches(1.54)\n",
    "       \n",
    "        for i, row in enumerate(table.rows):\n",
    "            for j, cell in enumerate(row.cells):\n",
    "                if j == 0:\n",
    "                    if i == 3:\n",
    "                        cell.text=f\"Scraped Av. Price/KG ({currencywithoutspace})\"\n",
    "                        cell.text_frame.paragraphs[0].alignment = PP_ALIGN.CENTER\n",
    "                        cell.text_frame.paragraphs[0].runs[0].font.size = Pt(6)\n",
    "                        cell.text_frame.paragraphs[0].runs[0].font.bold = False\n",
    "                        cell.text_frame.paragraphs[0].font.name = 'Nexa (Headings)'\n",
    "                    continue\n",
    "               \n",
    "                if i==0:\n",
    "                    cell.text=sectorPD[dfName][sec_seg].iloc[j-1]\n",
    "                    cell.text_frame.paragraphs[0].alignment = PP_ALIGN.CENTER\n",
    "                    cell.text_frame.paragraphs[0].runs[0].font.size = Pt(8)\n",
    "                    cell.text_frame.paragraphs[0].runs[0].font.bold = True\n",
    "                    cell.text_frame.paragraphs[0].font.name = 'Nexa Bold'\n",
    "                elif (i==1):\n",
    "                    cell.text=sectorPD[dfName][f\"{prodORitem}\"].iloc[j-1]\n",
    "                    cell.text_frame.paragraphs[0].alignment = PP_ALIGN.CENTER\n",
    "                    cell.text_frame.paragraphs[0].runs[0].font.size = Pt(6)\n",
    "                    cell.text_frame.paragraphs[0].runs[0].font.bold = True\n",
    "                    cell.text_frame.paragraphs[0].font.name = 'Nexa Bold'\n",
    "                elif (i==2):\n",
    "                    cell.text=sectorPD[dfName]['Total Size'].iloc[j-1]\n",
    "                elif (i==3):\n",
    "                    cell.text = \"\" if pd.isna(sectorPD[dfName]['Scraped Av. Price/KG'].iloc[j-1]) else str(round(sectorPD[dfName]['Scraped Av. Price/KG'].astype(float).iloc[j-1], decimals))\n",
    "\n",
    "                if cell.text!='' and i!=0 and i!=1:\n",
    "                    cell.text_frame.paragraphs[0].alignment = PP_ALIGN.CENTER\n",
    "                    cell.text_frame.paragraphs[0].runs[0].font.size = Pt(7)\n",
    "                    cell.text_frame.paragraphs[0].runs[0].font.bold = False\n",
    "                    cell.text_frame.paragraphs[0].font.name = 'Nexa Book'"
   ]
  },
  {
   "cell_type": "code",
   "execution_count": 610,
   "id": "43775d7c",
   "metadata": {},
   "outputs": [
    {
     "name": "stdout",
     "output_type": "stream",
     "text": [
      "2025-06-29 for Manual Shave Men | Schick | Walmart\n",
      "[ 5 15]\n",
      "2025-06-29 for Manual Shave Men | Cremo | Walmart\n",
      "[3]\n",
      "2025-06-29 for Schick | Walmart | System\n",
      "[ 2  7 15]\n",
      "2025-06-29 for Schick | Walmart | Disposables\n",
      "[15]\n",
      "2025-06-29 for Cremo | Walmart | System\n",
      "[2 3]\n"
     ]
    }
   ],
   "source": [
    "if run_thirddeck:\n",
    "    if run_scraped:\n",
    "        if len(parent_lists[direct_parent['Sector']])!=0 and len(sectors)!=0:\n",
    "            if len(sectorPD_scraped.keys())!=0:\n",
    "                pricePointScraped(prs,sectorPD_scraped,duplication[p],sec_seg = 'Sector' ,position=calculate_position(p))\n",
    "                p+=1\n",
    "        if len(parent_lists[direct_parent['Segment']])!=0 and len(segments)!=0:\n",
    "            if len(segmentPD_scraped.keys())!=0:\n",
    "                pricePointScraped(prs,segmentPD_scraped,duplication[p],sec_seg = 'Segment',position=calculate_position(p))\n",
    "                p+=1\n",
    "        if len(parent_lists[direct_parent['SubSegment']])!=0 and len(subsegments)!=0:\n",
    "            if len(sub_segmentPD_scraped.keys())!=0:\n",
    "                pricePointScraped(prs,sub_segmentPD_scraped,duplication[p],sec_seg = 'SubSegment',position=calculate_position(p))\n",
    "                p+=1       \n",
    "        if len(parent_lists[direct_parent['SubCategory']])!=0 and len(subcategories)!=0:\n",
    "            if len(sub_categoryPD_scraped.keys())!=0:\n",
    "                pricePointScraped(prs,sub_categoryPD_scraped,duplication[p],sec_seg = 'SubCategory',position=calculate_position(p))\n",
    "                p+=1"
   ]
  },
  {
   "cell_type": "code",
   "execution_count": 611,
   "id": "c200d162",
   "metadata": {},
   "outputs": [
    {
     "name": "stdout",
     "output_type": "stream",
     "text": [
      "2025-06-29 for Edgewell Personal Care | Walmart\n",
      "[ 5 15]\n",
      "2025-06-29 for Edgewell Personal Care | Walmart\n",
      "[ 5  6  9 15]\n"
     ]
    }
   ],
   "source": [
    "if run_thirddeck:\n",
    "    if run_scraped:\n",
    "        if len(parent_lists[direct_parent['Sector']])!=0 and len(sectors)!=0:\n",
    "            if len(sectorPD_manuf_scraped.keys())!=0:\n",
    "                pricePointScraped(prs,sectorPD_manuf_scraped,duplication[p],sec_seg = 'Sector' ,position=calculate_position(p))\n",
    "                p+=1\n",
    "\n",
    "        if len(parent_lists[direct_parent['Segment']])!=0 and len(segments)!=0:\n",
    "            if len(segmentPD_manuf_scraped.keys())!=0:\n",
    "                pricePointScraped(prs,segmentPD_manuf_scraped,duplication[p] ,sec_seg = 'Segment',position=calculate_position(p))\n",
    "                p+=1\n",
    "\n",
    "        if len(parent_lists[direct_parent['SubSegment']])!=0 and len(subsegments)!=0:\n",
    "            if len(sub_segmentPD_manuf_scraped.keys())!=0:\n",
    "                pricePointScraped(prs,sub_segmentPD_manuf_scraped,duplication[p],sec_seg = 'SubSegment',position=calculate_position(p))\n",
    "                p+=1\n",
    "            \n",
    "        if len(parent_lists[direct_parent['SubCategory']])!=0 and len(subcategories)!=0:\n",
    "            if len(sub_categoryPD_manuf_scraped.keys())!=0:\n",
    "                pricePointScraped(prs,sub_categoryPD_manuf_scraped,duplication[p],sec_seg = 'SubCategory',position=calculate_position(p))\n",
    "                p+=1"
   ]
  },
  {
   "cell_type": "markdown",
   "id": "42ba5dec",
   "metadata": {},
   "source": [
    "#### Price Point Comparison (slide 9)"
   ]
  },
  {
   "cell_type": "code",
   "execution_count": 612,
   "id": "c8a56ea2",
   "metadata": {},
   "outputs": [],
   "source": [
    "if run_thirddeck:\n",
    "    if len(merged_dict_manuf)>0:\n",
    "        pricepoint_comparison(prs, merged_dict_manuf, position=calculate_position(p),slideby=f'{ManufOrTopC}')\n",
    "        p+=1\n",
    "    if len(merged_dict)>0:\n",
    "        pricepoint_comparison(prs, merged_dict, position=calculate_position(p),slideby=f\"{BrandOrTopB}\")\n",
    "        p+=1"
   ]
  },
  {
   "cell_type": "markdown",
   "id": "a2a545fc",
   "metadata": {},
   "source": [
    "#### Price Point Distribution Analysis by brand (slide 10)"
   ]
  },
  {
   "cell_type": "code",
   "execution_count": 613,
   "id": "9005d47b",
   "metadata": {},
   "outputs": [],
   "source": [
    "if run_thirddeck:\n",
    "    brandPriceDistributionPPTX(prs,modified_brandPriceDistribution,duplication[p],currency=currency,position=calculate_position(p))\n",
    "    p+=1"
   ]
  },
  {
   "cell_type": "markdown",
   "id": "cace779a",
   "metadata": {},
   "source": [
    "#### Price Point Distribution Analysis by brand by sec/seg/subseg/subcat (slide 11)"
   ]
  },
  {
   "cell_type": "code",
   "execution_count": 614,
   "id": "f13d86c6",
   "metadata": {
    "scrolled": true
   },
   "outputs": [],
   "source": [
    "if run_thirddeck:\n",
    "    if len(sectors)!=0:\n",
    "        sec_seg='Sector'\n",
    "        brandSectorPriceDistributionPPTX(prs,modified_sectorsPriceDistribution,duplication[p],sec_seg,currency,position=calculate_position(p))\n",
    "        p+=1"
   ]
  },
  {
   "cell_type": "code",
   "execution_count": 615,
   "id": "d9558878",
   "metadata": {},
   "outputs": [],
   "source": [
    "if run_thirddeck:\n",
    "    if len(segments)!=0:\n",
    "        sec_seg='Segment'\n",
    "        brandSectorPriceDistributionPPTX(prs,modified_segmentPriceDistribution,duplication[p],sec_seg,currency,position=calculate_position(p))\n",
    "        p+=1"
   ]
  },
  {
   "cell_type": "code",
   "execution_count": 616,
   "id": "ab5b5531",
   "metadata": {},
   "outputs": [],
   "source": [
    "if run_thirddeck:\n",
    "    if len(subsegments)!=0:\n",
    "        sec_seg='SubSegment'\n",
    "        brandSectorPriceDistributionPPTX(prs,modified_subsegmentPriceDistribution,duplication[p],sec_seg,currency,position=calculate_position(p))\n",
    "        p+=1"
   ]
  },
  {
   "cell_type": "code",
   "execution_count": 617,
   "id": "c8c2f849",
   "metadata": {},
   "outputs": [],
   "source": [
    "if run_thirddeck:\n",
    "    if len(subcategories)!=0:\n",
    "        sec_seg='SubCategory'\n",
    "        brandSectorPriceDistributionPPTX(prs,modified_subcategoryPriceDistribution,duplication[p],sec_seg,currency,position=calculate_position(p))\n",
    "        p+=1"
   ]
  },
  {
   "cell_type": "markdown",
   "id": "6a5fb480",
   "metadata": {},
   "source": [
    "#### PPT Finalization"
   ]
  },
  {
   "cell_type": "code",
   "execution_count": 618,
   "id": "325b19f7",
   "metadata": {},
   "outputs": [],
   "source": [
    "if run_thirddeck:\n",
    "    outputPath = os.getcwd()+\"\\\\Final OutPut\"+f\"\\\\Pricing  PricePoint output _{datetime.today().strftime(\"%d-%m\")}.pptx\"\n",
    "    prs.save(outputPath)"
   ]
  },
  {
   "cell_type": "markdown",
   "id": "a67d4fc8",
   "metadata": {
    "tags": [
     "Fifth Deck Price Point Distribution (Scraped Av Price)"
    ]
   },
   "source": [
    "# Forth Deck Correlation  Slides 11_12"
   ]
  },
  {
   "cell_type": "markdown",
   "id": "734b0760",
   "metadata": {},
   "source": [
    "#### Correlation Duplication"
   ]
  },
  {
   "cell_type": "code",
   "execution_count": 619,
   "id": "75b64bbe",
   "metadata": {},
   "outputs": [],
   "source": [
    "if run_fourthdeck:\n",
    "    index_correlation=[*[10]*((1 if categories else 0)\n",
    "                            +(1 if sectors else 0) +(1 if segments else 0)+(1 if subsegments else 0 )+(1 if subcategories else 0))]\n",
    "\n",
    "    duplication_correlation_1=[len(categories_dict)if categories else 0\n",
    "                            ,len(sectors_dict)if sectors else 0,len(segments_dict)if segments else 0,len(subsegments_dict)if subsegments else 0,len(subcategories_dict)if subcategories else 0]\n",
    "    duplication_correlation=duplication_correlation_1\n",
    "    duplication_correlation=[i for i in duplication_correlation if i !=0]\n",
    "\n",
    "    section_names_correlation_1=[(\"Category Price Correlation Analysis P3Y\" if len(categories)>0 else[])\n",
    "                                ,(\"Sectors Price Correlation Analysis P3Y\"if sectors else []),\n",
    "                                (\"Segments Price Correlation Analysis P3Y\"if len(segments)>0 else[]),(\"SubSegment Price Correlation Analysis P3Y\"if len(subsegments)>0 else[]), (\"SubCategory Price Correlation Analysis P3Y\"if len(subcategories)>0 else[])]\n",
    "\n",
    "    section_names_correlation=[*section_names_correlation_1]\n",
    "    section_names_correlation=[i for i in section_names_correlation if i !=[]]\n",
    "\n",
    "    path=os.getcwd() + '\\Pricing base.pptx'\n",
    "    new_pre2=os.getcwd() + '\\Pricing Correlation duplicated.pptx'\n"
   ]
  },
  {
   "cell_type": "code",
   "execution_count": 620,
   "id": "b7c3107f",
   "metadata": {},
   "outputs": [
    {
     "name": "stdout",
     "output_type": "stream",
     "text": [
      "[10, 10, 10]\n",
      "3\n",
      "[10, 12, 13]\n",
      "3\n",
      "['Category Price Correlation Analysis P3Y', 'Sectors Price Correlation Analysis P3Y', 'Segments Price Correlation Analysis P3Y']\n",
      "3\n",
      "35\n"
     ]
    }
   ],
   "source": [
    "if run_fourthdeck:\n",
    "    print(index_correlation)\n",
    "    print(len(index_correlation))\n",
    "    print(duplication_correlation)\n",
    "    print(len(duplication_correlation))\n",
    "    print(section_names_correlation)\n",
    "    print(len(section_names_correlation))\n",
    "    print(sum(duplication_correlation))"
   ]
  },
  {
   "cell_type": "code",
   "execution_count": 621,
   "id": "b3acb9d7",
   "metadata": {},
   "outputs": [],
   "source": [
    "if run_fourthdeck:\n",
    "    slideDuplication(index_correlation,duplication_correlation,section_names_correlation,path,new_pre2)"
   ]
  },
  {
   "cell_type": "code",
   "execution_count": 622,
   "id": "3380fae7",
   "metadata": {},
   "outputs": [],
   "source": [
    "if run_fourthdeck:\n",
    "    def calculate_correlation_position(end):\n",
    "        return sum(duplication_correlation[i] * (1 if isinstance(index_correlation[i], int) else len(index_correlation[i])) for i in range(end))"
   ]
  },
  {
   "cell_type": "code",
   "execution_count": 623,
   "id": "fee8220c",
   "metadata": {},
   "outputs": [],
   "source": [
    "if run_fourthdeck:\n",
    "    prs2= Presentation(new_pre2)"
   ]
  },
  {
   "cell_type": "markdown",
   "id": "f451dfcd",
   "metadata": {},
   "source": [
    "##### Price Correlation Analysis P3Y (slide 12)"
   ]
  },
  {
   "cell_type": "code",
   "execution_count": 624,
   "id": "ade653b9",
   "metadata": {},
   "outputs": [],
   "source": [
    "if run_fourthdeck:\n",
    "    r=0\n",
    "    price_correlation_p3y(prs2, categories_dict,categories_dict_P12M,categories_dict_P3M, position=r)\n",
    "\n",
    "    r+=1\n",
    "    if len(sectors)!=0:\n",
    "        price_correlation_p3y(prs2, sectors_dict,sectors_dict_P12M,sectors_dict_P3M,position=calculate_correlation_position(r))\n",
    "        r+=1\n",
    "    if len(segments)!=0:\n",
    "        price_correlation_p3y(prs2, segments_dict,segments_dict_P12M,segments_dict_P3M,position=calculate_correlation_position(r))\n",
    "        r+=1\n",
    "\n",
    "    if len(subsegments)!=0:    \n",
    "        price_correlation_p3y(prs2, subsegments_dict,subsegments_dict_P12M,subsegments_dict_P3M,position=calculate_correlation_position(r))\n",
    "        r+=1\n",
    "    if len(subcategories)!=0:    \n",
    "        price_correlation_p3y(prs2, subcategories_dict,subcategories_dict_P12M,subcategories_dict_P3M,  position=calculate_correlation_position(r))\n",
    "        r+=1\n",
    " "
   ]
  },
  {
   "cell_type": "markdown",
   "id": "2076cff5",
   "metadata": {},
   "source": [
    "#### PPT Finalization"
   ]
  },
  {
   "cell_type": "code",
   "execution_count": 625,
   "id": "b84309f6",
   "metadata": {},
   "outputs": [],
   "source": [
    "if run_fourthdeck:\n",
    "    outputPath = os.getcwd()+\"\\\\Final OutPut\"+f\"\\\\Pricing Correlation output_{datetime.today().strftime(\"%d-%m\")}.pptx\"\n",
    "    prs2.save(outputPath)"
   ]
  },
  {
   "cell_type": "code",
   "execution_count": 626,
   "id": "78ea9eac-53cf-4fa0-8dd4-028438e6c278",
   "metadata": {},
   "outputs": [
    {
     "name": "stdout",
     "output_type": "stream",
     "text": [
      "Script started at: Thu Jul 17 19:03:54 2025\n",
      "Script ended at: Thu Jul 17 19:06:54 2025\n",
      "Elapsed time: 179.65 seconds\n"
     ]
    }
   ],
   "source": [
    "if run_fourthdeck:\n",
    "    end_time = time.time()\n",
    "    elapsed_time = end_time - start_time\n",
    "    print(f\"Script started at: {time.ctime(start_time)}\")\n",
    "    print(f\"Script ended at: {time.ctime(end_time)}\")\n",
    "    print(f\"Elapsed time: {elapsed_time:.2f} seconds\")"
   ]
  },
  {
   "cell_type": "markdown",
   "id": "0f9571e1",
   "metadata": {},
   "source": [
    "# Comparison"
   ]
  },
  {
   "cell_type": "code",
   "execution_count": 627,
   "id": "8f454295",
   "metadata": {},
   "outputs": [],
   "source": [
    "index = []"
   ]
  },
  {
   "cell_type": "code",
   "execution_count": 628,
   "id": "a1a0529b",
   "metadata": {},
   "outputs": [],
   "source": [
    "if run_thirddeck:\n",
    "    ###scraped comparison slide    \n",
    "    index.extend([16]*(\n",
    "    (1 if len(item_scraped.keys())>0 else 0)+\n",
    "    (1 if len(item_manuf_scraped.keys())>0 else 0)\n",
    "    ))\n",
    " \n",
    "    ##Scraped Comparison Slide\n",
    "    duplication_scraped_comparison=[len(item_scraped.keys()) if len(item_scraped.keys())>0 else 0]\n",
    "    duplication_scraped_comparison_manuf=[len(item_manuf_scraped.keys()) if len(item_manuf_scraped.keys())>0 else 0]\n",
    " \n",
    "    duplication=duplication_scraped_comparison+duplication_scraped_comparison_manuf\n",
    "    duplication=[i for i in duplication if i !=0]\n",
    " \n",
    "    #Scraped Comparison Slide\n",
    "    section_names_scraped_comparison=[(\"Price Point Comparison Analysis by Product Scraped\")if len(item_scraped)>0 else []]\n",
    "    section_names_scraped_comparison_manuf =[(\"Price Point Comparison Analysis by Manuf Scraped\")if len(item_manuf_scraped)>0 else []]\n",
    " \n",
    "    section_names = [*section_names_scraped_comparison,*section_names_scraped_comparison_manuf]\n",
    "    section_names=[i for i in section_names if i !=[]]\n",
    "    path = os.getcwd() + '\\Pricing base.pptx'\n",
    "    new_pre = os.getcwd() + '\\Pricing price point scrapped duplicated.pptx'"
   ]
  },
  {
   "cell_type": "code",
   "execution_count": 629,
   "id": "417b96d0",
   "metadata": {},
   "outputs": [
    {
     "name": "stdout",
     "output_type": "stream",
     "text": [
      "[16, 16]\n",
      "2\n",
      "[14, 5]\n",
      "2\n",
      "['Price Point Comparison Analysis by Product Scraped', 'Price Point Comparison Analysis by Manuf Scraped']\n",
      "2\n",
      "c:\\Users\\BW4SA\\Documents\\Slide-Automate\\Pricing slide duplicate\\Pricing base.pptx\n",
      "c:\\Users\\BW4SA\\Documents\\Slide-Automate\\Pricing slide duplicate\\Pricing price point scrapped duplicated.pptx\n",
      "19\n"
     ]
    }
   ],
   "source": [
    "if run_thirddeck:\n",
    "    print(index)\n",
    "    print(len(index))\n",
    "    print(duplication)\n",
    "    print(len(duplication))\n",
    "    print(section_names)\n",
    "    print(len(section_names))\n",
    "    print(path)\n",
    "    print(new_pre)\n",
    "    print(sum(duplication))"
   ]
  },
  {
   "cell_type": "code",
   "execution_count": 630,
   "id": "3c8d3a1e",
   "metadata": {},
   "outputs": [],
   "source": [
    "if run_thirddeck:\n",
    "    slideDuplication(index,duplication,section_names,path,new_pre)"
   ]
  },
  {
   "cell_type": "code",
   "execution_count": 631,
   "id": "64ffc7f7",
   "metadata": {},
   "outputs": [],
   "source": [
    "if run_thirddeck:\n",
    "    prs = Presentation(new_pre)\n",
    "    p=0"
   ]
  },
  {
   "cell_type": "code",
   "execution_count": 632,
   "id": "7b3062df",
   "metadata": {},
   "outputs": [],
   "source": [
    "def pricepoint_comparison_scraped(prs, merged_dict, position,slideby=\"Top Brand\"):\n",
    "    for slidenum in range(len(merged_dict)):\n",
    "            dfName=list(merged_dict.keys())[slidenum]\n",
    "            market=list(merged_dict.keys())[slidenum].split(' | ')[2]\n",
    "            category=list(merged_dict.keys())[slidenum].split(' | ')[0]\n",
    "            # Access shapes in the slide\n",
    "            if (slidenum + position) >= len(prs.slides):\n",
    "                print(f\"Slide index {slidenum + position} out of range. Skipping.\")\n",
    "                continue\n",
    "            shapes = prs.slides[slidenum+position].shapes\n",
    "            titleNumber = get_shape_number(shapes, \"Price Point Distribution | Brand Vs. Competition | Category | National | P3M\")\n",
    "            headerNumber = get_shape_number(shapes, \"Price Point Comparison Analysis by Product\")\n",
    "            axistitle=get_shape_number(shapes,\"Base Price/Unit ($)\")\n",
    "            currencywithoutspace =currency.strip()  # Remove the leading space\n",
    "            shapes[axistitle].text=f'Scraped Av. Price/Unit ({currencywithoutspace})'\n",
    "            shapes[axistitle].text_frame.paragraphs[0].font.size = Pt(8)\n",
    "            shapes[axistitle].text_frame.paragraphs[0].font.name = 'Nexa Bold' \n",
    "            shapes[axistitle].text_frame.paragraphs[0].font.color.rgb = RGBColor(87, 85, 85)  # Set color to black\n",
    "\n",
    "            shapes[5].text = data_source # Set data source information\n",
    "            # Set title for the slide\n",
    "            shapes[6].text = \"Price Point Distribution | \" + list(merged_dict.keys())[slidenum].split(' | ')[2] + \" Vs. Competition | \"+ list(merged_dict.keys())[slidenum].split(' | ')[0]+ ' | ' + list(merged_dict.keys())[slidenum].split(' | ')[1]+ ' | P3M'\n",
    "            # shapes[titleNumber].text_frame.paragraphs[0].font.bold = True\n",
    "            shapes[6].text_frame.paragraphs[0].font.size = Pt(12)\n",
    "            shapes[6].text_frame.paragraphs[0].font.name = 'Nexa (Headings)'\n",
    "\n",
    "            tables,charts=createTableAndChart(shapes)\n",
    "            chart=charts[0].chart\n",
    "            chart_data = CategoryChartData()\n",
    "            chart_data.categories = merged_dict[dfName][f'{prodORitem}'].unique()        \n",
    "            chart_data.add_series('Scraped Av. Price/Unit', round(merged_dict[dfName]['Scraped Av. Price/Unit'].astype(float),decimals))\n",
    "            chart.replace_data(chart_data) \n",
    "            chart.has_title = False\n",
    "                \n",
    "            for i,series in enumerate(chart.series):\n",
    "                    for j, point in enumerate(series.points):      \n",
    "                        data_label = point.data_label\n",
    "                        data_label.has_text_frame = True\n",
    "                        data_label.text_frame.text = str(round(series.values[j], decimals)) \n",
    "                            \n",
    "            value_axis = chart.value_axis\n",
    "            value_axis.auto_axis = True\n",
    "            value_axis.minimum_scale = None\n",
    "            value_axis.major_unit = None\n",
    "            value_axis.minor_unit = None\n",
    "            value_axis.axis_title.text_frame.text=''\n",
    "            value_axis.tick_labels.number_format = \"#,##0.00\" if decimals ==2 else \"#,##0\"\n",
    "\n",
    "            # Table #\n",
    "            table=tables[0].table\n",
    "            num_columns_to_remove = (len(table.columns) - merged_dict[dfName].shape[0]) - 1  # Specify the number of rows to remove from the end\n",
    "            table_width = Inches(8.89)  # Specify the desired table height\n",
    "            # table=col_cell_remove(table,num_columns_to_remove,table_width,sectorPD[dfName])\n",
    "            table=col_cell_remove(table,num_columns_to_remove)\n",
    "            \n",
    "            \n",
    "            total_col_width = table_width - table.columns[0].width\n",
    "            num_columns = len(table.columns) - 1  # Exclude the first row\n",
    "            if num_columns > 0:\n",
    "                cell_width = total_col_width / num_columns\n",
    "                for col in range(1, table.columns.__len__()):\n",
    "                    table.columns[col].width = int(cell_width)\n",
    "            if slideby==f'{BrandOrTopB}' :   \n",
    "                mergedCellDf = merged_dict[dfName][f'{BrandOrTopB}'].value_counts().reset_index()\n",
    "                # print(dfName, mergedCellDf)\n",
    "                #mergedCellDf = mergedCellDf.rename(columns = {\"index\":f'{sec_seg}', f'{sec_seg}':'count'})\n",
    "                #mergedCellDf=mergedCellDf.merge(merged_dict[dfName][['Top Brands','Value Share']].drop_duplicates()).sort_values(['Value Share'], ascending= False)\n",
    "\n",
    "                client_row = mergedCellDf[mergedCellDf[f'{BrandOrTopB}'].isin(client_brands)]\n",
    "                if not client_row.empty:\n",
    "                    client_row = client_row.iloc[0]\n",
    "                    mergedCellDf = mergedCellDf[~mergedCellDf[f'{BrandOrTopB}'].isin(client_brands)]\n",
    "                    mergedCellDf = pd.concat([pd.DataFrame([client_row]), mergedCellDf], ignore_index=True)\n",
    "            \n",
    "            else:        \n",
    "                mergedCellDf = merged_dict[dfName][slideby].value_counts().reset_index()\n",
    "\n",
    "                client_row = mergedCellDf[mergedCellDf[slideby].isin(client_manuf)]\n",
    "                if not client_row.empty:\n",
    "                    client_row = client_row.iloc[0]\n",
    "                    mergedCellDf = mergedCellDf[~mergedCellDf[slideby].isin(client_manuf)]\n",
    "                    mergedCellDf = pd.concat([pd.DataFrame([client_row]), mergedCellDf], ignore_index=True)\n",
    "\n",
    "            mergedCellDf['mergedCell']=mergedCellDf['count'].cumsum()\n",
    "            count=1\n",
    "            # print(dfName,mergedCellDf['mergedCell'].unique())\n",
    "            num_cols = len(table.columns)\n",
    "\n",
    "            for mergedCell in mergedCellDf['mergedCell'].unique():\n",
    "                if count < num_cols and mergedCell < num_cols:\n",
    "                    table.cell(0, count).merge(table.cell(0, mergedCell))\n",
    "                count = mergedCell + 1\n",
    "\n",
    "            table.height = Inches(1.54)\n",
    "            \n",
    "            for i, row in enumerate(table.rows):\n",
    "                for j, cell in enumerate(row.cells):\n",
    "                    if j == 0:\n",
    "                        if i == 3:    \n",
    "                            cell.text=f\"Scraped Av. Price/kg ({currencywithoutspace})\"\n",
    "                            cell.text_frame.paragraphs[0].runs[0].font.size = Pt(6)\n",
    "                            cell.text_frame.paragraphs[0].runs[0].font.bold = True\n",
    "                            cell.text_frame.paragraphs[0].font.name = 'Nexa (Headings)'\n",
    "                        continue\n",
    "                    if i==0:\n",
    "                        cell.text=merged_dict[dfName][slideby].iloc[j-1]\n",
    "                        cell.text_frame.paragraphs[0].alignment = PP_ALIGN.CENTER\n",
    "                        cell.text_frame.paragraphs[0].runs[0].font.size = Pt(8)\n",
    "                        cell.text_frame.paragraphs[0].runs[0].font.bold = True\n",
    "                        cell.text_frame.paragraphs[0].font.name = 'Nexa Bold'\n",
    "                    elif (i==1):\n",
    "                        product =merged_dict[dfName][f\"{prodORitem}\"].iloc[j-1]\n",
    "                        cell.text=product\n",
    "                        cell.text_frame.paragraphs[0].alignment = PP_ALIGN.CENTER\n",
    "                        cell.text_frame.paragraphs[0].runs[0].font.size = Pt(6)\n",
    "                        cell.text_frame.paragraphs[0].runs[0].font.bold = True\n",
    "                        cell.text_frame.paragraphs[0].font.name = 'Nexa Bold'\n",
    "                    elif (i==2):\n",
    "                        value = merged_dict[dfName]['Total Size'].iloc[j-1]\n",
    "                        cell.text = \"\" if pd.isna(value) else str(value)\n",
    "                    elif (i==3):\n",
    "                        cell.text=str(round(merged_dict[dfName]['Scraped Av. Price/KG'].astype(float).iloc[j-1],decimals))\n",
    "                            \n",
    "                    elif (i==4):\n",
    "                        if int(round(merged_dict[dfName]['Gross Margin %'].replace(np.nan,'0').astype(float).iloc[j-1]*100,0))!=0:\n",
    "                             cell.text = str(int(round(merged_dict[dfName]['Gross Margin %'].replace(np.nan,'0').astype(float).iloc[j-1]*100,0)))+'%' \n",
    "                        else:\n",
    "                            cell.text = ''\n",
    "                    if cell.text!='' and i!=0 and i!=1:\n",
    "                        cell.text_frame.paragraphs[0].alignment = PP_ALIGN.CENTER\n",
    "                        cell.text_frame.paragraphs[0].runs[0].font.size = Pt(7)\n",
    "                        cell.text_frame.paragraphs[0].runs[0].font.bold = False\n",
    "                        cell.text_frame.paragraphs[0].font.name = 'Nexa Book'"
   ]
  },
  {
   "cell_type": "code",
   "execution_count": 633,
   "id": "a1ff5e4e",
   "metadata": {},
   "outputs": [],
   "source": [
    "def calculate_position(end):\n",
    "        return sum(duplication[i] * (1 if isinstance(index[i], int) else len(index[i])) for i in range(end))"
   ]
  },
  {
   "cell_type": "code",
   "execution_count": 634,
   "id": "ccc3ab09",
   "metadata": {},
   "outputs": [],
   "source": [
    "if run_thirddeck:\n",
    "    if len(item_scraped)>0:\n",
    "        pricepoint_comparison_scraped(prs, item_scraped, position=calculate_position(p),slideby=f\"{BrandOrTopB}\")\n",
    "        p+=1\n",
    "    if len(item_manuf_scraped)>0:\n",
    "        pricepoint_comparison_scraped(prs, item_manuf_scraped, position=calculate_position(p),slideby=f'{ManufOrTopC}')\n",
    "        p+=1\n",
    "    "
   ]
  },
  {
   "cell_type": "code",
   "execution_count": 635,
   "id": "52779fcf",
   "metadata": {},
   "outputs": [],
   "source": [
    "if run_thirddeck:\n",
    "    outputPath = os.getcwd()+\"\\\\Final OutPut\"+f\"\\\\Pricing test output _{datetime.today().strftime(\"%d-%m\")}.pptx\"\n",
    "    prs.save(outputPath)"
   ]
  },
  {
   "cell_type": "markdown",
   "id": "9cf057ab",
   "metadata": {},
   "source": [
    "# WITHOUT Forcing CLIENT BRANDS"
   ]
  },
  {
   "cell_type": "code",
   "execution_count": 636,
   "id": "c986794d",
   "metadata": {},
   "outputs": [],
   "source": [
    "Sections_WO_CB=True"
   ]
  },
  {
   "cell_type": "code",
   "execution_count": 637,
   "id": "21849e03",
   "metadata": {},
   "outputs": [],
   "source": [
    "if not Sections_WO_CB:\n",
    "    print(\"Stopping the script as 'Sections_WO_CB' is set to False.\")\n",
    "    sys.exit()  # Terminate the script here\n"
   ]
  },
  {
   "cell_type": "code",
   "execution_count": 638,
   "id": "2d2bb3a8",
   "metadata": {},
   "outputs": [],
   "source": [
    "client_brands = []"
   ]
  },
  {
   "cell_type": "code",
   "execution_count": 639,
   "id": "b2e2acf9",
   "metadata": {},
   "outputs": [],
   "source": [
    "modified_price_positioning_WO_CB = {}\n",
    "modified_price_positioning_sorted_WO_CB = {}\n",
    "\n",
    "for l in price_positioning_brands.keys():\n",
    "    df = price_positioning_brands[l].copy()\n",
    "    df=DetectHeader(df)\n",
    "    df['Value Share'] =df['Value Share'].astype(float) \n",
    "    df = df[df[f\"{BrandOrTopB}\"] != \"Grand Total\"]\n",
    "    modified_price_positioning_WO_CB[l] = df\n",
    "\n",
    "modified_price_positioning_sorted_WO_CB = dfSort(modified_price_positioning_WO_CB, client_brands, f\"{BrandOrTopB}\", num=10, salesCol='Value Share')\n",
    "## Remove Others \n",
    "for k in modified_price_positioning_sorted_WO_CB.keys():\n",
    "    t=modified_price_positioning_sorted_WO_CB[k].copy()\n",
    "    t=t[~t[f\"{BrandOrTopB}\"].str.contains(\"Others\")]\n",
    "    modified_price_positioning_sorted_WO_CB[k]=t\n",
    " \n",
    "dropemptydf(modified_price_positioning_sorted_WO_CB)"
   ]
  },
  {
   "cell_type": "code",
   "execution_count": 640,
   "id": "a1db4b92",
   "metadata": {},
   "outputs": [],
   "source": [
    "sharGrowthDf_sec_WO_CB={}\n",
    "sharGrowthDf_seg_WO_CB={}\n",
    "sharGrowthDf_subseg_WO_CB={}\n",
    "sharGrowthDf_subcat_WO_CB={}\n",
    " \n",
    "for key in [\"National\"] + regions_RET + channels_RET+market_RET +  regions_CHAN +channels_CHAN+ market_CHAN+regions_CUST +channels_CUST+ market_CUST:\n",
    "    sharGrowthDf_sec_WO_CB[key]=[k.split(' | ')[1] for k in modified_price_positioning_sorted_WO_CB.keys() if key == k.split(' | ')[0] and k.split(' | ')[1] in sectors ]\n",
    "    sharGrowthDf_seg_WO_CB[key]=[k.split(' | ')[1] for k in modified_price_positioning_sorted_WO_CB.keys() if key == k.split(' | ')[0] and k.split(' | ')[1] in segments]\n",
    "    sharGrowthDf_subseg_WO_CB[key]=[k.split(' | ')[1] for k in modified_price_positioning_sorted_WO_CB.keys() if key == k.split(' | ')[0] and k.split(' | ')[1] in subsegments]\n",
    "    sharGrowthDf_subcat_WO_CB[key]=[k.split(' | ')[1] for k in modified_price_positioning_sorted_WO_CB.keys() if key == k.split(' | ')[0] and k.split(' | ')[1] in subcategories]\n",
    "    if len(sharGrowthDf_sec_WO_CB[key])==0:\n",
    "        sharGrowthDf_sec_WO_CB.pop(key,None)\n",
    "    if len(sharGrowthDf_seg_WO_CB[key])==0:\n",
    "        sharGrowthDf_seg_WO_CB.pop(key,None)\n",
    "    if len(sharGrowthDf_subseg_WO_CB[key])==0:\n",
    "        sharGrowthDf_subseg_WO_CB.pop(key,None)\n",
    "    if len(sharGrowthDf_subcat_WO_CB[key])==0:\n",
    "        sharGrowthDf_subcat_WO_CB.pop(key,None)"
   ]
  },
  {
   "cell_type": "code",
   "execution_count": 641,
   "id": "be5b7172",
   "metadata": {},
   "outputs": [],
   "source": [
    "####Brands&Manuf DataFrames\n",
    "if len(sectors)!=0:\n",
    "    sharGrowthDf_sec_WO_CB=sharGrowthDfclean(modified_price_positioning_sorted_WO_CB,sector_wob_leadership,sectors)\n",
    "if len(segments)!=0:\n",
    "    sharGrowthDf_seg_WO_CB=sharGrowthDfclean(modified_price_positioning_sorted_WO_CB,segment_wob_leadership,segments)\n",
    "if len(subsegments)!=0:\n",
    "    sharGrowthDf_subseg_WO_CB=sharGrowthDfclean(modified_price_positioning_sorted_WO_CB,subsegment_wob_leadership,subsegments)\n",
    "if len(subcategories)!=0:\n",
    "    sharGrowthDf_subcat_WO_CB=sharGrowthDfclean(modified_price_positioning_sorted_WO_CB,subcategory_wob_leadership,subcategories)\n",
    "\n"
   ]
  },
  {
   "cell_type": "code",
   "execution_count": 642,
   "id": "01d5aa6b",
   "metadata": {},
   "outputs": [],
   "source": [
    "brandPriceDistribution = {}\n",
    "for k in price_distribution_by_brands_category.keys():\n",
    "    t = price_distribution_by_brands_category[k].copy()\n",
    "    t=DetectHeader(t)\n",
    "    t[f\"{BrandOrTopB}\"] = t[f\"{BrandOrTopB}\"].ffill()\n",
    "    t=t[t['Value Share']>=0.01]\n",
    "    brandPriceDistribution[k] = t\n",
    "    brandPriceDistribution"
   ]
  },
  {
   "cell_type": "code",
   "execution_count": 643,
   "id": "a179853f",
   "metadata": {},
   "outputs": [],
   "source": [
    "modified_brandPriceDistribution_WO_CB = brandPriceDistributionCleaning(brandPriceDistribution,brandInScope= client_brands)\n",
    "dropemptydf(modified_brandPriceDistribution_WO_CB)"
   ]
  },
  {
   "cell_type": "code",
   "execution_count": 644,
   "id": "b16c2c4c",
   "metadata": {},
   "outputs": [],
   "source": [
    "index = [0]\n",
    "# Slide 1\n",
    "index.extend([1] * ((1 if sectors else 0) + (1 if segments else 0) + (1 if subcategories else 0) + (1 if subsegments else 0)))\n",
    "index.extend([8]*(1 if len(modified_brandPriceDistribution_WO_CB.keys())>0 else 0))\n",
    "sector_leadership = (len(regions_RET) + len(channels_RET) + len(market_RET) + len(regions_CHAN) + len(channels_CHAN) + len(market_CHAN)  + len(regions_CUST) + len(channels_CUST) + len(market_CUST)  + 1 if national else 0) * math.ceil(len(sectors)/6) \n",
    "segment_leadership = (len(regions_RET) + len(channels_RET) + len(market_RET) + len(regions_CHAN) + len(channels_CHAN) + len(market_CHAN)  + len(regions_CUST) + len(channels_CUST) + len(market_CUST)  + 1 if national else 0) * math.ceil(len(segments)/6) \n",
    "subsegment_leadership = (len(regions_RET) + len(channels_RET) + len(market_RET) + len(regions_CHAN) + len(channels_CHAN) + len(market_CHAN)  + len(regions_CUST) + len(channels_CUST) + len(market_CUST)  + 1 if national else 0) * math.ceil(len(subsegments)/6) \n",
    "subcategory_leadership = (len(regions_RET) + len(channels_RET) + len(market_RET) + len(regions_CHAN) + len(channels_CHAN) + len(market_CHAN)  + len(regions_CUST) + len(channels_CUST) + len(market_CUST)  + 1 if national else 0) * math.ceil(len(subcategories)/6) \n",
    "\n",
    "\n",
    "# Slide_0\n",
    "duplication_0=[len(modified_price_positioning_sorted_WO_CB.keys())]\n",
    "# # slide 1 \n",
    "# duplication_1=[len(sharGrowthDf_sec_WO_CB.keys())if sectors else 0, len(sharGrowthDf_seg_WO_CB.keys()) if segments else 0, \n",
    "#               len(sharGrowthDf_subseg_WO_CB.keys()) if subsegments else 0, len(sharGrowthDf_subcat_WO_CB.keys()) if subcategories  else 0]\n",
    "duplication_1=[sum(len(v) for v in sharGrowthDf_sec_WO_CB.values())if sectors else 0, sum(len(v) for v in sharGrowthDf_seg_WO_CB.values()) if segments else 0, \n",
    "              sum(len(v) for v in sharGrowthDf_subseg_WO_CB.values()) if subsegments else 0, sum(len(v) for v in sharGrowthDf_subcat_WO_CB.values()) if subcategories  else 0]\n",
    "           \n",
    "           \n",
    "duplication_2=[len(modified_brandPriceDistribution_WO_CB.keys())] \n",
    "\n",
    "duplication = duplication_0+duplication_1 +duplication_2\n",
    "duplication=[i for i in duplication if i !=0]\n",
    "section_names_0= [\"Price Positioning Analysis\"]\n",
    "\n",
    "# slide 1 \n",
    "section_names_1=[(\"Sectors Share and Growth By Brands\" if len(sectors)>0 else []),\n",
    "                 (\"Segments Share and Growth By Brands\" if len(segments)>0 else []),\n",
    "                 (\"SubSegments Share and Growth By Brands\"if len(subsegments)>0 else[]),\n",
    "                 (\"SubCategory Share and Growth By Brands\"if len(subcategories)>0 else[])]\n",
    "\n",
    "section_names_2=[(\"Price Point Distribution Analysis By Brand\" if len(modified_brandPriceDistribution_WO_CB.keys())>0 else [])]\n",
    "\n",
    "\n",
    "section_names = [*section_names_0,*section_names_1,*section_names_2]\n",
    "section_names=[i for i in section_names if i !=[]]\n"
   ]
  },
  {
   "cell_type": "code",
   "execution_count": 645,
   "id": "27555950",
   "metadata": {},
   "outputs": [],
   "source": [
    "path = os.getcwd() + '\\Pricing base.pptx'\n",
    "new_pre3 = os.getcwd() + '\\Pricing duplicated Not forcing CB.pptx'"
   ]
  },
  {
   "cell_type": "code",
   "execution_count": 646,
   "id": "6ba178f9",
   "metadata": {},
   "outputs": [
    {
     "name": "stdout",
     "output_type": "stream",
     "text": [
      "4\n",
      "[0, 1, 1, 8]\n",
      "4\n",
      "4\n",
      "[15, 3, 3, 10]\n",
      "31\n"
     ]
    }
   ],
   "source": [
    "print(len(index))\n",
    "print(index)\n",
    "print(len(duplication))\n",
    "\n",
    "print(len(section_names))\n",
    "print(duplication)\n",
    "print(sum(duplication))"
   ]
  },
  {
   "cell_type": "code",
   "execution_count": 647,
   "id": "df240334",
   "metadata": {},
   "outputs": [],
   "source": [
    "def calculate_position(end):\n",
    "    return sum(duplication[i] * (1 if isinstance(index[i], int) else len(index[i])) for i in range(end))"
   ]
  },
  {
   "cell_type": "code",
   "execution_count": 648,
   "id": "f81f8bb2",
   "metadata": {},
   "outputs": [],
   "source": [
    "slideDuplication(index,duplication,section_names,path,new_pre3)\n"
   ]
  },
  {
   "cell_type": "code",
   "execution_count": 649,
   "id": "2a33f735",
   "metadata": {},
   "outputs": [],
   "source": [
    "prs3 = Presentation(new_pre3)"
   ]
  },
  {
   "cell_type": "code",
   "execution_count": 650,
   "id": "fb2fe68b",
   "metadata": {},
   "outputs": [],
   "source": [
    "p=0\n",
    "pricePositioning(prs3,modified_price_positioning_sorted_WO_CB,duplication[p],position=p,slideby=f\"{BrandOrTopB}\")\n",
    "p+=1"
   ]
  },
  {
   "cell_type": "code",
   "execution_count": 651,
   "id": "330ce62f",
   "metadata": {},
   "outputs": [],
   "source": [
    "if len(sectors)!=0:\n",
    "\n",
    "    leadership_table1(prs3,modified_price_positioning_sorted_WO_CB,sharGrowthDf_sec_WO_CB,sector_wob_leadership, position=calculate_position(p),Inscope=\"Sector\",slideby=f\"{BrandOrTopB}\")\n",
    "    p+=1\n",
    "if len(segments)!=0:\n",
    "    leadership_table1(prs3,modified_price_positioning_sorted_WO_CB,sharGrowthDf_seg_WO_CB,segment_wob_leadership, position=calculate_position(p),Inscope=\"Segment\",slideby=f\"{BrandOrTopB}\")\n",
    "    p+=1\n",
    "if len(subsegments)!=0:    \n",
    "    leadership_table1(prs3,modified_price_positioning_sorted_WO_CB,sharGrowthDf_subseg_WO_CB,subsegment_wob_leadership, position=calculate_position(p),Inscope=\"SubSegment\",slideby=f\"{BrandOrTopB}\")\n",
    "    p+=1\n",
    "if len(subcategories)!=0:\n",
    "    leadership_table1(prs3,modified_price_positioning_sorted_WO_CB,sharGrowthDf_subcat_WO_CB,subcategory_wob_leadership, position=calculate_position(p),Inscope=\"SubCategory\",slideby=f\"{BrandOrTopB}\")\n",
    "    p+=1\n",
    "\n"
   ]
  },
  {
   "cell_type": "code",
   "execution_count": 652,
   "id": "8041fc38",
   "metadata": {},
   "outputs": [],
   "source": [
    "brandPriceDistributionPPTX(prs3,modified_brandPriceDistribution_WO_CB,duplication[p],currency=currency,position=calculate_position(p))\n"
   ]
  },
  {
   "cell_type": "code",
   "execution_count": 653,
   "id": "d266535d",
   "metadata": {},
   "outputs": [
    {
     "name": "stdout",
     "output_type": "stream",
     "text": [
      "Slide 1: Opened Excel workbook: Book1\n",
      "Slide 2: Opened Excel workbook: Book1\n",
      "Slide 3: Opened Excel workbook: Book1\n",
      "Slide 4: Opened Excel workbook: Book1\n",
      "Slide 5: Opened Excel workbook: Book1\n",
      "Slide 6: Opened Excel workbook: Book1\n",
      "Slide 7: Opened Excel workbook: Book1\n",
      "Slide 8: Opened Excel workbook: Book1\n",
      "Slide 9: Opened Excel workbook: Book1\n",
      "Slide 10: Opened Excel workbook: Book1\n",
      "Slide 11: Opened Excel workbook: Book1\n",
      "Slide 12: Opened Excel workbook: Book1\n",
      "Slide 13: Opened Excel workbook: Book1\n",
      "Slide 14: Opened Excel workbook: Book1\n",
      "Slide 15: Opened Excel workbook: Book1\n"
     ]
    }
   ],
   "source": [
    "outputPath = os.getcwd()+\"\\\\Final OutPut\"+f\"\\\\Pricing not_forcing_CB_output_{datetime.today().strftime(\"%d-%m\")}.pptx\"\n",
    "prs3.save(outputPath)\n",
    "final=os.getcwd() +\"\\\\Final OutPut\"+f\"\\\\Pricing not_forcing_CB_output_{datetime.today().strftime(\"%d-%m\")}.pptx\"\n",
    "open_chart_data_in_excel(final,outputPath)\n"
   ]
  },
  {
   "cell_type": "code",
   "execution_count": null,
   "id": "4b898a63",
   "metadata": {},
   "outputs": [],
   "source": []
  },
  {
   "cell_type": "code",
   "execution_count": null,
   "id": "7a1ffa26",
   "metadata": {},
   "outputs": [],
   "source": []
  }
 ],
 "metadata": {
  "kernelspec": {
   "display_name": "Python 3",
   "language": "python",
   "name": "python3"
  },
  "language_info": {
   "codemirror_mode": {
    "name": "ipython",
    "version": 3
   },
   "file_extension": ".py",
   "mimetype": "text/x-python",
   "name": "python",
   "nbconvert_exporter": "python",
   "pygments_lexer": "ipython3",
   "version": "3.13.1"
  }
 },
 "nbformat": 4,
 "nbformat_minor": 5
}
